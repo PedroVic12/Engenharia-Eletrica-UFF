{
 "cells": [
  {
   "cell_type": "markdown",
   "metadata": {},
   "source": [
    "#### 1) Construa uma função em Python que faça um mapeamento linear de valores de uma lista de tamanho n para uma nova lista com os limites a e b. Considere:\n",
    "\n",
    "a) A lista de tamanho n e os limites a e b da lista de resultado devem ser passados por argumento á função\n",
    "\n",
    "b) A lista de resultado deve ter o mesmo número de elementos da lista original.\n",
    "\n",
    "#### 2) Execute a função, para mapear uma lista de números interios de 0 a 1023 para uma lista de numeros inteiros de 0 a 255. Imprime as duas listas na tela.\n",
    "\n",
    "#### 3) faça o gráfico.\n",
    "- Eixo Y = Lista original\n",
    "- Eixo X = Lista de resultado\n"
   ]
  },
  {
   "cell_type": "markdown",
   "metadata": {},
   "source": [
    "# Código Principal"
   ]
  },
  {
   "cell_type": "code",
   "execution_count": 10,
   "metadata": {},
   "outputs": [
    {
     "data": {
      "text/plain": [
       "[3]"
      ]
     },
     "execution_count": 10,
     "metadata": {},
     "output_type": "execute_result"
    }
   ],
   "source": [
    "import random\n",
    "\n",
    "array = []\n",
    "\n",
    "def numero_inteiro():\n",
    "    for i in range(0,10):\n",
    "        num = random.randint(1,10)\n",
    "        array.append(num)\n",
    "        return array  \n",
    "\n",
    "numero_inteiro()"
   ]
  },
  {
   "cell_type": "code",
   "execution_count": 7,
   "metadata": {},
   "outputs": [
    {
     "name": "stdout",
     "output_type": "stream",
     "text": [
      "10\n",
      "5\n",
      "10\n",
      "1\n",
      "6\n",
      "5\n",
      "9\n",
      "7\n",
      "9\n",
      "5\n"
     ]
    },
    {
     "ename": "TypeError",
     "evalue": "object of type 'NoneType' has no len()",
     "output_type": "error",
     "traceback": [
      "\u001b[0;31m---------------------------------------------------------------------------\u001b[0m",
      "\u001b[0;31mTypeError\u001b[0m                                 Traceback (most recent call last)",
      "Cell \u001b[0;32mIn[7], line 23\u001b[0m\n\u001b[1;32m     18\u001b[0m     \u001b[39mreturn\u001b[39;00m resultado\n\u001b[1;32m     21\u001b[0m lista_original \u001b[39m=\u001b[39m numero_inteiro()\n\u001b[0;32m---> 23\u001b[0m valores \u001b[39m=\u001b[39m linearMap(lista_original, \u001b[39m6\u001b[39;49m,\u001b[39m8\u001b[39;49m)\n\u001b[1;32m     24\u001b[0m valores\n",
      "Cell \u001b[0;32mIn[7], line 2\u001b[0m, in \u001b[0;36mlinearMap\u001b[0;34m(array, limite_a, limite_b)\u001b[0m\n\u001b[1;32m      1\u001b[0m \u001b[39mdef\u001b[39;00m \u001b[39mlinearMap\u001b[39m(array,limite_a, limite_b):\n\u001b[0;32m----> 2\u001b[0m     n \u001b[39m=\u001b[39m \u001b[39mlen\u001b[39;49m(array)\n\u001b[1;32m      3\u001b[0m     numero_max \u001b[39m=\u001b[39m \u001b[39mmax\u001b[39m(array)\n\u001b[1;32m      4\u001b[0m     numero_min \u001b[39m=\u001b[39m \u001b[39mmin\u001b[39m(array)\n",
      "\u001b[0;31mTypeError\u001b[0m: object of type 'NoneType' has no len()"
     ]
    }
   ],
   "source": [
    "def linearMap(array,limite_a, limite_b):\n",
    "    n = len(array)\n",
    "    numero_max = max(array)\n",
    "    numero_min = min(array)\n",
    "\n",
    "    amplitude = numero_max - numero_min\n",
    "\n",
    "    diferença_limite = limite_b - limite_a\n",
    "\n",
    "    coeficiente = diferença_limite/amplitude\n",
    "\n",
    "    resultado = []\n",
    "\n",
    "    for i in range(0,n):\n",
    "        resultado.append(limite_a + (coeficiente*i)) \n",
    "\n",
    "    print(n)\n",
    "    return resultado\n",
    "\n",
    "\n",
    "lista_original = numero_inteiro()\n",
    "\n",
    "valores = linearMap(lista_original, 6,8)\n",
    "valores\n"
   ]
  },
  {
   "cell_type": "code",
   "execution_count": 8,
   "metadata": {},
   "outputs": [
    {
     "ename": "NameError",
     "evalue": "name 'valores' is not defined",
     "output_type": "error",
     "traceback": [
      "\u001b[0;31m---------------------------------------------------------------------------\u001b[0m",
      "\u001b[0;31mNameError\u001b[0m                                 Traceback (most recent call last)",
      "Cell \u001b[0;32mIn[8], line 5\u001b[0m\n\u001b[1;32m      3\u001b[0m grafico\u001b[39m.\u001b[39mylabel(\u001b[39m\"\u001b[39m\u001b[39mLista Original\u001b[39m\u001b[39m\"\u001b[39m)\n\u001b[1;32m      4\u001b[0m grafico\u001b[39m.\u001b[39mxlabel(\u001b[39m\"\u001b[39m\u001b[39mValores\u001b[39m\u001b[39m\"\u001b[39m)\n\u001b[0;32m----> 5\u001b[0m grafico\u001b[39m.\u001b[39mplot(lista_original,valores)\n",
      "\u001b[0;31mNameError\u001b[0m: name 'valores' is not defined"
     ]
    },
    {
     "data": {
      "image/png": "[encoded data removed]",
      "text/plain": [
       "<Figure size 640x480 with 1 Axes>"
      ]
     },
     "metadata": {},
     "output_type": "display_data"
    }
   ],
   "source": [
    "import matplotlib.pyplot as grafico\n",
    "\n",
    "grafico.ylabel(\"Lista Original\")\n",
    "grafico.xlabel(\"Valores\")\n",
    "grafico.plot(lista_original,valores)"
   ]
  },
  {
   "cell_type": "code",
   "execution_count": null,
   "metadata": {},
   "outputs": [],
   "source": []
  }
 ],
 "metadata": {
  "kernelspec": {
   "display_name": "Python 3.10.8 64-bit",
   "language": "python",
   "name": "python3"
  },
  "language_info": {
   "codemirror_mode": {
    "name": "ipython",
    "version": 3
   },
   "file_extension": ".py",
   "mimetype": "text/x-python",
   "name": "python",
   "nbconvert_exporter": "python",
   "pygments_lexer": "ipython3",
   "version": "3.10.8"
  },
  "orig_nbformat": 4,
  "vscode": {
   "interpreter": {
    "hash": "e7370f93d1d0cde622a1f8e1c04877d8463912d04d973331ad4851f04de6915a"
   }
  }
 },
 "nbformat": 4,
 "nbformat_minor": 2
}
