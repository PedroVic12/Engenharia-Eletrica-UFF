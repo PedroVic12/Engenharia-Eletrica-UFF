{
 "cells": [
  {
   "cell_type": "code",
   "execution_count": 1,
   "metadata": {},
   "outputs": [
    {
     "ename": "AttributeError",
     "evalue": "module 'sympy' has no attribute 'divergence'",
     "output_type": "error",
     "traceback": [
      "\u001b[0;31m---------------------------------------------------------------------------\u001b[0m",
      "\u001b[0;31mAttributeError\u001b[0m                            Traceback (most recent call last)",
      "Cell \u001b[0;32mIn[1], line 12\u001b[0m\n\u001b[1;32m      9\u001b[0m F \u001b[38;5;241m=\u001b[39m sp\u001b[38;5;241m.\u001b[39mMatrix([x\u001b[38;5;241m*\u001b[39m\u001b[38;5;241m*\u001b[39m\u001b[38;5;241m2\u001b[39m \u001b[38;5;241m*\u001b[39m y, y\u001b[38;5;241m*\u001b[39m\u001b[38;5;241m*\u001b[39m\u001b[38;5;241m2\u001b[39m \u001b[38;5;241m*\u001b[39m z, z\u001b[38;5;241m*\u001b[39m\u001b[38;5;241m*\u001b[39m\u001b[38;5;241m2\u001b[39m \u001b[38;5;241m*\u001b[39m x])\n\u001b[1;32m     11\u001b[0m \u001b[38;5;66;03m# Calculando o divergente\u001b[39;00m\n\u001b[0;32m---> 12\u001b[0m div_F \u001b[38;5;241m=\u001b[39m \u001b[43msp\u001b[49m\u001b[38;5;241;43m.\u001b[39;49m\u001b[43mdivergence\u001b[49m(F, (x, y, z))\n\u001b[1;32m     14\u001b[0m \u001b[38;5;66;03m# Calculando o gradiente\u001b[39;00m\n\u001b[1;32m     15\u001b[0m grad_F \u001b[38;5;241m=\u001b[39m sp\u001b[38;5;241m.\u001b[39mgradient(F, (x, y, z))\n",
      "\u001b[0;31mAttributeError\u001b[0m: module 'sympy' has no attribute 'divergence'"
     ]
    }
   ],
   "source": [
    "import numpy as np\n",
    "import sympy as sp\n",
    "import matplotlib.pyplot as plt\n",
    "\n",
    "# Definindo variáveis simbólicas\n",
    "x, y, z = sp.symbols(\"x y z\")\n",
    "\n",
    "# Definindo a função vetorial\n",
    "F = sp.Matrix([x**2 * y, y**2 * z, z**2 * x])\n",
    "\n",
    "# Calculando o divergente\n",
    "div_F = sp.divergence(F, (x, y, z))\n",
    "\n",
    "# Calculando o gradiente\n",
    "grad_F = sp.gradient(F, (x, y, z))\n",
    "\n",
    "# Calculando o rotacional\n",
    "rot_F = sp.curl(F, (x, y, z))\n",
    "\n",
    "# Função para avaliar as expressões\n",
    "evaluate = sp.lambdify((x, y, z), (F, div_F, grad_F, rot_F), \"numpy\")\n",
    "\n",
    "# Definindo intervalo para avaliação\n",
    "x_vals = np.linspace(-5, 5, 20)\n",
    "y_vals = np.linspace(-5, 5, 20)\n",
    "z_vals = np.linspace(-5, 5, 20)\n",
    "\n",
    "# Avaliando as expressões em todos os pontos do intervalo\n",
    "F_vals, div_F_vals, grad_F_vals, rot_F_vals = np.array(\n",
    "    np.meshgrid(x_vals, y_vals, z_vals, indexing=\"ij\")\n",
    ")\n",
    "\n",
    "# Plotando o divergente em 2D\n",
    "plt.figure(figsize=(8, 6))\n",
    "plt.contourf(F_vals[0], F_vals[1], div_F_vals[0], cmap=\"viridis\")\n",
    "plt.title(\"Divergente em 2D\")\n",
    "plt.xlabel(\"X\")\n",
    "plt.ylabel(\"Y\")\n",
    "plt.colorbar(label=\"Divergente\")\n",
    "plt.show()\n",
    "\n",
    "# Plotando o divergente em 3D\n",
    "fig = plt.figure(figsize=(10, 8))\n",
    "ax = fig.add_subplot(111, projection=\"3d\")\n",
    "surf = ax.plot_surface(F_vals[0], F_vals[1], div_F_vals[0], cmap=\"viridis\")\n",
    "ax.set_title(\"Divergente em 3D\")\n",
    "ax.set_xlabel(\"X\")\n",
    "ax.set_ylabel(\"Y\")\n",
    "ax.set_zlabel(\"Divergente\")\n",
    "fig.colorbar(surf, ax=ax, shrink=0.5, aspect=5, label=\"Divergente\")\n",
    "plt.show()"
   ]
  }
 ],
 "metadata": {
  "kernelspec": {
   "display_name": "Python 3",
   "language": "python",
   "name": "python3"
  },
  "language_info": {
   "codemirror_mode": {
    "name": "ipython",
    "version": 3
   },
   "file_extension": ".py",
   "mimetype": "text/x-python",
   "name": "python",
   "nbconvert_exporter": "python",
   "pygments_lexer": "ipython3",
   "version": "3.11.6"
  }
 },
 "nbformat": 4,
 "nbformat_minor": 2
}
