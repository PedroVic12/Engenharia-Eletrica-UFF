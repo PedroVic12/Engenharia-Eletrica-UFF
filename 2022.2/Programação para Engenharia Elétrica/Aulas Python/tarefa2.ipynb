{
 "cells": [
  {
   "cell_type": "markdown",
   "metadata": {},
   "source": [
    "1) Cria um programa que cria dois arquivos: O primeiro arquivo possui as dimensões e os elemtenos de duas matrizes 3x3 com números complexos: O segundo arquivo possui apenas os elementos d duas matrizes 3x3 com número complexos"
   ]
  },
  {
   "cell_type": "markdown",
   "metadata": {},
   "source": [
    "2) Construa um programa que leia o primeiro arquivo do item 1. Faça o produto entre as matrizes lidas e salve o arquivo"
   ]
  },
  {
   "cell_type": "code",
   "execution_count": null,
   "metadata": {},
   "outputs": [],
   "source": []
  }
 ],
 "metadata": {
  "language_info": {
   "name": "python"
  },
  "orig_nbformat": 4
 },
 "nbformat": 4,
 "nbformat_minor": 2
}
