{
 "cells": [
  {
   "cell_type": "markdown",
   "metadata": {},
   "source": [
    "# Aula 16 - Como estudar uma nova linguagem\n",
    "\n",
    "1) Estrutura da linguagem\n",
    "\n",
    "2) Variáveis\n",
    "- Tipagem forte ou dinâmica\n",
    "- Tipos de Variáveis\n",
    "\n",
    "3) Operadores\n",
    "- Relacionais\n",
    "- Lógicos\n",
    "\n",
    "4) Comandos\n",
    "\n",
    "6) Funções e Classes"
   ]
  },
  {
   "cell_type": "code",
   "execution_count": 17,
   "metadata": {},
   "outputs": [],
   "source": [
    "x =\"casa\"\n",
    "\n",
    "k = [1,3,5]\n",
    "\n",
    "j = [1,2,3]\n",
    "\n",
    "t = {\n",
    "    \"A\":1,\n",
    "    \"B\":2,\n",
    "    \"C\":3\n",
    "}\n",
    "\n",
    "def loop(colection):\n",
    "    for item in colection:\n",
    "        print(item)\n",
    "    print(\"\")"
   ]
  },
  {
   "cell_type": "code",
   "execution_count": 23,
   "metadata": {},
   "outputs": [
    {
     "name": "stdout",
     "output_type": "stream",
     "text": [
      "c\n",
      "a\n",
      "s\n",
      "a\n",
      "\n",
      "1\n",
      "3\n",
      "5\n",
      "\n",
      "1\n",
      "2\n",
      "3\n",
      "\n",
      "A\n",
      "B\n",
      "C\n",
      "\n",
      "None dict_values([1, 2, 3])\n"
     ]
    }
   ],
   "source": [
    "loop(x)\n",
    "loop(k)\n",
    "loop(j)\n",
    "\n",
    "print(loop(t), t.values())\n"
   ]
  },
  {
   "cell_type": "code",
   "execution_count": null,
   "metadata": {},
   "outputs": [],
   "source": []
  }
 ],
 "metadata": {
  "kernelspec": {
   "display_name": "Python 3.10.8 64-bit",
   "language": "python",
   "name": "python3"
  },
  "language_info": {
   "codemirror_mode": {
    "name": "ipython",
    "version": 3
   },
   "file_extension": ".py",
   "mimetype": "text/x-python",
   "name": "python",
   "nbconvert_exporter": "python",
   "pygments_lexer": "ipython3",
   "version": "3.10.8"
  },
  "orig_nbformat": 4,
  "vscode": {
   "interpreter": {
    "hash": "e7370f93d1d0cde622a1f8e1c04877d8463912d04d973331ad4851f04de6915a"
   }
  }
 },
 "nbformat": 4,
 "nbformat_minor": 2
}
