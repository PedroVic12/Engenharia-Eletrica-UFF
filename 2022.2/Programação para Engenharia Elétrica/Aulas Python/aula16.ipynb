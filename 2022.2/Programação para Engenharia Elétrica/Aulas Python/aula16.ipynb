{
 "cells": [
  {
   "cell_type": "markdown",
   "metadata": {},
   "source": [
    "# Aula 17 Módulos\n",
    "\n",
    "Script contendo definição de classes e funções\n",
    "\n"
   ]
  },
  {
   "cell_type": "markdown",
   "metadata": {},
   "source": [
    "***\n",
    "## Pacotes\n",
    "***"
   ]
  },
  {
   "cell_type": "code",
   "execution_count": 3,
   "metadata": {},
   "outputs": [
    {
     "name": "stdout",
     "output_type": "stream",
     "text": [
      "\n",
      "--> Arvore de Diretorios (Projetos)\n",
      "\n",
      "pacote_nomeDiretorio/\n",
      "    main.py\n",
      "    ecommerce/\n",
      "        __init__.py\n",
      "        database.py\n",
      "        products.py\n",
      "        payments/\n",
      "            __init__.py\n",
      "            square.py\n",
      "            stripe.py\n",
      "\n"
     ]
    }
   ],
   "source": [
    "print(\"\"\"\n",
    "--> Arvore de Diretórios (Projetos)\n",
    "\n",
    "pacote_nomeDiretorio/\n",
    "    main.py\n",
    "    ecommerce/\n",
    "        __init__.py\n",
    "        database.py\n",
    "        products.py\n",
    "        payments/\n",
    "            __init__.py\n",
    "            square.py\n",
    "            stripe.py\n",
    "\"\"\")"
   ]
  },
  {
   "cell_type": "markdown",
   "metadata": {},
   "source": [
    "***\n",
    "## Saída Formatada - Literais (format-string-syntax)\n",
    "***"
   ]
  },
  {
   "cell_type": "markdown",
   "metadata": {},
   "source": [
    "\n",
    "- A forma geral de uma especifição de formato: (CLique 2x aqui)\n",
    "\n",
    "-->  <A><S><F><C><G><P><T>\n",
    "<br>\n",
    "\n",
    "- Alinhamento\n",
    "\n",
    "- Sinal\n",
    "\n",
    "- Forma Alternativa\n",
    "\n",
    "- Comprimento\n",
    "\n",
    "- Agrupamento\n",
    "\n",
    "- Precisão\n",
    "\n",
    "- Tipo"
   ]
  },
  {
   "cell_type": "code",
   "execution_count": 8,
   "metadata": {},
   "outputs": [
    {
     "name": "stdout",
     "output_type": "stream",
     "text": [
      "O valor de PI é aproximadamente 3.142\n",
      "         A ->     10     \n",
      "         B ->     20     \n",
      "         C ->     30     \n",
      "A caminhonete esta cheia de cabras\n",
      "A caminhonete está cheia de 'cabras'\n"
     ]
    }
   ],
   "source": [
    "import math\n",
    "\n",
    "print(f\"O valor de PI é aproximadamente {math.pi:.3f}\")\n",
    "\n",
    "table = {\n",
    "    \"A\":10,\n",
    "    \"B\":20,\n",
    "    \"C\":30\n",
    "\n",
    "}\n",
    "\n",
    "\n",
    "for nome, phone in table.items():\n",
    "    print(f\"{nome:>10} -> {phone:^10d} \")\n",
    "\n",
    "animals = \"cabras\"\n",
    "print(f\"A caminhonete esta cheia de {animals}\")\n",
    "\n",
    "print(f\"A caminhonete está cheia de {animals!r}\")\n",
    "\n"
   ]
  },
  {
   "cell_type": "code",
   "execution_count": null,
   "metadata": {},
   "outputs": [],
   "source": []
  }
 ],
 "metadata": {
  "kernelspec": {
   "display_name": "Python 3.10.8 64-bit",
   "language": "python",
   "name": "python3"
  },
  "language_info": {
   "codemirror_mode": {
    "name": "ipython",
    "version": 3
   },
   "file_extension": ".py",
   "mimetype": "text/x-python",
   "name": "python",
   "nbconvert_exporter": "python",
   "pygments_lexer": "ipython3",
   "version": "3.10.8"
  },
  "orig_nbformat": 4,
  "vscode": {
   "interpreter": {
    "hash": "e7370f93d1d0cde622a1f8e1c04877d8463912d04d973331ad4851f04de6915a"
   }
  }
 },
 "nbformat": 4,
 "nbformat_minor": 2
}
