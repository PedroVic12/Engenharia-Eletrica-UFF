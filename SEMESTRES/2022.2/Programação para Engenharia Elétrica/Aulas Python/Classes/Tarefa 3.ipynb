{
 "cells": [
  {
   "cell_type": "markdown",
   "metadata": {},
   "source": [
    "## 1) Crie um programa que utilize POO para crias duas classes: \n",
    "\n",
    "Rectangle e Point\n",
    "\n",
    "A classe Rectangle deve ter atributos: width, height e corner\n",
    "\n",
    "O atributo corner é um objeto da classe Point e representa o canto inferior esquerdo do retangulo\n",
    "\n",
    "A classe Point deve ter os atributos x e y"
   ]
  },
  {
   "cell_type": "code",
   "execution_count": null,
   "metadata": {},
   "outputs": [],
   "source": []
  },
  {
   "cell_type": "markdown",
   "metadata": {},
   "source": [
    "2) Crie um objeto dessa classe, considerando os valores da figura"
   ]
  },
  {
   "cell_type": "code",
   "execution_count": null,
   "metadata": {},
   "outputs": [],
   "source": []
  },
  {
   "cell_type": "markdown",
   "metadata": {},
   "source": [
    "3) Crie em cada uma das duas classes um método __str__ que permita imprimir todos seus atributos, no formato \"nomeAtributo = valor\""
   ]
  },
  {
   "cell_type": "code",
   "execution_count": null,
   "metadata": {},
   "outputs": [],
   "source": []
  },
  {
   "cell_type": "markdown",
   "metadata": {},
   "source": [
    "4) Crie um método para a classe Rectangle, chamado check_inside, que recebe um objeto Point, verifica se está dentro do retangulo e retorna True ou False"
   ]
  },
  {
   "cell_type": "code",
   "execution_count": null,
   "metadata": {},
   "outputs": [],
   "source": []
  },
  {
   "cell_type": "markdown",
   "metadata": {},
   "source": [
    "5) Crie um objeto da classe Point fora do retangulo e outro dentro. Crie uma sáida para a tela qu mostra que os pontos (com suas coordenadas) estão dentro ou fora do retangulo (com suas propriedades)"
   ]
  },
  {
   "cell_type": "code",
   "execution_count": null,
   "metadata": {},
   "outputs": [],
   "source": []
  }
 ],
 "metadata": {
  "language_info": {
   "name": "python"
  },
  "orig_nbformat": 4
 },
 "nbformat": 4,
 "nbformat_minor": 2
}
