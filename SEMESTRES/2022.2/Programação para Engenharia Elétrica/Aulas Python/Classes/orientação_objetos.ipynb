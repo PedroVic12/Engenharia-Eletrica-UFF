{
 "cells": [
  {
   "cell_type": "markdown",
   "metadata": {},
   "source": [
    "# Classes em Python\n",
    "\n",
    "- Polimorfismo em tempo de execução -> Todas as funções membro são virtuais\n",
    "\n",
    "- Herança simples e múltipla\n",
    "\n",
    "- OVerride: Uma classe derivada pode sobrescrever métodos da classe base\n",
    "\n",
    "- Um método da classe derivada pode invocar um hormônio da classe base"
   ]
  },
  {
   "cell_type": "markdown",
   "metadata": {},
   "source": [
    "## Problemas\n",
    "\n",
    "- Classes são criadas em tempo de execução e podem ser alteradas apos sua criação\n",
    "\n",
    "- Pode-se criar e apagar atributos fora da declaração da classe\n",
    "\n",
    "- Todos os membros da classe são públicos"
   ]
  },
  {
   "cell_type": "markdown",
   "metadata": {},
   "source": [
    "## Instanciação de Objetos\n",
    "\n",
    "Método Estático __new__\n",
    "- Unico argumento é o nome da classe\n",
    "- Uso: Subclasses de objetos imutáveis, metaprogramação\n",
    "\n",
    "Iniciador:\n",
    "- método privado __init__\n",
    "- multiplos arugmentos, self é orbrigatório. Não retornada nada\n",
    "\n",
    "Finalizador/Destruidor:\n",
    "- Método __del__"
   ]
  },
  {
   "cell_type": "code",
   "execution_count": 4,
   "metadata": {},
   "outputs": [
    {
     "name": "stdout",
     "output_type": "stream",
     "text": [
      "Distancia entre (4,0) e (0,3) =  5.0\n"
     ]
    }
   ],
   "source": [
    "import math\n",
    "\n",
    "class Point:\n",
    "    def __init__(self,x = 0, y = 0) -> None:\n",
    "        self.mover(x,y)\n",
    "    \n",
    "    def mover(self,x,y):\n",
    "        self.x = x\n",
    "        self.y = y\n",
    "    \n",
    "    def reinicia(self):\n",
    "        self.mover(0,0)\n",
    "\n",
    "    def distancia(self,outro_ponto):\n",
    "        return math.sqrt((self.x - outro_ponto.x)**2 + (self.y - outro_ponto.y)**2)\n",
    "\n",
    "p = Point()\n",
    "p.mover(4,0)\n",
    "dist = p.distancia(Point(y=3))\n",
    "\n",
    "print(\"Distancia entre (4,0) e (0,3) = \",dist)"
   ]
  },
  {
   "cell_type": "code",
   "execution_count": 7,
   "metadata": {},
   "outputs": [
    {
     "name": "stdout",
     "output_type": "stream",
     "text": [
      "John - 36\n"
     ]
    }
   ],
   "source": [
    "class Person:\n",
    "    def __init__(self,name,age) -> None:\n",
    "        self.name = name\n",
    "        self.age = age\n",
    "    \n",
    "    def __str__(self) -> str:\n",
    "        \"\"\"Método que customiza o que será impresso caso o objeto da classe seja representado por uma string\"\"\"\n",
    "        return f\"{self.name} - {self.age}\"\n",
    "\n",
    "p1 = Person(\"John\", 36)\n",
    "print(p1)"
   ]
  },
  {
   "cell_type": "markdown",
   "metadata": {},
   "source": [
    "## Acesso aos membros da classe\n",
    "\n",
    "- Todos os métodos e atributos são públicos\n",
    "- É papel do projetista da classe indicar ou informar membros que não devem ser acessados ou modificados\n",
    "- Por convenção, membros da classe \"não públicos\" devem ser teus nomes indicados pelo caractere \"_\"\n",
    "\n"
   ]
  },
  {
   "cell_type": "markdown",
   "metadata": {},
   "source": [
    "## Herança - Fundamentos\n",
    "- Toda as classes definidas no python são derivadas da classse base `object`"
   ]
  },
  {
   "cell_type": "code",
   "execution_count": null,
   "metadata": {},
   "outputs": [],
   "source": []
  },
  {
   "cell_type": "markdown",
   "metadata": {},
   "source": [
    "## Sobreposição e polimorfismo\n",
    "- A herança é util para estender as funcionalidades de outras classes\n",
    "- As classes dos tipos fundamentais também são"
   ]
  },
  {
   "cell_type": "code",
   "execution_count": null,
   "metadata": {},
   "outputs": [],
   "source": [
    "class Person:\n",
    "    def __init__(self,fname,lname) -> None:\n",
    "        self.fistName = fname\n",
    "        self.lastName = lname\n",
    "\n",
    "    def printName(self):\n",
    "        print(self.fistName, self.lastName)\n",
    "\n",
    "class Student(Person):\n",
    "    def __init__(self) -> None:\n",
    "        super().__init__()\n",
    "\n",
    "    def welcome(self):\n",
    "        print(\"Welcome\", self.firstName, self.lastName)"
   ]
  }
 ],
 "metadata": {
  "kernelspec": {
   "display_name": "Python 3.10.8 64-bit",
   "language": "python",
   "name": "python3"
  },
  "language_info": {
   "codemirror_mode": {
    "name": "ipython",
    "version": 3
   },
   "file_extension": ".py",
   "mimetype": "text/x-python",
   "name": "python",
   "nbconvert_exporter": "python",
   "pygments_lexer": "ipython3",
   "version": "3.10.8"
  },
  "orig_nbformat": 4,
  "vscode": {
   "interpreter": {
    "hash": "e7370f93d1d0cde622a1f8e1c04877d8463912d04d973331ad4851f04de6915a"
   }
  }
 },
 "nbformat": 4,
 "nbformat_minor": 2
}
