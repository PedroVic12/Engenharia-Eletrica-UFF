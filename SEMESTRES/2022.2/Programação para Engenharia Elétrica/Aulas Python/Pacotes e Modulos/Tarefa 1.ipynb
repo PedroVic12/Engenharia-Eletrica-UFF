{
 "cells": [
  {
   "cell_type": "markdown",
   "metadata": {},
   "source": [
    "#### 1) Construa uma função em Python que faça um mapeamento linear de valores de uma lista de tamanho n para uma nova lista com os limites a e b. Considere:\n",
    "\n",
    "a) A lista de tamanho n e os limites a e b da lista de resultado devem ser passados por argumento á função\n",
    "\n",
    "b) A lista de resultado deve ter o mesmo número de elementos da lista original.\n",
    "\n",
    "#### 2) Execute a função, para mapear uma lista de números interios de 0 a 1023 para uma lista de numeros inteiros de 0 a 255. Imprime as duas listas na tela.\n",
    "\n",
    "#### 3) faça o gráfico.\n",
    "- Eixo Y = Lista original\n",
    "- Eixo X = Lista de resultado\n"
   ]
  },
  {
   "cell_type": "markdown",
   "metadata": {},
   "source": [
    "# Código Principal"
   ]
  },
  {
   "cell_type": "code",
   "execution_count": 37,
   "metadata": {},
   "outputs": [],
   "source": [
    "import random\n",
    "\n",
    "array = []\n",
    "\n",
    "def numero_inteiro():\n",
    "    for i in range(0,1023):\n",
    "        num = random.randint(0,1023)\n",
    "        \n",
    "        if num not in array:\n",
    "            array.append(num)\n",
    "            array.sort()\n",
    "\n",
    "\n",
    "    return array  \n"
   ]
  },
  {
   "cell_type": "code",
   "execution_count": 38,
   "metadata": {},
   "outputs": [
    {
     "name": "stdout",
     "output_type": "stream",
     "text": [
      "649\n"
     ]
    }
   ],
   "source": [
    "def linearMap(array,limite_a, limite_b):\n",
    "    n = len(array)\n",
    "    numero_max = max(array)\n",
    "    numero_min = min(array)\n",
    "\n",
    "    amplitude = numero_max - numero_min\n",
    "\n",
    "    diferença_limite = limite_b - limite_a\n",
    "\n",
    "    coeficiente = diferença_limite/amplitude\n",
    "\n",
    "    resultado = []\n",
    "\n",
    "    for i in range(0,n):\n",
    "        resultado.append(limite_a + (coeficiente*i)) \n",
    "\n",
    "    print(n)\n",
    "    return resultado\n",
    "\n",
    "\n",
    "lista_original = numero_inteiro()\n",
    "\n",
    "#!Mudar o X para Lista original\n",
    "x = [1,2,3,4,5,6,7,8,9,10]\n",
    "\n",
    "valores = linearMap(lista_original,0,255)\n",
    "\n"
   ]
  },
  {
   "cell_type": "code",
   "execution_count": 39,
   "metadata": {},
   "outputs": [
    {
     "name": "stdout",
     "output_type": "stream",
     "text": [
      "649\n"
     ]
    },
    {
     "data": {
      "text/plain": [
       "[<matplotlib.lines.Line2D at 0x7f54802804c0>]"
      ]
     },
     "execution_count": 39,
     "metadata": {},
     "output_type": "execute_result"
    },
    {
     "data": {
      "image/png": "[encoded data removed]",
      "text/plain": [
       "<Figure size 640x480 with 1 Axes>"
      ]
     },
     "metadata": {},
     "output_type": "display_data"
    }
   ],
   "source": [
    "import matplotlib.pyplot as grafico\n",
    "\n",
    "print(len(lista_original))\n",
    "\n",
    "grafico.xlabel(\"Valores\")\n",
    "grafico.ylabel(\"Lista Original\")\n",
    "\n",
    "grafico.plot(valores,lista_original)"
   ]
  },
  {
   "cell_type": "code",
   "execution_count": 40,
   "metadata": {},
   "outputs": [
    {
     "ename": "TypeError",
     "evalue": "'module' object is not callable",
     "output_type": "error",
     "traceback": [
      "\u001b[0;31m---------------------------------------------------------------------------\u001b[0m",
      "\u001b[0;31mTypeError\u001b[0m                                 Traceback (most recent call last)",
      "Cell \u001b[0;32mIn[40], line 3\u001b[0m\n\u001b[1;32m      1\u001b[0m \u001b[39mimport\u001b[39;00m \u001b[39mnumpy\u001b[39;00m \u001b[39mas\u001b[39;00m \u001b[39mnp\u001b[39;00m\n\u001b[0;32m----> 3\u001b[0m teste \u001b[39m=\u001b[39m np\u001b[39m.\u001b[39;49mrandom(\u001b[39m1\u001b[39;49m,\u001b[39m1024\u001b[39;49m)\n\u001b[1;32m      4\u001b[0m teste\n",
      "\u001b[0;31mTypeError\u001b[0m: 'module' object is not callable"
     ]
    }
   ],
   "source": [
    "import numpy as np\n",
    "\n",
    "teste = np.random(1,1024)\n",
    "teste"
   ]
  }
 ],
 "metadata": {
  "kernelspec": {
   "display_name": "Python 3.10.8 64-bit",
   "language": "python",
   "name": "python3"
  },
  "language_info": {
   "codemirror_mode": {
    "name": "ipython",
    "version": 3
   },
   "file_extension": ".py",
   "mimetype": "text/x-python",
   "name": "python",
   "nbconvert_exporter": "python",
   "pygments_lexer": "ipython3",
   "version": "3.10.8"
  },
  "orig_nbformat": 4,
  "vscode": {
   "interpreter": {
    "hash": "e7370f93d1d0cde622a1f8e1c04877d8463912d04d973331ad4851f04de6915a"
   }
  }
 },
 "nbformat": 4,
 "nbformat_minor": 2
}
