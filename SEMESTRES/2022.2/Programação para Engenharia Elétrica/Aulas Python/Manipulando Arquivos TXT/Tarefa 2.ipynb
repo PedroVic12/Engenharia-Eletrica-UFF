{
 "cells": [
  {
   "cell_type": "markdown",
   "metadata": {},
   "source": [
    "1) Cria um programa que cria dois arquivos: O primeiro arquivo possui as dimensões e os elemtenos de duas matrizes 3x3 com números complexos: O segundo arquivo possui apenas os elementos d duas matrizes 3x3 com número complexos"
   ]
  },
  {
   "cell_type": "markdown",
   "metadata": {},
   "source": [
    "2) Construa um programa que leia o primeiro arquivo do item 1. Faça o produto entre as matrizes lidas e salve o arquivo"
   ]
  },
  {
   "cell_type": "code",
   "execution_count": null,
   "metadata": {},
   "outputs": [],
   "source": []
  }
 ],
 "metadata": {
  "kernelspec": {
   "display_name": "Python 3.10.8 64-bit",
   "language": "python",
   "name": "python3"
  },
  "language_info": {
   "name": "python",
   "version": "3.10.8"
  },
  "orig_nbformat": 4,
  "vscode": {
   "interpreter": {
    "hash": "e7370f93d1d0cde622a1f8e1c04877d8463912d04d973331ad4851f04de6915a"
   }
  }
 },
 "nbformat": 4,
 "nbformat_minor": 2
}
