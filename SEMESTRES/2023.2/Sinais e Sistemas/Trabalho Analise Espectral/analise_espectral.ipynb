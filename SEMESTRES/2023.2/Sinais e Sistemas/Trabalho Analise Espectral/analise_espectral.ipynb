{
 "cells": [
  {
   "cell_type": "code",
   "execution_count": 1,
   "metadata": {},
   "outputs": [],
   "source": [
    "import numpy as np\n",
    "import math"
   ]
  },
  {
   "cell_type": "code",
   "execution_count": null,
   "metadata": {},
   "outputs": [],
   "source": [
    "\n",
    "def f(t):\n",
    "  return 2 * np.sin(2 * np.pi * 5 * t) + 3 * np.cos(2 * np.pi * 10 * t)\n",
    "\n",
    "t = np.linspace(0, 1, 100)\n",
    "y = f(t)"
   ]
  },
  {
   "cell_type": "code",
   "execution_count": null,
   "metadata": {},
   "outputs": [],
   "source": [
    "#Cálculo dos coeficientes da Série de Fourier\n",
    "a0 = np.sum(y) / N\n",
    "an = 2 / N * np.sum(y * np.cos(2 * np.pi * n * t)) [for n in range(1, N + 1)]"
   ]
  },
  {
   "cell_type": "code",
   "execution_count": null,
   "metadata": {},
   "outputs": [],
   "source": [
    "#amplitude\n",
    "|an| = √(a0^2 + an^2)\n",
    "φn = math.arctan(an/a0)\n"
   ]
  },
  {
   "cell_type": "code",
   "execution_count": null,
   "metadata": {},
   "outputs": [],
   "source": [
    "N = 100\n",
    "\n",
    "# Calcula os coeficientes da Série de Fourier\n",
    "a0 = np.sum(y) / N\n",
    "an = 2 / N * np.sum(y * np.cos(2 * np.pi * n * t)) for n in range(1, N + 1)\n",
    "\n",
    "# Calcula a amplitude e a fase de cada componente senoidal\n",
    "amp = np.abs(an)\n",
    "phase = np.arctan2(an, a0)\n"
   ]
  },
  {
   "cell_type": "code",
   "execution_count": null,
   "metadata": {},
   "outputs": [],
   "source": [
    "import matplotlib.pyplot as plt\n",
    "\n",
    "plt.plot(t, y)\n",
    "plt.show()"
   ]
  },
  {
   "cell_type": "code",
   "execution_count": null,
   "metadata": {},
   "outputs": [],
   "source": [
    "plt.plot(np.arange(1, N + 1) / N, amp)\n",
    "plt.xlabel(\"Freqüência\")\n",
    "plt.ylabel(\"Amplitude\")\n",
    "plt.show()"
   ]
  }
 ],
 "metadata": {
  "kernelspec": {
   "display_name": "Python 3",
   "language": "python",
   "name": "python3"
  },
  "language_info": {
   "codemirror_mode": {
    "name": "ipython",
    "version": 3
   },
   "file_extension": ".py",
   "mimetype": "text/x-python",
   "name": "python",
   "nbconvert_exporter": "python",
   "pygments_lexer": "ipython3",
   "version": "3.11.5"
  }
 },
 "nbformat": 4,
 "nbformat_minor": 2
}
