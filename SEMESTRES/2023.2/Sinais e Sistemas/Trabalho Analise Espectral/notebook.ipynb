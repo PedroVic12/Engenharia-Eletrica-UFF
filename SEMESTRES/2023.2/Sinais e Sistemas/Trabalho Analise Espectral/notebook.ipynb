{
 "cells": [
  {
   "cell_type": "code",
   "execution_count": 9,
   "metadata": {},
   "outputs": [
    {
     "ename": "ModuleNotFoundError",
     "evalue": "No module named 'heartypy'",
     "output_type": "error",
     "traceback": [
      "\u001b[0;31m---------------------------------------------------------------------------\u001b[0m",
      "\u001b[0;31mModuleNotFoundError\u001b[0m                       Traceback (most recent call last)",
      "\u001b[1;32m/home/opensuse/Documents/Engenharia-Eletrica-UFF/SEMESTRES/2023.2/Sinais e Sistemas/Trabalho Analise Espectral/notebook.ipynb Cell 1\u001b[0m line \u001b[0;36m2\n\u001b[1;32m      <a href='vscode-notebook-cell:/home/opensuse/Documents/Engenharia-Eletrica-UFF/SEMESTRES/2023.2/Sinais%20e%20Sistemas/Trabalho%20Analise%20Espectral/notebook.ipynb#X12sZmlsZQ%3D%3D?line=0'>1</a>\u001b[0m \u001b[39mimport\u001b[39;00m \u001b[39mmatplotlib\u001b[39;00m\u001b[39m.\u001b[39;00m\u001b[39mpyplot\u001b[39;00m \u001b[39mas\u001b[39;00m \u001b[39mplt\u001b[39;00m\n\u001b[0;32m----> <a href='vscode-notebook-cell:/home/opensuse/Documents/Engenharia-Eletrica-UFF/SEMESTRES/2023.2/Sinais%20e%20Sistemas/Trabalho%20Analise%20Espectral/notebook.ipynb#X12sZmlsZQ%3D%3D?line=1'>2</a>\u001b[0m \u001b[39mimport\u001b[39;00m \u001b[39mheartypy\u001b[39;00m \u001b[39mas\u001b[39;00m \u001b[39mhp\u001b[39;00m\n\u001b[1;32m      <a href='vscode-notebook-cell:/home/opensuse/Documents/Engenharia-Eletrica-UFF/SEMESTRES/2023.2/Sinais%20e%20Sistemas/Trabalho%20Analise%20Espectral/notebook.ipynb#X12sZmlsZQ%3D%3D?line=2'>3</a>\u001b[0m \u001b[39mfrom\u001b[39;00m \u001b[39mscipy\u001b[39;00m\u001b[39m.\u001b[39;00m\u001b[39msignal\u001b[39;00m \u001b[39mimport\u001b[39;00m resample\n\u001b[1;32m      <a href='vscode-notebook-cell:/home/opensuse/Documents/Engenharia-Eletrica-UFF/SEMESTRES/2023.2/Sinais%20e%20Sistemas/Trabalho%20Analise%20Espectral/notebook.ipynb#X12sZmlsZQ%3D%3D?line=3'>4</a>\u001b[0m \u001b[39m#video 06 e 07 -> CSV\u001b[39;00m\n",
      "\u001b[0;31mModuleNotFoundError\u001b[0m: No module named 'heartypy'"
     ]
    }
   ],
   "source": [
    "import matplotlib.pyplot as plt\n",
    "import heartypy as hp\n",
    "from scipy.signal import resample\n",
    "#video 06 e 07 -> CSV"
   ]
  },
  {
   "cell_type": "code",
   "execution_count": 8,
   "metadata": {},
   "outputs": [
    {
     "ename": "NameError",
     "evalue": "name 'hp' is not defined",
     "output_type": "error",
     "traceback": [
      "\u001b[0;31m---------------------------------------------------------------------------\u001b[0m",
      "\u001b[0;31mNameError\u001b[0m                                 Traceback (most recent call last)",
      "\u001b[1;32m/home/opensuse/Documents/Engenharia-Eletrica-UFF/SEMESTRES/2023.2/Sinais e Sistemas/Trabalho Analise Espectral/notebook.ipynb Cell 3\u001b[0m line \u001b[0;36m1\n\u001b[0;32m----> <a href='vscode-notebook-cell:/home/opensuse/Documents/Engenharia-Eletrica-UFF/SEMESTRES/2023.2/Sinais%20e%20Sistemas/Trabalho%20Analise%20Espectral/notebook.ipynb#W2sZmlsZQ%3D%3D?line=0'>1</a>\u001b[0m data, timer \u001b[39m=\u001b[39m hp\u001b[39m.\u001b[39mload_exampledata(\u001b[39m0\u001b[39m)\n",
      "\u001b[0;31mNameError\u001b[0m: name 'hp' is not defined"
     ]
    }
   ],
   "source": [
    "\n",
    "data, timer = hp.load_exampledata(0)"
   ]
  },
  {
   "cell_type": "code",
   "execution_count": null,
   "metadata": {},
   "outputs": [
    {
     "ename": "NameError",
     "evalue": "name 'plt' is not defined",
     "output_type": "error",
     "traceback": [
      "\u001b[0;31m---------------------------------------------------------------------------\u001b[0m",
      "\u001b[0;31mNameError\u001b[0m                                 Traceback (most recent call last)",
      "\u001b[1;32m/home/opensuse/Documents/Engenharia-Eletrica-UFF/SEMESTRES/2023.2/Sinais e Sistemas/Trabalho Analise Espectral/notebook.ipynb Cell 3\u001b[0m line \u001b[0;36m1\n\u001b[0;32m----> <a href='vscode-notebook-cell:/home/opensuse/Documents/Engenharia-Eletrica-UFF/SEMESTRES/2023.2/Sinais%20e%20Sistemas/Trabalho%20Analise%20Espectral/notebook.ipynb#W1sZmlsZQ%3D%3D?line=0'>1</a>\u001b[0m plt\u001b[39m.\u001b[39mfigure(figsize\u001b[39m=\u001b[39m(\u001b[39m12\u001b[39m,\u001b[39m4\u001b[39m))\n\u001b[1;32m      <a href='vscode-notebook-cell:/home/opensuse/Documents/Engenharia-Eletrica-UFF/SEMESTRES/2023.2/Sinais%20e%20Sistemas/Trabalho%20Analise%20Espectral/notebook.ipynb#W1sZmlsZQ%3D%3D?line=1'>2</a>\u001b[0m plt\u001b[39m.\u001b[39mshow(data)\n\u001b[1;32m      <a href='vscode-notebook-cell:/home/opensuse/Documents/Engenharia-Eletrica-UFF/SEMESTRES/2023.2/Sinais%20e%20Sistemas/Trabalho%20Analise%20Espectral/notebook.ipynb#W1sZmlsZQ%3D%3D?line=2'>3</a>\u001b[0m plt\u001b[39m.\u001b[39mshow()\n",
      "\u001b[0;31mNameError\u001b[0m: name 'plt' is not defined"
     ]
    }
   ],
   "source": [
    "plt.figure(figsize=(12,4))\n",
    "plt.show(data)\n",
    "plt.show()\n"
   ]
  },
  {
   "cell_type": "code",
   "execution_count": null,
   "metadata": {},
   "outputs": [],
   "source": [
    "sample_rate2 = hp.get_samplerate_mstimer(timer)\n",
    "sample_rate = hp.get_samplerate_datetime(timer)\n",
    "print(f'Taxa de amostragem is: {sample_rate}')\n",
    "working_data, m = hp.process(data,sample_rate, report_time = True)"
   ]
  },
  {
   "cell_type": "code",
   "execution_count": null,
   "metadata": {},
   "outputs": [],
   "source": [
    "hp.plotter(working_data,m)\n",
    "plt.xlim(200,300)\n",
    "plt.show()"
   ]
  },
  {
   "cell_type": "code",
   "execution_count": null,
   "metadata": {},
   "outputs": [],
   "source": [
    "for measure in m.keys():\n",
    "    print(f'{measure} | {m[measure]}')"
   ]
  },
  {
   "cell_type": "code",
   "execution_count": 17,
   "metadata": {},
   "outputs": [
    {
     "ename": "ModuleNotFoundError",
     "evalue": "No module named 'heartypy'",
     "output_type": "error",
     "traceback": [
      "\u001b[0;31m---------------------------------------------------------------------------\u001b[0m",
      "\u001b[0;31mModuleNotFoundError\u001b[0m                       Traceback (most recent call last)",
      "\u001b[1;32m/home/opensuse/Documents/Engenharia-Eletrica-UFF/SEMESTRES/2023.2/Sinais e Sistemas/Trabalho Analise Espectral/notebook.ipynb Cell 9\u001b[0m line \u001b[0;36m2\n\u001b[1;32m      <a href='vscode-notebook-cell:/home/opensuse/Documents/Engenharia-Eletrica-UFF/SEMESTRES/2023.2/Sinais%20e%20Sistemas/Trabalho%20Analise%20Espectral/notebook.ipynb#X13sZmlsZQ%3D%3D?line=0'>1</a>\u001b[0m \u001b[39mimport\u001b[39;00m \u001b[39mmatplotlib\u001b[39;00m\u001b[39m.\u001b[39;00m\u001b[39mpyplot\u001b[39;00m \u001b[39mas\u001b[39;00m \u001b[39mplt\u001b[39;00m\n\u001b[0;32m----> <a href='vscode-notebook-cell:/home/opensuse/Documents/Engenharia-Eletrica-UFF/SEMESTRES/2023.2/Sinais%20e%20Sistemas/Trabalho%20Analise%20Espectral/notebook.ipynb#X13sZmlsZQ%3D%3D?line=1'>2</a>\u001b[0m \u001b[39mimport\u001b[39;00m \u001b[39mheartypy\u001b[39;00m \u001b[39mas\u001b[39;00m \u001b[39mhp\u001b[39;00m\n\u001b[1;32m      <a href='vscode-notebook-cell:/home/opensuse/Documents/Engenharia-Eletrica-UFF/SEMESTRES/2023.2/Sinais%20e%20Sistemas/Trabalho%20Analise%20Espectral/notebook.ipynb#X13sZmlsZQ%3D%3D?line=3'>4</a>\u001b[0m \u001b[39m# Gera um sinal de ECG simulado\u001b[39;00m\n\u001b[1;32m      <a href='vscode-notebook-cell:/home/opensuse/Documents/Engenharia-Eletrica-UFF/SEMESTRES/2023.2/Sinais%20e%20Sistemas/Trabalho%20Analise%20Espectral/notebook.ipynb#X13sZmlsZQ%3D%3D?line=4'>5</a>\u001b[0m ecg_signal \u001b[39m=\u001b[39m hp\u001b[39m.\u001b[39mgenerate_ecg(\u001b[39m1000\u001b[39m, \u001b[39m70\u001b[39m)\n",
      "\u001b[0;31mModuleNotFoundError\u001b[0m: No module named 'heartypy'"
     ]
    }
   ],
   "source": [
    "import matplotlib.pyplot as plt\n",
    "import heartypy as hp\n",
    "\n",
    "# Gera um sinal de ECG simulado\n",
    "ecg_signal = hp.generate_ecg(1000, 70)\n",
    "\n",
    "# Analisa o sinal de ECG para obter a frequência cardíaca\n",
    "heart_rate = hp.get_heart_rate(ecg_signal)\n",
    "\n",
    "# Plota o gráfico da frequência cardíaca\n",
    "plt.plot(ecg_signal)\n",
    "plt.xlabel(\"Tempo (ms)\")\n",
    "plt.ylabel(\"Voltagem (mV)\")\n",
    "plt.title(f\"Frequência cardíaca: {heart_rate:.1f} bpm\")\n",
    "plt.show()\n"
   ]
  }
 ],
 "metadata": {
  "kernelspec": {
   "display_name": "Python 3",
   "language": "python",
   "name": "python3"
  },
  "language_info": {
   "codemirror_mode": {
    "name": "ipython",
    "version": 3
   },
   "file_extension": ".py",
   "mimetype": "text/x-python",
   "name": "python",
   "nbconvert_exporter": "python",
   "pygments_lexer": "ipython3",
   "version": "3.11.5"
  }
 },
 "nbformat": 4,
 "nbformat_minor": 2
}
