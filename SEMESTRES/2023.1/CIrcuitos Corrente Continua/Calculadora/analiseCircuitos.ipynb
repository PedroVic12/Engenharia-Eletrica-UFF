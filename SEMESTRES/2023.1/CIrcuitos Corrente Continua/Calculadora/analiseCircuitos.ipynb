{
 "cells": [
  {
   "cell_type": "code",
   "execution_count": 1,
   "metadata": {},
   "outputs": [],
   "source": [
    "import numpy as np\n",
    "\n",
    "\n",
    "class Matriz:\n",
    "    def __init__(self, matriz):\n",
    "        self.matriz = matriz\n",
    "\n",
    "    def inverter_matriz(self):\n",
    "        if len(self.matriz) != len(self.matriz[0]):\n",
    "            raise ValueError(\n",
    "                \"A matriz precisa ser quadrada para ser invertida.\")\n",
    "\n",
    "        n = len(self.matriz)\n",
    "        matriz = np.array(self.matriz)\n",
    "        matriz_concatenada = np.concatenate((matriz, np.identity(n)), axis=1)\n",
    "\n",
    "        for i in range(n):\n",
    "            pivot = matriz_concatenada[i, i]\n",
    "            if pivot == 0:\n",
    "                raise ValueError(\"A matriz não pode ser invertida.\")\n",
    "\n",
    "            # Dividindo a linha atual pelo pivô para tornar o pivô igual a 1\n",
    "            matriz_concatenada[i, :] /= pivot\n",
    "\n",
    "            for k in range(n):\n",
    "                if k != i:\n",
    "                    fator = matriz_concatenada[k, i]\n",
    "                    # Subtraindo múltiplos da linha atual das outras linhas\n",
    "                    matriz_concatenada[k, :] -= fator * \\\n",
    "                        matriz_concatenada[i, :]\n",
    "\n",
    "        inversa = matriz_concatenada[:, n:]\n",
    "\n",
    "        return Matriz(inversa.tolist())\n",
    "\n",
    "    def multiplicar_matriz(self, outra_matriz):\n",
    "        if len(self.matriz[0]) != len(outra_matriz.matriz):\n",
    "            raise ValueError(\n",
    "                \"As dimensões das matrizes são incompatíveis para a multiplicação.\")\n",
    "\n",
    "        resultado = np.dot(np.array(self.matriz),\n",
    "                           np.array(outra_matriz.matriz))\n",
    "\n",
    "        return Matriz(resultado.tolist())\n",
    "\n",
    "\n"
   ]
  },
  {
   "cell_type": "code",
   "execution_count": 2,
   "metadata": {},
   "outputs": [
    {
     "name": "stdout",
     "output_type": "stream",
     "text": [
      "va = 13.41 V\n",
      "vb = 10.35 V\n",
      "vc = 11.48 V\n",
      "vd = 3.24 V\n",
      "ve = 3.96 V\n"
     ]
    }
   ],
   "source": [
    "\n",
    "matriz_nodal = Matriz(\n",
    "    [\n",
    "        [-(1/2+1/2+1/5), 1/2, 1/5, 1/2, 0],\n",
    "        [1/2, -(1/4+1/2+1/2), 1/2, 0, 0],\n",
    "        [1/5, 1/2, -(1/5+1/3+1/2), 0, 0],\n",
    "        [1/2, 0, 0, -(1/4+1/2+1), 1],\n",
    "        [0, 0, 0, 1, -(1+1/3+1)]\n",
    "    ]\n",
    ")\n",
    "\n",
    "matriz_termoIndependente = Matriz(\n",
    "    [\n",
    "        [-7],\n",
    "        [-1/2],\n",
    "        [-4],\n",
    "        [5],\n",
    "        [-6]\n",
    "    ]\n",
    ")\n",
    "\n",
    "matriz_inversa = matriz_nodal.inverter_matriz()\n",
    "resultado = matriz_inversa.multiplicar_matriz(matriz_termoIndependente)\n",
    "\n",
    "va = resultado.matriz[0][0]\n",
    "vb = resultado.matriz[1][0]\n",
    "vc = resultado.matriz[2][0]\n",
    "vd = resultado.matriz[3][0]\n",
    "ve = resultado.matriz[4][0]\n",
    "\n",
    "print(f\"va = {va:.2f} V\")\n",
    "print(f\"vb = {vb:.2f} V\")\n",
    "print(f\"vc = {vc:.2f} V\")\n",
    "print(f\"vd = {vd:.2f} V\")\n",
    "print(f\"ve = {ve:.2f} V\")"
   ]
  }
 ],
 "metadata": {
  "kernelspec": {
   "display_name": "Python 3.10.10 64-bit",
   "language": "python",
   "name": "python3"
  },
  "language_info": {
   "codemirror_mode": {
    "name": "ipython",
    "version": 3
   },
   "file_extension": ".py",
   "mimetype": "text/x-python",
   "name": "python",
   "nbconvert_exporter": "python",
   "pygments_lexer": "ipython3",
   "version": "3.10.10"
  },
  "orig_nbformat": 4,
  "vscode": {
   "interpreter": {
    "hash": "e7370f93d1d0cde622a1f8e1c04877d8463912d04d973331ad4851f04de6915a"
   }
  }
 },
 "nbformat": 4,
 "nbformat_minor": 2
}
