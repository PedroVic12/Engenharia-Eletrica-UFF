{
 "cells": [
  {
   "cell_type": "code",
   "execution_count": 1,
   "metadata": {},
   "outputs": [],
   "source": [
    "class Matriz:\n",
    "    def __init__(self, matriz):\n",
    "        self.matriz = matriz\n",
    "\n",
    "    def inverter_matriz(self):\n",
    "        # Verifica se a matriz é quadrada\n",
    "        if len(self.matriz) != len(self.matriz[0]):\n",
    "            raise ValueError(\"A matriz precisa ser quadrada para ser invertida.\")\n",
    "\n",
    "        # Cria a matriz identidade do mesmo tamanho da matriz original\n",
    "        identidade = [[1 if j == i else 0 for j in range(len(self.matriz[0]))] for i in range(len(self.matriz))]\n",
    "\n",
    "        # Aplica o método da eliminação de Gauss-Jordan para inverter a matriz\n",
    "        n = len(self.matriz)\n",
    "        for i in range(n):\n",
    "            pivot = self.matriz[i][i]\n",
    "            if pivot == 0:\n",
    "                raise ValueError(\"A matriz não pode ser invertida.\")\n",
    "\n",
    "            # Divide a linha pelo pivô para tornar o pivô igual a 1\n",
    "            for j in range(n):\n",
    "                self.matriz[i][j] /= pivot\n",
    "                identidade[i][j] /= pivot\n",
    "\n",
    "            # Subtrai múltiplos da linha atual das outras linhas para tornar os elementos abaixo e acima do pivô igual a 0\n",
    "            for k in range(n):\n",
    "                if k != i:\n",
    "                    fator = self.matriz[k][i]\n",
    "                    for j in range(n):\n",
    "                        self.matriz[k][j] -= fator * self.matriz[i][j]\n",
    "                        identidade[k][j] -= fator * identidade[i][j]\n",
    "\n",
    "        return identidade\n",
    "\n",
    "    def multiplicar_matriz(self, outra_matriz):\n",
    "        # Verifica se as dimensões das matrizes são compatíveis\n",
    "        if len(self.matriz[0]) != len(outra_matriz):\n",
    "            raise ValueError(\"As dimensões das matrizes são incompatíveis para a multiplicação.\")\n",
    "\n",
    "        # Realiza a multiplicação das matrizes\n",
    "        resultado = [[0 for _ in range(len(outra_matriz[0]))] for _ in range(len(self.matriz))]\n",
    "        for i in range(len(self.matriz)):\n",
    "            for j in range(len(outra_matriz[0])):\n",
    "                for k in range(len(outra_matriz)):\n",
    "                    resultado[i][j] += self.matriz[i][k] * outra_matriz[k][j]\n",
    "\n",
    "        return resultado\n"
   ]
  },
  {
   "cell_type": "code",
   "execution_count": 2,
   "metadata": {},
   "outputs": [
    {
     "name": "stdout",
     "output_type": "stream",
     "text": [
      "Matriz Inicial:\n",
      "[[1.0, 0.0], [-0.0, 1.0]]\n",
      "Matriz Invertida:\n",
      "[[-2.0, 1.0], [1.5, -0.5]]\n",
      "Resultado da multiplicação:\n",
      "[[1.0, 2.0, 3.0], [4.0, 5.0, 6.0]]\n"
     ]
    }
   ],
   "source": [
    "# Cria uma matriz 2x2\n",
    "m1 = Matriz([[1, 2], [3, 4]])\n",
    "\n",
    "# Inverte a matriz\n",
    "m1_invertida = m1.inverter_matriz()\n",
    "print(\"Matriz Inicial:\")\n",
    "print(m1.matriz)\n",
    "print(\"Matriz Invertida:\")\n",
    "print(m1_invertida)\n",
    "\n",
    "# Cria uma matriz 2x3\n",
    "m2 = Matriz([[1, 2, 3], [4, 5, 6]])\n",
    "\n",
    "# Multiplica as matrizes\n",
    "m1_m2 = m1.multiplicar_matriz(m2.matriz)\n",
    "print(\"Resultado da multiplicação:\")\n",
    "print(m1_m2)\n"
   ]
  }
 ],
 "metadata": {
  "kernelspec": {
   "display_name": "Python 3.10.10 64-bit",
   "language": "python",
   "name": "python3"
  },
  "language_info": {
   "codemirror_mode": {
    "name": "ipython",
    "version": 3
   },
   "file_extension": ".py",
   "mimetype": "text/x-python",
   "name": "python",
   "nbconvert_exporter": "python",
   "pygments_lexer": "ipython3",
   "version": "3.10.10"
  },
  "orig_nbformat": 4,
  "vscode": {
   "interpreter": {
    "hash": "e7370f93d1d0cde622a1f8e1c04877d8463912d04d973331ad4851f04de6915a"
   }
  }
 },
 "nbformat": 4,
 "nbformat_minor": 2
}
