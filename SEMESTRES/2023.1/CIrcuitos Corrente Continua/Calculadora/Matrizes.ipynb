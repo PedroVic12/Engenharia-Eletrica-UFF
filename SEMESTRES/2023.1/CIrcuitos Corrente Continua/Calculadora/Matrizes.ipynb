{
 "cells": [
  {
   "cell_type": "code",
   "execution_count": 9,
   "metadata": {},
   "outputs": [],
   "source": [
    "class Matriz:\n",
    "    def __init__(self, matriz):\n",
    "        self.matriz = matriz\n",
    "\n",
    "    def inverter_matriz(self):\n",
    "        # Verifica se a matriz é quadrada\n",
    "        if len(self.matriz) != len(self.matriz[0]):\n",
    "            raise ValueError(\"A matriz precisa ser quadrada para ser invertida.\")\n",
    "\n",
    "        # Cria a matriz identidade do mesmo tamanho da matriz original\n",
    "        identidade = [[1 if j == i else 0 for j in range(len(self.matriz[0]))] for i in range(len(self.matriz))]\n",
    "\n",
    "        # Aplica o método da eliminação de Gauss-Jordan para inverter a matriz\n",
    "        n = len(self.matriz)\n",
    "        for i in range(n):\n",
    "            pivot = self.matriz[i][i]\n",
    "            if pivot == 0:\n",
    "                raise ValueError(\"A matriz não pode ser invertida.\")\n",
    "\n",
    "            # Divide a linha pelo pivô para tornar o pivô igual a 1\n",
    "            for j in range(n):\n",
    "                self.matriz[i][j] /= pivot\n",
    "                identidade[i][j] /= pivot\n",
    "\n",
    "            # Subtrai múltiplos da linha atual das outras linhas para tornar os elementos abaixo e acima do pivô igual a 0\n",
    "            for k in range(n):\n",
    "                if k != i:\n",
    "                    fator = self.matriz[k][i]\n",
    "                    for j in range(n):\n",
    "                        self.matriz[k][j] -= fator * self.matriz[i][j]\n",
    "                        identidade[k][j] -= fator * identidade[i][j]\n",
    "\n",
    "        return identidade\n",
    "\n",
    "    def multiplicar_matriz(self, outra_matriz):\n",
    "        # Verifica se as dimensões das matrizes são compatíveis\n",
    "        try:\n",
    "            if len(self.matriz[0]) != len(outra_matriz):\n",
    "                raise ValueError(\"As dimensões das matrizes são incompatíveis para a multiplicação.\")\n",
    "        except:\n",
    "            print('Nao da para multiplicar')\n",
    "\n",
    "        # Realiza a multiplicação das matrizes\n",
    "        resultado = [[0 for _ in range(len(outra_matriz[0]))] for _ in range(len(self.matriz))]\n",
    "        for i in range(len(self.matriz)):\n",
    "            for j in range(len(outra_matriz[0])):\n",
    "                for k in range(len(outra_matriz)):\n",
    "                    resultado[i][j] += self.matriz[i][k] * outra_matriz[k][j]\n",
    "\n",
    "        return resultado\n"
   ]
  },
  {
   "cell_type": "code",
   "execution_count": 21,
   "metadata": {},
   "outputs": [
    {
     "name": "stdout",
     "output_type": "stream",
     "text": [
      "Matriz Inicial:\n",
      "[[1.0, 0.0, 0.0], [0.0, 1.0, 0.0], [0.0, 0.0, 1.0]]\n",
      "Matriz Invertida:\n",
      "[[4.375000000000001, 13.750000000000002, 66.25000000000001], [2.4999999999999996, 5.0, 34.99999999999999], [7.750000000000001, 21.500000000000004, 102.50000000000001]]\n",
      "Resultado da multiplicação:\n",
      "[[1.0, 2.0, 3.0], [4.0, 5.0, 6.0], [7.0, 8.0, 9.0]]\n",
      "\n",
      "\n",
      "\n"
     ]
    },
    {
     "data": {
      "text/plain": [
       "[[4.375000000000001, 13.750000000000002, 66.25000000000001],\n",
       " [2.4999999999999996, 5.0, 34.99999999999999],\n",
       " [7.750000000000001, 21.500000000000004, 102.50000000000001]]"
      ]
     },
     "execution_count": 21,
     "metadata": {},
     "output_type": "execute_result"
    }
   ],
   "source": [
    "# Cria uma matriz 3x3\n",
    "m1 = Matriz([\n",
    "\n",
    "[-(1/2 + 1/10+1), 1/10, 1], \n",
    "\n",
    "[1/10,-(1/10 + 1/12 + 1/4), 1/12],\n",
    "\n",
    "[1/10, 1/12, - 1/12]\n",
    "\n",
    "])\n",
    "\n",
    "# Inverte a matriz\n",
    "m1_invertida = m1.inverter_matriz()\n",
    "print(\"Matriz Inicial:\")\n",
    "print(m1.matriz)\n",
    "print(\"Matriz Invertida:\")\n",
    "print(m1_invertida)\n",
    "\n",
    "# Cria uma matriz 3x3\n",
    "m2 = Matriz([[1, 2, 3], [4, 5, 6], [7,8,9]])\n",
    "\n",
    "\n",
    "# Multiplica as matrizes\n",
    "m1_m2 = m1.multiplicar_matriz(m2.matriz)\n",
    "print(\"Resultado da multiplicação:\")\n",
    "print(m1_m2)\n",
    "\n",
    "\n",
    "print('\\n\\n')\n",
    "nova_matriz = Matriz(m1_invertida)\n",
    "nova_matriz.matriz"
   ]
  },
  {
   "cell_type": "code",
   "execution_count": 12,
   "metadata": {},
   "outputs": [
    {
     "name": "stdout",
     "output_type": "stream",
     "text": [
      "Matriz Inicial:\n",
      "[[1.0, 0.0, 0.0], [0.0, 1.0, 0.0], [0.0, 0.0, 1.0]]\n",
      "\n",
      "Matriz Invertida:\n",
      "[[4.375000000000001, 13.750000000000002, 66.25000000000001], [2.4999999999999996, 5.0, 34.99999999999999], [7.750000000000001, 21.500000000000004, 102.50000000000001]]\n",
      "Matriz de Termo independente [[va], [vb], [vc]]\n"
     ]
    },
    {
     "ename": "ValueError",
     "evalue": "As dimensões das matrizes são incompatíveis para a multiplicação.",
     "output_type": "error",
     "traceback": [
      "\u001b[0;31m---------------------------------------------------------------------------\u001b[0m",
      "\u001b[0;31mValueError\u001b[0m                                Traceback (most recent call last)",
      "Cell \u001b[0;32mIn[12], line 29\u001b[0m\n\u001b[1;32m     26\u001b[0m \u001b[39mprint\u001b[39m(\u001b[39m'\u001b[39m\u001b[39mMatriz de Termo independente\u001b[39m\u001b[39m'\u001b[39m,matriz_VaVbVc\u001b[39m.\u001b[39mmatriz)\n\u001b[1;32m     28\u001b[0m \u001b[39m# Multiplicando o inverso da matriz com a matriz de termo independente\u001b[39;00m\n\u001b[0;32m---> 29\u001b[0m resultado \u001b[39m=\u001b[39m matriz_VaVbVc\u001b[39m.\u001b[39;49mmultiplicar_matriz(m1_invertida)\n\u001b[1;32m     30\u001b[0m resultado\n",
      "Cell \u001b[0;32mIn[3], line 38\u001b[0m, in \u001b[0;36mMatriz.multiplicar_matriz\u001b[0;34m(self, outra_matriz)\u001b[0m\n\u001b[1;32m     35\u001b[0m \u001b[39mdef\u001b[39;00m \u001b[39mmultiplicar_matriz\u001b[39m(\u001b[39mself\u001b[39m, outra_matriz):\n\u001b[1;32m     36\u001b[0m     \u001b[39m# Verifica se as dimensões das matrizes são compatíveis\u001b[39;00m\n\u001b[1;32m     37\u001b[0m     \u001b[39mif\u001b[39;00m \u001b[39mlen\u001b[39m(\u001b[39mself\u001b[39m\u001b[39m.\u001b[39mmatriz[\u001b[39m0\u001b[39m]) \u001b[39m!=\u001b[39m \u001b[39mlen\u001b[39m(outra_matriz):\n\u001b[0;32m---> 38\u001b[0m         \u001b[39mraise\u001b[39;00m \u001b[39mValueError\u001b[39;00m(\u001b[39m\"\u001b[39m\u001b[39mAs dimensões das matrizes são incompatíveis para a multiplicação.\u001b[39m\u001b[39m\"\u001b[39m)\n\u001b[1;32m     40\u001b[0m     \u001b[39m# Realiza a multiplicação das matrizes\u001b[39;00m\n\u001b[1;32m     41\u001b[0m     resultado \u001b[39m=\u001b[39m [[\u001b[39m0\u001b[39m \u001b[39mfor\u001b[39;00m _ \u001b[39min\u001b[39;00m \u001b[39mrange\u001b[39m(\u001b[39mlen\u001b[39m(outra_matriz[\u001b[39m0\u001b[39m]))] \u001b[39mfor\u001b[39;00m _ \u001b[39min\u001b[39;00m \u001b[39mrange\u001b[39m(\u001b[39mlen\u001b[39m(\u001b[39mself\u001b[39m\u001b[39m.\u001b[39mmatriz))]\n",
      "\u001b[0;31mValueError\u001b[0m: As dimensões das matrizes são incompatíveis para a multiplicação."
     ]
    }
   ],
   "source": [
    "from sympy import symbols, Matrix\n",
    "\n",
    "#Criando matriz de analise modal 3x3\n",
    "m1 = Matriz([\n",
    "\n",
    "[-(1/2 + 1/10+1), 1/10, 1], \n",
    "\n",
    "[1/10,-(1/10 + 1/12 + 1/4), 1/12],\n",
    "\n",
    "[1/10, 1/12, - 1/12]\n",
    "\n",
    "])\n",
    "\n",
    "\n",
    "\n",
    "# TODO inverte a matriz\n",
    "m1_invertida = m1.inverter_matriz()\n",
    "print(\"Matriz Inicial:\")\n",
    "print(m1.matriz)\n",
    "print(\"\\nMatriz Invertida:\")\n",
    "print(m1_invertida)\n",
    "\n",
    "# Criando Matrix de incógnitas 1x3\n",
    "va, vb, vc = symbols('va vb vc')\n",
    "matriz_VaVbVc = Matriz([[va], [vb], [vc]])\n",
    "print('\\nMatriz de Termo independente',matriz_VaVbVc.matriz)\n",
    "\n",
    "# Multiplicando o inverso da matriz com a matriz de termo independente\n",
    "resultado = matriz_VaVbVc.multiplicar_matriz(m1_invertida)\n",
    "resultado"
   ]
  },
  {
   "cell_type": "markdown",
   "metadata": {},
   "source": [
    "# Lista 1 - Analise Modal"
   ]
  },
  {
   "cell_type": "code",
   "execution_count": 3,
   "metadata": {},
   "outputs": [
    {
     "data": {
      "text/plain": [
       "[[-1.2, 0.5, 0.2, 0.5, 0],\n",
       " [0.5, -1.25, 0.5, 0, 0],\n",
       " [0.2, 0.5, -1.0333333333333332, 0, 0],\n",
       " [0.5, 0, 0, -1.75, 1],\n",
       " [0, 0, 0, 1, -2.333333333333333]]"
      ]
     },
     "execution_count": 3,
     "metadata": {},
     "output_type": "execute_result"
    }
   ],
   "source": [
    "matriz_nodal = Matriz(\n",
    "    [\n",
    "        [-(1/2+1/2+1/5), 1/2,1/5,1/2,0],\n",
    "        [1/2,-(1/4+1/2+1/2),1/2,0,0],\n",
    "        [1/5,1/2,-(1/5+1/3+1/2),0,0],\n",
    "        [1/2,0,0,-(1/4+1/2+1),1],\n",
    "        [0,0,0,1,-(1+1/3+1)]\n",
    "    ]\n",
    ")\n",
    "\n",
    "matriz_nodal.matriz"
   ]
  },
  {
   "cell_type": "code",
   "execution_count": 4,
   "metadata": {},
   "outputs": [
    {
     "data": {
      "text/latex": [
       "$\\displaystyle \\left[\\begin{matrix}va\\\\vb\\\\vc\\\\vd\\\\ve\\end{matrix}\\right]$"
      ],
      "text/plain": [
       "Matrix([\n",
       "[va],\n",
       "[vb],\n",
       "[vc],\n",
       "[vd],\n",
       "[ve]])"
      ]
     },
     "execution_count": 4,
     "metadata": {},
     "output_type": "execute_result"
    }
   ],
   "source": [
    "from sympy import symbols, Matrix\n",
    "\n",
    "va, vb, vc, vd, ve = symbols('va vb vc vd ve')\n",
    "matriz_VaVbVc = Matrix([[va], [vb], [vc],[vd],[ve]])\n",
    "matriz_VaVbVc"
   ]
  },
  {
   "cell_type": "code",
   "execution_count": 5,
   "metadata": {},
   "outputs": [
    {
     "data": {
      "text/plain": [
       "[[-7], [-0.5], [-4], [5], [6]]"
      ]
     },
     "execution_count": 5,
     "metadata": {},
     "output_type": "execute_result"
    }
   ],
   "source": [
    "matriz_termoIndependente = Matriz(\n",
    "    [\n",
    "        [-7],\n",
    "        [-1/2],\n",
    "        [-4],\n",
    "        [5],\n",
    "        [6]\n",
    "    ]\n",
    ")\n",
    "\n",
    "matriz_termoIndependente.matriz"
   ]
  },
  {
   "cell_type": "code",
   "execution_count": 22,
   "metadata": {},
   "outputs": [
    {
     "name": "stdout",
     "output_type": "stream",
     "text": [
      "[[1.0, 0.0, 0.0, 0.0, 0.0], [0.0, 1.0, 0.0, 0.0, 0.0], [0.0, 0.0, 1.0, 0.0, 0.0], [0.0, 0.0, 0.0, 1.0, 0.0], [0.0, 0.0, 0.0, 0.0, 1.0]]\n"
     ]
    },
    {
     "ename": "TypeError",
     "evalue": "object of type 'Matriz' has no len()",
     "output_type": "error",
     "traceback": [
      "\u001b[0;31m---------------------------------------------------------------------------\u001b[0m",
      "\u001b[0;31mTypeError\u001b[0m                                 Traceback (most recent call last)",
      "Cell \u001b[0;32mIn[22], line 8\u001b[0m\n\u001b[1;32m      5\u001b[0m matriz_inversa \u001b[39m=\u001b[39m Matriz(inversa)\n\u001b[1;32m      6\u001b[0m \u001b[39mprint\u001b[39m(matriz_inversa\u001b[39m.\u001b[39mmatriz)\n\u001b[0;32m----> 8\u001b[0m \u001b[39mfor\u001b[39;00m i \u001b[39min\u001b[39;00m \u001b[39mrange\u001b[39m(\u001b[39mlen\u001b[39;49m(matriz_inversa)):\n\u001b[1;32m      9\u001b[0m     \u001b[39mprint\u001b[39m(i)\n\u001b[1;32m     11\u001b[0m \u001b[39m# Multiplicar Matriz com termo indepedente\u001b[39;00m\n",
      "\u001b[0;31mTypeError\u001b[0m: object of type 'Matriz' has no len()"
     ]
    }
   ],
   "source": [
    "# Analise Nodal\n",
    "\n",
    "# Inverter Matriz simetrica\n",
    "inversa = matriz_nodal.inverter_matriz()\n",
    "matriz_inversa = Matriz(inversa)\n",
    "print(matriz_inversa.matriz)\n",
    "\n",
    "for i in range(len(matriz_inversa)):\n",
    "    print(i)\n",
    "\n",
    "# Multiplicar Matriz com termo indepedente\n",
    "resultado = matriz_inversa.multiplicar_matriz(matriz_termoIndependente)\n",
    "resultado"
   ]
  },
  {
   "cell_type": "markdown",
   "metadata": {},
   "source": [
    "Resposta:\n",
    "va = 12,45v\n",
    "\n",
    "vb = 8,79v\n",
    "\n",
    "vc = 10,53v\n",
    "\n",
    "vd = 2,87v\n",
    "\n",
    "ve = 3,80v\n",
    "\n",
    "vf = 6v\n"
   ]
  },
  {
   "cell_type": "code",
   "execution_count": null,
   "metadata": {},
   "outputs": [],
   "source": []
  }
 ],
 "metadata": {
  "kernelspec": {
   "display_name": "Python 3.10.10 64-bit",
   "language": "python",
   "name": "python3"
  },
  "language_info": {
   "codemirror_mode": {
    "name": "ipython",
    "version": 3
   },
   "file_extension": ".py",
   "mimetype": "text/x-python",
   "name": "python",
   "nbconvert_exporter": "python",
   "pygments_lexer": "ipython3",
   "version": "3.10.10"
  },
  "orig_nbformat": 4,
  "vscode": {
   "interpreter": {
    "hash": "e7370f93d1d0cde622a1f8e1c04877d8463912d04d973331ad4851f04de6915a"
   }
  }
 },
 "nbformat": 4,
 "nbformat_minor": 2
}
