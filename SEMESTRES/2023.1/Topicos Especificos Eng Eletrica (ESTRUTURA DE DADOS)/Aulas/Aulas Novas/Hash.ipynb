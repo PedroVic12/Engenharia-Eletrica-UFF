{
 "cells": [
  {
   "cell_type": "markdown",
   "metadata": {},
   "source": [
    "# Hashmaps\n",
    "\n",
    "- **Fator de Carga:** Razão do número de chaves para o de compartimentos\n",
    "- **Encadeamento:** é um metodo de tratamento de colisões que consiste em armazenar chaves sinonimas numa lista encadeada. Logo, são mantidas *m* listas encadeadas, uma para cada compartimento"
   ]
  },
  {
   "cell_type": "code",
   "execution_count": null,
   "metadata": {},
   "outputs": [],
   "source": []
  }
 ],
 "metadata": {
  "language_info": {
   "name": "python"
  },
  "orig_nbformat": 4
 },
 "nbformat": 4,
 "nbformat_minor": 2
}
