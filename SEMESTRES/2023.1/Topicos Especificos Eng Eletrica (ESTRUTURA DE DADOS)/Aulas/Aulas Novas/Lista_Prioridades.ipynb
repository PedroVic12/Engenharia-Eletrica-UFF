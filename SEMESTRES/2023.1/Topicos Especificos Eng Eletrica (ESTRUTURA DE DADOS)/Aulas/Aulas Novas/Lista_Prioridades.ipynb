{
 "cells": [
  {
   "cell_type": "markdown",
   "metadata": {},
   "source": [
    "# Lista de Prioridades\n",
    "---\n",
    "\n",
    "## Aplicações \n",
    "-"
   ]
  },
  {
   "cell_type": "markdown",
   "metadata": {},
   "source": [
    "### Operações\n",
    "\n",
    "- Seleção do elemento de maior prioridade\n",
    "- Inserção de um elemento\n",
    "- Remoção do elemento de maior prioridade\n",
    "- Alteração de prioridade de um elemento \n",
    "- Construção da lista de prioridades\n",
    "- Manutenção das prioridades"
   ]
  },
  {
   "cell_type": "code",
   "execution_count": null,
   "metadata": {},
   "outputs": [],
   "source": []
  }
 ],
 "metadata": {
  "language_info": {
   "name": "python"
  },
  "orig_nbformat": 4
 },
 "nbformat": 4,
 "nbformat_minor": 2
}
