{
 "cells": [
  {
   "cell_type": "markdown",
   "metadata": {},
   "source": [
    "1) Considere inserir as chaves 10,22,31,4,15,28,17,88,59 na tabela hash de tamanho 11, usando endereçamento aberto e função auxiliar h´(k) = k"
   ]
  },
  {
   "cell_type": "code",
   "execution_count": 2,
   "metadata": {},
   "outputs": [
    {
     "name": "stdout",
     "output_type": "stream",
     "text": [
      "Tabela Hash: [22, 88, -1, -1, 4, 15, 28, 17, 59, 31, 10]\n",
      "Índices: [0, 1, 2, 3, 4, 5, 6, 7, 8, 9, 10]\n"
     ]
    }
   ],
   "source": [
    "def hash_function(key, table_size):\n",
    "    return key % table_size\n",
    "\n",
    "def insert_keys(keys, table_size):\n",
    "    hash_table = [-1] * table_size\n",
    "\n",
    "    for key in keys:\n",
    "        hash_value = hash_function(key, table_size)\n",
    "\n",
    "        # Procurar o próximo compartimento vazio usando endereçamento aberto\n",
    "        while hash_table[hash_value] != -1:\n",
    "            hash_value = (hash_value + 1) % table_size\n",
    "\n",
    "        # Inserir a chave no compartimento vazio\n",
    "        hash_table[hash_value] = key\n",
    "\n",
    "    return hash_table\n",
    "\n",
    "# Chaves a serem inseridas\n",
    "keys = [10, 22, 31, 4, 15, 28, 17, 88, 59]\n",
    "table_size = 11\n",
    "\n",
    "# Inserir as chaves na tabela hash\n",
    "hash_table = insert_keys(keys, table_size)\n",
    "\n",
    "# Imprimir a tabela hash resultante\n",
    "print(\"Tabela Hash:\", hash_table)\n",
    "print(\"Índices:\", list(range(table_size)))\n"
   ]
  },
  {
   "cell_type": "markdown",
   "metadata": {},
   "source": [
    "2) Ilustre o resultado de inserir essas chaves usando tentativa linear e quadrática (adota c1 =1 e c2= 3)"
   ]
  },
  {
   "cell_type": "code",
   "execution_count": 3,
   "metadata": {},
   "outputs": [
    {
     "name": "stdout",
     "output_type": "stream",
     "text": [
      "Tabela Hash usando tentativa linear: [22, 88, -1, -1, 4, 15, 28, 17, 59, 31, 10]\n",
      "Tabela Hash usando tentativa quadrática: [22, -1, 88, 17, 4, -1, 28, 59, 15, 31, 10]\n",
      "Índices: [0, 1, 2, 3, 4, 5, 6, 7, 8, 9, 10]\n"
     ]
    }
   ],
   "source": [
    "def hash_linear(key, table_size, i):\n",
    "    return (key + i) % table_size\n",
    "\n",
    "def hash_quadratic(key, table_size, i):\n",
    "    c1 = 1\n",
    "    c2 = 3\n",
    "    return (key + c1 * i + c2 * i**2) % table_size\n",
    "\n",
    "def insert_keys_linear(keys, table_size):\n",
    "    hash_table = [-1] * table_size\n",
    "\n",
    "    for key in keys:\n",
    "        i = 0\n",
    "        hash_value = hash_linear(key, table_size, i)\n",
    "\n",
    "        while hash_table[hash_value] != -1:\n",
    "            i += 1\n",
    "            hash_value = hash_linear(key, table_size, i)\n",
    "\n",
    "        hash_table[hash_value] = key\n",
    "\n",
    "    return hash_table\n",
    "\n",
    "def insert_keys_quadratic(keys, table_size):\n",
    "    hash_table = [-1] * table_size\n",
    "\n",
    "    for key in keys:\n",
    "        i = 0\n",
    "        hash_value = hash_quadratic(key, table_size, i)\n",
    "\n",
    "        while hash_table[hash_value] != -1:\n",
    "            i += 1\n",
    "            hash_value = hash_quadratic(key, table_size, i)\n",
    "\n",
    "        hash_table[hash_value] = key\n",
    "\n",
    "    return hash_table\n",
    "\n",
    "# Chaves a serem inseridas\n",
    "keys = [10, 22, 31, 4, 15, 28, 17, 88, 59]\n",
    "table_size = 11\n",
    "\n",
    "# Inserir as chaves usando tentativa linear\n",
    "linear_hash_table = insert_keys_linear(keys, table_size)\n",
    "\n",
    "# Inserir as chaves usando tentativa quadrática\n",
    "quadratic_hash_table = insert_keys_quadratic(keys, table_size)\n",
    "\n",
    "# Imprimir as tabelas hash resultantes\n",
    "print(\"Tabela Hash usando tentativa linear:\", linear_hash_table)\n",
    "print(\"Tabela Hash usando tentativa quadrática:\", quadratic_hash_table)\n",
    "print(\"Índices:\", list(range(table_size)))\n"
   ]
  }
 ],
 "metadata": {
  "kernelspec": {
   "display_name": "Python 3.11.3 64-bit",
   "language": "python",
   "name": "python3"
  },
  "language_info": {
   "codemirror_mode": {
    "name": "ipython",
    "version": 3
   },
   "file_extension": ".py",
   "mimetype": "text/x-python",
   "name": "python",
   "nbconvert_exporter": "python",
   "pygments_lexer": "ipython3",
   "version": "3.11.3"
  },
  "orig_nbformat": 4,
  "vscode": {
   "interpreter": {
    "hash": "e7370f93d1d0cde622a1f8e1c04877d8463912d04d973331ad4851f04de6915a"
   }
  }
 },
 "nbformat": 4,
 "nbformat_minor": 2
}
