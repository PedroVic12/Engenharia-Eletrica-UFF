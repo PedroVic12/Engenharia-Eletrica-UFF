{
 "cells": [
  {
   "cell_type": "markdown",
   "metadata": {},
   "source": [
    "## Pilha\n",
    "\n",
    "- Necessita de um ponteiro(topo) apontando o primeiro nó da lista, que corresponde ao campo prox do nó head\n",
    "\n",
    "- Premissa: TAD pilha implantada como uma lista encadeada sem nó cabeça. Ponteiro topo aponto para o primeiro nó da lista"
   ]
  },
  {
   "cell_type": "code",
   "execution_count": null,
   "metadata": {},
   "outputs": [],
   "source": [
    "lista = {\n",
    "    'head':{\n",
    "        'prox' : {\n",
    "            1: 'banana',\n",
    "            'prox': {\n",
    "                2: 'melancia',\n",
    "                'prox': {\n",
    "                    3: 'abacate',\n",
    "                }\n",
    "            }\n",
    "        }\n",
    "    }\n",
    "}\n",
    "\n",
    "lista['head']['prox']"
   ]
  },
  {
   "cell_type": "code",
   "execution_count": null,
   "metadata": {},
   "outputs": [],
   "source": [
    "def pushPilha(s,item):\n",
    "\n",
    "    ptr = 0\n",
    "\n",
    "    #cria um novo nó\n",
    "    if ocupar(ptr):\n",
    "\n",
    "        #Inicializa nó criado\n",
    "        ptr.keys = item.keys\n",
    "        ptr.values = item.values\n",
    "\n",
    "        # Ajuste da lista\n",
    "        ptr.prox = topo\n",
    "        topo = ptr\n",
    "    else:\n",
    "        print(\"Pilha cheia\")\n",
    "\n",
    "def ocupar(p):\n",
    "    if p == 0:\n",
    "        return True\n",
    "    else:\n",
    "        return False\n",
    "    "
   ]
  },
  {
   "cell_type": "code",
   "execution_count": 2,
   "metadata": {},
   "outputs": [
    {
     "name": "stdout",
     "output_type": "stream",
     "text": [
      "3\n",
      "2\n",
      "1\n",
      "A pilha está vazia.\n",
      "None\n"
     ]
    }
   ],
   "source": [
    "class No:\n",
    "    def __init__(self, dado):\n",
    "        self.dado = dado\n",
    "        self.proximo = None\n",
    "\n",
    "class Pilha:\n",
    "    def __init__(self):\n",
    "        self.topo = None\n",
    "\n",
    "    def push(self, dado):\n",
    "        novo_no = No(dado)\n",
    "        if self.topo is None:\n",
    "            self.topo = novo_no\n",
    "        else:\n",
    "            novo_no.proximo = self.topo\n",
    "            self.topo = novo_no\n",
    "\n",
    "    def pop(self):\n",
    "        if self.topo is None:\n",
    "            print(\"A pilha está vazia.\")\n",
    "            return None\n",
    "        else:\n",
    "            no_removido = self.topo\n",
    "            self.topo = self.topo.proximo\n",
    "            no_removido.proximo = None\n",
    "            return no_removido.dado\n",
    "            \n",
    "\n",
    "\n",
    "pilha = Pilha()\n",
    "\n",
    "pilha.push(1)\n",
    "pilha.push(2)\n",
    "pilha.push(3)\n",
    "\n",
    "print(pilha.pop()) \n",
    "print(pilha.pop())  \n",
    "print(pilha.pop())  \n",
    "print(pilha.pop())  \n"
   ]
  },
  {
   "cell_type": "markdown",
   "metadata": {},
   "source": [
    "## Filas - Alocação Encadeada\n",
    "\n",
    "- Requer dois ponteiros\n",
    "- Premissa: TAD implantada como uma lista encadeada sem nó cabeça"
   ]
  },
  {
   "cell_type": "code",
   "execution_count": 9,
   "metadata": {},
   "outputs": [],
   "source": [
    "class No:\n",
    "    def __init__(self, dado):\n",
    "        self.dado = dado\n",
    "        self.proximo = None\n",
    "\n",
    "class Fila:\n",
    "    def __init__(self):\n",
    "        self.inicio = None\n",
    "        self.fim = None\n",
    "\n",
    "    def enfileirar(self, dado):\n",
    "        novo_no = No(dado)\n",
    "        if self.fim is None:\n",
    "            self.inicio = novo_no\n",
    "            self.fim = novo_no\n",
    "        else:\n",
    "            self.fim.proximo = novo_no\n",
    "            self.fim = novo_no\n",
    "\n",
    "    def desenfileirar(self):\n",
    "        if self.inicio is None:\n",
    "            print(\"A fila está vazia.\")\n",
    "            return None\n",
    "        else:\n",
    "            ponteiro = self.inicio\n",
    "            self.inicio = self.inicio.proximo\n",
    "            if self.inicio is None:\n",
    "                self.fim = None\n",
    "            ponteiro.proximo = None\n",
    "            return ponteiro.dado\n",
    "    \n",
    "    def exibir(self):\n",
    "        if self.inicio is None:\n",
    "            print(\"A lista está vazia.\")\n",
    "        else:\n",
    "            atual = self.inicio\n",
    "            while atual is not None:\n",
    "                print(atual.dado, end=\" \")\n",
    "                atual = atual.proximo\n",
    "            print()\n",
    "\n",
    "\n"
   ]
  },
  {
   "cell_type": "code",
   "execution_count": 10,
   "metadata": {},
   "outputs": [
    {
     "name": "stdout",
     "output_type": "stream",
     "text": [
      "1 2 3 \n"
     ]
    }
   ],
   "source": [
    "lista = Fila()\n",
    "\n",
    "lista.enfileirar(1)\n",
    "lista.enfileirar(2)\n",
    "lista.enfileirar(3)\n",
    "\n",
    "lista.exibir()\n"
   ]
  },
  {
   "cell_type": "markdown",
   "metadata": {},
   "source": [
    "## Lista Duplamente Encadeada\n",
    "\n",
    "- Percurso bidirecional em uma lista\n",
    "- 2 Ponteiros: Um par o proximo nó(ant) e outro pro anterior(prox\n",
    "- É uma lista circular para os dois sentidos\n",
    "\n",
    "- Busca, inserção e Remoção"
   ]
  },
  {
   "cell_type": "code",
   "execution_count": null,
   "metadata": {},
   "outputs": [],
   "source": []
  },
  {
   "cell_type": "markdown",
   "metadata": {},
   "source": [
    "# Exercícios\n",
    "\n",
    "1) Descreva um algorítimo de inserção numa lista circular encadeada\n",
    "2) Descreva um algorítimo que imprima os elementos de uma lista duplamente encadeada com n elementos da seguinte forma:\n",
    "- Imprimir o primeiro elemento\n",
    "- Imprimir o n-ésimo elemento\n",
    "- Imprimir o segundo elemento\n",
    "- Imprimir o (n-1)-ésimo elemento"
   ]
  },
  {
   "cell_type": "markdown",
   "metadata": {},
   "source": [
    "## Atividade\n",
    "Implementação de algorítimos em: \n",
    "- Listas encadeadas \n",
    "- Pilhas e FIlas em alocação encadeada\n",
    "- Listas Circulares e duplamente encadeadas\n",
    "- Implementações genéricas (Poo)\n",
    "\n",
    "melhor algorítimo possível ou limpo, tem que criar uma classe pilha e filas em Python, no c++ já tem\n",
    "\n",
    "Dica: Algorítimos de busca, remoção e inserção, bibliotecas c++ STL, vector,stack"
   ]
  },
  {
   "cell_type": "markdown",
   "metadata": {},
   "source": [
    "Pesquisar as bibliotecas STL do c++"
   ]
  },
  {
   "cell_type": "markdown",
   "metadata": {},
   "source": []
  }
 ],
 "metadata": {
  "kernelspec": {
   "display_name": "Python 3.10.10 64-bit",
   "language": "python",
   "name": "python3"
  },
  "language_info": {
   "codemirror_mode": {
    "name": "ipython",
    "version": 3
   },
   "file_extension": ".py",
   "mimetype": "text/x-python",
   "name": "python",
   "nbconvert_exporter": "python",
   "pygments_lexer": "ipython3",
   "version": "3.11.3"
  },
  "orig_nbformat": 4,
  "vscode": {
   "interpreter": {
    "hash": "e7370f93d1d0cde622a1f8e1c04877d8463912d04d973331ad4851f04de6915a"
   }
  }
 },
 "nbformat": 4,
 "nbformat_minor": 2
}
