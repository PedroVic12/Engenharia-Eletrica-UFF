{
 "cells": [
  {
   "cell_type": "markdown",
   "metadata": {},
   "source": [
    "# Listas Encadeadas\n",
    "\n",
    "- Busca, Inserção e Remoção"
   ]
  },
  {
   "cell_type": "code",
   "execution_count": 67,
   "metadata": {},
   "outputs": [
    {
     "data": {
      "text/plain": [
       "{1: 'banana', 'prox': {2: 'melancia', 'prox': {3: 'abacate'}}}"
      ]
     },
     "execution_count": 67,
     "metadata": {},
     "output_type": "execute_result"
    }
   ],
   "source": [
    "lista = {\n",
    "    'head':{\n",
    "        'prox' : {\n",
    "            1: 'banana',\n",
    "            'prox': {\n",
    "                2: 'melancia',\n",
    "                'prox': {\n",
    "                    3: 'abacate',\n",
    "                }\n",
    "            }\n",
    "        }\n",
    "    }\n",
    "}\n",
    "\n",
    "lista['head']['prox']"
   ]
  },
  {
   "cell_type": "markdown",
   "metadata": {},
   "source": [
    "## Percurso em lista simplesmente Encadeada\n",
    "\n",
    "- Consiste em seguir consecutivamente todos os nós da lista\n",
    "- Na lista sequencial, basta iterar o índice das lista, acrescentando uma unidade a cada iteração"
   ]
  },
  {
   "cell_type": "code",
   "execution_count": 68,
   "metadata": {},
   "outputs": [
    {
     "name": "stdout",
     "output_type": "stream",
     "text": [
      "{1: 'banana', 'prox': {2: 'melancia', 'prox': {3: 'abacate'}}}\n",
      "{2: 'melancia', 'prox': {3: 'abacate'}}\n",
      "{3: 'abacate'}\n"
     ]
    }
   ],
   "source": [
    "def percursoPonteiro(l):\n",
    "    ponteiro = l['head']['prox']\n",
    "    while ponteiro is not None:\n",
    "        print(ponteiro, end = '\\n')\n",
    "        ponteiro = ponteiro.get('prox')\n",
    "\n",
    "percursoPonteiro(lista)\n"
   ]
  },
  {
   "cell_type": "markdown",
   "metadata": {},
   "source": [
    "## Busca em Lista Simplesmente Encadeada\n",
    "\n",
    "- Anterior é um ponteiro para o elemento anterior ao buscado\n",
    "- Se a chave não esta na lista, Pont aponta para lambda e anterior para tail"
   ]
  },
  {
   "cell_type": "code",
   "execution_count": 69,
   "metadata": {},
   "outputs": [
    {
     "data": {
      "text/plain": [
       "({2: 'melancia', 'prox': {3: 'abacate'}},\n",
       " {1: 'banana', 'prox': {2: 'melancia', 'prox': {3: 'abacate'}}})"
      ]
     },
     "execution_count": 69,
     "metadata": {},
     "output_type": "execute_result"
    }
   ],
   "source": [
    "def buscaEncadeada(l, x):\n",
    "    anterior = l['head']\n",
    "    ponteiro = l['head']['prox']\n",
    "    while ponteiro is not None:\n",
    "        if list(ponteiro.keys())[0] == x:\n",
    "            return ponteiro, anterior\n",
    "        else:\n",
    "            anterior = ponteiro\n",
    "            ponteiro = ponteiro.get('prox')\n",
    "            return ponteiro, anterior\n",
    "\n",
    "resposta = buscaEncadeada(lista, 'banana')\n",
    "resposta\n"
   ]
  },
  {
   "cell_type": "markdown",
   "metadata": {},
   "source": [
    "## Inserção"
   ]
  },
  {
   "cell_type": "code",
   "execution_count": 70,
   "metadata": {},
   "outputs": [],
   "source": [
    "def inserirNaLista(l,x):\n",
    "    anterior = buscaEncadeada(l,x)\n",
    "    Pont = buscaEncadeada(l,x)\n",
    "\n",
    "    if Pont == None:\n",
    "        ponteiro['head']"
   ]
  },
  {
   "cell_type": "markdown",
   "metadata": {},
   "source": [
    "## Remoção em Listas Encadeadas"
   ]
  },
  {
   "cell_type": "markdown",
   "metadata": {},
   "source": []
  },
  {
   "cell_type": "markdown",
   "metadata": {},
   "source": [
    "## Exercícios\n",
    "\n",
    "1) Sejam duas listas, não ordenadas, simplesmente encadeadas com nó cabeça. Apresentar um algorítimo que intercale as duas listas intercalando os elementos de uma e outra enquanto possível, e incluindo no final os elementos que restaram da lista mais longa\n"
   ]
  },
  {
   "cell_type": "code",
   "execution_count": 71,
   "metadata": {},
   "outputs": [
    {
     "data": {
      "text/plain": [
       "['x', 'a', 'y', 'b', 'z', 'c']"
      ]
     },
     "execution_count": 71,
     "metadata": {},
     "output_type": "execute_result"
    }
   ],
   "source": [
    "#uniforme real distribution\n",
    "\n",
    "lista1 = ['x','y','z']\n",
    "lista2 = ['a','b','c','d','e']\n",
    "\n",
    "def intercalar(l1,l2):\n",
    "    l3 = []\n",
    "    for i in range(len(l1)):\n",
    "        l3.append(l1[i])\n",
    "        l3.append(l2[i])\n",
    "    return l3\n",
    "\n",
    "resposta = intercalar(lista1,lista2)\n",
    "resposta\n",
    "\n",
    "\n"
   ]
  },
  {
   "cell_type": "code",
   "execution_count": 72,
   "metadata": {},
   "outputs": [],
   "source": [
    "listaEncadeada1 = {\n",
    "    'head':{\n",
    "        'prox' : {\n",
    "            1: 'x',\n",
    "            'prox': {\n",
    "                2: 'y',\n",
    "                'prox': {\n",
    "                    3: 'z',\n",
    "                }\n",
    "            }\n",
    "        }\n",
    "    }\n",
    "}\n",
    "\n",
    "listaEncadeada2 = {\n",
    "    'head':{\n",
    "        'prox' : {\n",
    "            1: 'a',\n",
    "            'prox': {\n",
    "                2: 'c',\n",
    "                'prox': {\n",
    "                    3: 'd',\n",
    "                    'prox': {\n",
    "                    4: 'b',\n",
    "                    'prox': {\n",
    "                        5: 'e',\n",
    "\n",
    "                        }\n",
    "                    }\n",
    "                   \n",
    "                }\n",
    "            }\n",
    "        }\n",
    "    }\n",
    "}\n",
    "\n"
   ]
  },
  {
   "cell_type": "code",
   "execution_count": 74,
   "metadata": {},
   "outputs": [
    {
     "data": {
      "text/plain": [
       "{1: 'x',\n",
       " 'prox': {1: 'a',\n",
       "  'prox': {3: 'd',\n",
       "   'prox': {2: 'c',\n",
       "    'prox': {4: 'b',\n",
       "     'prox': {2: 'y', 'prox': {5: 'e', 'prox': {3: 'z', 'prox': {...}}}}}}}}}"
      ]
     },
     "execution_count": 74,
     "metadata": {},
     "output_type": "execute_result"
    }
   ],
   "source": [
    "def intercalarPonteiro(l1, l2):\n",
    "    l3 = {'head': {'prox': None}}\n",
    "    ponteiro1 = l1['head']['prox']\n",
    "    ponteiro2 = l2['head']['prox']\n",
    "    ponteiro3 = l3['head']\n",
    "\n",
    "    while ponteiro1 is not None and ponteiro2 is not None:\n",
    "        ponteiro3['prox'] = ponteiro1\n",
    "        ponteiro1 = ponteiro1.get('prox')\n",
    "\n",
    "        ponteiro3 = ponteiro3['prox']\n",
    "        ponteiro3['prox'] = ponteiro2\n",
    "        ponteiro2 = ponteiro2.get('prox')\n",
    "\n",
    "        ponteiro3 = ponteiro3['prox']\n",
    "\n",
    "    if ponteiro1 is not None:\n",
    "        ponteiro3['prox'] = ponteiro1\n",
    "    if ponteiro2 is not None:\n",
    "        ponteiro3['prox'] = ponteiro2\n",
    "\n",
    "    return l3\n",
    "\n",
    "resposta = intercalarPonteiro(listaEncadeada1, listaEncadeada2)\n",
    "\n",
    "resposta['head']['prox']"
   ]
  },
  {
   "cell_type": "markdown",
   "metadata": {},
   "source": [
    "2) Sejam duas listas, ordenadas, simplesmente encadeadas com nó cabeça.Apresente um algoritimo que intercale as duas listas de modo que a lista resultante também esteja ordenada"
   ]
  },
  {
   "cell_type": "code",
   "execution_count": null,
   "metadata": {},
   "outputs": [
    {
     "ename": "SyntaxError",
     "evalue": "incomplete input (3318891349.py, line 7)",
     "output_type": "error",
     "traceback": [
      "\u001b[0;36m  Cell \u001b[0;32mIn[46], line 7\u001b[0;36m\u001b[0m\n\u001b[0;31m    \u001b[0m\n\u001b[0m    ^\u001b[0m\n\u001b[0;31mSyntaxError\u001b[0m\u001b[0;31m:\u001b[0m incomplete input\n"
     ]
    }
   ],
   "source": [
    "lista1 = ['x','y','z']\n",
    "lista2 = ['a','b','c','d','e']\n",
    "\n",
    "def intercalarOrdenada(l1,l2):\n",
    "\n",
    "\n",
    "    \n"
   ]
  },
  {
   "cell_type": "markdown",
   "metadata": {},
   "source": []
  }
 ],
 "metadata": {
  "kernelspec": {
   "display_name": "Python 3.10.10 64-bit",
   "language": "python",
   "name": "python3"
  },
  "language_info": {
   "codemirror_mode": {
    "name": "ipython",
    "version": 3
   },
   "file_extension": ".py",
   "mimetype": "text/x-python",
   "name": "python",
   "nbconvert_exporter": "python",
   "pygments_lexer": "ipython3",
   "version": "3.10.10"
  },
  "orig_nbformat": 4,
  "vscode": {
   "interpreter": {
    "hash": "e7370f93d1d0cde622a1f8e1c04877d8463912d04d973331ad4851f04de6915a"
   }
  }
 },
 "nbformat": 4,
 "nbformat_minor": 2
}
