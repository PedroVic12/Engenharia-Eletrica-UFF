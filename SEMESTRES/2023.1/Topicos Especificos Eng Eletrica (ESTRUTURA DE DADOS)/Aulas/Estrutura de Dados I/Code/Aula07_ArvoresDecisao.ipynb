{
 "cells": [
  {
   "cell_type": "markdown",
   "metadata": {},
   "source": [
    "## Árvores de Decisão:\n",
    "---\n",
    "\n",
    "### Vantagens:\n",
    "\n",
    "- Fácil compreensão: As árvores de decisão são estruturas de dados intuitivas e de fácil visualização, permitindo uma interpretação clara das regras de decisão.\n",
    "\n",
    "- Capacidade de lidar com dados de entrada complexos: Podem tratar tanto variáveis numéricas quanto categóricas e acomodar múltiplas saídas.\n",
    "Utilização de critérios de seleção: As árvores de decisão podem utilizar diferentes critérios, como o ganho de informação ou índice de Gini, para selecionar a melhor característica para dividir os dados.\n",
    "\n",
    "### Características:\n",
    "\n",
    "- Estrutura hierárquica: As árvores de decisão são compostas por um conjunto de nós interligados, onde cada nó representa uma decisão ou uma característica dos dados de entrada.\n",
    "\n",
    "- Divisão recursiva: A árvore é construída por meio de divisões recursivas dos dados, com base nas características selecionadas.\n",
    "Folhas representam resultados: As folhas da árvore representam as saídas ou resultados da decisão tomada.\n",
    "Aplicações:\n",
    "\n",
    "- Classificação: As árvores de decisão podem ser usadas para classificar dados em diferentes categorias com base em características específicas.\n",
    "Tomada de decisões: Podem ser utilizadas para tomar decisões em situações complexas, seguindo uma lógica de ramificações e condições.\n",
    "\n",
    "- Chatbots de atendimento: Em chatbots de atendimento, as árvores de decisão podem ser usadas para criar uma estrutura de perguntas e respostas, permitindo que o chatbot determine a resposta adequada com base nas respostas do usuário.\n"
   ]
  },
  {
   "cell_type": "markdown",
   "metadata": {},
   "source": [
    "## Abordagem Matemática\n",
    "\n",
    "- Listas são TADs simples, nem sempre uteis a aplicações mais complexas\n",
    "- As árvores são TADs de maior complexidade, porém com tratamento computacional mais simples e eficiente\n",
    "- TADs do tipo árvore aparecem em problemas computacionais como:\n",
    "    - Busca em espaço de estados (IA)\n",
    "    - Estrutura de diretórios em computadores\n",
    "    - Arvores de decisão (Machine Learning)\n",
    "    - Representação de redes elétricas de distribuição (Sistemas de energia Elétrica)\n",
    "    - Programação Dinâmica/ Branch and Bound (Paradigma de Desenho de algorítimos) -> Despacho econômico na engenharia eletrica"
   ]
  },
  {
   "cell_type": "markdown",
   "metadata": {},
   "source": [
    "**Definição**: Uma arvore enraizada T ou simplesmente árvore, é um conjunto finito de elementos denominados nós ou vertices tais que:\n",
    "- Existe um nó especial r, chamado de raiz de T\n",
    "- Os nos restantes constituem em subárvores "
   ]
  },
  {
   "cell_type": "markdown",
   "metadata": {},
   "source": [
    "### Arvore geradora mínima para Circuitos Elétricos de Corrente continua\n",
    "- É possivel determinar a quantidade minima de equações para resolver por análise nodal e analise de malhas\n",
    "- Conectar os Nós do circuito como se fosse uma arvore\n",
    "- Encontrar a quantidade de malhas pelo desenho (Grafos)"
   ]
  },
  {
   "cell_type": "markdown",
   "metadata": {},
   "source": [
    "### Exemplo\n",
    "\n",
    "transforme a expressao a+ b*(c/d -e) numa representação de parenteses aninhados e na representação hierarquica\n",
    "\n",
    "(a + (b * (c / d) - e))\n",
    "\n",
    "\n",
    "       +\n",
    "      / \\\n",
    "     a   *\n",
    "        / \\\n",
    "       b   -\n",
    "          / \\\n",
    "         /   e\n",
    "        /\n",
    "       /\n",
    "      c\n",
    "     /\n",
    "    d\n"
   ]
  },
  {
   "cell_type": "markdown",
   "metadata": {},
   "source": [
    "## Árvores Binárias:\n",
    "---\n",
    "\n",
    "### Vantagens:\n",
    "\n",
    "- Eficiência de busca: As árvores binárias são adequadas para pesquisas rápidas, pois permitem a busca eficiente de elementos em ordem logarítmica.\n",
    "\n",
    "- Armazenamento ordenado: Os elementos são armazenados de forma ordenada em uma árvore binária, facilitando a realização de operações como busca, inserção e exclusão.\n",
    "\n",
    "- Estrutura simples: A estrutura das árvores binárias é relativamente simples e fácil de implementar.\n",
    "Características:\n",
    "\n",
    "- Estrutura hierárquica: As árvores binárias consistem em nós interligados, onde cada nó pode ter no máximo dois filhos.\n",
    "\n",
    "- Nó raiz: Existe um nó especial chamado raiz que é o ponto de partida da árvore.\n",
    "\n",
    "- Subárvores: Cada nó pode ter no máximo duas subárvores, chamadas de subárvore esquerda e subárvore direita.\n",
    "Aplicações:\n",
    "\n",
    "- Pesquisa eficiente: As árvores binárias são comumente usadas para realizar pesquisas eficientes de elementos, graças à sua estrutura ordenada.\n",
    "- Implementação de algoritmos: Podem ser usadas como base para a implementação de algoritmos, como ordenação rápida (quicksort) ou árvores AVL.\n",
    "- Organização de dados: Podem ser usadas para organizar dados de forma hierárquica, permitindo uma manipulação e recuperação eficiente."
   ]
  },
  {
   "cell_type": "code",
   "execution_count": null,
   "metadata": {},
   "outputs": [],
   "source": []
  },
  {
   "cell_type": "markdown",
   "metadata": {},
   "source": [
    "## Abordagem Matemática\n",
    "\n",
    "Definição: Uma arvore binaria T, é um conjunto finito de elementos denominados nós ou vertices tais que:\n",
    "\n",
    "Os nos restantes constituem um unico conjunto vazio ou sao divididos em 2 subconjuntos disjuntos nao vazio.\n",
    "\n",
    "Toda arvore binaria com no n nós tem n+1 sub arvores vazias entre suas sub arvores esquerda e direita\n",
    "\n",
    "**Em resumo: Cada nó deve possuir um filho, se tiver um filho sozinho nao é considerada binária**"
   ]
  },
  {
   "cell_type": "markdown",
   "metadata": {},
   "source": [
    "## Percurso em Arvore Binárias\n",
    "\n",
    "- Utilizar uma pilha para armazenar os nós a serem visitados\n",
    "- O percurso visita todos os nós da Árvore. Percurso acaba quando a lista estiver vazia\n",
    "- Os percursos de árvore estudados podem ser decompostos em percursos contínguos de suas sub árvores, sendo por isso recursíveis\n",
    "\n",
    "- No **percurso em nível**, os nós são visitados em ordem crescente de seus níveis\n",
    "\n",
    "    - Este percurso é unico quando se estabelece em ordem de visita dos nós em um mesmo nível, por exemplo, da esquerda para direita\n",
    "\n",
    "    - O percuso em nível pode ser implementado armazenando-se os nós a serem visitados em uma FILA"
   ]
  },
  {
   "cell_type": "code",
   "execution_count": 2,
   "metadata": {},
   "outputs": [
    {
     "name": "stdout",
     "output_type": "stream",
     "text": [
      "Breadth-First Search:\n",
      "<__main__.Graph object at 0x7f24e8142b50>\n",
      "A\n",
      "B\n",
      "C\n",
      "D\n",
      "E\n"
     ]
    }
   ],
   "source": [
    "from collections import deque\n",
    "\n",
    "class Graph:\n",
    "    def __init__(self):\n",
    "        self.adjacency_list = {}\n",
    "\n",
    "    def add_vertex(self, vertex):\n",
    "        self.adjacency_list[vertex] = []\n",
    "\n",
    "    def add_edge(self, vertex1, vertex2):\n",
    "        self.adjacency_list[vertex1].append(vertex2)\n",
    "        self.adjacency_list[vertex2].append(vertex1)\n",
    "\n",
    "    def bfs(self, start_vertex):\n",
    "        visited = set()\n",
    "        queue = deque()\n",
    "\n",
    "        visited.add(start_vertex)\n",
    "        queue.append(start_vertex)\n",
    "\n",
    "        while queue:\n",
    "            current_vertex = queue.popleft()\n",
    "            print(current_vertex)\n",
    "\n",
    "            for neighbor in self.adjacency_list[current_vertex]:\n",
    "                if neighbor not in visited:\n",
    "                    visited.add(neighbor)\n",
    "                    queue.append(neighbor)\n",
    "\n",
    "# Exemplo de uso\n",
    "graph = Graph()\n",
    "\n",
    "\n",
    "# Adicionando vértices\n",
    "graph.add_vertex('A')\n",
    "graph.add_vertex('B')\n",
    "graph.add_vertex('C')\n",
    "graph.add_vertex('D')\n",
    "graph.add_vertex('E')\n",
    "\n",
    "# Adicionando arestas\n",
    "graph.add_edge('A', 'B')\n",
    "graph.add_edge('A', 'C')\n",
    "graph.add_edge('B', 'D')\n",
    "graph.add_edge('C', 'E')\n",
    "\n",
    "# Realizando a busca em largura\n",
    "print('Breadth-First Search:')\n",
    "print(graph)\n",
    "graph.bfs('A')\n"
   ]
  },
  {
   "cell_type": "code",
   "execution_count": 19,
   "metadata": {},
   "outputs": [
    {
     "data": {
      "image/png": "[encoded data removed]",
      "text/plain": [
       "<Figure size 640x480 with 1 Axes>"
      ]
     },
     "metadata": {},
     "output_type": "display_data"
    }
   ],
   "source": [
    "import networkx as nx\n",
    "import matplotlib.pyplot as plt\n",
    "import pygraphviz\n",
    "\n",
    " # Cria um grafo direcionado (árvore de decisão)\n",
    "G = nx.DiGraph() \n",
    "\n",
    "G.add_node('A')  \n",
    "G.add_node('B') \n",
    "G.add_node('C') \n",
    "G.add_node('D')  \n",
    "\n",
    "G.add_edge('A', 'B', decision='Feature 1') \n",
    "G.add_edge('A', 'RV', decision='Feature 2')  \n",
    "G.add_edge('B', 'C', decision='Feature 3') \n",
    "G.add_edge('B', 'PV', decision='Ola mundo')  \n",
    "G.add_edge('C', 'D', decision='Feature 4')  \n",
    "\n",
    "pos = nx.drawing.nx_agraph.graphviz_layout(G, prog='dot')  \n",
    "\n",
    "nx.draw(G, pos, with_labels=True, node_color='lightblue', edge_color='gray', font_weight='bold')\n",
    "edge_labels = nx.get_edge_attributes(G, 'decision')\n",
    "nx.draw_networkx_edge_labels(G, pos, edge_labels=edge_labels)\n",
    "\n",
    "plt.show()  # Exibe o gráfico da árvore de decisão"
   ]
  },
  {
   "cell_type": "code",
   "execution_count": 4,
   "metadata": {},
   "outputs": [
    {
     "name": "stdout",
     "output_type": "stream",
     "text": [
      "1 2 3 4 5 6 7 "
     ]
    }
   ],
   "source": [
    "class TreeNode:\n",
    "    def __init__(self, data):\n",
    "        self.data = data\n",
    "        self.left = None\n",
    "        self.right = None\n",
    "\n",
    "class BinaryTree:\n",
    "    def __init__(self):\n",
    "        self.root = None\n",
    "\n",
    "    def add_node(self, data):\n",
    "        node = TreeNode(data)\n",
    "        if self.root is None:\n",
    "            self.root = node\n",
    "        else:\n",
    "            self._add_node(self.root, node)\n",
    "\n",
    "    def _add_node(self, current_node, new_node):\n",
    "        if new_node.data < current_node.data:\n",
    "            if current_node.left is None:\n",
    "                current_node.left = new_node\n",
    "            else:\n",
    "                self._add_node(current_node.left, new_node)\n",
    "        else:\n",
    "            if current_node.right is None:\n",
    "                current_node.right = new_node\n",
    "            else:\n",
    "                self._add_node(current_node.right, new_node)\n",
    "\n",
    "    def inorder_traversal(self, node):\n",
    "        if node is not None:\n",
    "            self.inorder_traversal(node.left)\n",
    "            print(node.data, end=\" \")\n",
    "            self.inorder_traversal(node.right)\n",
    "\n",
    "# Criando a árvore binária\n",
    "tree = BinaryTree()\n",
    "tree.add_node(4)\n",
    "tree.add_node(2)\n",
    "tree.add_node(6)\n",
    "tree.add_node(1)\n",
    "tree.add_node(3)\n",
    "tree.add_node(5)\n",
    "tree.add_node(7)\n",
    "\n",
    "# Percorrendo a árvore em ordem (inorder traversal)\n",
    "tree.inorder_traversal(tree.root)\n"
   ]
  },
  {
   "cell_type": "code",
   "execution_count": null,
   "metadata": {},
   "outputs": [],
   "source": []
  }
 ],
 "metadata": {
  "kernelspec": {
   "display_name": "Python 3.10.10 64-bit",
   "language": "python",
   "name": "python3"
  },
  "language_info": {
   "codemirror_mode": {
    "name": "ipython",
    "version": 3
   },
   "file_extension": ".py",
   "mimetype": "text/x-python",
   "name": "python",
   "nbconvert_exporter": "python",
   "pygments_lexer": "ipython3",
   "version": "3.11.3"
  },
  "orig_nbformat": 4,
  "vscode": {
   "interpreter": {
    "hash": "e7370f93d1d0cde622a1f8e1c04877d8463912d04d973331ad4851f04de6915a"
   }
  }
 },
 "nbformat": 4,
 "nbformat_minor": 2
}
