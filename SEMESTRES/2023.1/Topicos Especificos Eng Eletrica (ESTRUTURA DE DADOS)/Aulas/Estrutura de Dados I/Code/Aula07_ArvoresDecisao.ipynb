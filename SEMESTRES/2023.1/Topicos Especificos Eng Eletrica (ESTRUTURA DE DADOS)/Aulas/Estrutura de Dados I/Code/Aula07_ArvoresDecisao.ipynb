{
 "cells": [
  {
   "cell_type": "markdown",
   "metadata": {},
   "source": [
    "# Árvores de decisão\n",
    "---\n",
    "\n",
    "- Listas são TADs simples, nem sempre uteis a aplicações mais complexas\n",
    "- As árvores são TADs de maior complexidade, porém com tratamento computacional mais simples e eficiente\n",
    "- TADs do tipo árvore aparecem em problemas computacionais como:\n",
    "    - Busca em espaço de estados (IA)\n",
    "    - Estrutura de diretórios em computadores\n",
    "    - Arvores de decisão (Machine Learning)\n",
    "    - Representação de redes elétricas de distribuição (Sistemas de energia Elétrica)\n",
    "    - Programação Dinâmica/ Branch and Bound (Paradigma de Desenho de algorítimos) -> Despacho econômico na engenharia eletrica"
   ]
  },
  {
   "cell_type": "markdown",
   "metadata": {},
   "source": [
    "**Definição**: Uma arvore enraizada T ou simplesmente árvore, é um conjunto finito de elementos denominados nós ou vertices tais que:\n",
    "- Existe um nó especial r, chamado de raiz de T\n",
    "- Os nos restantes constituem em subárvores "
   ]
  },
  {
   "cell_type": "markdown",
   "metadata": {},
   "source": [
    "### Arvore geradora mínima para Circuitos Elétricos de Corrente continua\n",
    "- É possivel determinar a quantidade minima de equações para resolver por análise nodal e analise de malhas\n",
    "- Conectar os Nós do circuito como se fosse uma arvore\n",
    "- Encontrar a quantidade de malhas pelo desenho (Grafos)"
   ]
  },
  {
   "cell_type": "markdown",
   "metadata": {},
   "source": [
    "### Exemplo\n",
    "\n",
    "transforme a expressao a+ b*(c/d -e) numa representação de parenteses aninhados e na representação hierarquica\n",
    "\n",
    "(a + (b * (c / d) - e))\n",
    "\n",
    "\n",
    "       +\n",
    "      / \\\n",
    "     a   *\n",
    "        / \\\n",
    "       b   -\n",
    "          / \\\n",
    "         /   e\n",
    "        /\n",
    "       /\n",
    "      c\n",
    "     /\n",
    "    d\n"
   ]
  },
  {
   "cell_type": "code",
   "execution_count": null,
   "metadata": {},
   "outputs": [],
   "source": []
  },
  {
   "cell_type": "code",
   "execution_count": null,
   "metadata": {},
   "outputs": [],
   "source": []
  }
 ],
 "metadata": {
  "kernelspec": {
   "display_name": "Python 3.10.10 64-bit",
   "language": "python",
   "name": "python3"
  },
  "language_info": {
   "name": "python",
   "version": "3.10.10"
  },
  "orig_nbformat": 4,
  "vscode": {
   "interpreter": {
    "hash": "e7370f93d1d0cde622a1f8e1c04877d8463912d04d973331ad4851f04de6915a"
   }
  }
 },
 "nbformat": 4,
 "nbformat_minor": 2
}
