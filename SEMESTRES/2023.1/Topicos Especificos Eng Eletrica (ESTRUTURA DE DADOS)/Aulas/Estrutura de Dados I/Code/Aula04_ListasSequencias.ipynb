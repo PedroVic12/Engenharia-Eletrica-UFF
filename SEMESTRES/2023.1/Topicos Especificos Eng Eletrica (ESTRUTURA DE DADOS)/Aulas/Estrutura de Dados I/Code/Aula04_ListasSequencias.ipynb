{
 "cells": [
  {
   "cell_type": "markdown",
   "metadata": {},
   "source": [
    "# Listas Lineares\n",
    "\n",
    "Operações básicas: Busca, inserção e remoção de um determinado elemento."
   ]
  },
  {
   "cell_type": "markdown",
   "metadata": {},
   "source": [
    "### Tipos:\n",
    "- Pilhas: Inserções e remoções apenas em um extremo da lista\n",
    "- Filas: Inserção num extremo e remoção no outo\n",
    "- Deques: Inserções e remoções em ambos os extremos\n",
    "\n",
    "Cada no da lista é formado por campos, que armazenam caracteristicas distintas dos elementos da lista. Um dos campos é o identificador, denominado como *chave*\n",
    "\n",
    "**Alocação Sequencial:** \n",
    "\n",
    "- Os nós consecutivos são armazenados em posições contíguas de memoria ( permite indexação relativa)\n",
    "\n",
    "- É´ geralmente realizada com reserva prévia de memoria(alocação estativa). Logo a inserção e remoção é simulada\n",
    "\n",
    "**Alocação Encadeada:** Os nós consecutivos são armazenados em posições não necessariamente contíguas de memoria"
   ]
  },
  {
   "cell_type": "code",
   "execution_count": 15,
   "metadata": {},
   "outputs": [
    {
     "data": {
      "text/plain": [
       "'Valor 2 encontrado na posicao = 3'"
      ]
     },
     "execution_count": 15,
     "metadata": {},
     "output_type": "execute_result"
    }
   ],
   "source": [
    "lista = [3,7,1,2,5]\n",
    "\n",
    "def buscaLista(L,x):\n",
    "    n = len(L)\n",
    "    i = 1\n",
    "    busca1 = 0\n",
    "    while i <= n:\n",
    "        if L[i]  == x:\n",
    "            busca1 = i\n",
    "            i = n + 1\n",
    "        else:\n",
    "            i = i + 1\n",
    "    return f'Valor {x} encontrado na posicao = {str(busca1)}' \n",
    "buscaLista(lista,2)"
   ]
  },
  {
   "cell_type": "markdown",
   "metadata": {},
   "source": [
    "## Busca Binária\n",
    "\n",
    "- Algorítimo de busca mais eficiente para listas ordenadas\n",
    "\n",
    "- Busca implícita (cont...)"
   ]
  },
  {
   "cell_type": "code",
   "execution_count": 26,
   "metadata": {},
   "outputs": [
    {
     "data": {
      "text/plain": [
       "2"
      ]
     },
     "execution_count": 26,
     "metadata": {},
     "output_type": "execute_result"
    }
   ],
   "source": [
    "\n",
    "def busca_binaria(lista, elemento):\n",
    "    esquerda = 0\n",
    "    direita = len(lista) - 1\n",
    "    comparacoes = 0\n",
    "    \n",
    "    while esquerda <= direita:\n",
    "        meio = (esquerda + direita) // 2\n",
    "        comparacoes += 1\n",
    "        if lista[meio] == elemento:\n",
    "            return comparacoes\n",
    "        elif lista[meio] < elemento:\n",
    "            esquerda = meio + 1\n",
    "        else:\n",
    "            direita = meio - 1\n",
    "            \n",
    "    return comparacoes\n",
    "\n",
    "busca_binaria(lista,2)"
   ]
  },
  {
   "cell_type": "markdown",
   "metadata": {},
   "source": [
    "### Exercício : Quantas comparações a busca binária efetua para buscar os elementos 14, 16, 31 e 35 na lista abaixo\n",
    "\n",
    "lista_exemplo = [1,3,6,9,10,11,15,16,19,20,26,28,31,33,34]\n"
   ]
  },
  {
   "cell_type": "code",
   "execution_count": 31,
   "metadata": {},
   "outputs": [
    {
     "name": "stdout",
     "output_type": "stream",
     "text": [
      "O elemento 14 foi encontrado em 4 comparações.\n",
      "O elemento 16 foi encontrado em 1 comparações.\n",
      "O elemento 31 foi encontrado em 4 comparações.\n",
      "O elemento 35 foi encontrado em 4 comparações.\n"
     ]
    }
   ],
   "source": [
    "\n",
    "#16 = 1\n",
    "#14 == 4\n",
    "#31 = 3\n",
    "#35 = 5\n",
    "\n",
    "def busca_binaria(lista, elemento):\n",
    "    esquerda = 0\n",
    "    direita = len(lista) - 1\n",
    "    comparacoes = 0\n",
    "    \n",
    "    while esquerda <= direita:\n",
    "        meio = (esquerda + direita) // 2\n",
    "        comparacoes += 1\n",
    "        if lista[meio] == elemento:\n",
    "            return comparacoes\n",
    "        elif lista[meio] < elemento:\n",
    "            esquerda = meio + 1\n",
    "        else:\n",
    "            direita = meio - 1\n",
    "            \n",
    "    return comparacoes\n",
    "\n",
    "lista_exemplo = [1,3,6,9,10,11,15,16,19,20,26,28,31,33,34]\n",
    "\n",
    "elementos = [14, 16, 31, 35]\n",
    "\n",
    "for elemento in elementos:\n",
    "    comp = busca_binaria(lista_exemplo, elemento)\n",
    "    print(f\"O elemento {elemento} foi encontrado em {comp} comparações.\")\n"
   ]
  },
  {
   "cell_type": "markdown",
   "metadata": {},
   "source": [
    "## Inserção e remoção em listas sequencias\n",
    "\n",
    "- A inserção e a remoção utilizam algorítimos de busca. A inserção para evitar chaves repetidas e a remoção para localizar o nó a ser removido"
   ]
  },
  {
   "cell_type": "code",
   "execution_count": null,
   "metadata": {},
   "outputs": [],
   "source": []
  },
  {
   "cell_type": "markdown",
   "metadata": {},
   "source": [
    "## Pilhas e Filas\n",
    "\n",
    "- O armazenamento sequencial de listas é preferível quando as estruturas sofrem poucas remoções e inserções, devido ao custo computacional de movimento os nós\n",
    "\n",
    "- Casos as inserções e remoções ocorram são nos extremos da lista, essas operações podem ser realizadas em tempo constante\n",
    "\n",
    "- Para implementação desses TADS, geralmente utiliza-se indicadores especiais, usualmente implementados via ponteiros ou referencias\n",
    "\n"
   ]
  },
  {
   "cell_type": "markdown",
   "metadata": {},
   "source": [
    "## Pilha \n",
    "\n",
    "- É uma lista linear cuja inserção e remoção ocorrem na mesma extremidade\n",
    "- Assim sendo, na pilha o último elemento a ser inserido é também o primeiro a ser retirado, sendo uma lista LIFO(Last In First Out)\n",
    "- Uma pilha possui um único indicador denominado topo, que aponta sempre para início da lista\n",
    "- Quando o topo é nulo, a lista esta vazia"
   ]
  },
  {
   "cell_type": "code",
   "execution_count": 30,
   "metadata": {},
   "outputs": [
    {
     "data": {
      "text/plain": [
       "[4, 7, 1, 2, 7]"
      ]
     },
     "execution_count": 30,
     "metadata": {},
     "output_type": "execute_result"
    }
   ],
   "source": [
    "lista = [3,7,1,2,5]\n",
    "\n",
    "\n",
    "def push(lista, elemento):\n",
    "    m = len(lista)\n",
    "    if lista[0] != m:\n",
    "        lista[0] = lista[0] + 1\n",
    "        lista[lista[0]] = elemento\n",
    "    else:\n",
    "        print('overflow')\n",
    "\n",
    "def pop(lista):\n",
    "    if lista[0] == 0:\n",
    "        print('underflow')\n",
    "    else:\n",
    "        lista[0] = lista[0] - 1\n",
    "        return lista[lista[0] + 1]\n",
    "    \n",
    "\n",
    "\n",
    "def empty(lista):\n",
    "    if lista[0] == 0:\n",
    "        return False\n",
    "    else:\n",
    "        return True\n",
    "\n",
    "\n",
    "push(lista, 7) \n",
    "lista"
   ]
  },
  {
   "cell_type": "markdown",
   "metadata": {},
   "source": [
    "## Exericio 2) Determinar a **sequencia de nós** corrrespondentes ás remoções de uma pilha nos seguintes casos ( | siginifica inserção e R siginifica remoção)\n",
    "\n",
    "Caso 1: | 1, | 2, | 3, R, | 4, | 5, R, R, | 6 , R, R, R, |7\n",
    "Caso 2: |1,|2,|3,R,R,|4,R,R,|5,R,|6,R,R,|7"
   ]
  },
  {
   "cell_type": "code",
   "execution_count": null,
   "metadata": {},
   "outputs": [],
   "source": []
  },
  {
   "cell_type": "markdown",
   "metadata": {},
   "source": [
    "## Exercício 3) Utilizando uma pilha, construa um algoritimo que inverta a sequencia abaixo\n",
    "\n"
   ]
  },
  {
   "cell_type": "code",
   "execution_count": 32,
   "metadata": {},
   "outputs": [
    {
     "data": {
      "text/plain": [
       "[34, 33, 31, 28, 26, 22, 20, 19, 16, 15, 11, 10, 9, 6, 3, 1]"
      ]
     },
     "execution_count": 32,
     "metadata": {},
     "output_type": "execute_result"
    }
   ],
   "source": [
    "pilha = [1,3,6,9,10,11,15,16,19,20,22,26,28,31,33,34]\n",
    "\n",
    "def inverte_lista(pilha):\n",
    "    # Cria uma nova pilha para armazenar os elementos invertidos\n",
    "    pilha_invertida = []\n",
    "    \n",
    "    # Empilha todos os elementos da pilha original na nova pilha\n",
    "    for elemento in pilha:\n",
    "        pilha_invertida.append(elemento)\n",
    "    \n",
    "    # Desempilha os elementos da nova pilha na ordem inversa\n",
    "    lista_invertida = []\n",
    "    while len(pilha_invertida) > 0:\n",
    "        elemento = pilha_invertida.pop()\n",
    "        lista_invertida.append(elemento)\n",
    "    \n",
    "    return lista_invertida\n",
    "\n",
    "\n",
    "inverte_lista(pilha)"
   ]
  },
  {
   "cell_type": "code",
   "execution_count": null,
   "metadata": {},
   "outputs": [],
   "source": []
  }
 ],
 "metadata": {
  "kernelspec": {
   "display_name": "Python 3.10.10 64-bit",
   "language": "python",
   "name": "python3"
  },
  "language_info": {
   "codemirror_mode": {
    "name": "ipython",
    "version": 3
   },
   "file_extension": ".py",
   "mimetype": "text/x-python",
   "name": "python",
   "nbconvert_exporter": "python",
   "pygments_lexer": "ipython3",
   "version": "3.10.10"
  },
  "orig_nbformat": 4,
  "vscode": {
   "interpreter": {
    "hash": "e7370f93d1d0cde622a1f8e1c04877d8463912d04d973331ad4851f04de6915a"
   }
  }
 },
 "nbformat": 4,
 "nbformat_minor": 2
}
