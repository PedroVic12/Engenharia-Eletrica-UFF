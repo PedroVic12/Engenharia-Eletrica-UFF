{
 "cells": [
  {
   "cell_type": "markdown",
   "metadata": {},
   "source": [
    "# Aula 3\n",
    "- Merge Sort\n",
    "- Dividir para conquistar\n",
    "- Recursividade"
   ]
  },
  {
   "cell_type": "markdown",
   "metadata": {},
   "source": [
    "## Método Dividir para conquistar(...)\n",
    "\n",
    "- Dividir o problema em um numero de subproblemas que sao instancias menores do mesmo problema\n",
    "\n",
    "- Conquistar os subproblemas resolvendo os rercusivamente\n",
    "\n",
    "- Combinar as soluções dos subproblemas\n",
    "\n",
    "\n",
    "### Etapas\n",
    "Apos identificar a complexibilidade do problema, temos que seguir os passos:\n",
    "\n",
    "1) **Divisão:**\n",
    "2) **Conquista:**\n",
    "3) **Combinação:**"
   ]
  },
  {
   "cell_type": "markdown",
   "metadata": {},
   "source": [
    "## Algoritmo Merge Sort"
   ]
  },
  {
   "cell_type": "code",
   "execution_count": 28,
   "metadata": {},
   "outputs": [],
   "source": [
    "# Função que mescla duas listas ordenadas em uma única lista ordenada\n",
    "def merge(lista1, lista2):\n",
    "    resultado = []  \n",
    "    i = 0  # Variável de índice para a lista1\n",
    "    j = 0  # Variável de índice para a lista2\n",
    "\n",
    "    cont = 0\n",
    "    \n",
    "    # Loop para mesclar as duas listas enquanto houver elementos iguais em ambas\n",
    "    while i < len(lista1) and j < len(lista2):\n",
    "        if lista1[i] <= lista2[j]: \n",
    "            resultado.append(lista1[i]) \n",
    "            i += 1  # Move o índice para a próxima posição da lista1\n",
    "        else:  \n",
    "            resultado.append(lista2[j])  \n",
    "            j += 1  # Move o índice para a próxima posição da lista2\n",
    "\n",
    "        #!Teste\n",
    "        cont = cont + 1\n",
    "        print(f\"Iteração: {cont} = {resultado}\")\n",
    "\n",
    "    \n",
    "    # Adiciona o restante dos elementos da lista1 e/ou lista2, caso ainda existam\n",
    "    resultado += lista1[i:]\n",
    "    resultado += lista2[j:]\n",
    "    \n",
    "     # Retorna a lista mesclada em ordem crescente\n",
    "    return resultado \n",
    "\n",
    "\n",
    "def merge_sort(lista):\n",
    "\n",
    "    # Caso base: a lista contém 0 ou 1 elementos e já está ordenada\n",
    "    if len(lista) <= 1:\n",
    "        return lista\n",
    "\n",
    "    # Divide a lista em duas partes\n",
    "    meio = len(lista) // 2 \n",
    "    lista_esquerda = lista[:meio]  # Lista com os elementos da primeira metade\n",
    "    lista_direita = lista[meio:]  # Lista com os elementos da segunda metade\n",
    "    \n",
    "    # Chamada recursiva da função merge_sort para ordenar cada metade da lista\n",
    "    lista_esquerda = merge_sort(lista_esquerda)\n",
    "    lista_direita = merge_sort(lista_direita)\n",
    "    \n",
    "    # Chama a função merge para mesclar as duas metades da lista em uma lista ordenada\n",
    "    return  merge(lista_esquerda, lista_direita)\n",
    "\n",
    "\n"
   ]
  },
  {
   "cell_type": "code",
   "execution_count": 29,
   "metadata": {},
   "outputs": [
    {
     "name": "stdout",
     "output_type": "stream",
     "text": [
      "Iteração: 1 = [1]\n",
      "Iteração: 1 = [1]\n",
      "Iteração: 2 = [1, 3]\n",
      "Iteração: 1 = [2]\n",
      "Iteração: 1 = [2]\n",
      "Iteração: 2 = [2, 6]\n",
      "Iteração: 1 = [1]\n",
      "Iteração: 2 = [1, 2]\n",
      "Iteração: 3 = [1, 2, 3]\n",
      "Iteração: 4 = [1, 2, 3, 4]\n",
      "[1, 2, 3, 4, 6, 7]\n",
      "\n",
      "LISTAS ORDENADAS\n",
      "\n",
      "Iteração: 1 = [1]\n",
      "Iteração: 1 = [1]\n",
      "Iteração: 2 = [1, 2]\n",
      "Iteração: 1 = [5]\n",
      "Iteração: 1 = [2]\n",
      "Iteração: 1 = [1]\n",
      "Iteração: 2 = [1, 2]\n",
      "Iteração: 3 = [1, 2, 2]\n",
      "Iteração: 4 = [1, 2, 2, 4]\n",
      "[1, 2, 2, 4, 5, 6]\n"
     ]
    }
   ],
   "source": [
    "#! Exemplo\n",
    "vetor1 = [3,1,4,6,7,2]\n",
    "vetor2 = [2,1,4,2,5,6]\n",
    "\n",
    "print(merge_sort(vetor1))\n",
    "print('\\nLISTAS ORDENADAS\\n')\n",
    "print(merge_sort(vetor2))\n"
   ]
  },
  {
   "cell_type": "markdown",
   "metadata": {},
   "source": [
    "## Método Recursividade"
   ]
  },
  {
   "cell_type": "markdown",
   "metadata": {},
   "source": [
    "### Exemplos de Recursividade"
   ]
  },
  {
   "cell_type": "code",
   "execution_count": 30,
   "metadata": {},
   "outputs": [],
   "source": [
    "def fatorial(n):\n",
    "    if n == 0:\n",
    "        return 1\n",
    "    else:\n",
    "        return n * fatorial(n-1)\n"
   ]
  },
  {
   "cell_type": "code",
   "execution_count": 31,
   "metadata": {},
   "outputs": [],
   "source": [
    "def fibonacci(n):\n",
    "    if n <= 1:\n",
    "        return n\n",
    "    else:\n",
    "        return fibonacci(n-1) + fibonacci(n-2)\n"
   ]
  },
  {
   "cell_type": "code",
   "execution_count": 32,
   "metadata": {},
   "outputs": [],
   "source": [
    "def busca_binaria(vetor, valor, inicio, fim):\n",
    "    if inicio > fim:\n",
    "        return -1\n",
    "    meio = (inicio + fim) // 2\n",
    "    if vetor[meio] == valor:\n",
    "        return meio\n",
    "    elif vetor[meio] < valor:\n",
    "        return busca_binaria(vetor, valor, meio+1, fim)\n",
    "    else:\n",
    "        return busca_binaria(vetor, valor, inicio, meio-1)\n"
   ]
  },
  {
   "cell_type": "markdown",
   "metadata": {},
   "source": [
    "### Tipos\n",
    "- Caso recursivo: Quando o subproblema é suficiente grande para ser resolvido recursivamente\n",
    "\n",
    "- Caso Base: Quando o subproblema é pequeno ao ponto de não ser necessário a recursão.\n",
    "\n",
    "Expressão T(n) é uma recoorencia\n",
    "\n",
    "- **Método da substituição:** Arbitra-se um limite e utiliza-se indução para verfificar se esta correto\n",
    "- **Método da Árvore de Recursão:** Converte a recorrencia numa árvore cujos os nós são os cutos envolvidos em cada nível de recursão\n",
    "- **Método Mestre:** Provar limites para recursões \n",
    "\t- T(n) = at(n/b) cont...\n",
    "\n"
   ]
  },
  {
   "cell_type": "markdown",
   "metadata": {},
   "source": [
    "### Método da Substituição\n",
    "- Definição da forma da solução\n",
    "- Uso de indução para determinar as constantes da solução e demonstrar que ela está correta\n",
    "- Escolher funções simples, com poucos parâmetros\n",
    "- A prova por indução requer que afirmação seja provada na sua forma exatas\n",
    "- Uso de variáveis auxiliares\n",
    "- Mudanças de variáveis podem facilitar as deduções\n",
    "\n",
    "Esse método é bom nas primeiras tentativas, ideal é para mim é fazer 5 tentativas de chutes"
   ]
  },
  {
   "cell_type": "code",
   "execution_count": null,
   "metadata": {},
   "outputs": [],
   "source": []
  },
  {
   "cell_type": "markdown",
   "metadata": {},
   "source": [
    "### Método da Árvore de Recursão\n",
    "\n",
    "- Utilizado para definir a forma da função a ser utilizada np método da substituição\n",
    "- O método consiste em construir uma arvore\n",
    "- Cada nó da árvore representa o custo de um subproblema em algum lugar do conjunto de chamadas recursivas\n",
    "- Os custos em um nível da árvore são somados, obtendo-se o custo total daquele nível\n",
    "- O custo total é a soma dos custos de cada nível da árvore\n"
   ]
  },
  {
   "cell_type": "code",
   "execution_count": null,
   "metadata": {},
   "outputs": [],
   "source": []
  },
  {
   "cell_type": "markdown",
   "metadata": {},
   "source": [
    "### Método Mestre\n",
    "\n",
    "- Soluções de recorrencia da forma T(n) = aT(n/b) + f(n) quando a>= 1 e b >= 1\n",
    "\n",
    "- O método serve para determinar o custo de algoritimos recursivos que dividam o problema em *a* subproblemas de tamanho *n/b*\n",
    "\n"
   ]
  },
  {
   "cell_type": "markdown",
   "metadata": {},
   "source": [
    "Exemplo:\n",
    "\n",
    "t(n) = 0 quando, n= 1\n",
    "\n",
    "t(n) = 2T(n/2) + 0(n') quando, n > 1\n",
    "\n",
    "a = 2t\n",
    "b = n/2\n"
   ]
  },
  {
   "cell_type": "code",
   "execution_count": null,
   "metadata": {},
   "outputs": [],
   "source": []
  },
  {
   "cell_type": "code",
   "execution_count": null,
   "metadata": {},
   "outputs": [],
   "source": []
  }
 ],
 "metadata": {
  "kernelspec": {
   "display_name": "Python 3.10.10 64-bit",
   "language": "python",
   "name": "python3"
  },
  "language_info": {
   "codemirror_mode": {
    "name": "ipython",
    "version": 3
   },
   "file_extension": ".py",
   "mimetype": "text/x-python",
   "name": "python",
   "nbconvert_exporter": "python",
   "pygments_lexer": "ipython3",
   "version": "3.10.10"
  },
  "orig_nbformat": 4,
  "vscode": {
   "interpreter": {
    "hash": "e7370f93d1d0cde622a1f8e1c04877d8463912d04d973331ad4851f04de6915a"
   }
  }
 },
 "nbformat": 4,
 "nbformat_minor": 2
}
