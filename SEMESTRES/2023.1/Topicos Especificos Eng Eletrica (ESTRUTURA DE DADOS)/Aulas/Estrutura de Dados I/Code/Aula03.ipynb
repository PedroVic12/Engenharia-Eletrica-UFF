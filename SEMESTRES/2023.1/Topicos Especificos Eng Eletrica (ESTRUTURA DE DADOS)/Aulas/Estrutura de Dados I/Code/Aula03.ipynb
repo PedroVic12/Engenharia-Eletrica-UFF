{
 "cells": [
  {
   "cell_type": "markdown",
   "metadata": {},
   "source": [
    "# Aula 3\n",
    "- Merge Sort\n",
    "- Dividir para conquistar\n",
    "- Recursividade"
   ]
  },
  {
   "cell_type": "markdown",
   "metadata": {},
   "source": [
    "## Método Dividir para conquistar(...)\n",
    "\n",
    "- Dividir o problema em um numero de subproblemas que sao instancias menores do mesmo problema\n",
    "\n",
    "- Conquistar os subproblemas resolvendo os rercusivamente\n",
    "\n",
    "- Combinar as soluções dos subproblemas\n",
    "\n",
    "\n",
    "### Etapas\n",
    "Apos identificar a complexibilidade do problema, temos que seguir os passos:\n",
    "\n",
    "1) **Divisão:**\n",
    "2) **Conquista:**\n",
    "3) **Combinação:**"
   ]
  },
  {
   "cell_type": "markdown",
   "metadata": {},
   "source": [
    "## Algoritmo Merge Sort"
   ]
  },
  {
   "cell_type": "code",
   "execution_count": 136,
   "metadata": {},
   "outputs": [],
   "source": [
    "# Função que mescla duas listas ordenadas em uma única lista ordenada\n",
    "def merge(lista1, lista2):\n",
    "    resultado = []  \n",
    "    i = 0  # Variável de índice para a lista1\n",
    "    j = 0  # Variável de índice para a lista2\n",
    "\n",
    "    cont = 0\n",
    "    \n",
    "    # Loop para mesclar as duas listas enquanto houver elementos iguais em ambas\n",
    "    while i < len(lista1) and j < len(lista2):\n",
    "        if lista1[i] <= lista2[j]: \n",
    "            resultado.append(lista1[i]) \n",
    "            i += 1  # Move o índice para a próxima posição da lista1\n",
    "        else:  \n",
    "            resultado.append(lista2[j])  \n",
    "            j += 1  # Move o índice para a próxima posição da lista2\n",
    "\n",
    "        #!Teste\n",
    "        cont = cont + 1\n",
    "        print(f\"Iteração: {cont} = {resultado}\")\n",
    "\n",
    "    \n",
    "    # Adiciona o restante dos elementos da lista1 e/ou lista2, caso ainda existam\n",
    "    resultado += lista1[i:]\n",
    "    resultado += lista2[j:]\n",
    "    \n",
    "     # Retorna a lista mesclada em ordem crescente\n",
    "    return resultado \n",
    "\n",
    "\n",
    "def merge_sort(lista):\n",
    "\n",
    "    # Caso base: a lista contém 0 ou 1 elementos e já está ordenada\n",
    "    if len(lista) <= 1:\n",
    "        return lista\n",
    "\n",
    "    # Divide a lista em duas partes\n",
    "    meio = len(lista) // 2 \n",
    "    lista_esquerda = lista[:meio]  # Lista com os elementos da primeira metade\n",
    "    lista_direita = lista[meio:]  # Lista com os elementos da segunda metade\n",
    "    \n",
    "    # Chamada recursiva da função merge_sort para ordenar cada metade da lista\n",
    "    lista_esquerda = merge_sort(lista_esquerda)\n",
    "    lista_direita = merge_sort(lista_direita)\n",
    "    \n",
    "    # Chama a função merge para mesclar as duas metades da lista em uma lista ordenada\n",
    "    return  merge(lista_esquerda, lista_direita)\n",
    "\n",
    "\n"
   ]
  },
  {
   "cell_type": "code",
   "execution_count": 137,
   "metadata": {},
   "outputs": [
    {
     "name": "stdout",
     "output_type": "stream",
     "text": [
      "Iteração: 1 = [1]\n",
      "Iteração: 1 = [1]\n",
      "Iteração: 2 = [1, 3]\n",
      "Iteração: 1 = [2]\n",
      "Iteração: 1 = [2]\n",
      "Iteração: 2 = [2, 6]\n",
      "Iteração: 1 = [1]\n",
      "Iteração: 2 = [1, 2]\n",
      "Iteração: 3 = [1, 2, 3]\n",
      "Iteração: 4 = [1, 2, 3, 4]\n",
      "[1, 2, 3, 4, 6, 7]\n",
      "\n",
      "LISTAS ORDENADAS\n",
      "\n",
      "Iteração: 1 = [1]\n",
      "Iteração: 1 = [1]\n",
      "Iteração: 2 = [1, 2]\n",
      "Iteração: 1 = [5]\n",
      "Iteração: 1 = [2]\n",
      "Iteração: 1 = [1]\n",
      "Iteração: 2 = [1, 2]\n",
      "Iteração: 3 = [1, 2, 2]\n",
      "Iteração: 4 = [1, 2, 2, 4]\n",
      "[1, 2, 2, 4, 5, 6]\n"
     ]
    }
   ],
   "source": [
    "#! Exemplo\n",
    "vetor1 = [3,1,4,6,7,2]\n",
    "vetor2 = [2,1,4,2,5,6]\n",
    "\n",
    "print(merge_sort(vetor1))\n",
    "print('\\nLISTAS ORDENADAS\\n')\n",
    "print(merge_sort(vetor2))\n"
   ]
  },
  {
   "cell_type": "markdown",
   "metadata": {},
   "source": [
    "## Método Recursividade"
   ]
  },
  {
   "cell_type": "markdown",
   "metadata": {},
   "source": [
    "### Exemplos de Recursividade"
   ]
  },
  {
   "cell_type": "code",
   "execution_count": 138,
   "metadata": {},
   "outputs": [],
   "source": [
    "def fatorial(n):\n",
    "    if n == 0:\n",
    "        return 1\n",
    "    else:\n",
    "        return n * fatorial(n-1)\n"
   ]
  },
  {
   "cell_type": "code",
   "execution_count": 139,
   "metadata": {},
   "outputs": [],
   "source": [
    "def fibonacci(n):\n",
    "    if n <= 1:\n",
    "        return n\n",
    "    else:\n",
    "        return fibonacci(n-1) + fibonacci(n-2)\n"
   ]
  },
  {
   "cell_type": "code",
   "execution_count": 140,
   "metadata": {},
   "outputs": [],
   "source": [
    "def busca_binaria(vetor, valor, inicio, fim):\n",
    "    if inicio > fim:\n",
    "        return -1\n",
    "    meio = (inicio + fim) // 2\n",
    "    if vetor[meio] == valor:\n",
    "        return meio\n",
    "    elif vetor[meio] < valor:\n",
    "        return busca_binaria(vetor, valor, meio+1, fim)\n",
    "    else:\n",
    "        return busca_binaria(vetor, valor, inicio, meio-1)\n"
   ]
  },
  {
   "cell_type": "markdown",
   "metadata": {},
   "source": [
    "### Tipos\n",
    "- Caso recursivo: Quando o subproblema é suficiente grande para ser resolvido recursivamente\n",
    "\n",
    "- Caso Base: Quando o subproblema é pequeno ao ponto de não ser necessário a recursão.\n",
    "\n",
    "Expressão T(n) é uma recoorencia\n",
    "\n",
    "- **Método da substituição:** Arbitra-se um limite e utiliza-se indução para verfificar se esta correto\n",
    "- **Método da Árvore de Recursão:** Converte a recorrencia numa árvore cujos os nós são os cutos envolvidos em cada nível de recursão\n",
    "- **Método Mestre:** Provar limites para recursões \n",
    "\t- T(n) = at(n/b) cont...\n",
    "\n"
   ]
  },
  {
   "cell_type": "markdown",
   "metadata": {},
   "source": [
    "### Método da Substituição\n",
    "- Definição da forma da solução\n",
    "- Uso de indução para determinar as constantes da solução e demonstrar que ela está correta\n",
    "- Escolher funções simples, com poucos parâmetros\n",
    "- A prova por indução requer que afirmação seja provada na sua forma exatas\n",
    "- Uso de variáveis auxiliares\n",
    "- Mudanças de variáveis podem facilitar as deduções\n",
    "\n",
    "Esse método é bom nas primeiras tentativas, ideal é para mim é fazer 5 tentativas de chutes"
   ]
  },
  {
   "cell_type": "code",
   "execution_count": null,
   "metadata": {},
   "outputs": [],
   "source": []
  },
  {
   "cell_type": "markdown",
   "metadata": {},
   "source": [
    "### Método da Árvore de Recursão\n",
    "\n",
    "- Utilizado para definir a forma da função a ser utilizada np método da substituição\n",
    "- O método consiste em construir uma arvore\n",
    "- Cada nó da árvore representa o custo de um subproblema em algum lugar do conjunto de chamadas recursivas\n",
    "- Os custos em um nível da árvore são somados, obtendo-se o custo total daquele nível\n",
    "- O custo total é a soma dos custos de cada nível da árvore\n"
   ]
  },
  {
   "cell_type": "code",
   "execution_count": null,
   "metadata": {},
   "outputs": [],
   "source": []
  },
  {
   "cell_type": "markdown",
   "metadata": {},
   "source": [
    "### Método Mestre\n",
    "\n",
    "- Soluções de recorrencia da forma T(n) = aT(n/b) + f(n) quando a>= 1 e b >= 1\n",
    "\n",
    "- O método serve para determinar o custo de algoritimos recursivos que dividam o problema em *a* subproblemas de tamanho *n/b*\n",
    "\n"
   ]
  },
  {
   "cell_type": "markdown",
   "metadata": {},
   "source": [
    "Exemplo:\n",
    "\n",
    "t(n) = 0 quando, n= 1\n",
    "\n",
    "t(n) = 2T(n/2) + 0(n') quando, n > 1\n",
    "\n",
    "a = 2t\n",
    "b = n/2\n"
   ]
  },
  {
   "cell_type": "markdown",
   "metadata": {},
   "source": [
    "### Exemplo com Matrizes.\n",
    "\n",
    "Suponha que temos duas matrizes A e B de tamanho n x m. \n",
    "\n",
    "#### C[i][j] = A[i][j] + B[i][j], para 0 <= i < n e 0 <= j < m.\n"
   ]
  },
  {
   "cell_type": "code",
   "execution_count": 141,
   "metadata": {},
   "outputs": [],
   "source": [
    "def soma_matrizes(A, B):\n",
    "    n = len(A)\n",
    "    m = len(A[0])\n",
    "    C = [[0 for j in range(m)] for i in range(n)]\n",
    "    \n",
    "    if n == 1 and m == 1:\n",
    "        C[0][0] = A[0][0] + B[0][0]\n",
    "    else:\n",
    "        meio = n // 2\n",
    "        # Divisão da matriz A\n",
    "        A11 = [A[i][:m//2] for i in range(meio)]\n",
    "        A12 = [A[i][m//2:] for i in range(meio)]\n",
    "        A21 = [A[i][:m//2] for i in range(meio, n)]\n",
    "        A22 = [A[i][m//2:] for i in range(meio, n)]\n",
    "        # Divisão da matriz B\n",
    "        B11 = [B[i][:m//2] for i in range(meio)]\n",
    "        B12 = [B[i][m//2:] for i in range(meio)]\n",
    "        B21 = [B[i][:m//2] for i in range(meio, n)]\n",
    "        B22 = [B[i][m//2:] for i in range(meio, n)]\n",
    "        # Cálculo das submatrizes C\n",
    "        C11 = soma_matrizes(A11, B11)\n",
    "        C12 = soma_matrizes(A12, B12)\n",
    "        C21 = soma_matrizes(A21, B21)\n",
    "        C22 = soma_matrizes(A22, B22)\n",
    "        # Combinando as submatrizes C\n",
    "        for i in range(meio):\n",
    "            for j in range(m//2):\n",
    "                C[i][j] = C11[i][j]\n",
    "                C[i][j+m//2] = C12[i][j]\n",
    "        for i in range(meio, n):\n",
    "            for j in range(m//2):\n",
    "                C[i][j] = C21[i-meio][j]\n",
    "                C[i][j+m//2] = C22[i-meio][j]\n",
    "    \n",
    "    return C\n"
   ]
  },
  {
   "cell_type": "markdown",
   "metadata": {},
   "source": [
    "\n",
    "### Exemplo Multiplicação de Matrizes\n",
    "\n",
    "1) Divida a matriz A em duas matrizes menores, A1 e A2, e a matriz B em duas matrizes menores, B1 e B2, ao meio.\n",
    "\n",
    "2) Crie quatro subproblemas, ou seja, multiplique A1 por B1, A1 por B2, A2 por B1 e A2 por B2.\n",
    "\n",
    "3) Repita o processo para cada subproblema até que as matrizes sejam reduzidas a matrizes 1x1, que são multiplicadas diretamente e retornadas."
   ]
  },
  {
   "cell_type": "code",
   "execution_count": 142,
   "metadata": {},
   "outputs": [],
   "source": [
    "def multiplicaMatrizes(A, B):\n",
    "    n = len(A)\n",
    "    m = len(B[0])\n",
    "    p = len(B)\n",
    "    # Cria uma matriz resultado com valores inicialmente zerados\n",
    "    result = [[0] * m for _ in range(n)]\n",
    "    # Itera pelas linhas da matriz A\n",
    "    for i in range(n):\n",
    "        # Itera pelas colunas da matriz B\n",
    "        for j in range(m):\n",
    "            # Calcula o valor da posição i,j da matriz resultado\n",
    "            for k in range(p):\n",
    "                result[i][j] += A[i][k] * B[k][j]\n",
    "    return result\n"
   ]
  },
  {
   "cell_type": "code",
   "execution_count": 143,
   "metadata": {},
   "outputs": [
    {
     "name": "stdout",
     "output_type": "stream",
     "text": [
      "[[30, 24, 18], [84, 69, 54], [138, 114, 90]]\n"
     ]
    }
   ],
   "source": [
    "\n",
    "\n",
    "A = [[1, 2, 3], \n",
    "    [4, 5, 6],\n",
    "    [7, 8, 9]]\n",
    "\n",
    "\n",
    "B = [[9, 8, 7],\n",
    "     [6, 5, 4],\n",
    "     [3, 2, 1]]\n",
    "\n",
    "\n",
    "C = multiplicaMatrizes(A, B)\n",
    "print(C)\n"
   ]
  },
  {
   "cell_type": "markdown",
   "metadata": {},
   "source": [
    "O algoritmo de multiplicação de matrizes utilizando árvore de recursão pode ser implementado da seguinte forma:\n",
    "\n",
    "1) Verificar se o número de colunas da primeira matriz é igual ao número de linhas da segunda matriz. Se não, a multiplicação não pode ser realizada.\n",
    "\n",
    "2) Verificar se as matrizes possuem dimensões suficientes para serem divididas em submatrizes menores. Se não, realizar a multiplicação de matrizes convencional.\n",
    "\n",
    "3) Dividir as matrizes em quatro submatrizes menores, cada uma com metade das dimensões da matriz original.\n",
    "\n",
    "4) Realizar a multiplicação de forma recursiva para cada submatriz, até que as dimensões das submatrizes sejam suficientemente pequenas para realizar a multiplicação de matrizes convencional.\n",
    "\n",
    "5) Somar as submatrizes resultantes para obter a matriz final."
   ]
  },
  {
   "cell_type": "code",
   "execution_count": 146,
   "metadata": {},
   "outputs": [],
   "source": [
    "\n",
    "\n",
    "#! Exemplo nao esta funcionando, copiar na proxima aula\n",
    "\"\"\"\n",
    "Realiza a multiplicação de duas matrizes A e B de forma recursiva\n",
    "    utilizando árvores de recursão.\n",
    "\"\"\"\n",
    "\n",
    "def matrix_multiply_recursive(A, B):\n",
    "    n = len(A)\n",
    "    m = len(B[0])\n",
    "    if n != m:\n",
    "        raise ValueError(\"Matrizes não podem ser multiplicadas.\")\n",
    "    if n == 1 and m == 1:\n",
    "        return [[A[0][0] * B[0][0]]]\n",
    "    if n % 2 == 1:\n",
    "        A.append([0] * n)\n",
    "        B.append([0] * n)\n",
    "        for i in range(n):\n",
    "            A[i].append(0)\n",
    "            B[i].append(0)\n",
    "        n += 1\n",
    "    mid = n // 2\n",
    "    A11 = [A[i][:mid] for i in range(mid)]\n",
    "    A12 = [A[i][mid:] for i in range(mid)]\n",
    "    A21 = [A[i][:mid] for i in range(mid, n)]\n",
    "    A22 = [A[i][mid:] for i in range(mid, n)]\n",
    "    B11 = [B[i][:mid] for i in range(mid)]\n",
    "    B12 = [B[i][mid:] for i in range(mid, n)]\n",
    "    B21 = [B[i][:mid] for i in range(mid, n)]\n",
    "    B22 = [B[i][mid:] for i in range(mid, n)]\n",
    "    C11 = matrix_addition(matrix_multiply_recursive(A11, B11), matrix_multiply_recursive(A12, B21))\n",
    "    C12 = matrix_addition(matrix_multiply_recursive(A11, B12), matrix_multiply_recursive(A12, B22))\n",
    "    C21 = matrix_addition(matrix_multiply_recursive(A21, B11), matrix_multiply_recursive(A22, B21))\n",
    "    C22 = matrix_addition(matrix_multiply_recursive(A21, B12), matrix_multiply_recursive(A22, B22))\n",
    "    C = []\n",
    "    for i in range(n):\n",
    "        row = []\n",
    "        for j in range(n):\n",
    "            if i < mid and j < mid:\n",
    "                row.append(C11[i][j])\n",
    "            elif i < mid and j >= mid:\n",
    "                row.append(C12[i][j - mid])\n",
    "            elif i >= mid and j < mid:\n",
    "                row.append(C21[i - mid][j])\n",
    "            else:\n",
    "                row.append(C22[i - mid][j - mid])\n",
    "        C.append(row)\n",
    "    return C\n",
    "\n",
    "\n"
   ]
  },
  {
   "cell_type": "code",
   "execution_count": 147,
   "metadata": {},
   "outputs": [
    {
     "ename": "ValueError",
     "evalue": "Matrizes não podem ser multiplicadas.",
     "output_type": "error",
     "traceback": [
      "\u001b[0;31m---------------------------------------------------------------------------\u001b[0m",
      "\u001b[0;31mValueError\u001b[0m                                Traceback (most recent call last)",
      "Cell \u001b[0;32mIn[147], line 9\u001b[0m\n\u001b[1;32m      1\u001b[0m A \u001b[39m=\u001b[39m [[\u001b[39m1\u001b[39m, \u001b[39m2\u001b[39m, \u001b[39m3\u001b[39m], \n\u001b[1;32m      2\u001b[0m      [\u001b[39m4\u001b[39m, \u001b[39m5\u001b[39m, \u001b[39m6\u001b[39m],\n\u001b[1;32m      3\u001b[0m      [\u001b[39m7\u001b[39m, \u001b[39m8\u001b[39m, \u001b[39m9\u001b[39m]]\n\u001b[1;32m      5\u001b[0m B \u001b[39m=\u001b[39m [[\u001b[39m9\u001b[39m, \u001b[39m8\u001b[39m, \u001b[39m7\u001b[39m],\n\u001b[1;32m      6\u001b[0m      [\u001b[39m6\u001b[39m, \u001b[39m5\u001b[39m, \u001b[39m4\u001b[39m],\n\u001b[1;32m      7\u001b[0m      [\u001b[39m3\u001b[39m, \u001b[39m2\u001b[39m, \u001b[39m1\u001b[39m]]\n\u001b[0;32m----> 9\u001b[0m C \u001b[39m=\u001b[39m matrix_multiply_recursive(A, B)\n\u001b[1;32m     10\u001b[0m \u001b[39mprint\u001b[39m(C)\n",
      "Cell \u001b[0;32mIn[146], line 30\u001b[0m, in \u001b[0;36mmatrix_multiply_recursive\u001b[0;34m(A, B)\u001b[0m\n\u001b[1;32m     28\u001b[0m B22 \u001b[39m=\u001b[39m [B[i][mid:] \u001b[39mfor\u001b[39;00m i \u001b[39min\u001b[39;00m \u001b[39mrange\u001b[39m(mid, n)]\n\u001b[1;32m     29\u001b[0m C11 \u001b[39m=\u001b[39m matrix_addition(matrix_multiply_recursive(A11, B11), matrix_multiply_recursive(A12, B21))\n\u001b[0;32m---> 30\u001b[0m C12 \u001b[39m=\u001b[39m matrix_addition(matrix_multiply_recursive(A11, B12), matrix_multiply_recursive(A12, B22))\n\u001b[1;32m     31\u001b[0m C21 \u001b[39m=\u001b[39m matrix_addition(matrix_multiply_recursive(A21, B11), matrix_multiply_recursive(A22, B21))\n\u001b[1;32m     32\u001b[0m C22 \u001b[39m=\u001b[39m matrix_addition(matrix_multiply_recursive(A21, B12), matrix_multiply_recursive(A22, B22))\n",
      "Cell \u001b[0;32mIn[146], line 30\u001b[0m, in \u001b[0;36mmatrix_multiply_recursive\u001b[0;34m(A, B)\u001b[0m\n\u001b[1;32m     28\u001b[0m B22 \u001b[39m=\u001b[39m [B[i][mid:] \u001b[39mfor\u001b[39;00m i \u001b[39min\u001b[39;00m \u001b[39mrange\u001b[39m(mid, n)]\n\u001b[1;32m     29\u001b[0m C11 \u001b[39m=\u001b[39m matrix_addition(matrix_multiply_recursive(A11, B11), matrix_multiply_recursive(A12, B21))\n\u001b[0;32m---> 30\u001b[0m C12 \u001b[39m=\u001b[39m matrix_addition(matrix_multiply_recursive(A11, B12), matrix_multiply_recursive(A12, B22))\n\u001b[1;32m     31\u001b[0m C21 \u001b[39m=\u001b[39m matrix_addition(matrix_multiply_recursive(A21, B11), matrix_multiply_recursive(A22, B21))\n\u001b[1;32m     32\u001b[0m C22 \u001b[39m=\u001b[39m matrix_addition(matrix_multiply_recursive(A21, B12), matrix_multiply_recursive(A22, B22))\n",
      "Cell \u001b[0;32mIn[146], line 10\u001b[0m, in \u001b[0;36mmatrix_multiply_recursive\u001b[0;34m(A, B)\u001b[0m\n\u001b[1;32m      8\u001b[0m m \u001b[39m=\u001b[39m \u001b[39mlen\u001b[39m(B[\u001b[39m0\u001b[39m])\n\u001b[1;32m      9\u001b[0m \u001b[39mif\u001b[39;00m n \u001b[39m!=\u001b[39m m:\n\u001b[0;32m---> 10\u001b[0m     \u001b[39mraise\u001b[39;00m \u001b[39mValueError\u001b[39;00m(\u001b[39m\"\u001b[39m\u001b[39mMatrizes não podem ser multiplicadas.\u001b[39m\u001b[39m\"\u001b[39m)\n\u001b[1;32m     11\u001b[0m \u001b[39mif\u001b[39;00m n \u001b[39m==\u001b[39m \u001b[39m1\u001b[39m \u001b[39mand\u001b[39;00m m \u001b[39m==\u001b[39m \u001b[39m1\u001b[39m:\n\u001b[1;32m     12\u001b[0m     \u001b[39mreturn\u001b[39;00m [[A[\u001b[39m0\u001b[39m][\u001b[39m0\u001b[39m] \u001b[39m*\u001b[39m B[\u001b[39m0\u001b[39m][\u001b[39m0\u001b[39m]]]\n",
      "\u001b[0;31mValueError\u001b[0m: Matrizes não podem ser multiplicadas."
     ]
    }
   ],
   "source": [
    "A = [[1, 2, 3], \n",
    "     [4, 5, 6],\n",
    "     [7, 8, 9]]\n",
    "\n",
    "B = [[9, 8, 7],\n",
    "     [6, 5, 4],\n",
    "     [3, 2, 1]]\n",
    "\n",
    "C = matrix_multiply_recursive(A, B)\n",
    "print(C)"
   ]
  },
  {
   "cell_type": "code",
   "execution_count": null,
   "metadata": {},
   "outputs": [],
   "source": []
  }
 ],
 "metadata": {
  "kernelspec": {
   "display_name": "Python 3.10.10 64-bit",
   "language": "python",
   "name": "python3"
  },
  "language_info": {
   "codemirror_mode": {
    "name": "ipython",
    "version": 3
   },
   "file_extension": ".py",
   "mimetype": "text/x-python",
   "name": "python",
   "nbconvert_exporter": "python",
   "pygments_lexer": "ipython3",
   "version": "3.10.10"
  },
  "orig_nbformat": 4,
  "vscode": {
   "interpreter": {
    "hash": "e7370f93d1d0cde622a1f8e1c04877d8463912d04d973331ad4851f04de6915a"
   }
  }
 },
 "nbformat": 4,
 "nbformat_minor": 2
}
