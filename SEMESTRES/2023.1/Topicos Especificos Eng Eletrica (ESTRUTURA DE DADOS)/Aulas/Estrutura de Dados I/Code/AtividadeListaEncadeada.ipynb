{
 "cells": [
  {
   "cell_type": "code",
   "execution_count": 19,
   "metadata": {},
   "outputs": [
    {
     "name": "stdout",
     "output_type": "stream",
     "text": [
      "w\n",
      "x\n",
      "y\n",
      "z\n",
      "\n",
      "\n",
      "R\n",
      "S\n",
      "w\n"
     ]
    },
    {
     "ename": "TypeError",
     "evalue": "'ListaEncadeada' object is not subscriptable",
     "output_type": "error",
     "traceback": [
      "\u001b[0;31m---------------------------------------------------------------------------\u001b[0m",
      "\u001b[0;31mTypeError\u001b[0m                                 Traceback (most recent call last)",
      "Cell \u001b[0;32mIn[19], line 59\u001b[0m\n\u001b[1;32m     57\u001b[0m \u001b[39m# Exemplo C\u001b[39;00m\n\u001b[1;32m     58\u001b[0m lista_C \u001b[39m=\u001b[39m ListaEncadeada()\n\u001b[0;32m---> 59\u001b[0m lista_C\u001b[39m.\u001b[39;49mintercalar(lista_A, lista_B)\n",
      "Cell \u001b[0;32mIn[19], line 30\u001b[0m, in \u001b[0;36mListaEncadeada.intercalar\u001b[0;34m(self, lista1, lista2)\u001b[0m\n\u001b[1;32m     28\u001b[0m lista_C \u001b[39m=\u001b[39m []\n\u001b[1;32m     29\u001b[0m \u001b[39mfor\u001b[39;00m i \u001b[39min\u001b[39;00m \u001b[39mrange\u001b[39m(\u001b[39m0\u001b[39m,\u001b[39m3\u001b[39m):\n\u001b[0;32m---> 30\u001b[0m     \u001b[39mself\u001b[39m\u001b[39m.\u001b[39mponteiro \u001b[39m=\u001b[39m lista1[i][\u001b[39m'\u001b[39m\u001b[39mchave\u001b[39m\u001b[39m'\u001b[39m]\n\u001b[1;32m     31\u001b[0m     lista_C\u001b[39m.\u001b[39mappend(\u001b[39mself\u001b[39m\u001b[39m.\u001b[39mponteiro)\n\u001b[1;32m     34\u001b[0m     lista_C\u001b[39m.\u001b[39mappend(lista2[i])\n",
      "\u001b[0;31mTypeError\u001b[0m: 'ListaEncadeada' object is not subscriptable"
     ]
    }
   ],
   "source": [
    "class ListaEncadeada:\n",
    "    def __init__(self):\n",
    "        self.head = None  # Inicialmente, a cabeça da lista é None (vazia)\n",
    "        self.tail = None  # Inicialmente, a cauda da lista é None (vazia)\n",
    "        self.tam = 0  # Inicialmente, o tamanho da lista é 0\n",
    "        self.ponteiro = None\n",
    "\n",
    "    def adicionar_no(self, chave):\n",
    "        novo_no = {\"chave\": chave, \"prox\": None}  # Cria um novo nó como um dicionário\n",
    "\n",
    "        if self.head is None:\n",
    "            # Se a lista estiver vazia, o novo nó será tanto a cabeça quanto a cauda da lista\n",
    "            self.head = novo_no\n",
    "        else:\n",
    "            # Caso contrário, atualiza o próximo do último nó (cauda) para o novo nó\n",
    "            self.tail[\"prox\"] = novo_no\n",
    "\n",
    "        self.tail = novo_no  # Atualiza a cauda para o novo nó\n",
    "        self.tam += 1  # Incrementa o tamanho da lista\n",
    "\n",
    "    def imprimir_lista(self):\n",
    "        no_atual = self.head  # Começa a percorrer a lista a partir da cabeça\n",
    "        while no_atual is not None:\n",
    "            print(no_atual[\"chave\"])  # Imprime a chave do nó atual\n",
    "            no_atual = no_atual[\"prox\"]  # Avança para o próximo nó\n",
    "\n",
    "    def intercalar(self, lista1, lista2):\n",
    "        lista_C = []\n",
    "        for i in range(0,3):\n",
    "            lista_C.append(lista1[i]['chave'])\n",
    "            lista_C.append(lista2[i])\n",
    "        return lista_C\n",
    "            \n",
    "\n",
    "\n",
    "# Exemplo de uso da lista encadeada\n",
    "lista_A = ListaEncadeada()\n",
    "lista_A.adicionar_no(\"w\")\n",
    "lista_A.adicionar_no(\"x\")\n",
    "lista_A.adicionar_no(\"y\")\n",
    "lista_A.adicionar_no(\"z\")\n",
    "lista_A.imprimir_lista()\n",
    "print(\"\\n\")\n",
    "\n",
    "# Exemplo B\n",
    "lista_B = ListaEncadeada()\n",
    "lista_B.adicionar_no(\"R\")\n",
    "lista_B.adicionar_no(\"S\")\n",
    "lista_B.imprimir_lista()\n",
    "\n",
    "\n",
    "print(lista_A.head['chave'])\n",
    "\n",
    "# Exemplo C\n",
    "lista_C = ListaEncadeada()\n",
    "lista_C.intercalar(lista_A, lista_B)"
   ]
  },
  {
   "cell_type": "code",
   "execution_count": 1,
   "metadata": {},
   "outputs": [],
   "source": [
    "class No:\n",
    "    def __init__(self, dado):\n",
    "        self.dado = dado\n",
    "        self.proximo = None\n",
    "\n",
    "\n",
    "class Fila:\n",
    "    def __init__(self):\n",
    "        self.inicio = None\n",
    "        self.fim = None\n",
    "\n",
    "    def enfileirar(self, dado):\n",
    "        novo_no = No(dado)\n",
    "        if self.fim is None:\n",
    "            self.inicio = novo_no\n",
    "            self.fim = novo_no\n",
    "        else:\n",
    "            self.fim.proximo = novo_no\n",
    "            self.fim = novo_no"
   ]
  },
  {
   "cell_type": "code",
   "execution_count": 2,
   "metadata": {},
   "outputs": [
    {
     "data": {
      "text/plain": [
       "['x', 'a', 'y', 'b', 'z', 'c']"
      ]
     },
     "execution_count": 2,
     "metadata": {},
     "output_type": "execute_result"
    }
   ],
   "source": [
    "lista1 = [\"w\", \"x\", \"y\", \"z\"]\n",
    "lista2 = [\"r\", \"b\", \"c\", \"d\", \"e\"]\n",
    "\n",
    "\n",
    "def intercalar(l1, l2):\n",
    "    l3 = []\n",
    "    for i in range(len(l1)):\n",
    "        l3.append(l1[i])\n",
    "        l3.append(l2[i])\n",
    "    return l3\n",
    "\n",
    "\n",
    "resposta = intercalar(lista1, lista2)\n",
    "resposta"
   ]
  },
  {
   "cell_type": "code",
   "execution_count": 26,
   "metadata": {},
   "outputs": [
    {
     "name": "stdout",
     "output_type": "stream",
     "text": [
      "w\n",
      "x\n",
      "y\n",
      "z\n",
      "\n",
      "\n",
      "R\n",
      "S\n",
      "\n",
      "\n",
      "w\n",
      "R\n",
      "x\n",
      "S\n",
      "y\n",
      "z\n"
     ]
    }
   ],
   "source": [
    "class No:\n",
    "    def __init__(self, chave):\n",
    "        self.chave = chave\n",
    "        self.prox = None\n",
    "\n",
    "class ListaEncadeada:\n",
    "    def __init__(self):\n",
    "        self.head = None\n",
    "        self.tail = None\n",
    "        self.tam = 0\n",
    "\n",
    "    def adicionar_no(self, chave):\n",
    "        novo_no = No(chave)\n",
    "\n",
    "        if self.head is None:\n",
    "            self.head = novo_no\n",
    "        else:\n",
    "            self.tail.prox = novo_no\n",
    "\n",
    "        self.tail = novo_no\n",
    "        self.tam += 1\n",
    "\n",
    "    def imprimir_lista(self):\n",
    "        no_atual = self.head\n",
    "        while no_atual is not None:\n",
    "            print(no_atual.chave)\n",
    "            no_atual = no_atual.prox\n",
    "\n",
    "    def intercalar(self, lista1, lista2):\n",
    "        lista_C = ListaEncadeada()\n",
    "\n",
    "        no_lista1 = lista1.head\n",
    "        no_lista2 = lista2.head\n",
    "\n",
    "        while no_lista1 is not None and no_lista2 is not None:\n",
    "            lista_C.adicionar_no(no_lista1.chave)\n",
    "            lista_C.adicionar_no(no_lista2.chave)\n",
    "            \n",
    "            no_lista1 = no_lista1.prox\n",
    "            no_lista2 = no_lista2.prox\n",
    "\n",
    "\n",
    "        while no_lista1 is not None:\n",
    "            lista_C.adicionar_no(no_lista1.chave)\n",
    "            no_lista1 = no_lista1.prox\n",
    "\n",
    "        while no_lista2 is not None:\n",
    "            lista_C.adicionar_no(no_lista2.chave)\n",
    "            no_lista2 = no_lista2.prox\n",
    "\n",
    "        return lista_C\n",
    "\n",
    "\n",
    "# Exemplo de uso da lista encadeada\n",
    "lista_A = ListaEncadeada()\n",
    "lista_A.adicionar_no(\"w\")\n",
    "lista_A.adicionar_no(\"x\")\n",
    "lista_A.adicionar_no(\"y\")\n",
    "lista_A.adicionar_no(\"z\")\n",
    "lista_A.imprimir_lista()\n",
    "print(\"\\n\")\n",
    "\n",
    "# Exemplo B\n",
    "lista_B = ListaEncadeada()\n",
    "lista_B.adicionar_no(\"R\")\n",
    "lista_B.adicionar_no(\"S\")\n",
    "lista_B.imprimir_lista()\n",
    "print(\"\\n\")\n",
    "\n",
    "# Exemplo C\n",
    "lista_C = ListaEncadeada()\n",
    "lista_C = lista_C.intercalar(lista_A, lista_B)\n",
    "lista_C.imprimir_lista()\n"
   ]
  },
  {
   "cell_type": "code",
   "execution_count": null,
   "metadata": {},
   "outputs": [],
   "source": []
  }
 ],
 "metadata": {
  "kernelspec": {
   "display_name": "Python 3.10.10 64-bit",
   "language": "python",
   "name": "python3"
  },
  "language_info": {
   "codemirror_mode": {
    "name": "ipython",
    "version": 3
   },
   "file_extension": ".py",
   "mimetype": "text/x-python",
   "name": "python",
   "nbconvert_exporter": "python",
   "pygments_lexer": "ipython3",
   "version": "3.10.10"
  },
  "orig_nbformat": 4,
  "vscode": {
   "interpreter": {
    "hash": "e7370f93d1d0cde622a1f8e1c04877d8463912d04d973331ad4851f04de6915a"
   }
  }
 },
 "nbformat": 4,
 "nbformat_minor": 2
}
