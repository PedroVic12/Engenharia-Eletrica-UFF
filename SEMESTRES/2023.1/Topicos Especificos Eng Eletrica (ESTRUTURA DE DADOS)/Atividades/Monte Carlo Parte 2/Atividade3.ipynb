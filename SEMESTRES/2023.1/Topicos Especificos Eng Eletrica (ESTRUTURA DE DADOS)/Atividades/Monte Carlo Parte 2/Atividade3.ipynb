{
 "cells": [
  {
   "cell_type": "markdown",
   "metadata": {},
   "source": [
    "# 2.1 Parte I\n",
    "\n",
    "Supondo uma distribui ̧c ̃ao uniforme para a variável x ∼ U(a, b), implemente nas linguagens Python e C++ as seguintes versões do algoritmo anterior:\n",
    "\n",
    "1. Uma em C++, no qual se realiza um número de amostras Nmax fixo, definido (lido da tela) pelo usuário no início do processo. O vetor deve ser um array padrão;\n",
    "\n",
    "2. Uma em C++, no qual se realiza um número de amostras Nmax fixo, definido (lido da tela) pelo usuário no início do processo. O vetor deve ser um array padrão alocado dinamicamente na memória e não esquecer de destruir o vetor ao final do processo;\n",
    "\n",
    "3. Uma em C++ em que serão feitos tantos sorteios quanto necessário, ate que o parâmetro β seja inferior a uma tolerâncias β, definida (lida da tela) pelo usuário no início do processo. O vetor deve ser um array padrão alocado dinamicamente na memória, com tamanho igual ao número de sorteios realizados - não esquecer de destruir o vetor ao final do processo;\n",
    "\n",
    "4. Uma em C++ e outra em Python em que ser ̃ao feitos tantos sorteios quanto necessário, at ́e que o parâmetro β seja inferior a uma tolerâncias β, definida(lida da tela) pelo usuário no início do processo. O vetor deve ser uma lista dinâmica e utilizar o container list do Python e o container std::vector, da classe <vector> no C++;"
   ]
  },
  {
   "cell_type": "code",
   "execution_count": 1,
   "metadata": {},
   "outputs": [
    {
     "name": "stdout",
     "output_type": "stream",
     "text": [
      "Média:  11.928491133452948\n",
      "Desvio Padrão:  17.647560421686112\n",
      "Parâmetro Beta: 0.4678419546413773\n"
     ]
    }
   ],
   "source": [
    "import numpy as np\n",
    "import math\n",
    "\n",
    "# Funções\n",
    "def calcularDesempenho(x):\n",
    "    return 1 / (x**2)\n",
    "\n",
    "\n",
    "# Variáveis\n",
    "x = []\n",
    "d = []\n",
    "n = 0\n",
    "nMax = 10  # Defina o valor máximo de iterações desejado\n",
    "parametro1 = 0.0  # Parâmetro 1 da distribuição uniforme\n",
    "parametro2 = 1.0  # Parâmetro 2 da distribuição uniforme\n",
    "\n",
    "# Loop\n",
    "while n < nMax:\n",
    "    x_atual = np.random.uniform(parametro1, parametro2)\n",
    "    x.append(x_atual)\n",
    "    \n",
    "    d_atual = calcularDesempenho(x_atual)\n",
    "    d.append(d_atual)\n",
    "    \n",
    "    n += 1\n",
    "\n",
    "# Calculando\n",
    "N = n\n",
    "l = np.mean(d)\n",
    "s = np.std(d)\n",
    "beta = s / (l * math.sqrt(N))\n",
    "\n",
    "# Exibindo resultados\n",
    "print(\"Média: \", l)\n",
    "print(\"Desvio Padrão: \", s)\n",
    "print('Parâmetro Beta:', beta)\n"
   ]
  },
  {
   "cell_type": "markdown",
   "metadata": {},
   "source": [
    "2.2 Parte II\n",
    "\n",
    "Utilizando os algoritmos desenvolvidos, resolva o seguinte problema: A potência de uma usina eólica é dada por P = 0.05v³, onde v é a velocidade do vento. Considerando que a velocidade do vento tem distribui ̧c ̃ao uniforme no intervalo 7m/s a 14m/s, determine a potência média para a usina."
   ]
  },
  {
   "cell_type": "code",
   "execution_count": null,
   "metadata": {},
   "outputs": [],
   "source": []
  }
 ],
 "metadata": {
  "kernelspec": {
   "display_name": "Python 3.10.10 64-bit",
   "language": "python",
   "name": "python3"
  },
  "language_info": {
   "codemirror_mode": {
    "name": "ipython",
    "version": 3
   },
   "file_extension": ".py",
   "mimetype": "text/x-python",
   "name": "python",
   "nbconvert_exporter": "python",
   "pygments_lexer": "ipython3",
   "version": "3.10.10"
  },
  "orig_nbformat": 4,
  "vscode": {
   "interpreter": {
    "hash": "e7370f93d1d0cde622a1f8e1c04877d8463912d04d973331ad4851f04de6915a"
   }
  }
 },
 "nbformat": 4,
 "nbformat_minor": 2
}
