{
 "cells": [
  {
   "cell_type": "markdown",
   "metadata": {},
   "source": [
    "# 2.1 Parte I\n",
    "\n",
    "Supondo uma distribui ̧c ̃ao uniforme para a variável x ∼ U(a, b), implemente nas linguagens Python e C++ as seguintes versões do algoritmo anterior:\n",
    "\n",
    "1. Uma em C++, no qual se realiza um número de amostras Nmax fixo, definido (lido da tela) pelo usuário no início do processo. O vetor deve ser um array padrão;\n",
    "\n",
    "2. Uma em C++, no qual se realiza um número de amostras Nmax fixo, definido (lido da tela) pelo usuário no início do processo. O vetor deve ser um array padrão alocado dinamicamente na memória e não esquecer de destruir o vetor ao final do processo;\n",
    "\n",
    "3. Uma em C++ em que serão feitos tantos sorteios quanto necessário, ate que o parâmetro β seja inferior a uma tolerâncias β, definida (lida da tela) pelo usuário no início do processo. O vetor deve ser um array padrão alocado dinamicamente na memória, com tamanho igual ao número de sorteios realizados - não esquecer de destruir o vetor ao final do processo;\n",
    "\n",
    "4. Uma em C++ e outra em Python em que ser ̃ao feitos tantos sorteios quanto necessário, at ́e que o parâmetro β seja inferior a uma tolerâncias β, definida(lida da tela) pelo usuário no início do processo. O vetor deve ser uma lista dinâmica e utilizar o container list do Python e o container std::vector, da classe <vector> no C++;"
   ]
  },
  {
   "cell_type": "code",
   "execution_count": null,
   "metadata": {},
   "outputs": [],
   "source": []
  },
  {
   "cell_type": "markdown",
   "metadata": {},
   "source": [
    "2.2 Parte II\n",
    "\n",
    "Utilizando os algoritmos desenvolvidos, resolva o seguinte problema: A potência de uma usina eólica é dada por P = 0.05v³, onde v é a velocidade do vento. Considerando que a velocidade do vento tem distribui ̧c ̃ao uniforme no intervalo 7m/s a 14m/s, determine a potência média para a usina."
   ]
  },
  {
   "cell_type": "code",
   "execution_count": null,
   "metadata": {},
   "outputs": [],
   "source": []
  }
 ],
 "metadata": {
  "language_info": {
   "name": "python"
  },
  "orig_nbformat": 4
 },
 "nbformat": 4,
 "nbformat_minor": 2
}
