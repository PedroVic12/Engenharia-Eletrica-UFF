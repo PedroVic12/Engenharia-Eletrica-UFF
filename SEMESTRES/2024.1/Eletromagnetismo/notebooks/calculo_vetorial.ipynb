{
 "cells": [
  {
   "cell_type": "markdown",
   "metadata": {},
   "source": [
    "https://www.youtube.com/playlist?list=PLg0ijj_Zz1a4r6JNAIcKI3io8PKdmdMYD"
   ]
  },
  {
   "cell_type": "code",
   "execution_count": null,
   "metadata": {},
   "outputs": [],
   "source": []
  }
 ],
 "metadata": {
  "language_info": {
   "name": "python"
  }
 },
 "nbformat": 4,
 "nbformat_minor": 2
}
