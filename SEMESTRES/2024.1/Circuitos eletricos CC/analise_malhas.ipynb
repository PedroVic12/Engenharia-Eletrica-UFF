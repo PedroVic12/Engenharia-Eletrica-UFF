{
 "cells": [
  {
   "cell_type": "markdown",
   "metadata": {},
   "source": [
    "3.7)"
   ]
  },
  {
   "cell_type": "code",
   "execution_count": null,
   "metadata": {},
   "outputs": [],
   "source": [
    "A = [[1, 3, 6, -4], [1, 1, 0, 0], [0, 1, -1, 3], [0, 0, -4, 5]]\n",
    "\n",
    "B = [\n",
    "    i1,\n",
    "    i2,\n",
    "    i3,\n",
    "    i4,\n",
    "]\n",
    "\n",
    "V = [0, 5, 0, -5]"
   ]
  }
 ],
 "metadata": {
  "language_info": {
   "name": "python"
  }
 },
 "nbformat": 4,
 "nbformat_minor": 2
}
