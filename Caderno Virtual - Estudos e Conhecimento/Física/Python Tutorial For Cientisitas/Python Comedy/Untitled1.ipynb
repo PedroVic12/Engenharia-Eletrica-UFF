{
 "cells": [
  {
   "cell_type": "code",
   "execution_count": 1,
   "id": "5b305511-94c1-464a-a169-341df588f278",
   "metadata": {},
   "outputs": [],
   "source": [
    "from strangelibrary import strange_function"
   ]
  },
  {
   "cell_type": "code",
   "execution_count": null,
   "id": "7275fa63-24ef-423c-9121-867e83ff3ff1",
   "metadata": {},
   "outputs": [],
   "source": []
  }
 ],
 "metadata": {
  "kernelspec": {
   "display_name": "Python 3 (ipykernel)",
   "language": "python",
   "name": "python3"
  },
  "language_info": {
   "codemirror_mode": {
    "name": "ipython",
    "version": 3
   },
   "file_extension": ".py",
   "mimetype": "text/x-python",
   "name": "python",
   "nbconvert_exporter": "python",
   "pygments_lexer": "ipython3",
   "version": "3.9.12"
  }
 },
 "nbformat": 4,
 "nbformat_minor": 5
}
