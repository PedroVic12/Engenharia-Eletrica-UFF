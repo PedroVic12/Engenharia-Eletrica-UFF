{
 "cells": [
  {
   "cell_type": "code",
   "execution_count": 20,
   "metadata": {},
   "outputs": [
    {
     "name": "stdout",
     "output_type": "stream",
     "text": [
      "[ 1  2  3  4  5  6  7  8  9 10 11 12 13 14 15]\n",
      "120\n",
      "[  1   3   6  10  15  21  28  36  45  55  66  78  91 105 120]\n",
      "[ 0  1  2  3  4  5  6  7  8  9 10 11 12 13 14]\n",
      "[0.5 1.  1.5 2.  2.5 3.  3.5 4.  4.5 5.  5.5 6.  6.5 7.  7.5]\n"
     ]
    }
   ],
   "source": [
    "import numpy as np\n",
    "\n",
    "#Criando\n",
    "arr15 = np.arange(1, 16)\n",
    "print(arr15)\n",
    "\n",
    "\n",
    "#Soma\n",
    "sum = np.sum(arr15)\n",
    "print(sum)\n",
    "\n",
    "soma_acumulada = np.cumsum(arr15)\n",
    "print(soma_acumulada)\n",
    "\n",
    "#subtração\n",
    "sub = np.subtract(arr15, 1)\n",
    "print(sub)\n",
    "\n",
    "# divisao\n",
    "div = np.divide(arr15, 2)\n",
    "print(div)"
   ]
  },
  {
   "cell_type": "code",
   "execution_count": 11,
   "metadata": {},
   "outputs": [
    {
     "name": "stdout",
     "output_type": "stream",
     "text": [
      "[4 4 4]\n",
      "(2, 2) (2, 2)\n",
      "Multiplicando \n",
      "[[1 2]\n",
      " [3 4]] x \n",
      "[[5 6]\n",
      " [7 8]]\n",
      " Resultado =  [[19 22]\n",
      " [43 50]]\n"
     ]
    }
   ],
   "source": [
    "arr16 = np.array([3,2,1])\n",
    "arr17 = np.array([1,2,3])\n",
    "\n",
    "arr18 = np.add(arr16, arr17)\n",
    "print(arr18)\n",
    "\n",
    "\n",
    "#multplicação\n",
    "arr19 = np.array([[1,2],[3,4]])\n",
    "arr20 = np.array([[5,6],[7,8]])\n",
    "print(arr19.shape, arr20.shape)\n",
    "\n",
    "arr21 = np.dot(arr19, arr20)\n",
    "print(f\"Multiplicando \\n{arr19} x \\n{arr20}\\n Resultado =  {arr21}\")"
   ]
  },
  {
   "cell_type": "code",
   "execution_count": 15,
   "metadata": {},
   "outputs": [
    {
     "name": "stdout",
     "output_type": "stream",
     "text": [
      "Matiz  [[0 0 0 0 0 0 0 0 0 0]\n",
      " [0 1 0 0 0 0 0 0 0 0]\n",
      " [0 0 2 0 0 0 0 0 0 0]\n",
      " [0 0 0 3 0 0 0 0 0 0]\n",
      " [0 0 0 0 4 0 0 0 0 0]\n",
      " [0 0 0 0 0 5 0 0 0 0]\n",
      " [0 0 0 0 0 0 6 0 0 0]\n",
      " [0 0 0 0 0 0 0 7 0 0]\n",
      " [0 0 0 0 0 0 0 0 8 0]\n",
      " [0 0 0 0 0 0 0 0 0 9]]\n",
      "1\n",
      "[0 1 0 0 0 0 0 0 0 0]\n",
      "[0 0 2 0 0 0 0 0 0 0]\n"
     ]
    }
   ],
   "source": [
    "arr22 = np.diag(np.arange(3))\n",
    "\n",
    "print(\"Matiz \",arr22)\n",
    "\n",
    "#Fatiamento\n",
    "print(arr22[1,1])\n",
    "\n",
    "print(arr22[1])\n",
    "\n",
    "\n",
    "\n",
    "print(arr22[:,2])"
   ]
  },
  {
   "cell_type": "code",
   "execution_count": 19,
   "metadata": {},
   "outputs": [
    {
     "name": "stdout",
     "output_type": "stream",
     "text": [
      "[2 5 8]\n",
      "[False  True False  True]\n",
      "False\n"
     ]
    }
   ],
   "source": [
    "arr23 = np.arange(10)\n",
    "\n",
    "print(arr23[2:9:3])\n",
    "\n",
    "a = np.array([1,2,3,4])\n",
    "b = np.array([4,2,2,4])\n",
    " \n",
    "print(a == b)\n",
    "\n",
    "print(np.array_equal(a,b))\n"
   ]
  }
 ],
 "metadata": {
  "kernelspec": {
   "display_name": "Python 3",
   "language": "python",
   "name": "python3"
  },
  "language_info": {
   "codemirror_mode": {
    "name": "ipython",
    "version": 3
   },
   "file_extension": ".py",
   "mimetype": "text/x-python",
   "name": "python",
   "nbconvert_exporter": "python",
   "pygments_lexer": "ipython3",
   "version": "3.11.6"
  }
 },
 "nbformat": 4,
 "nbformat_minor": 2
}
