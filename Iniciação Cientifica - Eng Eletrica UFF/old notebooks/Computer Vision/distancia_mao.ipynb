{
 "cells": [
  {
   "cell_type": "code",
   "execution_count": 7,
   "metadata": {},
   "outputs": [
    {
     "name": "stderr",
     "output_type": "stream",
     "text": [
      "[ WARN:0@159.026] global cap_v4l.cpp:997 open VIDEOIO(V4L2:/dev/video0): can't open camera by index\n",
      "[ERROR:0@159.027] global obsensor_uvc_stream_channel.cpp:159 getStreamChannelGroup Camera index out of range\n",
      "I0000 00:00:1708543577.865269 1061719 gl_context_egl.cc:85] Successfully initialized EGL. Major : 1 Minor: 5\n",
      "I0000 00:00:1708543577.867985 1064170 gl_context.cc:344] GL version: 3.2 (OpenGL ES 3.2 Mesa 23.3.5 (git-4ba0bb5743)), renderer: AMD Radeon Vega 8 Graphics (radeonsi, raven, LLVM 16.0.6, DRM 3.54, 6.6.10-1-MANJARO)\n"
     ]
    },
    {
     "ename": "error",
     "evalue": "OpenCV(4.9.0) /io/opencv/modules/imgproc/src/color.cpp:196: error: (-215:Assertion failed) !_src.empty() in function 'cvtColor'\n",
     "output_type": "error",
     "traceback": [
      "\u001b[0;31m---------------------------------------------------------------------------\u001b[0m",
      "\u001b[0;31merror\u001b[0m                                     Traceback (most recent call last)",
      "Cell \u001b[0;32mIn[7], line 14\u001b[0m\n\u001b[1;32m     11\u001b[0m \u001b[38;5;28;01mwhile\u001b[39;00m \u001b[38;5;28;01mTrue\u001b[39;00m:\n\u001b[1;32m     12\u001b[0m     check,img \u001b[38;5;241m=\u001b[39m video\u001b[38;5;241m.\u001b[39mread()\n\u001b[0;32m---> 14\u001b[0m     hands\u001b[38;5;241m=\u001b[39m \u001b[43mdetector\u001b[49m\u001b[38;5;241;43m.\u001b[39;49m\u001b[43mfindHands\u001b[49m\u001b[43m(\u001b[49m\u001b[43mimg\u001b[49m\u001b[43m,\u001b[49m\u001b[43m \u001b[49m\u001b[43mdraw\u001b[49m\u001b[38;5;241;43m=\u001b[39;49m\u001b[43m \u001b[49m\u001b[38;5;28;43;01mFalse\u001b[39;49;00m\u001b[43m)\u001b[49m\n\u001b[1;32m     16\u001b[0m     \u001b[38;5;28;01mif\u001b[39;00m hands:\n\u001b[1;32m     17\u001b[0m         hand1 \u001b[38;5;241m=\u001b[39m hands[\u001b[38;5;241m0\u001b[39m]\n",
      "File \u001b[0;32m~/.local/lib/python3.11/site-packages/cvzone/HandTrackingModule.py:54\u001b[0m, in \u001b[0;36mHandDetector.findHands\u001b[0;34m(self, img, draw, flipType)\u001b[0m\n\u001b[1;32m     47\u001b[0m \u001b[38;5;28;01mdef\u001b[39;00m \u001b[38;5;21mfindHands\u001b[39m(\u001b[38;5;28mself\u001b[39m, img, draw\u001b[38;5;241m=\u001b[39m\u001b[38;5;28;01mTrue\u001b[39;00m, flipType\u001b[38;5;241m=\u001b[39m\u001b[38;5;28;01mTrue\u001b[39;00m):\n\u001b[1;32m     48\u001b[0m \u001b[38;5;250m    \u001b[39m\u001b[38;5;124;03m\"\"\"\u001b[39;00m\n\u001b[1;32m     49\u001b[0m \u001b[38;5;124;03m    Finds hands in a BGR image.\u001b[39;00m\n\u001b[1;32m     50\u001b[0m \u001b[38;5;124;03m    :param img: Image to find the hands in.\u001b[39;00m\n\u001b[1;32m     51\u001b[0m \u001b[38;5;124;03m    :param draw: Flag to draw the output on the image.\u001b[39;00m\n\u001b[1;32m     52\u001b[0m \u001b[38;5;124;03m    :return: Image with or without drawings\u001b[39;00m\n\u001b[1;32m     53\u001b[0m \u001b[38;5;124;03m    \"\"\"\u001b[39;00m\n\u001b[0;32m---> 54\u001b[0m     imgRGB \u001b[38;5;241m=\u001b[39m \u001b[43mcv2\u001b[49m\u001b[38;5;241;43m.\u001b[39;49m\u001b[43mcvtColor\u001b[49m\u001b[43m(\u001b[49m\u001b[43mimg\u001b[49m\u001b[43m,\u001b[49m\u001b[43m \u001b[49m\u001b[43mcv2\u001b[49m\u001b[38;5;241;43m.\u001b[39;49m\u001b[43mCOLOR_BGR2RGB\u001b[49m\u001b[43m)\u001b[49m\n\u001b[1;32m     55\u001b[0m     \u001b[38;5;28mself\u001b[39m\u001b[38;5;241m.\u001b[39mresults \u001b[38;5;241m=\u001b[39m \u001b[38;5;28mself\u001b[39m\u001b[38;5;241m.\u001b[39mhands\u001b[38;5;241m.\u001b[39mprocess(imgRGB)\n\u001b[1;32m     56\u001b[0m     allHands \u001b[38;5;241m=\u001b[39m []\n",
      "\u001b[0;31merror\u001b[0m: OpenCV(4.9.0) /io/opencv/modules/imgproc/src/color.cpp:196: error: (-215:Assertion failed) !_src.empty() in function 'cvtColor'\n"
     ]
    }
   ],
   "source": [
    "import cv2\n",
    "from cvzone.HandTrackingModule import HandDetector\n",
    "\n",
    "video = cv2.VideoCapture(0)\n",
    "\n",
    "video.set(3,1280)\n",
    "video.set(4,720)\n",
    "\n",
    "detector = HandDetector(detectionCon=0.8, maxHands = 1)\n",
    "\n",
    "while True:\n",
    "    check,img = video.read()\n",
    "        \n",
    "    hands= detector.findHands(img, draw= False)\n",
    "\n",
    "    if hands:\n",
    "        hand1 = hands[0]\n",
    "        lmList1 = hand1[\"lmList\"]\n",
    "        bbox1 = hand1[\"bbox\"]\n",
    "        centerPoint1 = hand1[\"center\"]\n",
    "        handType1 = hand1[\"type\"]\n",
    "\n",
    "        fingers1 = detector.fingersUp(hand1)\n",
    "        length, info, img = detector.findDistance(lmList1[8], lmList1[12], img)\n",
    "        print(length)\n",
    "        cv2.circle(img, lmList1[8], 15, (0,0,255), cv2.FILLED)\n",
    "        cv2.circle(img, lmList1[12], 15, (0,0,255), cv2.FILLED)\n",
    "        \n",
    "        # Drawing a line between the tip of index and middle finger\n",
    "        cv2.line(img, lmList1[8], lmList1[12], (255,0,255), 3)\n",
    "\n",
    "    cv2.imshow(\"Image\", img)\n",
    "    cv2.waitKey(1)"
   ]
  },
  {
   "cell_type": "code",
   "execution_count": null,
   "metadata": {},
   "outputs": [],
   "source": []
  }
 ],
 "metadata": {
  "kernelspec": {
   "display_name": "Python 3",
   "language": "python",
   "name": "python3"
  },
  "language_info": {
   "codemirror_mode": {
    "name": "ipython",
    "version": 3
   },
   "file_extension": ".py",
   "mimetype": "text/x-python",
   "name": "python",
   "nbconvert_exporter": "python",
   "pygments_lexer": "ipython3",
   "version": "3.11.6"
  }
 },
 "nbformat": 4,
 "nbformat_minor": 2
}
