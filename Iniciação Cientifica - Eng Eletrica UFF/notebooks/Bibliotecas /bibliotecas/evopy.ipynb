{
 "cells": [
  {
   "cell_type": "code",
   "execution_count": 1,
   "metadata": {},
   "outputs": [
    {
     "name": "stdout",
     "output_type": "stream",
     "text": [
      "Collecting evopy\n",
      "  Downloading evopy-0.3-py3-none-any.whl (8.5 kB)\n",
      "Requirement already satisfied: numpy in c:\\users\\pedrovictorrodrigues\\appdata\\local\\programs\\python\\python311\\lib\\site-packages (from evopy) (1.25.1)\n",
      "Installing collected packages: evopy\n",
      "Successfully installed evopy-0.3\n"
     ]
    },
    {
     "name": "stderr",
     "output_type": "stream",
     "text": [
      "\n",
      "[notice] A new release of pip is available: 23.2.1 -> 24.0\n",
      "[notice] To update, run: python.exe -m pip install --upgrade pip\n"
     ]
    }
   ],
   "source": [
    "!pip install evopy"
   ]
  },
  {
   "cell_type": "code",
   "execution_count": 3,
   "metadata": {},
   "outputs": [
    {
     "name": "stdout",
     "output_type": "stream",
     "text": [
      "[4.33300545e-05 9.89981048e-01]\n"
     ]
    }
   ],
   "source": [
    "\n",
    "\n",
    "import numpy as np \n",
    "from evopy import EvoPy\n",
    "\n",
    "\n",
    "evopy = EvoPy(\n",
    "    lambda X: 5 + sum([(x**2 - 5 * np.cos(2 * np.pi * x)) for x in X]), \n",
    "    2, \n",
    "    generations=1000, \n",
    "    population_size=100\n",
    ")\n",
    "best_coordinates = evopy.run()\n",
    "print(best_coordinates)"
   ]
  },
  {
   "cell_type": "code",
   "execution_count": 6,
   "metadata": {},
   "outputs": [
    {
     "ename": "ModuleNotFoundError",
     "evalue": "No module named 'evopy.operators'",
     "output_type": "error",
     "traceback": [
      "\u001b[1;31m---------------------------------------------------------------------------\u001b[0m",
      "\u001b[1;31mModuleNotFoundError\u001b[0m                       Traceback (most recent call last)",
      "Cell \u001b[1;32mIn[6], line 3\u001b[0m\n\u001b[0;32m      1\u001b[0m \u001b[38;5;28;01mimport\u001b[39;00m \u001b[38;5;21;01mrandom\u001b[39;00m\n\u001b[0;32m      2\u001b[0m \u001b[38;5;28;01mfrom\u001b[39;00m \u001b[38;5;21;01mevopy\u001b[39;00m \u001b[38;5;28;01mimport\u001b[39;00m \u001b[38;5;241m*\u001b[39m\n\u001b[1;32m----> 3\u001b[0m \u001b[38;5;28;01mfrom\u001b[39;00m \u001b[38;5;21;01mevopy\u001b[39;00m\u001b[38;5;21;01m.\u001b[39;00m\u001b[38;5;21;01moperators\u001b[39;00m\u001b[38;5;21;01m.\u001b[39;00m\u001b[38;5;21;01mcrossover\u001b[39;00m \u001b[38;5;28;01mimport\u001b[39;00m BLXAlphaCrossover\n\u001b[0;32m      4\u001b[0m \u001b[38;5;28;01mfrom\u001b[39;00m \u001b[38;5;21;01mevopy\u001b[39;00m\u001b[38;5;21;01m.\u001b[39;00m\u001b[38;5;21;01moperators\u001b[39;00m\u001b[38;5;21;01m.\u001b[39;00m\u001b[38;5;21;01mmutation\u001b[39;00m \u001b[38;5;28;01mimport\u001b[39;00m PolynomialMutation\n\u001b[0;32m      5\u001b[0m \u001b[38;5;28;01mfrom\u001b[39;00m \u001b[38;5;21;01mevopy\u001b[39;00m\u001b[38;5;21;01m.\u001b[39;00m\u001b[38;5;21;01mproblem\u001b[39;00m \u001b[38;5;28;01mimport\u001b[39;00m ProblemType\n",
      "\u001b[1;31mModuleNotFoundError\u001b[0m: No module named 'evopy.operators'"
     ]
    }
   ],
   "source": [
    "import random\n",
    "from evopy import *\n",
    "from evopy.operators.crossover import BLXAlphaCrossover\n",
    "from evopy.operators.mutation import PolynomialMutation\n",
    "from evopy.problem import ProblemType\n",
    "\n",
    "# Definindo o tipo de problema\n",
    "problem_type = ProblemType.CONTINUOUS\n",
    "\n",
    "# Definindo a dimensão do problema\n",
    "dimension = 10\n",
    "\n",
    "# Definindo os limites da variável\n",
    "lower_bound = -5.12\n",
    "upper_bound = 5.12\n",
    "\n",
    "# Criando a função de Rastrigin\n",
    "def rastrigin(individual):\n",
    "    sum = 0.0\n",
    "    for i in range(dimension):\n",
    "        sum += individual[i]**2 - 10.0 * np.cos(2.0 * np.pi * individual[i])\n",
    "    return 10.0 * dimension + sum\n",
    "\n",
    "# Importando os operadores de cruzamento e mutação\n",
    "\n",
    "\n",
    "# Definindo o tamanho da população\n",
    "population_size = 50\n",
    "\n",
    "# Definindo a taxa de mutação\n",
    "mutation_rate = 0.1\n",
    "\n",
    "# Definindo a taxa de cruzamento\n",
    "crossover_rate = 0.8\n",
    "\n",
    "# Criando o AE\n",
    "ea = EvolutionaryAlgorithm(problem_type, dimension, population_size, mutation_rate, crossover_rate)\n",
    "\n",
    "# Definindo a função de fitness\n",
    "def fitness_function(individual):\n",
    "    return -rastrigin(individual)\n",
    "\n",
    "# Definindo os operadores de cruzamento e mutação\n",
    "crossover_operator = BLXAlphaCrossover(alpha=0.5)\n",
    "mutation_operator = PolynomialMutation(eta=20.0)\n",
    "\n",
    "# Definindo os operadores no AE\n",
    "ea.set_crossover_operator(crossover_operator)\n",
    "ea.set_mutation_operator(mutation_operator)\n",
    "\n",
    "# Executando o AE por 100 gerações\n",
    "ea.evolve(100)\n",
    "\n",
    "# Obtendo a melhor solução\n",
    "best_solution = ea.get_best_individual()\n",
    "\n",
    "# Calculando o valor da função de fitness da melhor solução\n",
    "best_fitness = fitness_function(best_solution)\n",
    "\n",
    "# Imprimindo a melhor solução e o valor da função de fitness\n",
    "print(\"Melhor solução:\", best_solution)\n",
    "print(\"Valor da função de fitness:\", best_fitness)\n"
   ]
  }
 ],
 "metadata": {
  "kernelspec": {
   "display_name": "Python 3",
   "language": "python",
   "name": "python3"
  },
  "language_info": {
   "codemirror_mode": {
    "name": "ipython",
    "version": 3
   },
   "file_extension": ".py",
   "mimetype": "text/x-python",
   "name": "python",
   "nbconvert_exporter": "python",
   "pygments_lexer": "ipython3",
   "version": "3.11.4"
  }
 },
 "nbformat": 4,
 "nbformat_minor": 2
}
