{
 "cells": [
  {
   "cell_type": "code",
   "execution_count": 1,
   "metadata": {},
   "outputs": [
    {
     "name": "stderr",
     "output_type": "stream",
     "text": [
      "ERROR: Could not find a version that satisfies the requirement pyeavo (from versions: none)\n",
      "ERROR: No matching distribution found for pyeavo\n",
      "\n",
      "[notice] A new release of pip is available: 23.2.1 -> 24.0\n",
      "[notice] To update, run: python.exe -m pip install --upgrade pip\n"
     ]
    }
   ],
   "source": [
    "!pip install pyeavo"
   ]
  },
  {
   "cell_type": "code",
   "execution_count": 2,
   "metadata": {},
   "outputs": [
    {
     "ename": "ModuleNotFoundError",
     "evalue": "No module named 'pyeavo'",
     "output_type": "error",
     "traceback": [
      "\u001b[1;31m---------------------------------------------------------------------------\u001b[0m",
      "\u001b[1;31mModuleNotFoundError\u001b[0m                       Traceback (most recent call last)",
      "Cell \u001b[1;32mIn[2], line 2\u001b[0m\n\u001b[0;32m      1\u001b[0m \u001b[38;5;28;01mimport\u001b[39;00m \u001b[38;5;21;01mrandom\u001b[39;00m\n\u001b[1;32m----> 2\u001b[0m \u001b[38;5;28;01mfrom\u001b[39;00m \u001b[38;5;21;01mpyeavo\u001b[39;00m \u001b[38;5;28;01mimport\u001b[39;00m \u001b[38;5;241m*\u001b[39m\n\u001b[0;32m      4\u001b[0m \u001b[38;5;66;03m# Definindo o tipo de problema\u001b[39;00m\n\u001b[0;32m      5\u001b[0m problem_type \u001b[38;5;241m=\u001b[39m ProblemType\u001b[38;5;241m.\u001b[39mTSP\n",
      "\u001b[1;31mModuleNotFoundError\u001b[0m: No module named 'pyeavo'"
     ]
    }
   ],
   "source": [
    "import random\n",
    "from pyeavo import *\n",
    "\n",
    "# Definindo o tipo de problema\n",
    "problem_type = ProblemType.TSP\n",
    "\n",
    "# Definindo o número de cidades\n",
    "num_cities = 10\n",
    "\n",
    "# Criando uma lista de cidades\n",
    "cities = []\n",
    "for i in range(num_cities):\n",
    "    cities.append((random.randint(0, 100), random.randint(0, 100)))\n",
    "\n",
    "# Calculando a matriz de distâncias\n",
    "distances = distance_matrix(cities)\n",
    "\n",
    "# Definindo o tamanho da população\n",
    "population_size = 50\n",
    "\n",
    "# Definindo a taxa de mutação\n",
    "mutation_rate = 0.1\n",
    "\n",
    "# Definindo a taxa de cruzamento\n",
    "crossover_rate = 0.8\n",
    "\n",
    "# Criando o AE\n",
    "ea = EvolutionaryAlgorithm(problem_type, population_size, mutation_rate, crossover_rate)\n",
    "\n",
    "def fitness_function(individual):\n",
    "    return total_distance(individual, distances)\n",
    "\n",
    "# Definindo a função de fitness\n",
    "ea.set_fitness_function(fitness_function)\n",
    "\n",
    "\n",
    "# Executando o AE por 100 gerações\n",
    "ea.evolve(100)\n",
    "\n",
    "# Obtendo a melhor solução\n",
    "best_solution = ea.get_best_individual()\n",
    "\n",
    "# Calculando a distância total da melhor solução\n",
    "best_distance = total_distance(best_solution, distances)\n",
    "\n",
    "# Imprimindo a melhor solução e a distância total\n",
    "print(\"Melhor solução:\", best_solution)\n",
    "print(\"Distância total:\", best_distance)\n",
    "\n",
    "# Importando a biblioteca matplotlib\n",
    "import matplotlib.pyplot as plt\n",
    "\n",
    "# Plotando as cidades e a rota\n",
    "plt.plot([city[0] for city in cities], [city[1] for city in cities], \"ro\")\n",
    "for i in range(len(best_solution) - 1):\n",
    "    plt.plot([cities[best_solution[i]][0], cities[best_solution[i + 1]][0]],\n",
    "             [cities[best_solution[i]][1], cities[best_solution[i + 1]][1]], \"b-\")\n",
    "plt.show()\n"
   ]
  }
 ],
 "metadata": {
  "kernelspec": {
   "display_name": "Python 3",
   "language": "python",
   "name": "python3"
  },
  "language_info": {
   "codemirror_mode": {
    "name": "ipython",
    "version": 3
   },
   "file_extension": ".py",
   "mimetype": "text/x-python",
   "name": "python",
   "nbconvert_exporter": "python",
   "pygments_lexer": "ipython3",
   "version": "3.11.4"
  }
 },
 "nbformat": 4,
 "nbformat_minor": 2
}
