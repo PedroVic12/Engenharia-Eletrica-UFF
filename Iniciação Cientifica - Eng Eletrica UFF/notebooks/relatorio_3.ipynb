{
 "cells": [
  {
   "cell_type": "markdown",
   "metadata": {},
   "source": [
    "## Bibliotecas Algoriitmos Evolutivos\n",
    "\n",
    "1)\n",
    "2)\n",
    "3) \n",
    "\n",
    "\n",
    "### \t**Biblioteca de Funciones Comunes:**"
   ]
  },
  {
   "cell_type": "code",
   "execution_count": null,
   "metadata": {},
   "outputs": [],
   "source": []
  }
 ],
 "metadata": {
  "language_info": {
   "name": "python"
  }
 },
 "nbformat": 4,
 "nbformat_minor": 2
}
