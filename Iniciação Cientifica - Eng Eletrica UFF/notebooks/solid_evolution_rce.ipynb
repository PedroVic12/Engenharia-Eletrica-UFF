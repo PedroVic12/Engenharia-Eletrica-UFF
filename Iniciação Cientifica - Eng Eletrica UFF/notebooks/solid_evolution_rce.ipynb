{
 "cells": [
  {
   "cell_type": "code",
   "execution_count": 1,
   "metadata": {},
   "outputs": [],
   "source": [
    "from deap import base, creator, tools\n",
    "import random\n",
    "from faker import Faker\n",
    "\n",
    "class DataPreparation:\n",
    "    def __init__(self, pop_size):\n",
    "        self.pop_size = pop_size\n",
    "        self.used_names = set()\n",
    "        self.fake = Faker()\n",
    "        self.setup_deap()\n",
    "\n",
    "    def generate_unique_name(self):\n",
    "        while True:\n",
    "            name = self.fake.name()\n",
    "            if name not in self.used_names:\n",
    "                self.used_names.add(name)\n",
    "                return name\n",
    "\n",
    "    def create_individual(self, individual_creator):\n",
    "        genes = [random.uniform(-5.12, 5.12) for _ in range(10)]\n",
    "        name = self.generate_unique_name()\n",
    "        return individual_creator(genes=genes, name=name)\n",
    "\n",
    "    def setup_deap(self):\n",
    "        creator.create(\"FitnessMax\", base.Fitness, weights=(1.0,))\n",
    "        creator.create(\"Individual\", list, fitness=creator.FitnessMax)\n",
    "\n",
    "        self.toolbox = base.Toolbox()\n",
    "        self.toolbox.register(\"attr_float\", random.uniform, -5.12, 5.12)\n",
    "        self.toolbox.register(\"individual\", tools.initIterate, creator.Individual,\n",
    "                              lambda: [self.toolbox.attr_float() for _ in range(10)])\n",
    "        self.toolbox.register(\"population\", tools.initRepeat, list, self.toolbox.individual, n=self.pop_size)\n"
   ]
  },
  {
   "cell_type": "code",
   "execution_count": 2,
   "metadata": {},
   "outputs": [],
   "source": [
    "import numpy as np\n",
    "\n",
    "class MathOperations:\n",
    "    @staticmethod\n",
    "    def rastrigin(individual):\n",
    "        A = 10\n",
    "        n = len(individual['genes'])\n",
    "        return A * n + sum([(x ** 2 - A * np.cos(2 * np.pi * x)) for x in individual['genes']]),\n"
   ]
  },
  {
   "cell_type": "code",
   "execution_count": 4,
   "metadata": {},
   "outputs": [
    {
     "ename": "TypeError",
     "evalue": "DataPreparation.__init__() missing 2 required positional arguments: 'pop_size' and 'individual_size'",
     "output_type": "error",
     "traceback": [
      "\u001b[0;31m---------------------------------------------------------------------------\u001b[0m",
      "\u001b[0;31mTypeError\u001b[0m                                 Traceback (most recent call last)",
      "Cell \u001b[0;32mIn[4], line 18\u001b[0m\n\u001b[1;32m     15\u001b[0m         \u001b[38;5;28;01mpass\u001b[39;00m\n\u001b[1;32m     17\u001b[0m \u001b[38;5;28;01mif\u001b[39;00m \u001b[38;5;18m__name__\u001b[39m \u001b[38;5;241m==\u001b[39m \u001b[38;5;124m\"\u001b[39m\u001b[38;5;124m__main__\u001b[39m\u001b[38;5;124m\"\u001b[39m:\n\u001b[0;32m---> 18\u001b[0m     algoritmo \u001b[38;5;241m=\u001b[39m \u001b[43mAlgoritmoEvolutivo\u001b[49m\u001b[43m(\u001b[49m\u001b[43mpop_size\u001b[49m\u001b[38;5;241;43m=\u001b[39;49m\u001b[38;5;241;43m200\u001b[39;49m\u001b[43m,\u001b[49m\u001b[43m \u001b[49m\u001b[43mgenerations\u001b[49m\u001b[38;5;241;43m=\u001b[39;49m\u001b[38;5;241;43m5\u001b[39;49m\u001b[43m,\u001b[49m\u001b[43m \u001b[49m\u001b[43mcrossover_prob\u001b[49m\u001b[38;5;241;43m=\u001b[39;49m\u001b[38;5;241;43m0.9\u001b[39;49m\u001b[43m,\u001b[49m\u001b[43m \u001b[49m\u001b[43mmutation_prob\u001b[49m\u001b[38;5;241;43m=\u001b[39;49m\u001b[38;5;241;43m0.05\u001b[39;49m\u001b[43m,\u001b[49m\u001b[43m \u001b[49m\u001b[43mgenes_length\u001b[49m\u001b[38;5;241;43m=\u001b[39;49m\u001b[38;5;241;43m10\u001b[39;49m\u001b[43m)\u001b[49m\n\u001b[1;32m     19\u001b[0m     algoritmo\u001b[38;5;241m.\u001b[39mrun()\n",
      "Cell \u001b[0;32mIn[4], line 10\u001b[0m, in \u001b[0;36mAlgoritmoEvolutivo.__init__\u001b[0;34m(self, pop_size, generations, crossover_prob, mutation_prob, genes_length)\u001b[0m\n\u001b[1;32m      8\u001b[0m \u001b[38;5;28mself\u001b[39m\u001b[38;5;241m.\u001b[39mmutation_prob \u001b[38;5;241m=\u001b[39m mutation_prob\n\u001b[1;32m      9\u001b[0m \u001b[38;5;28mself\u001b[39m\u001b[38;5;241m.\u001b[39mgenes_length \u001b[38;5;241m=\u001b[39m genes_length\n\u001b[0;32m---> 10\u001b[0m \u001b[38;5;28mself\u001b[39m\u001b[38;5;241m.\u001b[39mdata_preparation \u001b[38;5;241m=\u001b[39m \u001b[43mDataPreparation\u001b[49m\u001b[43m(\u001b[49m\u001b[43m)\u001b[49m\n\u001b[1;32m     11\u001b[0m \u001b[38;5;28mself\u001b[39m\u001b[38;5;241m.\u001b[39mmath_operations \u001b[38;5;241m=\u001b[39m MathOperations()\n",
      "\u001b[0;31mTypeError\u001b[0m: DataPreparation.__init__() missing 2 required positional arguments: 'pop_size' and 'individual_size'"
     ]
    }
   ],
   "source": [
    "from deap import base, creator, tools, algorithms\n",
    "\n",
    "class AlgoritmoEvolutivo:\n",
    "    def __init__(self, pop_size, generations, crossover_prob, mutation_prob, genes_length):\n",
    "        self.pop_size = pop_size\n",
    "        self.generations = generations\n",
    "        self.crossover_prob = crossover_prob\n",
    "        self.mutation_prob = mutation_prob\n",
    "        self.genes_length = genes_length\n",
    "        self.data_preparation = DataPreparation()\n",
    "        self.math_operations = MathOperations()\n",
    "\n",
    "    def run(self):\n",
    "        # Implementação do algoritmo aqui, usando self.toolbox e outras configurações.\n",
    "        pass\n",
    "\n",
    "if __name__ == \"__main__\":\n",
    "    algoritmo = AlgoritmoEvolutivo(pop_size=200, generations=5, crossover_prob=0.9, mutation_prob=0.05, genes_length=10)\n",
    "    algoritmo.run()\n"
   ]
  }
 ],
 "metadata": {
  "kernelspec": {
   "display_name": "Python 3",
   "language": "python",
   "name": "python3"
  },
  "language_info": {
   "codemirror_mode": {
    "name": "ipython",
    "version": 3
   },
   "file_extension": ".py",
   "mimetype": "text/x-python",
   "name": "python",
   "nbconvert_exporter": "python",
   "pygments_lexer": "ipython3",
   "version": "3.11.6"
  }
 },
 "nbformat": 4,
 "nbformat_minor": 2
}
