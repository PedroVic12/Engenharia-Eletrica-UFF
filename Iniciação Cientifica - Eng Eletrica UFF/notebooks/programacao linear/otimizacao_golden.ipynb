{
 "cells": [
  {
   "cell_type": "code",
   "execution_count": 4,
   "metadata": {},
   "outputs": [
    {
     "data": {
      "text/latex": [
       "$$\\operatorname{F}\\left(x\\right)=2405$$"
      ],
      "text/plain": [
       "<IPython.core.display.Latex object>"
      ]
     },
     "metadata": {},
     "output_type": "display_data"
    },
    {
     "name": "stdout",
     "output_type": "stream",
     "text": [
      "$$\\operatorname{F}\\left(x\\right)=2405$$\n"
     ]
    },
    {
     "name": "stderr",
     "output_type": "stream",
     "text": [
      "/home/pedrov/.local/lib/python3.11/site-packages/scipy/optimize/_optimize.py:3085: RuntimeWarning: overflow encountered in scalar multiply\n",
      "  if (w - xc) * (xb - w) > 0.0:\n",
      "/home/pedrov/.local/lib/python3.11/site-packages/scipy/optimize/_optimize.py:3105: RuntimeWarning: overflow encountered in scalar multiply\n",
      "  elif (w - wlim)*(xc - w) > 0.0:\n",
      "/home/pedrov/.local/lib/python3.11/site-packages/scipy/optimize/_optimize.py:3101: RuntimeWarning: overflow encountered in scalar multiply\n",
      "  elif (w - wlim)*(wlim - xc) >= 0.0:\n",
      "/home/pedrov/.local/lib/python3.11/site-packages/scipy/optimize/_optimize.py:3077: RuntimeWarning: overflow encountered in scalar divide\n",
      "  w = xb - ((xb - xc) * tmp2 - (xb - xa) * tmp1) / denom\n",
      "/home/pedrov/.local/lib/python3.11/site-packages/scipy/optimize/_optimize.py:3077: RuntimeWarning: overflow encountered in scalar multiply\n",
      "  w = xb - ((xb - xc) * tmp2 - (xb - xa) * tmp1) / denom\n",
      "/home/pedrov/.local/lib/python3.11/site-packages/scipy/optimize/_optimize.py:3070: RuntimeWarning: overflow encountered in scalar multiply\n",
      "  tmp1 = (xb - xa) * (fb - fc)\n",
      "/home/pedrov/.local/lib/python3.11/site-packages/scipy/optimize/_optimize.py:3071: RuntimeWarning: overflow encountered in scalar multiply\n",
      "  tmp2 = (xb - xc) * (fb - fa)\n",
      "/home/pedrov/.local/lib/python3.11/site-packages/scipy/optimize/_optimize.py:3072: RuntimeWarning: invalid value encountered in scalar subtract\n",
      "  val = tmp2 - tmp1\n",
      "/tmp/ipykernel_10570/2041520565.py:7: RuntimeWarning: overflow encountered in scalar multiply\n",
      "  return (100 - x)*22.5 + 100*x\n"
     ]
    },
    {
     "data": {
      "text/latex": [
       "$$Golden=-1.797693154895821\\times{10}^{+306}$$"
      ],
      "text/plain": [
       "<IPython.core.display.Latex object>"
      ]
     },
     "metadata": {},
     "output_type": "display_data"
    },
    {
     "name": "stdout",
     "output_type": "stream",
     "text": [
      "$$Golden=-1.797693154895821\\times{10}^{+306}$$\n",
      "Newton = 100.0\n"
     ]
    },
    {
     "name": "stderr",
     "output_type": "stream",
     "text": [
      "/tmp/ipykernel_10570/2041520565.py:20: DeprecationWarning: scipy.misc.derivative is deprecated in SciPy v1.10.0; and will be completely removed in SciPy v1.12.0. You may consider using findiff: https://github.com/maroba/findiff or numdifftools: https://github.com/pbrod/numdifftools\n",
      "  return derivative(f, x, dx=1e-6)\n",
      "/tmp/ipykernel_10570/2041520565.py:23: DeprecationWarning: scipy.misc.derivative is deprecated in SciPy v1.10.0; and will be completely removed in SciPy v1.12.0. You may consider using findiff: https://github.com/maroba/findiff or numdifftools: https://github.com/pbrod/numdifftools\n",
      "  return derivative(f,x,dx=1e-6, n=2)\n"
     ]
    }
   ],
   "source": [
    "from scipy.optimize import golden\n",
    "from scipy.misc import derivative\n",
    "from scipy.optimize import newton\n",
    "from pytexit import py2tex\n",
    "\n",
    "def func(x):\n",
    "    return (100 - x)*22.5 + 100*x\n",
    "\n",
    "\n",
    "function = func(2)\n",
    "py2tex(f\"F(x) == {function}\")\n",
    "x_opt = golden(func, brack=(0, 100))\n",
    "py2tex(f\"Golden = {x_opt} \")\n",
    "\n",
    "\n",
    "def f(x):\n",
    "    return (100 -x)**2\n",
    "\n",
    "def df(x):\n",
    "    return derivative(f, x, dx=1e-6)\n",
    "\n",
    "def df2(x):\n",
    "    return derivative(f,x,dx=1e-6, n=2)\n",
    "\n",
    "# Testing the function with a single point\n",
    "x_opt = newton(df, 30,df2)\n",
    "print(\"Newton =\",x_opt)"
   ]
  },
  {
   "cell_type": "code",
   "execution_count": 6,
   "metadata": {},
   "outputs": [
    {
     "name": "stdout",
     "output_type": "stream",
     "text": [
      "100.0\n"
     ]
    },
    {
     "name": "stderr",
     "output_type": "stream",
     "text": [
      "/tmp/ipykernel_10570/2701953720.py:5: DeprecationWarning: scipy.misc.derivative is deprecated in SciPy v1.10.0; and will be completely removed in SciPy v1.12.0. You may consider using findiff: https://github.com/maroba/findiff or numdifftools: https://github.com/pbrod/numdifftools\n",
      "  return derivative(f, x, dx=1e-6)\n",
      "/tmp/ipykernel_10570/2701953720.py:8: DeprecationWarning: scipy.misc.derivative is deprecated in SciPy v1.10.0; and will be completely removed in SciPy v1.12.0. You may consider using findiff: https://github.com/maroba/findiff or numdifftools: https://github.com/pbrod/numdifftools\n",
      "  return derivative(f,x,dx=1e-6, n=2)\n"
     ]
    }
   ],
   "source": [
    "def f(x):\n",
    "    return (100 -x)**2\n",
    "\n",
    "def df(x):\n",
    "    return derivative(f, x, dx=1e-6)\n",
    "\n",
    "def df2(x):\n",
    "    return derivative(f,x,dx=1e-6, n=2)\n",
    "\n",
    "# Testing the function with a single point\n",
    "x_opt = newton(df, 30,df2)\n",
    "print(x_opt)"
   ]
  }
 ],
 "metadata": {
  "kernelspec": {
   "display_name": "Python 3",
   "language": "python",
   "name": "python3"
  },
  "language_info": {
   "codemirror_mode": {
    "name": "ipython",
    "version": 3
   },
   "file_extension": ".py",
   "mimetype": "text/x-python",
   "name": "python",
   "nbconvert_exporter": "python",
   "pygments_lexer": "ipython3",
   "version": "3.11.6"
  }
 },
 "nbformat": 4,
 "nbformat_minor": 2
}
