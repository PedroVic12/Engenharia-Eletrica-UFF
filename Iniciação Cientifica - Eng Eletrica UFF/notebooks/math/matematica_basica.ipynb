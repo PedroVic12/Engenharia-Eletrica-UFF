{
 "cells": [
  {
   "cell_type": "markdown",
   "metadata": {},
   "source": [
    "## Juros"
   ]
  },
  {
   "cell_type": "code",
   "execution_count": null,
   "metadata": {},
   "outputs": [],
   "source": [
    "import matplotlib.pyplot as plt\n",
    "\n",
    "def jurosCompostos(VP,i,n):\n",
    "    return VP*(1+i)**n\n",
    "\n",
    "def jurosSimples(VP,i,n):\n",
    "    return VP*(1+i*n)\n",
    "\n",
    "\n",
    "anos = list(range(5))\n",
    "\n",
    "\n",
    "montante_desejado = 2600\n",
    "VP = 1200\n",
    "i = 0.12\n",
    "salario_minimo = 1500\n",
    "valor_venda = 450\n",
    "taxa_juros = 0.12\n",
    "tempo = 12\n",
    "numClientes = 3\n",
    "lucro = numClientes * valor_venda\n",
    "\n",
    "\n",
    "VF_compostos = [jurosCompostos(VP,i,n) for n in anos]\n",
    "VF_simples = [jurosSimples(VP,i,n) for n in anos]\n",
    "\n",
    "print(VF_compostos)\n",
    "print(VF_simples)\n",
    "\n",
    "plt.plot(anos,VF_compostos,label='Juros Compostos')\n",
    "plt.plot(anos,VF_simples,label='Juros Simples')\n",
    "\n",
    "plt.xlabel('Anos')\n",
    "plt.ylabel('Valor Futuro')\n",
    "plt.title('Juros Compostos')\n",
    "plt.legend()\n",
    "plt.show()"
   ]
  }
 ],
 "metadata": {
  "language_info": {
   "name": "python"
  }
 },
 "nbformat": 4,
 "nbformat_minor": 2
}
