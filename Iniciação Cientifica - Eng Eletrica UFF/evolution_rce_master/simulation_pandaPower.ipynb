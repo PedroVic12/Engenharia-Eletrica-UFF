{
 "cells": [
  {
   "cell_type": "code",
   "execution_count": 1,
   "metadata": {},
   "outputs": [
    {
     "ename": "AttributeError",
     "evalue": "module 'deap.creator' has no attribute 'Individual'",
     "output_type": "error",
     "traceback": [
      "\u001b[0;31m---------------------------------------------------------------------------\u001b[0m",
      "\u001b[0;31mAttributeError\u001b[0m                            Traceback (most recent call last)",
      "Cell \u001b[0;32mIn[1], line 5\u001b[0m\n\u001b[1;32m      1\u001b[0m \u001b[38;5;28;01mfrom\u001b[39;00m \u001b[38;5;21;01mdeap\u001b[39;00m \u001b[38;5;28;01mimport\u001b[39;00m base, creator\n\u001b[1;32m      4\u001b[0m \u001b[38;5;66;03m# Definindo a classe Individual personalizada\u001b[39;00m\n\u001b[0;32m----> 5\u001b[0m \u001b[38;5;28;01mclass\u001b[39;00m \u001b[38;5;21;01mCustomIndividual\u001b[39;00m(\u001b[43mcreator\u001b[49m\u001b[38;5;241;43m.\u001b[39;49m\u001b[43mIndividual\u001b[49m):\n\u001b[1;32m      6\u001b[0m     \u001b[38;5;28;01mdef\u001b[39;00m \u001b[38;5;21m__init__\u001b[39m(\u001b[38;5;28mself\u001b[39m, tipo, qtde_variaveis, limites_variaveis, fitness_function):\n\u001b[1;32m      7\u001b[0m         \u001b[38;5;66;03m# Chamando o construtor da classe pai\u001b[39;00m\n\u001b[1;32m      8\u001b[0m         \u001b[38;5;28msuper\u001b[39m()\u001b[38;5;241m.\u001b[39m\u001b[38;5;21m__init__\u001b[39m()\n",
      "\u001b[0;31mAttributeError\u001b[0m: module 'deap.creator' has no attribute 'Individual'"
     ]
    }
   ],
   "source": [
    "from deap import base, creator\n",
    "\n",
    "\n",
    "# Definindo a classe Individual personalizada\n",
    "class CustomIndividual(creator.Individual):\n",
    "    def __init__(self, tipo, qtde_variaveis, limites_variaveis, fitness_function):\n",
    "        # Chamando o construtor da classe pai\n",
    "        super().__init__()\n",
    "\n",
    "        # Definindo os atributos\n",
    "        self.tipo = tipo\n",
    "        self.qtde_variaveis = qtde_variaveis\n",
    "        self.limites_variaveis = limites_variaveis\n",
    "        self.fitness_function = fitness_function\n",
    "\n",
    "\n",
    "# Definindo o tipo de fitness\n",
    "creator.create(\"FitnessCustom\", base.Fitness, weights=(-1.0,))\n",
    "\n",
    "# Definindo o tipo de indivíduo\n",
    "creator.create(\"IndividualCustom\", CustomIndividual, fitness=creator.FitnessCustom)\n",
    "\n",
    "# Exemplo de uso\n",
    "tipo = \"problema\"\n",
    "qtde_variaveis = 3\n",
    "limites_variaveis = [(0, 10), (0, 20), (0, 30)]\n",
    "fitness_function = lambda x: sum(x)\n",
    "\n",
    "ind = creator.IndividualCustom(\n",
    "    tipo, qtde_variaveis, limites_variaveis, fitness_function\n",
    ")\n",
    "\n",
    "# Acessando os atributos\n",
    "print(\"Tipo:\", ind.tipo)\n",
    "print(\"Quantidade de Variáveis:\", ind.qtde_variaveis)\n",
    "print(\"Limites das Variáveis:\", ind.limites_variaveis)\n",
    "print(\"Função Fitness:\", ind.fitness_function)"
   ]
  },
  {
   "cell_type": "markdown",
   "metadata": {},
   "source": [
    "## Fluxo de Potência em uma Rede de Distribuição:\n"
   ]
  },
  {
   "cell_type": "code",
   "execution_count": 4,
   "metadata": {},
   "outputs": [
    {
     "name": "stderr",
     "output_type": "stream",
     "text": [
      "numba cannot be imported and numba functions are disabled.\n",
      "Probably the execution is slow.\n",
      "Please install numba to gain a massive speedup.\n",
      "(or if you prefer slow execution, set the flag numba=False to avoid this warning!)\n"
     ]
    },
    {
     "name": "stderr",
     "output_type": "stream",
     "text": [
      "/home/pedrov/.local/lib/python3.11/site-packages/pandapower/auxiliary.py:1398: RuntimeWarning: invalid value encountered in scalar divide\n",
      "  init_vm_pu = (net.ext_grid.vm_pu.values.sum() + net.gen.vm_pu.values.sum()) / \\\n"
     ]
    },
    {
     "ename": "UserWarning",
     "evalue": "No reference bus is available. Either add an ext_grid or a gen with slack=True",
     "output_type": "error",
     "traceback": [
      "\u001b[0;31m---------------------------------------------------------------------------\u001b[0m",
      "\u001b[0;31mUserWarning\u001b[0m                               Traceback (most recent call last)",
      "Cell \u001b[0;32mIn[4], line 18\u001b[0m\n\u001b[1;32m     15\u001b[0m pp\u001b[38;5;241m.\u001b[39mcreate_load(net, bus2, p_mw\u001b[38;5;241m=\u001b[39m\u001b[38;5;241m100\u001b[39m, q_kvar\u001b[38;5;241m=\u001b[39m\u001b[38;5;241m50\u001b[39m)  \u001b[38;5;66;03m# Carga no Bus 2\u001b[39;00m\n\u001b[1;32m     17\u001b[0m \u001b[38;5;66;03m# Calcular o fluxo de potência\u001b[39;00m\n\u001b[0;32m---> 18\u001b[0m \u001b[43mpp\u001b[49m\u001b[38;5;241;43m.\u001b[39;49m\u001b[43mrunpp\u001b[49m\u001b[43m(\u001b[49m\u001b[43mnet\u001b[49m\u001b[43m)\u001b[49m\n\u001b[1;32m     20\u001b[0m \u001b[38;5;66;03m# Visualizar resultados\u001b[39;00m\n\u001b[1;32m     21\u001b[0m \u001b[38;5;28mprint\u001b[39m(net\u001b[38;5;241m.\u001b[39mres_bus)\n",
      "File \u001b[0;32m~/.local/lib/python3.11/site-packages/pandapower/run.py:250\u001b[0m, in \u001b[0;36mrunpp\u001b[0;34m(net, algorithm, calculate_voltage_angles, init, max_iteration, tolerance_mva, trafo_model, trafo_loading, enforce_q_lims, check_connectivity, voltage_depend_loads, consider_line_temperature, run_control, distributed_slack, tdpf, tdpf_delay_s, **kwargs)\u001b[0m\n\u001b[1;32m    248\u001b[0m _check_bus_index_and_print_warning_if_high(net)\n\u001b[1;32m    249\u001b[0m _check_gen_index_and_print_warning_if_high(net)\n\u001b[0;32m--> 250\u001b[0m \u001b[43m_powerflow\u001b[49m\u001b[43m(\u001b[49m\u001b[43mnet\u001b[49m\u001b[43m,\u001b[49m\u001b[43m \u001b[49m\u001b[38;5;241;43m*\u001b[39;49m\u001b[38;5;241;43m*\u001b[39;49m\u001b[43mkwargs\u001b[49m\u001b[43m)\u001b[49m\n",
      "File \u001b[0;32m~/.local/lib/python3.11/site-packages/pandapower/powerflow.py:75\u001b[0m, in \u001b[0;36m_powerflow\u001b[0;34m(net, **kwargs)\u001b[0m\n\u001b[1;32m     71\u001b[0m net\u001b[38;5;241m.\u001b[39m_pd2ppc_lookups \u001b[38;5;241m=\u001b[39m {\u001b[38;5;124m\"\u001b[39m\u001b[38;5;124mbus\u001b[39m\u001b[38;5;124m\"\u001b[39m: array([], dtype\u001b[38;5;241m=\u001b[39mint64), \u001b[38;5;124m\"\u001b[39m\u001b[38;5;124mext_grid\u001b[39m\u001b[38;5;124m\"\u001b[39m: array([], dtype\u001b[38;5;241m=\u001b[39mint64),\n\u001b[1;32m     72\u001b[0m                        \u001b[38;5;124m\"\u001b[39m\u001b[38;5;124mgen\u001b[39m\u001b[38;5;124m\"\u001b[39m: array([], dtype\u001b[38;5;241m=\u001b[39mint64), \u001b[38;5;124m\"\u001b[39m\u001b[38;5;124mbranch\u001b[39m\u001b[38;5;124m\"\u001b[39m: array([], dtype\u001b[38;5;241m=\u001b[39mint64)}\n\u001b[1;32m     74\u001b[0m \u001b[38;5;66;03m# convert pandapower net to ppc\u001b[39;00m\n\u001b[0;32m---> 75\u001b[0m ppc, ppci \u001b[38;5;241m=\u001b[39m \u001b[43m_pd2ppc\u001b[49m\u001b[43m(\u001b[49m\u001b[43mnet\u001b[49m\u001b[43m)\u001b[49m\n\u001b[1;32m     77\u001b[0m \u001b[38;5;66;03m# store variables\u001b[39;00m\n\u001b[1;32m     78\u001b[0m net[\u001b[38;5;124m\"\u001b[39m\u001b[38;5;124m_ppc\u001b[39m\u001b[38;5;124m\"\u001b[39m] \u001b[38;5;241m=\u001b[39m ppc\n",
      "File \u001b[0;32m~/.local/lib/python3.11/site-packages/pandapower/pd2ppc.py:165\u001b[0m, in \u001b[0;36m_pd2ppc\u001b[0;34m(net, sequence)\u001b[0m\n\u001b[1;32m    162\u001b[0m _build_gen_ppc(net, ppc)\n\u001b[1;32m    164\u001b[0m \u001b[38;5;28;01mif\u001b[39;00m \u001b[38;5;124m\"\u001b[39m\u001b[38;5;124mpf\u001b[39m\u001b[38;5;124m\"\u001b[39m \u001b[38;5;129;01min\u001b[39;00m mode:\n\u001b[0;32m--> 165\u001b[0m     \u001b[43m_check_for_reference_bus\u001b[49m\u001b[43m(\u001b[49m\u001b[43mppc\u001b[49m\u001b[43m)\u001b[49m\n\u001b[1;32m    167\u001b[0m aux\u001b[38;5;241m.\u001b[39m_replace_nans_with_default_limits(net, ppc)\n\u001b[1;32m    169\u001b[0m \u001b[38;5;66;03m# generates \"internal\" ppci format (for powerflow calc)\u001b[39;00m\n\u001b[1;32m    170\u001b[0m \u001b[38;5;66;03m# from \"external\" ppc format and updates the bus lookup\u001b[39;00m\n\u001b[1;32m    171\u001b[0m \u001b[38;5;66;03m# Note: Also reorders buses and gens in ppc\u001b[39;00m\n",
      "File \u001b[0;32m~/.local/lib/python3.11/site-packages/pandapower/build_gen.py:322\u001b[0m, in \u001b[0;36m_check_for_reference_bus\u001b[0;34m(ppc)\u001b[0m\n\u001b[1;32m    320\u001b[0m \u001b[38;5;66;03m# throw an error since no reference bus is defined\u001b[39;00m\n\u001b[1;32m    321\u001b[0m \u001b[38;5;28;01mif\u001b[39;00m \u001b[38;5;28mlen\u001b[39m(ref) \u001b[38;5;241m==\u001b[39m \u001b[38;5;241m0\u001b[39m:\n\u001b[0;32m--> 322\u001b[0m     \u001b[38;5;28;01mraise\u001b[39;00m \u001b[38;5;167;01mUserWarning\u001b[39;00m(\u001b[38;5;124m\"\u001b[39m\u001b[38;5;124mNo reference bus is available. Either add an ext_grid or a gen with slack=True\u001b[39m\u001b[38;5;124m\"\u001b[39m)\n",
      "\u001b[0;31mUserWarning\u001b[0m: No reference bus is available. Either add an ext_grid or a gen with slack=True"
     ]
    }
   ],
   "source": [
    "import pandapower as pp\n",
    "\n",
    "# Criar a rede\n",
    "net = pp.create_empty_network()\n",
    "\n",
    "# Adicionar barramentos\n",
    "bus1 = pp.create_bus(net, vn_kv=20.0, name=\"Bus 1\")  # Barra de 20 kV\n",
    "bus2 = pp.create_bus(net, vn_kv=20.0, name=\"Bus 2\")  # Barra de 20 kV\n",
    "\n",
    "# Adicionar linhas\n",
    "pp.create_line(net, from_bus=bus1, to_bus=bus2, length_km=0.1, std_type=\"NAYY 4x50 SE\")\n",
    "\n",
    "# Adicionar carga\n",
    "pp.create_load(net, bus1, p_mw=0, q_kvar=0)  # Carga no Bus 1\n",
    "pp.create_load(net, bus2, p_mw=100, q_kvar=50)  # Carga no Bus 2\n",
    "\n",
    "# Calcular o fluxo de potência\n",
    "pp.runpp(net)\n",
    "\n",
    "# Visualizar resultados\n",
    "print(net.res_bus)"
   ]
  },
  {
   "cell_type": "code",
   "execution_count": 6,
   "metadata": {},
   "outputs": [
    {
     "name": "stderr",
     "output_type": "stream",
     "text": [
      "numba cannot be imported and numba functions are disabled.\n",
      "Probably the execution is slow.\n",
      "Please install numba to gain a massive speedup.\n",
      "(or if you prefer slow execution, set the flag numba=False to avoid this warning!)\n"
     ]
    },
    {
     "name": "stderr",
     "output_type": "stream",
     "text": [
      "/home/pedrov/.local/lib/python3.11/site-packages/pandapower/auxiliary.py:1398: RuntimeWarning: invalid value encountered in scalar divide\n",
      "  init_vm_pu = (net.ext_grid.vm_pu.values.sum() + net.gen.vm_pu.values.sum()) / \\\n"
     ]
    },
    {
     "ename": "ValueError",
     "evalue": "max() arg is an empty sequence",
     "output_type": "error",
     "traceback": [
      "\u001b[0;31m---------------------------------------------------------------------------\u001b[0m",
      "\u001b[0;31mValueError\u001b[0m                                Traceback (most recent call last)",
      "Cell \u001b[0;32mIn[6], line 24\u001b[0m\n\u001b[1;32m     22\u001b[0m \u001b[38;5;66;03m# Executar simulação inicial\u001b[39;00m\n\u001b[1;32m     23\u001b[0m net \u001b[38;5;241m=\u001b[39m pp\u001b[38;5;241m.\u001b[39mcreate_empty_network()\n\u001b[0;32m---> 24\u001b[0m \u001b[43mpp\u001b[49m\u001b[38;5;241;43m.\u001b[39;49m\u001b[43mrunpp\u001b[49m\u001b[43m(\u001b[49m\u001b[43mnet\u001b[49m\u001b[43m)\u001b[49m\n\u001b[1;32m     27\u001b[0m results \u001b[38;5;241m=\u001b[39m fitness_function(net)\n\u001b[1;32m     28\u001b[0m \u001b[38;5;28mprint\u001b[39m(\u001b[38;5;124mf\u001b[39m\u001b[38;5;124m\"\u001b[39m\u001b[38;5;124mCusto total da rede: \u001b[39m\u001b[38;5;132;01m{\u001b[39;00mresults\u001b[38;5;132;01m}\u001b[39;00m\u001b[38;5;124m\"\u001b[39m)\n",
      "File \u001b[0;32m~/.local/lib/python3.11/site-packages/pandapower/run.py:248\u001b[0m, in \u001b[0;36mrunpp\u001b[0;34m(net, algorithm, calculate_voltage_angles, init, max_iteration, tolerance_mva, trafo_model, trafo_loading, enforce_q_lims, check_connectivity, voltage_depend_loads, consider_line_temperature, run_control, distributed_slack, tdpf, tdpf_delay_s, **kwargs)\u001b[0m\n\u001b[1;32m    237\u001b[0m passed_parameters \u001b[38;5;241m=\u001b[39m _passed_runpp_parameters(\u001b[38;5;28mlocals\u001b[39m())\n\u001b[1;32m    238\u001b[0m _init_runpp_options(net, algorithm\u001b[38;5;241m=\u001b[39malgorithm,\n\u001b[1;32m    239\u001b[0m                     calculate_voltage_angles\u001b[38;5;241m=\u001b[39mcalculate_voltage_angles,\n\u001b[1;32m    240\u001b[0m                     init\u001b[38;5;241m=\u001b[39minit, max_iteration\u001b[38;5;241m=\u001b[39mmax_iteration, tolerance_mva\u001b[38;5;241m=\u001b[39mtolerance_mva,\n\u001b[0;32m   (...)\u001b[0m\n\u001b[1;32m    246\u001b[0m                     distributed_slack\u001b[38;5;241m=\u001b[39mdistributed_slack,\n\u001b[1;32m    247\u001b[0m                     passed_parameters\u001b[38;5;241m=\u001b[39mpassed_parameters, \u001b[38;5;241m*\u001b[39m\u001b[38;5;241m*\u001b[39mkwargs)\n\u001b[0;32m--> 248\u001b[0m \u001b[43m_check_bus_index_and_print_warning_if_high\u001b[49m\u001b[43m(\u001b[49m\u001b[43mnet\u001b[49m\u001b[43m)\u001b[49m\n\u001b[1;32m    249\u001b[0m _check_gen_index_and_print_warning_if_high(net)\n\u001b[1;32m    250\u001b[0m _powerflow(net, \u001b[38;5;241m*\u001b[39m\u001b[38;5;241m*\u001b[39mkwargs)\n",
      "File \u001b[0;32m~/.local/lib/python3.11/site-packages/pandapower/auxiliary.py:856\u001b[0m, in \u001b[0;36m_check_bus_index_and_print_warning_if_high\u001b[0;34m(net, n_max)\u001b[0m\n\u001b[1;32m    855\u001b[0m \u001b[38;5;28;01mdef\u001b[39;00m \u001b[38;5;21m_check_bus_index_and_print_warning_if_high\u001b[39m(net, n_max\u001b[38;5;241m=\u001b[39m\u001b[38;5;241m1e7\u001b[39m):\n\u001b[0;32m--> 856\u001b[0m     max_bus \u001b[38;5;241m=\u001b[39m \u001b[38;5;28;43mmax\u001b[39;49m\u001b[43m(\u001b[49m\u001b[43mnet\u001b[49m\u001b[38;5;241;43m.\u001b[39;49m\u001b[43mbus\u001b[49m\u001b[38;5;241;43m.\u001b[39;49m\u001b[43mindex\u001b[49m\u001b[38;5;241;43m.\u001b[39;49m\u001b[43mvalues\u001b[49m\u001b[43m)\u001b[49m\n\u001b[1;32m    857\u001b[0m     \u001b[38;5;28;01mif\u001b[39;00m max_bus \u001b[38;5;241m>\u001b[39m\u001b[38;5;241m=\u001b[39m n_max \u001b[38;5;241m>\u001b[39m \u001b[38;5;28mlen\u001b[39m(net[\u001b[38;5;124m\"\u001b[39m\u001b[38;5;124mbus\u001b[39m\u001b[38;5;124m\"\u001b[39m]):\n\u001b[1;32m    858\u001b[0m         logger\u001b[38;5;241m.\u001b[39mwarning(\u001b[38;5;124m\"\u001b[39m\u001b[38;5;124mMaximum bus index is high (\u001b[39m\u001b[38;5;132;01m%i\u001b[39;00m\u001b[38;5;124m). You should avoid high bus indices because \u001b[39m\u001b[38;5;124m\"\u001b[39m\n\u001b[1;32m    859\u001b[0m                        \u001b[38;5;124m\"\u001b[39m\u001b[38;5;124mof perfomance reasons. Try resetting the bus indices with the toolbox \u001b[39m\u001b[38;5;124m\"\u001b[39m\n\u001b[1;32m    860\u001b[0m                        \u001b[38;5;124m\"\u001b[39m\u001b[38;5;124mfunction create_continuous_bus_index()\u001b[39m\u001b[38;5;124m\"\u001b[39m \u001b[38;5;241m%\u001b[39m max_bus)\n",
      "\u001b[0;31mValueError\u001b[0m: max() arg is an empty sequence"
     ]
    }
   ],
   "source": [
    "import pandapower as pp\n",
    "\n",
    "\n",
    "def fitness_function(net):\n",
    "    # Calcular o custo total da rede com base nos resultados da simulação\n",
    "    # Neste exemplo, poderíamos considerar o custo total de perdas de energia, custo de operação de equipamentos, etc.\n",
    "    total_cost = (\n",
    "        net.res_bus.vm_pu.sum()\n",
    "    )  # Exemplo de função de custo (a ser ajustada conforme necessário)\n",
    "    return total_cost\n",
    "\n",
    "\n",
    "def decision_variables(net):\n",
    "    # Definir as variáveis de decisão para a simulação, como configurações de carga, geração, etc.\n",
    "    # Neste exemplo, poderíamos ajustar a quantidade de carga em cada barramento para otimizar o custo total da rede.\n",
    "    net.load.p_kw = [\n",
    "        50,\n",
    "        100,\n",
    "    ]  # Exemplo de ajuste das cargas (a ser ajustado conforme necessário)\n",
    "\n",
    "\n",
    "# Executar simulação inicial\n",
    "net = pp.create_empty_network()\n",
    "pp.runpp(net)\n",
    "\n",
    "\n",
    "results = fitness_function(net)\n",
    "print(f\"Custo total da rede: {results}\")\n",
    "\n",
    "# Executar algoritmo evolutivo com Pandapower\n",
    "params = load_params(\"/path/to/parameters.json\")\n",
    "setup = Setup(params)\n",
    "alg = AlgoritimoEvolutivoRCE(setup)\n",
    "\n",
    "\n",
    "# Executar algoritmo evolutivo\n",
    "pop_with_repopulation, logbook_with_repopulation, best_variables = alg.run(\n",
    "    RCE=True,\n",
    "    fitness_function=fitness_function,\n",
    "    decision_variables=net,\n",
    ")\n",
    "\n",
    "print(\"\\n\\nEvolução concluída  - 100%\")"
   ]
  },
  {
   "cell_type": "markdown",
   "metadata": {},
   "source": [
    "## Estudo de Curto-Circuito em uma Rede de Transmissão:"
   ]
  },
  {
   "cell_type": "code",
   "execution_count": 9,
   "metadata": {},
   "outputs": [
    {
     "ename": "TypeError",
     "evalue": "create_shunt() missing 1 required positional argument: 'q_mvar'",
     "output_type": "error",
     "traceback": [
      "\u001b[0;31m---------------------------------------------------------------------------\u001b[0m",
      "\u001b[0;31mTypeError\u001b[0m                                 Traceback (most recent call last)",
      "Cell \u001b[0;32mIn[9], line 25\u001b[0m\n\u001b[1;32m     22\u001b[0m pp\u001b[38;5;241m.\u001b[39mcreate_load(net, bus3, p_mw\u001b[38;5;241m=\u001b[39m\u001b[38;5;241m0\u001b[39m, q_kvar\u001b[38;5;241m=\u001b[39m\u001b[38;5;241m0\u001b[39m)  \u001b[38;5;66;03m# Carga no Bus 3\u001b[39;00m\n\u001b[1;32m     24\u001b[0m \u001b[38;5;66;03m# Adicionar curto-circuito\u001b[39;00m\n\u001b[0;32m---> 25\u001b[0m \u001b[43mpp\u001b[49m\u001b[38;5;241;43m.\u001b[39;49m\u001b[43mcreate_shunt\u001b[49m\u001b[43m(\u001b[49m\u001b[43mnet\u001b[49m\u001b[43m,\u001b[49m\u001b[43m \u001b[49m\u001b[43mbus1\u001b[49m\u001b[43m,\u001b[49m\u001b[43m \u001b[49m\u001b[43mikss_ka\u001b[49m\u001b[38;5;241;43m=\u001b[39;49m\u001b[38;5;241;43m1.5\u001b[39;49m\u001b[43m)\u001b[49m  \u001b[38;5;66;03m# Curto-circuito no Bus 1\u001b[39;00m\n\u001b[1;32m     27\u001b[0m \u001b[38;5;66;03m# Calcular curto-circuito\u001b[39;00m\n\u001b[1;32m     28\u001b[0m pp\u001b[38;5;241m.\u001b[39mcalc_sc(net)\n",
      "\u001b[0;31mTypeError\u001b[0m: create_shunt() missing 1 required positional argument: 'q_mvar'"
     ]
    }
   ],
   "source": [
    "import pandapower as pp\n",
    "\n",
    "# Criar a rede\n",
    "net = pp.create_empty_network()\n",
    "\n",
    "# Adicionar barramentos\n",
    "bus1 = pp.create_bus(net, vn_kv=110.0, name=\"Bus 1\")  # Barra de 110 kV\n",
    "bus2 = pp.create_bus(net, vn_kv=110.0, name=\"Bus 2\")  # Barra de 110 kV\n",
    "bus3 = pp.create_bus(net, vn_kv=110.0, name=\"Bus 3\")  # Barra de 110 kV\n",
    "\n",
    "# Adicionar linhas\n",
    "pp.create_line(\n",
    "    net, from_bus=bus1, to_bus=bus2, length_km=50, std_type=\"149-AL1/24-ST1A 110.0\"\n",
    ")\n",
    "pp.create_line(\n",
    "    net, from_bus=bus2, to_bus=bus3, length_km=50, std_type=\"149-AL1/24-ST1A 110.0\"\n",
    ")\n",
    "\n",
    "# Adicionar carga\n",
    "pp.create_load(net, bus1, p_mw=0, q_kvar=0)  # Carga no Bus 1\n",
    "pp.create_load(net, bus2, p_mw=0, q_kvar=0)  # Carga no Bus 2\n",
    "pp.create_load(net, bus3, p_mw=0, q_kvar=0)  # Carga no Bus 3\n",
    "\n",
    "# Adicionar curto-circuito\n",
    "pp.create_short(net, bus1, ikss_ka=1.5)  # Curto-circuito no Bus 1\n",
    "\n",
    "# Calcular curto-circuito\n",
    "pp.calc_sc(net)\n",
    "\n",
    "# Visualizar resultados\n",
    "print(net.res_bus_sc)"
   ]
  },
  {
   "cell_type": "code",
   "execution_count": null,
   "metadata": {},
   "outputs": [],
   "source": [
    "import pandapower as pp\n",
    "\n",
    "\n",
    "def fitness_function(net):\n",
    "    # Calcular o custo total da rede com base nos resultados da simulação de curto-circuito\n",
    "    # Neste exemplo, poderíamos considerar a corrente máxima de curto-circuito em um barramento como função de custo.\n",
    "    max_short_circuit_current = (\n",
    "        net.res_bus_sc.ikss.max()\n",
    "    )  # Exemplo de função de custo (a ser ajustada conforme necessário)\n",
    "    return max_short_circuit_current\n",
    "\n",
    "\n",
    "def decision_variables(net):\n",
    "    # Definir as variáveis de decisão para a simulação de curto-circuito, como parâmetros de carga, configurações de linha, etc.\n",
    "    # Neste exemplo, poderíamos ajustar os parâmetros da linha para otimizar a corrente de curto-circuito.\n",
    "    net.line.length_km = [\n",
    "        50,\n",
    "        60,\n",
    "    ]  # Exemplo de ajuste do comprimento da linha (a ser ajustado conforme necessário)\n",
    "\n",
    "\n",
    "# Executar algoritmo evolutivo com Pandapower\n",
    "params = load_params(\"/path/to/parameters.json\")\n",
    "setup = Setup(params)\n",
    "alg = AlgoritimoEvolutivoRCE(setup)\n",
    "\n",
    "# Executar simulação inicial de curto-circuito\n",
    "net = pp.create_network(...)\n",
    "pp.calc_sc(net)\n",
    "\n",
    "# Executar algoritmo evolutivo\n",
    "pop_with_repopulation, logbook_with_repopulation, best_variables = alg.run(\n",
    "    RCE=True,\n",
    "    fitness_function=fitness_function,\n",
    "    decision_variables=net,\n",
    ")\n",
    "\n",
    "print(\"\\n\\nEvolução concluída  - 100%\")"
   ]
  },
  {
   "cell_type": "markdown",
   "metadata": {},
   "source": [
    "## Estudo de Estabilidade Transitória em uma Rede de Distribuição:\n"
   ]
  },
  {
   "cell_type": "code",
   "execution_count": 11,
   "metadata": {},
   "outputs": [
    {
     "ename": "AttributeError",
     "evalue": "module 'pandapower' has no attribute 'run_transientstability'",
     "output_type": "error",
     "traceback": [
      "\u001b[0;31m---------------------------------------------------------------------------\u001b[0m",
      "\u001b[0;31mAttributeError\u001b[0m                            Traceback (most recent call last)",
      "Cell \u001b[0;32mIn[11], line 18\u001b[0m\n\u001b[1;32m     15\u001b[0m pp\u001b[38;5;241m.\u001b[39mcreate_load(net, bus2, p_mw\u001b[38;5;241m=\u001b[39m\u001b[38;5;241m100\u001b[39m, q_kvar\u001b[38;5;241m=\u001b[39m\u001b[38;5;241m50\u001b[39m)  \u001b[38;5;66;03m# Carga no Bus 2\u001b[39;00m\n\u001b[1;32m     17\u001b[0m \u001b[38;5;66;03m# Calcular estabilidade transitória\u001b[39;00m\n\u001b[0;32m---> 18\u001b[0m \u001b[43mpp\u001b[49m\u001b[38;5;241;43m.\u001b[39;49m\u001b[43mrun_transientstability\u001b[49m(net, duration_s\u001b[38;5;241m=\u001b[39m\u001b[38;5;241m10\u001b[39m)\n\u001b[1;32m     20\u001b[0m \u001b[38;5;66;03m# Visualizar resultados\u001b[39;00m\n\u001b[1;32m     21\u001b[0m \u001b[38;5;28mprint\u001b[39m(net\u001b[38;5;241m.\u001b[39mres_trafo)\n",
      "\u001b[0;31mAttributeError\u001b[0m: module 'pandapower' has no attribute 'run_transientstability'"
     ]
    }
   ],
   "source": [
    "import pandapower as pp\n",
    "\n",
    "# Criar a rede\n",
    "net = pp.create_empty_network()\n",
    "\n",
    "# Adicionar barramentos\n",
    "bus1 = pp.create_bus(net, vn_kv=20., name=\"Bus 1\")  # Barra de 20 kV\n",
    "bus2 = pp.create_bus(net, vn_kv=20., name=\"Bus 2\")  # Barra de 20 kV\n",
    "\n",
    "# Adicionar linhas\n",
    "pp.create_line(net, from_bus=bus1, to_bus=bus2, length_km=0.1, std_type=\"NAYY 4x50 SE\")\n",
    "\n",
    "# Adicionar carga\n",
    "pp.create_load(net, bus1, p_mw=100, q_kvar=50)  # Carga no Bus 1\n",
    "pp.create_load(net, bus2, p_mw=100, q_kvar=50)  # Carga no Bus 2\n",
    "\n",
    "# Calcular estabilidade transitória\n",
    "pp.run_transientstability(net, duration_s=10)\n",
    "\n",
    "# Visualizar resultados\n",
    "print(net.res_trafo)\n"
   ]
  },
  {
   "cell_type": "code",
   "execution_count": null,
   "metadata": {},
   "outputs": [],
   "source": [
    "import pandapower as pp\n",
    "\n",
    "\n",
    "def fitness_function(net):\n",
    "    # Calcular o custo total da rede com base nos resultados da simulação de estabilidade transitória\n",
    "    # Neste exemplo, poderíamos considerar a estabilidade do sistema como função de custo.\n",
    "    stability_score = (\n",
    "        net.res_trafo.vm_pu.min()\n",
    "    )  # Exemplo de função de custo (a ser ajustada conforme necessário)\n",
    "    return stability_score\n",
    "\n",
    "\n",
    "def decision_variables(net):\n",
    "    # Definir as variáveis de decisão para a simulação de estabilidade transitória, como parâmetros de carga, configurações de linha, etc.\n",
    "    # Neste exemplo, poderíamos ajustar os parâmetros da rede para melhorar a estabilidade.\n",
    "    net.line.length_km = [\n",
    "        50,\n",
    "        60,\n",
    "    ]  # Exemplo de ajuste do comprimento da linha (a ser ajustado conforme necessário)\n",
    "\n",
    "\n",
    "# Executar algoritmo evolutivo com Pandapower\n",
    "params = load_params(\"/path/to/parameters.json\")\n",
    "setup = Setup(params)\n",
    "alg = AlgoritimoEvolutivoRCE(setup)\n",
    "\n",
    "# Executar simulação inicial de estabilidade transitória\n",
    "net = pp.create_network(...)\n",
    "pp.run_transient_stability(net)\n",
    "\n",
    "# Executar algoritmo evolutivo\n",
    "pop_with_repopulation, logbook_with_repopulation, best_variables = alg.run(\n",
    "    RCE=True,\n",
    "    fitness_function=fitness_function,\n",
    "    decision_variables=net,\n",
    ")\n",
    "\n",
    "print(\"\\n\\nEvolução concluída  - 100%\")"
   ]
  }
 ],
 "metadata": {
  "kernelspec": {
   "display_name": "Python 3",
   "language": "python",
   "name": "python3"
  },
  "language_info": {
   "codemirror_mode": {
    "name": "ipython",
    "version": 3
   },
   "file_extension": ".py",
   "mimetype": "text/x-python",
   "name": "python",
   "nbconvert_exporter": "python",
   "pygments_lexer": "ipython3",
   "version": "3.11.8"
  }
 },
 "nbformat": 4,
 "nbformat_minor": 2
}
