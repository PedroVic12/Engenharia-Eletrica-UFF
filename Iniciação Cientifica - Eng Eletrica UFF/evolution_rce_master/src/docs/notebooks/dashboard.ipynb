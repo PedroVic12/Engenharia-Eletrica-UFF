{
 "cells": [
  {
   "cell_type": "code",
   "execution_count": 2,
   "metadata": {},
   "outputs": [
    {
     "name": "stdout",
     "output_type": "stream",
     "text": [
      "Defaulting to user installation because normal site-packages is not writeable\n",
      "Collecting cvzone\n",
      "  Using cached cvzone-1.6.1.tar.gz (25 kB)\n",
      "  Preparing metadata (setup.py) ... \u001b[?25ldone\n",
      "\u001b[?25hCollecting mediapipe\n",
      "  Downloading mediapipe-0.10.14-cp312-cp312-manylinux_2_17_x86_64.manylinux2014_x86_64.whl.metadata (9.7 kB)\n",
      "Collecting opencv-python (from cvzone)\n",
      "  Downloading opencv_python-4.10.0.84-cp37-abi3-manylinux_2_17_x86_64.manylinux2014_x86_64.whl.metadata (20 kB)\n",
      "Requirement already satisfied: numpy in /usr/lib/python3.12/site-packages (from cvzone) (1.26.4)\n",
      "Collecting absl-py (from mediapipe)\n",
      "  Using cached absl_py-2.1.0-py3-none-any.whl.metadata (2.3 kB)\n",
      "Requirement already satisfied: attrs>=19.1.0 in /usr/lib/python3.12/site-packages (from mediapipe) (23.2.1.dev0)\n",
      "Collecting flatbuffers>=2.0 (from mediapipe)\n",
      "  Downloading flatbuffers-24.3.25-py2.py3-none-any.whl.metadata (850 bytes)\n",
      "Collecting jax (from mediapipe)\n",
      "  Downloading jax-0.4.30-py3-none-any.whl.metadata (22 kB)\n",
      "Collecting jaxlib (from mediapipe)\n",
      "  Downloading jaxlib-0.4.30-cp312-cp312-manylinux2014_x86_64.whl.metadata (1.0 kB)\n",
      "Requirement already satisfied: matplotlib in /usr/lib/python3.12/site-packages (from mediapipe) (3.8.3)\n",
      "Collecting opencv-contrib-python (from mediapipe)\n",
      "  Downloading opencv_contrib_python-4.10.0.84-cp37-abi3-manylinux_2_17_x86_64.manylinux2014_x86_64.whl.metadata (20 kB)\n",
      "Requirement already satisfied: protobuf<5,>=4.25.3 in /home/pedrov/.local/lib/python3.12/site-packages (from mediapipe) (4.25.3)\n",
      "Collecting sounddevice>=0.4.4 (from mediapipe)\n",
      "  Downloading sounddevice-0.4.7-py3-none-any.whl.metadata (1.4 kB)\n",
      "Requirement already satisfied: CFFI>=1.0 in /usr/lib/python3.12/site-packages (from sounddevice>=0.4.4->mediapipe) (1.16.0)\n",
      "Collecting ml-dtypes>=0.2.0 (from jax->mediapipe)\n",
      "  Downloading ml_dtypes-0.4.0-cp312-cp312-manylinux_2_17_x86_64.manylinux2014_x86_64.whl.metadata (20 kB)\n",
      "Collecting opt-einsum (from jax->mediapipe)\n",
      "  Downloading opt_einsum-3.3.0-py3-none-any.whl.metadata (6.5 kB)\n",
      "Requirement already satisfied: scipy>=1.9 in /home/pedrov/.local/lib/python3.12/site-packages (from jax->mediapipe) (1.13.0)\n",
      "Requirement already satisfied: contourpy>=1.0.1 in /usr/lib/python3.12/site-packages (from matplotlib->mediapipe) (1.2.1)\n",
      "Requirement already satisfied: cycler>=0.10 in /usr/lib/python3.12/site-packages (from matplotlib->mediapipe) (0.12.1)\n",
      "Requirement already satisfied: fonttools>=4.22.0 in /usr/lib/python3.12/site-packages (from matplotlib->mediapipe) (4.53.0)\n",
      "Requirement already satisfied: kiwisolver>=1.3.1 in /usr/lib/python3.12/site-packages (from matplotlib->mediapipe) (1.4.5)\n",
      "Requirement already satisfied: packaging>=20.0 in /usr/lib/python3.12/site-packages (from matplotlib->mediapipe) (24.0)\n",
      "Requirement already satisfied: pillow>=8 in /usr/lib/python3.12/site-packages (from matplotlib->mediapipe) (10.3.0)\n",
      "Requirement already satisfied: pyparsing>=2.3.1 in /usr/lib/python3.12/site-packages (from matplotlib->mediapipe) (3.1.2)\n",
      "Requirement already satisfied: python-dateutil>=2.7 in /usr/lib/python3.12/site-packages (from matplotlib->mediapipe) (2.9.0)\n",
      "Requirement already satisfied: pycparser in /usr/lib/python3.12/site-packages (from CFFI>=1.0->sounddevice>=0.4.4->mediapipe) (2.22)\n",
      "Requirement already satisfied: six>=1.5 in /usr/lib/python3.12/site-packages (from python-dateutil>=2.7->matplotlib->mediapipe) (1.16.0)\n",
      "Downloading mediapipe-0.10.14-cp312-cp312-manylinux_2_17_x86_64.manylinux2014_x86_64.whl (35.7 MB)\n",
      "\u001b[2K   \u001b[90m━━━━━━━━━━━━━━━━━━━━━━━━━━━━━━━━━━━━━━━━\u001b[0m \u001b[32m35.7/35.7 MB\u001b[0m \u001b[31m1.1 MB/s\u001b[0m eta \u001b[36m0:00:00\u001b[0m00:01\u001b[0m00:01\u001b[0m0m\n",
      "\u001b[?25hDownloading flatbuffers-24.3.25-py2.py3-none-any.whl (26 kB)\n",
      "Downloading sounddevice-0.4.7-py3-none-any.whl (32 kB)\n",
      "Using cached absl_py-2.1.0-py3-none-any.whl (133 kB)\n",
      "Downloading jax-0.4.30-py3-none-any.whl (2.0 MB)\n",
      "\u001b[2K   \u001b[90m━━━━━━━━━━━━━━━━━━━━━━━━━━━━━━━━━━━━━━━━\u001b[0m \u001b[32m2.0/2.0 MB\u001b[0m \u001b[31m1.0 MB/s\u001b[0m eta \u001b[36m0:00:00\u001b[0m00:01\u001b[0m00:01\u001b[0m0m\n",
      "\u001b[?25hDownloading jaxlib-0.4.30-cp312-cp312-manylinux2014_x86_64.whl (79.7 MB)\n",
      "\u001b[2K   \u001b[90m━━━━━━━━━━━━━━━━━━━━━━━━━━━━━━━━━━━━━━━━\u001b[0m \u001b[32m79.7/79.7 MB\u001b[0m \u001b[31m694.7 kB/s\u001b[0m eta \u001b[36m0:00:00\u001b[0m00:01\u001b[0m00:03\u001b[0mm\n",
      "\u001b[?25hDownloading opencv_contrib_python-4.10.0.84-cp37-abi3-manylinux_2_17_x86_64.manylinux2014_x86_64.whl (68.7 MB)\n",
      "\u001b[2K   \u001b[90m━━━━━━━━━━━━━━━━━━━━━━━━━━━━━━━━━━━━━━━━\u001b[0m \u001b[32m68.7/68.7 MB\u001b[0m \u001b[31m839.9 kB/s\u001b[0m eta \u001b[36m0:00:00\u001b[0m00:01\u001b[0m00:02\u001b[0m\n",
      "\u001b[?25hDownloading opencv_python-4.10.0.84-cp37-abi3-manylinux_2_17_x86_64.manylinux2014_x86_64.whl (62.5 MB)\n",
      "\u001b[2K   \u001b[90m━━━━━━━━━━━━━━━━━━━━━━━━━━━━━━━━━━━━━━━━\u001b[0m \u001b[32m62.5/62.5 MB\u001b[0m \u001b[31m1.1 MB/s\u001b[0m eta \u001b[36m0:00:00\u001b[0m00:01\u001b[0m00:02\u001b[0m0m\n",
      "\u001b[?25hDownloading ml_dtypes-0.4.0-cp312-cp312-manylinux_2_17_x86_64.manylinux2014_x86_64.whl (2.2 MB)\n",
      "\u001b[2K   \u001b[90m━━━━━━━━━━━━━━━━━━━━━━━━━━━━━━━━━━━━━━━━\u001b[0m \u001b[32m2.2/2.2 MB\u001b[0m \u001b[31m1.1 MB/s\u001b[0m eta \u001b[36m0:00:00\u001b[0m00:01\u001b[0m00:01\u001b[0m\n",
      "\u001b[?25hDownloading opt_einsum-3.3.0-py3-none-any.whl (65 kB)\n",
      "\u001b[2K   \u001b[90m━━━━━━━━━━━━━━━━━━━━━━━━━━━━━━━━━━━━━━━━\u001b[0m \u001b[32m65.5/65.5 kB\u001b[0m \u001b[31m1.2 MB/s\u001b[0m eta \u001b[36m0:00:00\u001b[0ma \u001b[36m0:00:01\u001b[0m\n",
      "\u001b[?25hBuilding wheels for collected packages: cvzone\n",
      "  Building wheel for cvzone (setup.py) ... \u001b[?25ldone\n",
      "\u001b[?25h  Created wheel for cvzone: filename=cvzone-1.6.1-py3-none-any.whl size=26297 sha256=8ed0d07bb1bff71a2e8431306205a5798e2cc66ea3c445ee9e23f7fcb1674611\n",
      "  Stored in directory: /home/pedrov/.cache/pip/wheels/5d/21/e8/3147ae88d44e27f06e0175d337a7673c70fb957202cbbe2034\n",
      "Successfully built cvzone\n",
      "Installing collected packages: flatbuffers, opt-einsum, opencv-python, opencv-contrib-python, ml-dtypes, absl-py, sounddevice, jaxlib, cvzone, jax, mediapipe\n",
      "Successfully installed absl-py-2.1.0 cvzone-1.6.1 flatbuffers-24.3.25 jax-0.4.30 jaxlib-0.4.30 mediapipe-0.10.14 ml-dtypes-0.4.0 opencv-contrib-python-4.10.0.84 opencv-python-4.10.0.84 opt-einsum-3.3.0 sounddevice-0.4.7\n"
     ]
    }
   ],
   "source": [
    "!pip install  cvzone mediapipe --break-system-packages"
   ]
  },
  {
   "cell_type": "code",
   "execution_count": 2,
   "metadata": {},
   "outputs": [
    {
     "ename": "SyntaxError",
     "evalue": "invalid syntax. Perhaps you forgot a comma? (4001671841.py, line 34)",
     "output_type": "error",
     "traceback": [
      "\u001b[0;36m  Cell \u001b[0;32mIn[2], line 34\u001b[0;36m\u001b[0m\n\u001b[0;31m    animation_group = country\u001b[0m\n\u001b[0m                      ^\u001b[0m\n\u001b[0;31mSyntaxError\u001b[0m\u001b[0;31m:\u001b[0m invalid syntax. Perhaps you forgot a comma?\n"
     ]
    }
   ],
   "source": [
    "import plotly.express as px\n",
    "import plotly.graph_objects as go\n",
    "import pandas as pd\n",
    "import plotly\n",
    "import plotly.io as pio\n",
    "\n",
    "def graficos_interativos_plot(numero_colunas, nome_coluna):\n",
    "    df = pd.read_excel(\"\")\n",
    "\n",
    "\n",
    "    for i in range(numero_colunas):\n",
    "        tabela= df[i]\n",
    "        fig = px.histogram(tabela, x=nome_coluna)\n",
    "        fig.show()\n",
    "        print(tabela)\n",
    "\n",
    "        # se o tipo da coluan for date entao\n",
    "        \n",
    "        #if (tablea.type) == \"Date\"\n",
    "\n",
    "\n",
    "def desenha_grafico(df, coluna, data):\n",
    "\n",
    "    fig = px.bar(\n",
    "        df,\n",
    "        x='nome_coluna',\n",
    "        y='nome_coluna',\n",
    "        color='nome_coluna',\n",
    "        title='nome_coluna',\n",
    "        labels={'nome_coluna': 'nome_coluna'},\n",
    "        height=400,\n",
    "\n",
    "        animation_frame = data,\n",
    "        animation_group = coluna\n",
    "        range_y = [0,1200]\n",
    "\n",
    "\n",
    "    )\n",
    "\n",
    "    #save\n",
    "    plotly.offline.plot(fig,filename = \"grafico.html\")\n",
    "    pio.write_html(fig, file='index.html', auto_open=True)\n",
    "\n"
   ]
  }
 ],
 "metadata": {
  "kernelspec": {
   "display_name": "Python 3",
   "language": "python",
   "name": "python3"
  },
  "language_info": {
   "codemirror_mode": {
    "name": "ipython",
    "version": 3
   },
   "file_extension": ".py",
   "mimetype": "text/x-python",
   "name": "python",
   "nbconvert_exporter": "python",
   "pygments_lexer": "ipython3",
   "version": "3.12.3"
  }
 },
 "nbformat": 4,
 "nbformat_minor": 2
}
