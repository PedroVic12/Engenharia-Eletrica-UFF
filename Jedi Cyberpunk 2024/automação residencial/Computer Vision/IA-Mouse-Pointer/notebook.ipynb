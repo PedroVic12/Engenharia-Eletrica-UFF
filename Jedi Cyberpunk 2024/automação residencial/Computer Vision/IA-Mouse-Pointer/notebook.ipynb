{
 "cells": [
  {
   "cell_type": "code",
   "execution_count": 1,
   "metadata": {},
   "outputs": [
    {
     "name": "stdout",
     "output_type": "stream",
     "text": [
      "access control disabled, clients can connect from any host\n"
     ]
    }
   ],
   "source": [
    "!xhost +"
   ]
  },
  {
   "cell_type": "code",
   "execution_count": 2,
   "metadata": {},
   "outputs": [],
   "source": [
    "import pyautogui\n"
   ]
  },
  {
   "cell_type": "code",
   "execution_count": 3,
   "metadata": {},
   "outputs": [
    {
     "ename": "SystemError",
     "evalue": "capture_screen() method: bad call flags",
     "output_type": "error",
     "traceback": [
      "\u001b[0;31m---------------------------------------------------------------------------\u001b[0m",
      "\u001b[0;31mSystemError\u001b[0m                               Traceback (most recent call last)",
      "Cell \u001b[0;32mIn[3], line 5\u001b[0m\n\u001b[1;32m      3\u001b[0m \u001b[38;5;28;01mimport\u001b[39;00m \u001b[38;5;21;01mhand_tracking_module\u001b[39;00m \u001b[38;5;28;01mas\u001b[39;00m \u001b[38;5;21;01mhtm\u001b[39;00m\n\u001b[1;32m      4\u001b[0m \u001b[38;5;28;01mimport\u001b[39;00m \u001b[38;5;21;01mtime\u001b[39;00m\n\u001b[0;32m----> 5\u001b[0m \u001b[38;5;28;01mimport\u001b[39;00m \u001b[38;5;21;01mautopy\u001b[39;00m\n\u001b[1;32m      7\u001b[0m wCam, hCam \u001b[38;5;241m=\u001b[39m \u001b[38;5;241m640\u001b[39m, \u001b[38;5;241m480\u001b[39m\n\u001b[1;32m      8\u001b[0m wScr, hScr \u001b[38;5;241m=\u001b[39m autopy\u001b[38;5;241m.\u001b[39mscreen\u001b[38;5;241m.\u001b[39msize()\n",
      "File \u001b[0;32m~/.local/lib/python3.11/site-packages/autopy/__init__.py:10\u001b[0m\n\u001b[1;32m      8\u001b[0m \u001b[38;5;66;03m# Import all sub-modules for convenience\u001b[39;00m\n\u001b[1;32m      9\u001b[0m \u001b[38;5;28;01mimport\u001b[39;00m \u001b[38;5;21;01mautopy\u001b[39;00m\u001b[38;5;21;01m.\u001b[39;00m\u001b[38;5;21;01malert\u001b[39;00m\n\u001b[0;32m---> 10\u001b[0m \u001b[38;5;28;01mimport\u001b[39;00m \u001b[38;5;21;01mautopy\u001b[39;00m\u001b[38;5;21;01m.\u001b[39;00m\u001b[38;5;21;01mbitmap\u001b[39;00m\n\u001b[1;32m     11\u001b[0m \u001b[38;5;28;01mimport\u001b[39;00m \u001b[38;5;21;01mautopy\u001b[39;00m\u001b[38;5;21;01m.\u001b[39;00m\u001b[38;5;21;01mcolor\u001b[39;00m\n\u001b[1;32m     12\u001b[0m \u001b[38;5;28;01mimport\u001b[39;00m \u001b[38;5;21;01mautopy\u001b[39;00m\u001b[38;5;21;01m.\u001b[39;00m\u001b[38;5;21;01mkey\u001b[39;00m\n",
      "\u001b[0;31mSystemError\u001b[0m: capture_screen() method: bad call flags"
     ]
    }
   ],
   "source": [
    "import cv2\n",
    "import numpy as np\n",
    "import hand_tracking_module as htm\n",
    "import time\n",
    "import autopy\n",
    "\n",
    "wCam, hCam = 640, 480\n",
    "wScr, hScr = autopy.screen.size()\n",
    "\n",
    "\n",
    "def setup():\n",
    "\n",
    "    ##########################\n",
    "    frameR = 100  # Frame Reduction\n",
    "    smoothening = 7\n",
    "    #########################\n",
    "\n",
    "    pTime = 0\n",
    "    plocX, plocY = 0, 0\n",
    "    clocX, clocY = 0, 0\n",
    "\n",
    "    cap = cv2.VideoCapture(1)\n",
    "    cap.set(3, wCam)\n",
    "    cap.set(4, hCam)\n",
    "    detector = htm.handDetector(maxHands=1)\n",
    "    # print(wScr, hScr)\n",
    "    return (\n",
    "        cap,\n",
    "        detector,\n",
    "    )\n",
    "\n",
    "\n",
    "def showCV(img):\n",
    "    cv2.imshow(\"Tela\", img)\n",
    "    cv2.waitKey(1)\n",
    "\n",
    "\n",
    "def displayText(text):\n",
    "    cv2.putText(text, (20, 50), cv2.FONT_HERSHEY_PLAIN, 3, 255, 0, 0, 3)\n",
    "\n",
    "\n",
    "def desenhaCirculo(img, x1, y1):\n",
    "    cv2.circle(img, (x1, y1), 15, (255, 0, 255), cv2.FILLED)\n",
    "\n",
    "\n",
    "def movingMode(fingers, x1, y1, WCam, h):\n",
    "    if fingers[1] == 1 and fingers[2] == 0:\n",
    "        # 5. converter em coordenadas\n",
    "        x3 = np.interp(x1, (0, wCam), (0, wScr))\n",
    "        y3 = np.interp(y1, (0, wCam), (0, hScr))\n",
    "\n",
    "        # 6 smothen values\n",
    "\n",
    "        # 7 move mouse\n",
    "        autopy.mouse.move(x3, y3)\n",
    "\n",
    "\n",
    "def main_ia_virtualMouse():\n",
    "    cap, detector = setup()\n",
    "\n",
    "    while True:\n",
    "        # 1. Find hand Landmarks\n",
    "        success, img = cap.read()\n",
    "        img = detector.findHands(img)\n",
    "        lmList, bbox = detector.findPosition(img)\n",
    "        # 2. Get the tip of the index and middle fingers\n",
    "        if len(lmList) != 0:\n",
    "            x1, y1 = lmList[8][1:]\n",
    "            x2, y2 = lmList[12][1:]\n",
    "            # print(x1, y1, x2, y2)\n",
    "\n",
    "            # Check witch fingers\n",
    "            dedos = detector.fingersUp()\n",
    "            print(dedos)\n",
    "\n",
    "            # only finger index - moving mode\n",
    "            # movingMode(dedos)\n",
    "            if dedos[1] == 1 and dedos[2] == 0:\n",
    "                # 5. converter em coordenadas\n",
    "                x3 = np.interp(x1, (0, wCam), (0, wScr))\n",
    "                y3 = np.interp(y1, (0, wCam), (0, hScr))\n",
    "\n",
    "                # 6 smothen values\n",
    "\n",
    "                # 7 move mouse\n",
    "                autopy.mouse.move(x3, y3)\n",
    "\n",
    "            # frame rate\n",
    "            cTime = time.time()\n",
    "            fps = 1 / (cTime - pTime)\n",
    "            pTime = cTime\n",
    "            cv2.putText(\n",
    "                img, str(int(fps)), (20, 50), cv2.FONT_HERSHEY_PLAIN, 3, 255, 0, 0, 3\n",
    "            )\n",
    "\n",
    "        # 12 display\n",
    "        showCV(img)\n",
    "\n",
    "\n",
    "main_ia_virtualMouse()\n"
   ]
  }
 ],
 "metadata": {
  "kernelspec": {
   "display_name": "Python 3",
   "language": "python",
   "name": "python3"
  },
  "language_info": {
   "codemirror_mode": {
    "name": "ipython",
    "version": 3
   },
   "file_extension": ".py",
   "mimetype": "text/x-python",
   "name": "python",
   "nbconvert_exporter": "python",
   "pygments_lexer": "ipython3",
   "version": "3.11.6"
  }
 },
 "nbformat": 4,
 "nbformat_minor": 2
}
