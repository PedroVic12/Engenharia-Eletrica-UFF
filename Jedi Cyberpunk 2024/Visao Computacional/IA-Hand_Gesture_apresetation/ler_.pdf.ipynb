{
 "cells": [
  {
   "cell_type": "code",
   "execution_count": 13,
   "metadata": {},
   "outputs": [
    {
     "name": "stdout",
     "output_type": "stream",
     "text": [
      "PER-SHIP STANDARD JOB DESCRIPTION REPORT Printed on : 21-07-2023\n",
      "Ship : STARNAV SAGITARIUS\n",
      "Job Name Número da Intervalo Carên Relógio Req Último Número da Conta Pri Categoria da\n",
      "Tarefa cia Concluído Tarefa\n",
      "7) Não acondicionar fluidos de manutenção em recipientes de vidro pois estes podem se quebrar.\n",
      "Ações de manutenção:\n",
      "1) Realizar inspeção visual, limpe com solvente elétrico e reaperte as conexões elétricas.\n",
      "Electric Starting Motor (ME 6400020113 6.0MONTHS 9 0Hrs 30-10-2022 510002 D Inspection\n",
      "PRT) 6 Monthly Inspection\n",
      "Electric Starting Motor (ME 6400020143 6.0MONTHS 9 0Hrs 30-10-2022 510002 D Inspection\n",
      "STB) 6 Monthly Inspection\n",
      "(P) Substituir A Cada 4000 Hrs: Main Engine: Electric Starting Motor\n",
      "Medidas de segurança:\n",
      "1) Parar o equipamento e sinalizar \"Em manutenção, não colocar em serviço\".\n",
      "2) Não permitir que pessoas não autorizadas se aproximem do equipamento enquanto a manutenção estiver sendo realizada.\n",
      "3) Utilizar o equipamento pessoal, de acordo com o trabalho realizado.\n",
      "4) Não usar roupas largas que possam ficar presas nas peças móveis.\n",
      "5) Não utilizar ar comprimido para limpeza do corpo, nem do equipamento de proteção individual.\n",
      "6) Descartar adequadamente os resíduos, evitando poluir o meio ambiente.\n",
      "7) Não acondicionar fluidos de manutenção em recipientes de vidro pois estes podem se quebrar.\n",
      "Ações de manutenção:\n",
      "1) Realizar manutenção geral no motor de arranque elétrico, substituir peças conforme indicado na inspeção.\n",
      "Electric Starting Motor (ME 6400020114 4000.0Hours 18 3570Hrs 30-01-2021 510002 D Replacement\n",
      "PRT) 4000 Hrs Replacement\n",
      "Electric Starting Motor (ME 6400020144 4000.0Hours 18 3570Hrs 30-01-2021 510002 D Replacement\n",
      "STB) 4000 Hrs Replacement\n",
      "Cardan Shaft (P)\n",
      "(P) RR US255 Inspeção A Cada 3 Meses: Azimuth Thruster: Cardan Shaft\n",
      "Medidas de segurança:\n",
      "1) Parar o equipamento e sinalizar \"Em manutenção, não colocar em serviço\".\n",
      "2) Não permitir que pessoas não autorizadas se aproximem do equipamento enquanto a manutenção estiver sendo realizada.\n",
      "3) Utilizar o equipamento pessoal, de acordo com o trabalho realizado.\n",
      "4) Não usar roupas largas que possam ficar presas nas peças móveis.\n",
      "5) Não utilizar ar comprimido para limpeza do corpo, nem do equipamento de proteção individual.\n",
      "6) Descartar adequadamente os resíduos, evitando poluir o meio ambiente.\n",
      "7) Não acondicionar fluidos de manutenção em recipientes de vidro pois estes podem se quebrar.\n",
      "8) Tomar todos os cuidados com o manuseio de produtos/soluções de limpeza.\n",
      "9) Assegurar de que todas as linhas de pressão estão despressurizadas.\n",
      "Ações de manutenção:\n",
      "1) Engraxar o acoplamento universal (gear/cardan coupling).\n",
      "Cardan Shafts Connections 6400020151 3.0MONTHS 5 0Hrs 30-01-2023 510012 D Inspection\n",
      "(PRT) 3 Monthly Inspection\n",
      "Cardan Shafts Connections 6400020159 3.0MONTHS 5 0Hrs 30-01-2023 510012 D Inspection\n",
      "CL= Requisitos de Sociedade de Classificação, CG = Requisito da Guarda Costeira Page : 4 of 98\n"
     ]
    }
   ],
   "source": [
    "import pdfplumber \n",
    "\n",
    "linux_path = r'/home/pedrov/Documentos/GitHub/elon-musk/Tecnologia e Inovação/Automações/assets/PDF/SJ - SAGITARIUS 2023-07-21.pdf'\n",
    "\n",
    "NUMERO_PAGINA = 3\n",
    "\n",
    "pdf = pdfplumber.open(linux_path)\n",
    "texto = pdf.pages[NUMERO_PAGINA].extract_text()\n",
    "tabela = pdf.pages[NUMERO_PAGINA].extract_table()\n",
    "\n",
    "print(texto)"
   ]
  }
 ],
 "metadata": {
  "kernelspec": {
   "display_name": "Python 3",
   "language": "python",
   "name": "python3"
  },
  "language_info": {
   "codemirror_mode": {
    "name": "ipython",
    "version": 3
   },
   "file_extension": ".py",
   "mimetype": "text/x-python",
   "name": "python",
   "nbconvert_exporter": "python",
   "pygments_lexer": "ipython3",
   "version": "3.11.6"
  }
 },
 "nbformat": 4,
 "nbformat_minor": 2
}
