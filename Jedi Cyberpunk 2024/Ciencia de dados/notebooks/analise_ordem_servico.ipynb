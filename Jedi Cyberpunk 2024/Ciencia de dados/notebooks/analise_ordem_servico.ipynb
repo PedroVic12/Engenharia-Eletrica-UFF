{
 "cells": [
  {
   "cell_type": "code",
   "execution_count": 7,
   "metadata": {},
   "outputs": [],
   "source": [
    "import plotly_express as px\n",
    "import pandas as pd\n",
    "import matplotlib.pyplot as plt\n",
    "\n",
    "\n",
    "def gerar_histograma(df,coluna_X,coluna_Y = None):\n",
    "    return px.histogram(df,text_auto= True ,x=coluna_X, title=f\"Histograma por {coluna_X}\", y=coluna_Y, color=\"MANUTENÇÃO\")\n",
    "\n",
    "def analise_exploratoria(df, tabela = None):\n",
    "    df.info()\n",
    "    print(\"\\n\")\n",
    "    print(\"Estatísticas Descritivas\")\n",
    "    display(df.describe())\n",
    "    print(\"\\n\")\n",
    "    print(\"Correlação\")\n",
    "    display(df.corr())\n",
    "    print(\"\\n\")\n",
    "    if tabela:\n",
    "        print(f\"Tabela - {tabela}\")\n",
    "        df.tabela.describe().to_frame()\n",
    "\n",
    "\n",
    "def show_info(df):\n",
    "    print(df.columns)\n",
    "    display(df)\n",
    "    analise_exploratoria(df)\n",
    "\n",
    "def show_dataframe(txt,df):\n",
    "    print(txt)\n",
    "    display(df)\n",
    "\n",
    "\n",
    "def count_table(df, coluna):\n",
    "    return df[coluna].value_counts().to_frame()\n"
   ]
  },
  {
   "cell_type": "code",
   "execution_count": 8,
   "metadata": {},
   "outputs": [
    {
     "name": "stderr",
     "output_type": "stream",
     "text": [
      "/home/pedrov/.local/lib/python3.11/site-packages/openpyxl/worksheet/_reader.py:329: UserWarning:\n",
      "\n",
      "Data Validation extension is not supported and will be removed\n",
      "\n"
     ]
    },
    {
     "data": {
      "text/html": [
       "<div>\n",
       "<style scoped>\n",
       "    .dataframe tbody tr th:only-of-type {\n",
       "        vertical-align: middle;\n",
       "    }\n",
       "\n",
       "    .dataframe tbody tr th {\n",
       "        vertical-align: top;\n",
       "    }\n",
       "\n",
       "    .dataframe thead th {\n",
       "        text-align: right;\n",
       "    }\n",
       "</style>\n",
       "<table border=\"1\" class=\"dataframe\">\n",
       "  <thead>\n",
       "    <tr style=\"text-align: right;\">\n",
       "      <th></th>\n",
       "      <th>Nº OS</th>\n",
       "      <th>EMBARCAÇÃO</th>\n",
       "      <th>DATA DE ABERTURA</th>\n",
       "      <th>DESCRIÇÃO DA FALHA</th>\n",
       "      <th>EQUIPAMENTO</th>\n",
       "      <th>MANUTENÇÃO</th>\n",
       "      <th>SERVIÇO EXECUTADO</th>\n",
       "      <th>DATA INÍCIO DA EXECUÇÃO</th>\n",
       "      <th>HORA INICIAL</th>\n",
       "      <th>RESPONSÁVEL\\n PELA\\n EXECUÇÃO</th>\n",
       "      <th>OFICINA</th>\n",
       "      <th>FINALIZADO</th>\n",
       "      <th>DATA CONCLUSÃO</th>\n",
       "      <th>HORA FINAL</th>\n",
       "      <th>FORA DE OPERAÇÃO</th>\n",
       "      <th>OBSERVAÇÕES</th>\n",
       "    </tr>\n",
       "  </thead>\n",
       "  <tbody>\n",
       "    <tr>\n",
       "      <th>0</th>\n",
       "      <td>1</td>\n",
       "      <td>CICLONE</td>\n",
       "      <td>2023-01-27 00:00:00</td>\n",
       "      <td>Estrutura metálica do suspiro da caixa mar de ...</td>\n",
       "      <td>CASCO</td>\n",
       "      <td>CORRETIVA</td>\n",
       "      <td>NaN</td>\n",
       "      <td>NaN</td>\n",
       "      <td>NaN</td>\n",
       "      <td>NaN</td>\n",
       "      <td>NaN</td>\n",
       "      <td>NÃO</td>\n",
       "      <td>NaN</td>\n",
       "      <td>NaN</td>\n",
       "      <td>NaN</td>\n",
       "      <td>Informação relatada através do grupo Manutenca...</td>\n",
       "    </tr>\n",
       "    <tr>\n",
       "      <th>1</th>\n",
       "      <td>2</td>\n",
       "      <td>CICLONE</td>\n",
       "      <td>2023-04-17 00:00:00</td>\n",
       "      <td>Ar condicionado do camarote do marinheiro esta...</td>\n",
       "      <td>AR CONDICIONADO</td>\n",
       "      <td>CORRETIVA</td>\n",
       "      <td>Substituição de dois sensores da central de ar...</td>\n",
       "      <td>2023-03-14 00:00:00</td>\n",
       "      <td>18:00:00</td>\n",
       "      <td>Benilton</td>\n",
       "      <td>Beny refrigeração</td>\n",
       "      <td>SIM</td>\n",
       "      <td>2023-03-14 00:00:00</td>\n",
       "      <td>20:50:00</td>\n",
       "      <td>NaN</td>\n",
       "      <td>RC 19 enviada dia 17/04/2023. RC 17 enviada em...</td>\n",
       "    </tr>\n",
       "    <tr>\n",
       "      <th>2</th>\n",
       "      <td>3</td>\n",
       "      <td>MERLIM</td>\n",
       "      <td>2023-05-14 00:00:00</td>\n",
       "      <td>Eixo de BB com trepidação. Hélice avariado.</td>\n",
       "      <td>LINHA DE EIXO BB</td>\n",
       "      <td>CORRETIVA</td>\n",
       "      <td>NaN</td>\n",
       "      <td>NaN</td>\n",
       "      <td>NaN</td>\n",
       "      <td>NaN</td>\n",
       "      <td>NaN</td>\n",
       "      <td>NÃO</td>\n",
       "      <td>NaN</td>\n",
       "      <td>NaN</td>\n",
       "      <td>NaN</td>\n",
       "      <td>Informação relatada no grupo Manut Viagem, dia...</td>\n",
       "    </tr>\n",
       "    <tr>\n",
       "      <th>3</th>\n",
       "      <td>4</td>\n",
       "      <td>CICLONE</td>\n",
       "      <td>2023-05-23 00:00:00</td>\n",
       "      <td>Foi danificado um rolete de acoplamento da cai...</td>\n",
       "      <td>REVERSOR BE</td>\n",
       "      <td>CORRETIVA</td>\n",
       "      <td>NaN</td>\n",
       "      <td>NaN</td>\n",
       "      <td>NaN</td>\n",
       "      <td>NaN</td>\n",
       "      <td>NaN</td>\n",
       "      <td>NÃO</td>\n",
       "      <td>NaN</td>\n",
       "      <td>NaN</td>\n",
       "      <td>NaN</td>\n",
       "      <td>RC 19 enviada dia 23/05/2023. Relatório RM MOT...</td>\n",
       "    </tr>\n",
       "    <tr>\n",
       "      <th>4</th>\n",
       "      <td>5</td>\n",
       "      <td>VENDAVAL</td>\n",
       "      <td>2023-07-11 00:00:00</td>\n",
       "      <td>O eixo do leme CL está com uma folga longitudi...</td>\n",
       "      <td>SISTEMA DE GOVERNO LC</td>\n",
       "      <td>CORRETIVA</td>\n",
       "      <td>NaN</td>\n",
       "      <td>NaN</td>\n",
       "      <td>NaN</td>\n",
       "      <td>NaN</td>\n",
       "      <td>NaN</td>\n",
       "      <td>NÃO</td>\n",
       "      <td>NaN</td>\n",
       "      <td>NaN</td>\n",
       "      <td>NaN</td>\n",
       "      <td>RC 19 enviada dia 11/07/2023.</td>\n",
       "    </tr>\n",
       "  </tbody>\n",
       "</table>\n",
       "</div>"
      ],
      "text/plain": [
       "   Nº OS EMBARCAÇÃO     DATA DE ABERTURA  \\\n",
       "0      1    CICLONE  2023-01-27 00:00:00   \n",
       "1      2    CICLONE  2023-04-17 00:00:00   \n",
       "2      3     MERLIM  2023-05-14 00:00:00   \n",
       "3      4    CICLONE  2023-05-23 00:00:00   \n",
       "4      5   VENDAVAL  2023-07-11 00:00:00   \n",
       "\n",
       "                                  DESCRIÇÃO DA FALHA            EQUIPAMENTO  \\\n",
       "0  Estrutura metálica do suspiro da caixa mar de ...                  CASCO   \n",
       "1  Ar condicionado do camarote do marinheiro esta...        AR CONDICIONADO   \n",
       "2        Eixo de BB com trepidação. Hélice avariado.       LINHA DE EIXO BB   \n",
       "3  Foi danificado um rolete de acoplamento da cai...            REVERSOR BE   \n",
       "4  O eixo do leme CL está com uma folga longitudi...  SISTEMA DE GOVERNO LC   \n",
       "\n",
       "  MANUTENÇÃO                                  SERVIÇO EXECUTADO  \\\n",
       "0  CORRETIVA                                                NaN   \n",
       "1  CORRETIVA  Substituição de dois sensores da central de ar...   \n",
       "2  CORRETIVA                                                NaN   \n",
       "3  CORRETIVA                                                NaN   \n",
       "4  CORRETIVA                                                NaN   \n",
       "\n",
       "  DATA INÍCIO DA EXECUÇÃO HORA INICIAL RESPONSÁVEL\\n PELA\\n EXECUÇÃO  \\\n",
       "0                     NaN          NaN                           NaN   \n",
       "1     2023-03-14 00:00:00     18:00:00                      Benilton   \n",
       "2                     NaN          NaN                           NaN   \n",
       "3                     NaN          NaN                           NaN   \n",
       "4                     NaN          NaN                           NaN   \n",
       "\n",
       "             OFICINA FINALIZADO       DATA CONCLUSÃO HORA FINAL  \\\n",
       "0                NaN        NÃO                  NaN        NaN   \n",
       "1  Beny refrigeração        SIM  2023-03-14 00:00:00   20:50:00   \n",
       "2                NaN        NÃO                  NaN        NaN   \n",
       "3                NaN        NÃO                  NaN        NaN   \n",
       "4                NaN        NÃO                  NaN        NaN   \n",
       "\n",
       "  FORA DE OPERAÇÃO                                        OBSERVAÇÕES  \n",
       "0              NaN  Informação relatada através do grupo Manutenca...  \n",
       "1              NaN  RC 19 enviada dia 17/04/2023. RC 17 enviada em...  \n",
       "2              NaN  Informação relatada no grupo Manut Viagem, dia...  \n",
       "3              NaN  RC 19 enviada dia 23/05/2023. Relatório RM MOT...  \n",
       "4              NaN                     RC 19 enviada dia 11/07/2023.   "
      ]
     },
     "execution_count": 8,
     "metadata": {},
     "output_type": "execute_result"
    }
   ],
   "source": [
    "\n",
    "df_medios = pd.read_excel(\"/home/pedrov/Documentos/GitHub/Engenharia-Eletrica-UFF/Jedi Cyberpunk 2024/Ciencia de dados/datasets/Acompanhamento MNT - Grandes e Médios 2024.xlsx\", sheet_name=0,skiprows=1)\n",
    "df_medios.head()\n"
   ]
  },
  {
   "cell_type": "markdown",
   "metadata": {},
   "source": [
    "## Maiores valores"
   ]
  },
  {
   "cell_type": "code",
   "execution_count": 9,
   "metadata": {},
   "outputs": [
    {
     "data": {
      "text/html": [
       "<div>\n",
       "<style scoped>\n",
       "    .dataframe tbody tr th:only-of-type {\n",
       "        vertical-align: middle;\n",
       "    }\n",
       "\n",
       "    .dataframe tbody tr th {\n",
       "        vertical-align: top;\n",
       "    }\n",
       "\n",
       "    .dataframe thead th {\n",
       "        text-align: right;\n",
       "    }\n",
       "</style>\n",
       "<table border=\"1\" class=\"dataframe\">\n",
       "  <thead>\n",
       "    <tr style=\"text-align: right;\">\n",
       "      <th></th>\n",
       "      <th>count</th>\n",
       "    </tr>\n",
       "    <tr>\n",
       "      <th>EQUIPAMENTO</th>\n",
       "      <th></th>\n",
       "    </tr>\n",
       "  </thead>\n",
       "  <tbody>\n",
       "    <tr>\n",
       "      <th>AR CONDICIONADO</th>\n",
       "      <td>44</td>\n",
       "    </tr>\n",
       "    <tr>\n",
       "      <th>MCP BB</th>\n",
       "      <td>38</td>\n",
       "    </tr>\n",
       "    <tr>\n",
       "      <th>ELETRICA/ELETRONICO</th>\n",
       "      <td>35</td>\n",
       "    </tr>\n",
       "    <tr>\n",
       "      <th>MCP BE</th>\n",
       "      <td>34</td>\n",
       "    </tr>\n",
       "    <tr>\n",
       "      <th>MCA BE</th>\n",
       "      <td>27</td>\n",
       "    </tr>\n",
       "    <tr>\n",
       "      <th>MCA BB</th>\n",
       "      <td>24</td>\n",
       "    </tr>\n",
       "    <tr>\n",
       "      <th>EQUIPAMENTOS NAUTICOS</th>\n",
       "      <td>22</td>\n",
       "    </tr>\n",
       "    <tr>\n",
       "      <th>ELETRODOMESTICOS</th>\n",
       "      <td>20</td>\n",
       "    </tr>\n",
       "    <tr>\n",
       "      <th>MCP LC</th>\n",
       "      <td>19</td>\n",
       "    </tr>\n",
       "    <tr>\n",
       "      <th>GUINCHO DE POPA</th>\n",
       "      <td>17</td>\n",
       "    </tr>\n",
       "    <tr>\n",
       "      <th>BOMBAS</th>\n",
       "      <td>17</td>\n",
       "    </tr>\n",
       "    <tr>\n",
       "      <th>COMUNICAÇÃO</th>\n",
       "      <td>15</td>\n",
       "    </tr>\n",
       "    <tr>\n",
       "      <th>REVERSOR BB</th>\n",
       "      <td>13</td>\n",
       "    </tr>\n",
       "    <tr>\n",
       "      <th>ELÉTRICA/ELETRÔNICO</th>\n",
       "      <td>12</td>\n",
       "    </tr>\n",
       "    <tr>\n",
       "      <th>REVERSOR BE</th>\n",
       "      <td>11</td>\n",
       "    </tr>\n",
       "    <tr>\n",
       "      <th>ESTRUTURA</th>\n",
       "      <td>11</td>\n",
       "    </tr>\n",
       "    <tr>\n",
       "      <th>PORTAS/ESCOTILHAS</th>\n",
       "      <td>10</td>\n",
       "    </tr>\n",
       "    <tr>\n",
       "      <th>REDES</th>\n",
       "      <td>10</td>\n",
       "    </tr>\n",
       "    <tr>\n",
       "      <th>TANQUES</th>\n",
       "      <td>10</td>\n",
       "    </tr>\n",
       "    <tr>\n",
       "      <th>EQUIPAMENTOS NÁUTICOS</th>\n",
       "      <td>10</td>\n",
       "    </tr>\n",
       "    <tr>\n",
       "      <th>REVERSOR LC</th>\n",
       "      <td>9</td>\n",
       "    </tr>\n",
       "    <tr>\n",
       "      <th>LEME</th>\n",
       "      <td>9</td>\n",
       "    </tr>\n",
       "    <tr>\n",
       "      <th>GUINCHO DE PROA</th>\n",
       "      <td>9</td>\n",
       "    </tr>\n",
       "    <tr>\n",
       "      <th>PROPULSOR BB</th>\n",
       "      <td>8</td>\n",
       "    </tr>\n",
       "    <tr>\n",
       "      <th>ACOMODAÇÕES</th>\n",
       "      <td>7</td>\n",
       "    </tr>\n",
       "    <tr>\n",
       "      <th>PURIFICADOR</th>\n",
       "      <td>7</td>\n",
       "    </tr>\n",
       "    <tr>\n",
       "      <th>PROPULSOR BE</th>\n",
       "      <td>7</td>\n",
       "    </tr>\n",
       "    <tr>\n",
       "      <th>ALARMES/SENSORES/SIRENES</th>\n",
       "      <td>6</td>\n",
       "    </tr>\n",
       "    <tr>\n",
       "      <th>VENTILAÇÃO/EXAUSTÃO BB</th>\n",
       "      <td>5</td>\n",
       "    </tr>\n",
       "    <tr>\n",
       "      <th>SISTEMA DE BATERIAS</th>\n",
       "      <td>5</td>\n",
       "    </tr>\n",
       "    <tr>\n",
       "      <th>AMARRAÇÃO E FUNDEIO</th>\n",
       "      <td>5</td>\n",
       "    </tr>\n",
       "    <tr>\n",
       "      <th>LINHA DE EIXO BE</th>\n",
       "      <td>3</td>\n",
       "    </tr>\n",
       "    <tr>\n",
       "      <th>CASCO</th>\n",
       "      <td>3</td>\n",
       "    </tr>\n",
       "    <tr>\n",
       "      <th>MOTOBOMBA</th>\n",
       "      <td>3</td>\n",
       "    </tr>\n",
       "    <tr>\n",
       "      <th>LINHA DE EIXO BB</th>\n",
       "      <td>3</td>\n",
       "    </tr>\n",
       "    <tr>\n",
       "      <th>LINHA DE EIXO LC</th>\n",
       "      <td>2</td>\n",
       "    </tr>\n",
       "    <tr>\n",
       "      <th>PROPULSOR LC</th>\n",
       "      <td>2</td>\n",
       "    </tr>\n",
       "    <tr>\n",
       "      <th>MUNCK</th>\n",
       "      <td>2</td>\n",
       "    </tr>\n",
       "    <tr>\n",
       "      <th>EQUIPAMENTO DE INCENDIO</th>\n",
       "      <td>2</td>\n",
       "    </tr>\n",
       "    <tr>\n",
       "      <th>INSTRUMENTAÇÃO</th>\n",
       "      <td>2</td>\n",
       "    </tr>\n",
       "    <tr>\n",
       "      <th>SISTEMA HIDRÁULICO DO GUINCHO</th>\n",
       "      <td>2</td>\n",
       "    </tr>\n",
       "    <tr>\n",
       "      <th>SISTEMA DE GOVERNO LC</th>\n",
       "      <td>2</td>\n",
       "    </tr>\n",
       "    <tr>\n",
       "      <th>COMPRESSOR 2</th>\n",
       "      <td>1</td>\n",
       "    </tr>\n",
       "    <tr>\n",
       "      <th>TANQUE</th>\n",
       "      <td>1</td>\n",
       "    </tr>\n",
       "    <tr>\n",
       "      <th>SISTEMA DE GOVERNO BE</th>\n",
       "      <td>1</td>\n",
       "    </tr>\n",
       "    <tr>\n",
       "      <th>INSTALAÇÕES</th>\n",
       "      <td>1</td>\n",
       "    </tr>\n",
       "    <tr>\n",
       "      <th>GATO</th>\n",
       "      <td>1</td>\n",
       "    </tr>\n",
       "    <tr>\n",
       "      <th>VENTILAÇÃO/EXAUSTÃO BE</th>\n",
       "      <td>1</td>\n",
       "    </tr>\n",
       "    <tr>\n",
       "      <th>BOMBAS</th>\n",
       "      <td>1</td>\n",
       "    </tr>\n",
       "    <tr>\n",
       "      <th>SISTEMA DE GOVERNO BB</th>\n",
       "      <td>1</td>\n",
       "    </tr>\n",
       "  </tbody>\n",
       "</table>\n",
       "</div>"
      ],
      "text/plain": [
       "                               count\n",
       "EQUIPAMENTO                         \n",
       "AR CONDICIONADO                   44\n",
       "MCP BB                            38\n",
       "ELETRICA/ELETRONICO               35\n",
       "MCP BE                            34\n",
       "MCA BE                            27\n",
       "MCA BB                            24\n",
       "EQUIPAMENTOS NAUTICOS             22\n",
       "ELETRODOMESTICOS                  20\n",
       "MCP LC                            19\n",
       "GUINCHO DE POPA                   17\n",
       "BOMBAS                            17\n",
       "COMUNICAÇÃO                       15\n",
       "REVERSOR BB                       13\n",
       "ELÉTRICA/ELETRÔNICO               12\n",
       "REVERSOR BE                       11\n",
       "ESTRUTURA                         11\n",
       "PORTAS/ESCOTILHAS                 10\n",
       "REDES                             10\n",
       "TANQUES                           10\n",
       "EQUIPAMENTOS NÁUTICOS             10\n",
       "REVERSOR LC                        9\n",
       "LEME                               9\n",
       "GUINCHO DE PROA                    9\n",
       "PROPULSOR BB                       8\n",
       "ACOMODAÇÕES                        7\n",
       "PURIFICADOR                        7\n",
       "PROPULSOR BE                       7\n",
       "ALARMES/SENSORES/SIRENES           6\n",
       "VENTILAÇÃO/EXAUSTÃO BB             5\n",
       "SISTEMA DE BATERIAS                5\n",
       "AMARRAÇÃO E FUNDEIO                5\n",
       "LINHA DE EIXO BE                   3\n",
       "CASCO                              3\n",
       "MOTOBOMBA                          3\n",
       "LINHA DE EIXO BB                   3\n",
       "LINHA DE EIXO LC                   2\n",
       "PROPULSOR LC                       2\n",
       "MUNCK                              2\n",
       "EQUIPAMENTO DE INCENDIO            2\n",
       "INSTRUMENTAÇÃO                     2\n",
       "SISTEMA HIDRÁULICO DO GUINCHO      2\n",
       "SISTEMA DE GOVERNO LC              2\n",
       "COMPRESSOR 2                       1\n",
       "TANQUE                             1\n",
       "SISTEMA DE GOVERNO BE              1\n",
       "INSTALAÇÕES                        1\n",
       "GATO                               1\n",
       "VENTILAÇÃO/EXAUSTÃO BE             1\n",
       "BOMBAS                             1\n",
       "SISTEMA DE GOVERNO BB              1"
      ]
     },
     "metadata": {},
     "output_type": "display_data"
    },
    {
     "data": {
      "text/html": [
       "<div>\n",
       "<style scoped>\n",
       "    .dataframe tbody tr th:only-of-type {\n",
       "        vertical-align: middle;\n",
       "    }\n",
       "\n",
       "    .dataframe tbody tr th {\n",
       "        vertical-align: top;\n",
       "    }\n",
       "\n",
       "    .dataframe thead th {\n",
       "        text-align: right;\n",
       "    }\n",
       "</style>\n",
       "<table border=\"1\" class=\"dataframe\">\n",
       "  <thead>\n",
       "    <tr style=\"text-align: right;\">\n",
       "      <th></th>\n",
       "      <th>count</th>\n",
       "    </tr>\n",
       "    <tr>\n",
       "      <th>EMBARCAÇÃO</th>\n",
       "      <th></th>\n",
       "    </tr>\n",
       "  </thead>\n",
       "  <tbody>\n",
       "    <tr>\n",
       "      <th>VENDAVAL</th>\n",
       "      <td>78</td>\n",
       "    </tr>\n",
       "    <tr>\n",
       "      <th>TEMPESTADE</th>\n",
       "      <td>70</td>\n",
       "    </tr>\n",
       "    <tr>\n",
       "      <th>VENTANIA</th>\n",
       "      <td>56</td>\n",
       "    </tr>\n",
       "    <tr>\n",
       "      <th>TORNADO</th>\n",
       "      <td>52</td>\n",
       "    </tr>\n",
       "    <tr>\n",
       "      <th>TUFAO</th>\n",
       "      <td>48</td>\n",
       "    </tr>\n",
       "    <tr>\n",
       "      <th>NEBLINA</th>\n",
       "      <td>40</td>\n",
       "    </tr>\n",
       "    <tr>\n",
       "      <th>VIGO MAXIMUS</th>\n",
       "      <td>32</td>\n",
       "    </tr>\n",
       "    <tr>\n",
       "      <th>MERLIM</th>\n",
       "      <td>30</td>\n",
       "    </tr>\n",
       "    <tr>\n",
       "      <th>NEW TROVAO</th>\n",
       "      <td>28</td>\n",
       "    </tr>\n",
       "    <tr>\n",
       "      <th>F ANDREIS XI</th>\n",
       "      <td>20</td>\n",
       "    </tr>\n",
       "    <tr>\n",
       "      <th>CICLONE</th>\n",
       "      <td>18</td>\n",
       "    </tr>\n",
       "    <tr>\n",
       "      <th>ONIX</th>\n",
       "      <td>18</td>\n",
       "    </tr>\n",
       "    <tr>\n",
       "      <th>PERSIVAL</th>\n",
       "      <td>13</td>\n",
       "    </tr>\n",
       "    <tr>\n",
       "      <th>TORMENTA</th>\n",
       "      <td>7</td>\n",
       "    </tr>\n",
       "  </tbody>\n",
       "</table>\n",
       "</div>"
      ],
      "text/plain": [
       "              count\n",
       "EMBARCAÇÃO         \n",
       "VENDAVAL         78\n",
       "TEMPESTADE       70\n",
       "VENTANIA         56\n",
       "TORNADO          52\n",
       "TUFAO            48\n",
       "NEBLINA          40\n",
       "VIGO MAXIMUS     32\n",
       "MERLIM           30\n",
       "NEW TROVAO       28\n",
       "F ANDREIS XI     20\n",
       "CICLONE          18\n",
       "ONIX             18\n",
       "PERSIVAL         13\n",
       "TORMENTA          7"
      ]
     },
     "metadata": {},
     "output_type": "display_data"
    },
    {
     "data": {
      "text/plain": [
       "<Axes: xlabel='FINALIZADO'>"
      ]
     },
     "metadata": {},
     "output_type": "display_data"
    },
    {
     "data": {
      "image/png": "[encoded data removed]",
      "text/plain": [
       "<Figure size 640x480 with 1 Axes>"
      ]
     },
     "metadata": {},
     "output_type": "display_data"
    }
   ],
   "source": [
    "display(count_table(df_medios, \"EQUIPAMENTO\"))\n",
    "display(count_table(df_medios,\"EMBARCAÇÃO\"))\n",
    "display(count_table(df_medios,\"FINALIZADO\").plot(kind=\"bar\"))"
   ]
  },
  {
   "cell_type": "code",
   "execution_count": 13,
   "metadata": {},
   "outputs": [
    {
     "data": {
      "application/vnd.plotly.v1+json": {
       "config": {
        "plotlyServerURL": "https://plot.ly"
       },
       "data": [
        {
         "alignmentgroup": "True",
         "bingroup": "x",
         "hovertemplate": "MANUTENÇÃO=CORRETIVA<br>EMBARCAÇÃO=%{x}<br>count=%{y}<extra></extra>",
         "legendgroup": "CORRETIVA",
         "marker": {
          "color": "#636efa",
          "pattern": {
           "shape": ""
          }
         },
         "name": "CORRETIVA",
         "offsetgroup": "CORRETIVA",
         "orientation": "v",
         "showlegend": true,
         "texttemplate": "%{value}",
         "type": "histogram",
         "x": [
          "CICLONE",
          "CICLONE",
          "MERLIM",
          "CICLONE",
          "VENDAVAL",
          "NEW TROVAO",
          "ONIX",
          "TORNADO",
          "TORNADO",
          "NEW TROVAO",
          "VENDAVAL",
          "F ANDREIS XI",
          "MERLIM",
          "VIGO MAXIMUS",
          "NEBLINA",
          "VENDAVAL",
          "TORNADO",
          "TORNADO",
          "TORNADO",
          "TEMPESTADE",
          "TORMENTA",
          "VENDAVAL",
          "VENDAVAL",
          "TEMPESTADE",
          "TEMPESTADE",
          "NEBLINA",
          "VENDAVAL",
          "PERSIVAL",
          "VENDAVAL",
          "NEW TROVAO",
          "VENDAVAL",
          "VENDAVAL",
          "VENDAVAL",
          "VENDAVAL",
          "VENDAVAL",
          "MERLIM",
          "TEMPESTADE",
          "TEMPESTADE",
          "TORNADO",
          "NEW TROVAO",
          "VIGO MAXIMUS",
          "NEBLINA",
          "VENDAVAL",
          "VENDAVAL",
          "VENDAVAL",
          "NEBLINA",
          "VENDAVAL",
          "VENDAVAL",
          "VENDAVAL",
          "F ANDREIS XI",
          "F ANDREIS XI",
          "F ANDREIS XI",
          "VENDAVAL",
          "F ANDREIS XI",
          "F ANDREIS XI",
          "TUFAO",
          "TUFAO",
          "TUFAO",
          "TUFAO",
          "VENDAVAL",
          "TEMPESTADE",
          "NEBLINA",
          "CICLONE",
          "CICLONE",
          "MERLIM",
          "VENTANIA",
          "VENTANIA",
          "VENTANIA",
          "NEBLINA",
          "NEBLINA",
          "NEBLINA",
          "VIGO MAXIMUS",
          "MERLIM",
          "VENDAVAL",
          "CICLONE",
          "VENDAVAL",
          "VENTANIA",
          "MERLIM",
          "PERSIVAL",
          "TEMPESTADE",
          "TEMPESTADE",
          "TEMPESTADE",
          "TEMPESTADE",
          "TEMPESTADE",
          "TORNADO",
          "TORNADO",
          "TORNADO",
          "TORNADO",
          "VENTANIA",
          "VENTANIA",
          "TUFAO",
          "TUFAO",
          "VENTANIA",
          "VENTANIA",
          "TEMPESTADE",
          "TEMPESTADE",
          "NEBLINA",
          "VENTANIA",
          "VENTANIA",
          "VENTANIA",
          "VENTANIA",
          "PERSIVAL",
          "VENDAVAL",
          "VENTANIA",
          "VENTANIA",
          "VENDAVAL",
          "TUFAO",
          "VENDAVAL",
          "PERSIVAL",
          "PERSIVAL",
          "VENTANIA",
          "VENTANIA",
          "VENTANIA",
          "VENTANIA",
          "VENTANIA",
          "VENTANIA",
          "F ANDREIS XI",
          "NEBLINA",
          "NEW TROVAO",
          "TEMPESTADE",
          "TEMPESTADE",
          "F ANDREIS XI",
          "VENTANIA",
          "MERLIM",
          "MERLIM",
          "VENTANIA",
          "VENTANIA",
          "TUFAO",
          "TUFAO",
          "TUFAO",
          "TUFAO",
          "TUFAO",
          "TUFAO",
          "TUFAO",
          "TUFAO",
          "TUFAO",
          "TUFAO",
          "MERLIM",
          "MERLIM",
          "MERLIM",
          "TEMPESTADE",
          "TEMPESTADE",
          "TEMPESTADE",
          "TEMPESTADE",
          "TEMPESTADE",
          "TEMPESTADE",
          "VENTANIA",
          "ONIX",
          "VIGO MAXIMUS",
          "TUFAO",
          "TUFAO",
          "TUFAO",
          "TUFAO",
          "TUFAO",
          "TUFAO",
          "TUFAO",
          "NEBLINA",
          "NEBLINA",
          "NEBLINA",
          "NEBLINA",
          "NEBLINA",
          "VENDAVAL",
          "MERLIM",
          "MERLIM",
          "VIGO MAXIMUS",
          "TORNADO",
          "TORNADO",
          "TORNADO",
          "TORNADO",
          "VENTANIA",
          "VENTANIA",
          "TUFAO",
          "TUFAO",
          "TUFAO",
          "TUFAO",
          "TUFAO",
          "TUFAO",
          "TUFAO",
          "TEMPESTADE",
          "TEMPESTADE",
          "TEMPESTADE",
          "TEMPESTADE",
          "TEMPESTADE",
          "TEMPESTADE",
          "TEMPESTADE",
          "TEMPESTADE",
          "TEMPESTADE",
          "MERLIM",
          "TEMPESTADE",
          "TEMPESTADE",
          "TORNADO",
          "TORNADO",
          "TORNADO",
          "TORNADO",
          "TORNADO",
          "PERSIVAL",
          "TEMPESTADE",
          "TUFAO",
          "TUFAO",
          "TUFAO",
          "TUFAO",
          "CICLONE",
          "CICLONE",
          "CICLONE",
          "TORNADO",
          "TORNADO",
          "TORNADO",
          "TORNADO",
          "MERLIM",
          "MERLIM",
          "ONIX",
          "ONIX",
          "VENTANIA",
          "VENTANIA",
          "VENTANIA",
          "VENTANIA",
          "VENTANIA",
          "VENTANIA",
          "TORNADO",
          "TORNADO",
          "NEBLINA",
          "VENTANIA",
          "VENTANIA",
          "F ANDREIS XI",
          "TEMPESTADE",
          "TEMPESTADE",
          "TEMPESTADE",
          "TORNADO",
          "TORNADO",
          "TORNADO",
          "TORNADO",
          "TEMPESTADE",
          "TEMPESTADE",
          "F ANDREIS XI",
          "TORNADO",
          "F ANDREIS XI",
          "ONIX",
          "TORMENTA",
          "TORNADO",
          "TORMENTA",
          "ONIX",
          "VENTANIA",
          "VENTANIA",
          "MERLIM",
          "TORNADO",
          "VENDAVAL",
          "VENDAVAL",
          "TORMENTA",
          "TORNADO",
          "TEMPESTADE",
          "TEMPESTADE",
          "VENTANIA",
          "VENTANIA",
          "VENTANIA",
          "VENDAVAL",
          "VENDAVAL",
          "VENDAVAL",
          "VENDAVAL",
          "VENDAVAL",
          "VENDAVAL",
          "TUFAO",
          "TUFAO",
          "TUFAO",
          "TUFAO",
          "TUFAO",
          "ONIX",
          "MERLIM",
          "ONIX",
          "MERLIM",
          "TORNADO",
          "VENDAVAL",
          "VENDAVAL",
          "VENDAVAL",
          "VENDAVAL",
          "VENDAVAL",
          "VENDAVAL",
          "TUFAO",
          "VENDAVAL",
          "VENDAVAL",
          "VENDAVAL",
          "VENDAVAL",
          "NEW TROVAO",
          "VENDAVAL",
          "TEMPESTADE",
          "TEMPESTADE",
          "TEMPESTADE",
          "TEMPESTADE",
          "TEMPESTADE",
          "TEMPESTADE",
          "TEMPESTADE",
          "VENDAVAL",
          "VENTANIA",
          "VENDAVAL",
          "VENDAVAL",
          "VENDAVAL",
          "TEMPESTADE",
          "TEMPESTADE",
          "TEMPESTADE",
          "TEMPESTADE",
          "TEMPESTADE",
          "TEMPESTADE",
          "VENDAVAL",
          "VENDAVAL",
          "VENDAVAL",
          "VENDAVAL",
          "VENTANIA",
          "NEW TROVAO",
          "NEW TROVAO",
          "VENDAVAL",
          "F ANDREIS XI",
          "TORMENTA",
          "NEBLINA",
          "VENDAVAL",
          "TORNADO",
          "NEW TROVAO",
          "VENTANIA",
          "VENTANIA",
          "VENTANIA",
          "VENTANIA",
          "VENDAVAL",
          "TEMPESTADE",
          "VENTANIA",
          "VENTANIA",
          "MERLIM",
          "TEMPESTADE",
          "VENTANIA",
          "VENTANIA",
          "VENDAVAL",
          "TEMPESTADE",
          "TUFAO",
          "VIGO MAXIMUS",
          "VIGO MAXIMUS",
          "VIGO MAXIMUS",
          "VIGO MAXIMUS",
          "VENTANIA",
          "MERLIM",
          "F ANDREIS XI",
          "NEBLINA",
          "NEBLINA",
          "MERLIM",
          "TORNADO",
          "TORNADO",
          "TORNADO",
          "TEMPESTADE",
          "TEMPESTADE",
          "TEMPESTADE",
          "TEMPESTADE",
          "TEMPESTADE",
          "TORNADO",
          "NEBLINA",
          "VENTANIA",
          "VENTANIA",
          "NEBLINA",
          "NEBLINA",
          "VENDAVAL",
          "VENDAVAL",
          "VENDAVAL",
          "ONIX",
          "ONIX",
          "NEBLINA",
          "TEMPESTADE",
          "TORNADO",
          "TORNADO",
          "CICLONE",
          "NEBLINA",
          "NEBLINA",
          "NEBLINA",
          "MERLIM",
          "F ANDREIS XI",
          "NEBLINA",
          "CICLONE",
          "NEBLINA",
          "NEW TROVAO",
          "NEW TROVAO",
          "NEW TROVAO",
          "VENDAVAL",
          "VENDAVAL",
          "VENDAVAL",
          "VENDAVAL",
          "PERSIVAL",
          "PERSIVAL",
          "F ANDREIS XI",
          "PERSIVAL",
          "F ANDREIS XI",
          "F ANDREIS XI",
          "VIGO MAXIMUS",
          "ONIX",
          "PERSIVAL",
          "PERSIVAL",
          "NEBLINA",
          "MERLIM",
          "VENTANIA",
          "TEMPESTADE",
          "VENDAVAL",
          "CICLONE",
          "CICLONE",
          "VENTANIA",
          "NEBLINA",
          "NEBLINA",
          "NEBLINA",
          "TEMPESTADE",
          "TEMPESTADE",
          "VENDAVAL",
          "VENDAVAL",
          "VENDAVAL",
          "VENDAVAL",
          "VENDAVAL",
          "VENDAVAL",
          "NEBLINA",
          "NEBLINA",
          "NEBLINA",
          "MERLIM",
          "MERLIM",
          "NEW TROVAO",
          "NEW TROVAO",
          "NEW TROVAO",
          "NEW TROVAO",
          "NEW TROVAO",
          "NEW TROVAO",
          "NEW TROVAO",
          "VIGO MAXIMUS",
          "VIGO MAXIMUS",
          "VIGO MAXIMUS",
          "VIGO MAXIMUS",
          "VIGO MAXIMUS",
          "VENDAVAL",
          "MERLIM",
          "MERLIM",
          "MERLIM",
          "MERLIM",
          "ONIX",
          "F ANDREIS XI",
          "TEMPESTADE",
          "TORNADO",
          "TORMENTA",
          "CICLONE",
          "TORNADO",
          "TORMENTA",
          "VIGO MAXIMUS",
          "NEBLINA"
         ],
         "xaxis": "x",
         "yaxis": "y"
        },
        {
         "alignmentgroup": "True",
         "bingroup": "x",
         "hovertemplate": "MANUTENÇÃO=MELHORIA<br>EMBARCAÇÃO=%{x}<br>count=%{y}<extra></extra>",
         "legendgroup": "MELHORIA",
         "marker": {
          "color": "#EF553B",
          "pattern": {
           "shape": ""
          }
         },
         "name": "MELHORIA",
         "offsetgroup": "MELHORIA",
         "orientation": "v",
         "showlegend": true,
         "texttemplate": "%{value}",
         "type": "histogram",
         "x": [
          "VENDAVAL",
          "CICLONE",
          "TEMPESTADE",
          "VENTANIA",
          "TUFAO",
          "VENTANIA",
          "NEBLINA",
          "PERSIVAL",
          "TEMPESTADE",
          "TORNADO",
          "TORNADO",
          "TORNADO",
          "TORNADO",
          "ONIX",
          "ONIX",
          "ONIX",
          "VENDAVAL",
          "VENDAVAL",
          "VENDAVAL",
          "TEMPESTADE",
          "NEBLINA",
          "NEW TROVAO",
          "VIGO MAXIMUS",
          "NEW TROVAO"
         ],
         "xaxis": "x",
         "yaxis": "y"
        },
        {
         "alignmentgroup": "True",
         "bingroup": "x",
         "hovertemplate": "MANUTENÇÃO=PREVENTIVA<br>EMBARCAÇÃO=%{x}<br>count=%{y}<extra></extra>",
         "legendgroup": "PREVENTIVA",
         "marker": {
          "color": "#00cc96",
          "pattern": {
           "shape": ""
          }
         },
         "name": "PREVENTIVA",
         "offsetgroup": "PREVENTIVA",
         "orientation": "v",
         "showlegend": true,
         "texttemplate": "%{value}",
         "type": "histogram",
         "x": [
          "TORNADO",
          "TORNADO",
          "TUFAO",
          "TUFAO",
          "TUFAO",
          "TORNADO",
          "PERSIVAL",
          "TEMPESTADE",
          "TUFAO",
          "TUFAO",
          "TORNADO",
          "ONIX",
          "F ANDREIS XI",
          "ONIX",
          "ONIX",
          "F ANDREIS XI",
          "VENDAVAL",
          "TORNADO",
          "NEBLINA",
          "NEW TROVAO",
          "NEW TROVAO",
          "NEW TROVAO",
          "NEW TROVAO",
          "NEW TROVAO",
          "NEW TROVAO",
          "NEW TROVAO",
          "VIGO MAXIMUS",
          "VIGO MAXIMUS",
          "VIGO MAXIMUS",
          "VIGO MAXIMUS",
          "VIGO MAXIMUS",
          "VIGO MAXIMUS",
          "VIGO MAXIMUS",
          "VIGO MAXIMUS",
          "VIGO MAXIMUS",
          "VIGO MAXIMUS",
          "VIGO MAXIMUS",
          "VIGO MAXIMUS",
          "VIGO MAXIMUS",
          "VIGO MAXIMUS",
          "VIGO MAXIMUS",
          "VENDAVAL",
          "NEBLINA",
          "CICLONE",
          "CICLONE",
          "CICLONE"
         ],
         "xaxis": "x",
         "yaxis": "y"
        }
       ],
       "layout": {
        "barmode": "relative",
        "legend": {
         "title": {
          "text": "MANUTENÇÃO"
         },
         "tracegroupgap": 0
        },
        "template": {
         "data": {
          "bar": [
           {
            "error_x": {
             "color": "#2a3f5f"
            },
            "error_y": {
             "color": "#2a3f5f"
            },
            "marker": {
             "line": {
              "color": "#E5ECF6",
              "width": 0.5
             },
             "pattern": {
              "fillmode": "overlay",
              "size": 10,
              "solidity": 0.2
             }
            },
            "type": "bar"
           }
          ],
          "barpolar": [
           {
            "marker": {
             "line": {
              "color": "#E5ECF6",
              "width": 0.5
             },
             "pattern": {
              "fillmode": "overlay",
              "size": 10,
              "solidity": 0.2
             }
            },
            "type": "barpolar"
           }
          ],
          "carpet": [
           {
            "aaxis": {
             "endlinecolor": "#2a3f5f",
             "gridcolor": "white",
             "linecolor": "white",
             "minorgridcolor": "white",
             "startlinecolor": "#2a3f5f"
            },
            "baxis": {
             "endlinecolor": "#2a3f5f",
             "gridcolor": "white",
             "linecolor": "white",
             "minorgridcolor": "white",
             "startlinecolor": "#2a3f5f"
            },
            "type": "carpet"
           }
          ],
          "choropleth": [
           {
            "colorbar": {
             "outlinewidth": 0,
             "ticks": ""
            },
            "type": "choropleth"
           }
          ],
          "contour": [
           {
            "colorbar": {
             "outlinewidth": 0,
             "ticks": ""
            },
            "colorscale": [
             [
              0,
              "#0d0887"
             ],
             [
              0.1111111111111111,
              "#46039f"
             ],
             [
              0.2222222222222222,
              "#7201a8"
             ],
             [
              0.3333333333333333,
              "#9c179e"
             ],
             [
              0.4444444444444444,
              "#bd3786"
             ],
             [
              0.5555555555555556,
              "#d8576b"
             ],
             [
              0.6666666666666666,
              "#ed7953"
             ],
             [
              0.7777777777777778,
              "#fb9f3a"
             ],
             [
              0.8888888888888888,
              "#fdca26"
             ],
             [
              1,
              "#f0f921"
             ]
            ],
            "type": "contour"
           }
          ],
          "contourcarpet": [
           {
            "colorbar": {
             "outlinewidth": 0,
             "ticks": ""
            },
            "type": "contourcarpet"
           }
          ],
          "heatmap": [
           {
            "colorbar": {
             "outlinewidth": 0,
             "ticks": ""
            },
            "colorscale": [
             [
              0,
              "#0d0887"
             ],
             [
              0.1111111111111111,
              "#46039f"
             ],
             [
              0.2222222222222222,
              "#7201a8"
             ],
             [
              0.3333333333333333,
              "#9c179e"
             ],
             [
              0.4444444444444444,
              "#bd3786"
             ],
             [
              0.5555555555555556,
              "#d8576b"
             ],
             [
              0.6666666666666666,
              "#ed7953"
             ],
             [
              0.7777777777777778,
              "#fb9f3a"
             ],
             [
              0.8888888888888888,
              "#fdca26"
             ],
             [
              1,
              "#f0f921"
             ]
            ],
            "type": "heatmap"
           }
          ],
          "heatmapgl": [
           {
            "colorbar": {
             "outlinewidth": 0,
             "ticks": ""
            },
            "colorscale": [
             [
              0,
              "#0d0887"
             ],
             [
              0.1111111111111111,
              "#46039f"
             ],
             [
              0.2222222222222222,
              "#7201a8"
             ],
             [
              0.3333333333333333,
              "#9c179e"
             ],
             [
              0.4444444444444444,
              "#bd3786"
             ],
             [
              0.5555555555555556,
              "#d8576b"
             ],
             [
              0.6666666666666666,
              "#ed7953"
             ],
             [
              0.7777777777777778,
              "#fb9f3a"
             ],
             [
              0.8888888888888888,
              "#fdca26"
             ],
             [
              1,
              "#f0f921"
             ]
            ],
            "type": "heatmapgl"
           }
          ],
          "histogram": [
           {
            "marker": {
             "pattern": {
              "fillmode": "overlay",
              "size": 10,
              "solidity": 0.2
             }
            },
            "type": "histogram"
           }
          ],
          "histogram2d": [
           {
            "colorbar": {
             "outlinewidth": 0,
             "ticks": ""
            },
            "colorscale": [
             [
              0,
              "#0d0887"
             ],
             [
              0.1111111111111111,
              "#46039f"
             ],
             [
              0.2222222222222222,
              "#7201a8"
             ],
             [
              0.3333333333333333,
              "#9c179e"
             ],
             [
              0.4444444444444444,
              "#bd3786"
             ],
             [
              0.5555555555555556,
              "#d8576b"
             ],
             [
              0.6666666666666666,
              "#ed7953"
             ],
             [
              0.7777777777777778,
              "#fb9f3a"
             ],
             [
              0.8888888888888888,
              "#fdca26"
             ],
             [
              1,
              "#f0f921"
             ]
            ],
            "type": "histogram2d"
           }
          ],
          "histogram2dcontour": [
           {
            "colorbar": {
             "outlinewidth": 0,
             "ticks": ""
            },
            "colorscale": [
             [
              0,
              "#0d0887"
             ],
             [
              0.1111111111111111,
              "#46039f"
             ],
             [
              0.2222222222222222,
              "#7201a8"
             ],
             [
              0.3333333333333333,
              "#9c179e"
             ],
             [
              0.4444444444444444,
              "#bd3786"
             ],
             [
              0.5555555555555556,
              "#d8576b"
             ],
             [
              0.6666666666666666,
              "#ed7953"
             ],
             [
              0.7777777777777778,
              "#fb9f3a"
             ],
             [
              0.8888888888888888,
              "#fdca26"
             ],
             [
              1,
              "#f0f921"
             ]
            ],
            "type": "histogram2dcontour"
           }
          ],
          "mesh3d": [
           {
            "colorbar": {
             "outlinewidth": 0,
             "ticks": ""
            },
            "type": "mesh3d"
           }
          ],
          "parcoords": [
           {
            "line": {
             "colorbar": {
              "outlinewidth": 0,
              "ticks": ""
             }
            },
            "type": "parcoords"
           }
          ],
          "pie": [
           {
            "automargin": true,
            "type": "pie"
           }
          ],
          "scatter": [
           {
            "fillpattern": {
             "fillmode": "overlay",
             "size": 10,
             "solidity": 0.2
            },
            "type": "scatter"
           }
          ],
          "scatter3d": [
           {
            "line": {
             "colorbar": {
              "outlinewidth": 0,
              "ticks": ""
             }
            },
            "marker": {
             "colorbar": {
              "outlinewidth": 0,
              "ticks": ""
             }
            },
            "type": "scatter3d"
           }
          ],
          "scattercarpet": [
           {
            "marker": {
             "colorbar": {
              "outlinewidth": 0,
              "ticks": ""
             }
            },
            "type": "scattercarpet"
           }
          ],
          "scattergeo": [
           {
            "marker": {
             "colorbar": {
              "outlinewidth": 0,
              "ticks": ""
             }
            },
            "type": "scattergeo"
           }
          ],
          "scattergl": [
           {
            "marker": {
             "colorbar": {
              "outlinewidth": 0,
              "ticks": ""
             }
            },
            "type": "scattergl"
           }
          ],
          "scattermapbox": [
           {
            "marker": {
             "colorbar": {
              "outlinewidth": 0,
              "ticks": ""
             }
            },
            "type": "scattermapbox"
           }
          ],
          "scatterpolar": [
           {
            "marker": {
             "colorbar": {
              "outlinewidth": 0,
              "ticks": ""
             }
            },
            "type": "scatterpolar"
           }
          ],
          "scatterpolargl": [
           {
            "marker": {
             "colorbar": {
              "outlinewidth": 0,
              "ticks": ""
             }
            },
            "type": "scatterpolargl"
           }
          ],
          "scatterternary": [
           {
            "marker": {
             "colorbar": {
              "outlinewidth": 0,
              "ticks": ""
             }
            },
            "type": "scatterternary"
           }
          ],
          "surface": [
           {
            "colorbar": {
             "outlinewidth": 0,
             "ticks": ""
            },
            "colorscale": [
             [
              0,
              "#0d0887"
             ],
             [
              0.1111111111111111,
              "#46039f"
             ],
             [
              0.2222222222222222,
              "#7201a8"
             ],
             [
              0.3333333333333333,
              "#9c179e"
             ],
             [
              0.4444444444444444,
              "#bd3786"
             ],
             [
              0.5555555555555556,
              "#d8576b"
             ],
             [
              0.6666666666666666,
              "#ed7953"
             ],
             [
              0.7777777777777778,
              "#fb9f3a"
             ],
             [
              0.8888888888888888,
              "#fdca26"
             ],
             [
              1,
              "#f0f921"
             ]
            ],
            "type": "surface"
           }
          ],
          "table": [
           {
            "cells": {
             "fill": {
              "color": "#EBF0F8"
             },
             "line": {
              "color": "white"
             }
            },
            "header": {
             "fill": {
              "color": "#C8D4E3"
             },
             "line": {
              "color": "white"
             }
            },
            "type": "table"
           }
          ]
         },
         "layout": {
          "annotationdefaults": {
           "arrowcolor": "#2a3f5f",
           "arrowhead": 0,
           "arrowwidth": 1
          },
          "autotypenumbers": "strict",
          "coloraxis": {
           "colorbar": {
            "outlinewidth": 0,
            "ticks": ""
           }
          },
          "colorscale": {
           "diverging": [
            [
             0,
             "#8e0152"
            ],
            [
             0.1,
             "#c51b7d"
            ],
            [
             0.2,
             "#de77ae"
            ],
            [
             0.3,
             "#f1b6da"
            ],
            [
             0.4,
             "#fde0ef"
            ],
            [
             0.5,
             "#f7f7f7"
            ],
            [
             0.6,
             "#e6f5d0"
            ],
            [
             0.7,
             "#b8e186"
            ],
            [
             0.8,
             "#7fbc41"
            ],
            [
             0.9,
             "#4d9221"
            ],
            [
             1,
             "#276419"
            ]
           ],
           "sequential": [
            [
             0,
             "#0d0887"
            ],
            [
             0.1111111111111111,
             "#46039f"
            ],
            [
             0.2222222222222222,
             "#7201a8"
            ],
            [
             0.3333333333333333,
             "#9c179e"
            ],
            [
             0.4444444444444444,
             "#bd3786"
            ],
            [
             0.5555555555555556,
             "#d8576b"
            ],
            [
             0.6666666666666666,
             "#ed7953"
            ],
            [
             0.7777777777777778,
             "#fb9f3a"
            ],
            [
             0.8888888888888888,
             "#fdca26"
            ],
            [
             1,
             "#f0f921"
            ]
           ],
           "sequentialminus": [
            [
             0,
             "#0d0887"
            ],
            [
             0.1111111111111111,
             "#46039f"
            ],
            [
             0.2222222222222222,
             "#7201a8"
            ],
            [
             0.3333333333333333,
             "#9c179e"
            ],
            [
             0.4444444444444444,
             "#bd3786"
            ],
            [
             0.5555555555555556,
             "#d8576b"
            ],
            [
             0.6666666666666666,
             "#ed7953"
            ],
            [
             0.7777777777777778,
             "#fb9f3a"
            ],
            [
             0.8888888888888888,
             "#fdca26"
            ],
            [
             1,
             "#f0f921"
            ]
           ]
          },
          "colorway": [
           "#636efa",
           "#EF553B",
           "#00cc96",
           "#ab63fa",
           "#FFA15A",
           "#19d3f3",
           "#FF6692",
           "#B6E880",
           "#FF97FF",
           "#FECB52"
          ],
          "font": {
           "color": "#2a3f5f"
          },
          "geo": {
           "bgcolor": "white",
           "lakecolor": "white",
           "landcolor": "#E5ECF6",
           "showlakes": true,
           "showland": true,
           "subunitcolor": "white"
          },
          "hoverlabel": {
           "align": "left"
          },
          "hovermode": "closest",
          "mapbox": {
           "style": "light"
          },
          "paper_bgcolor": "white",
          "plot_bgcolor": "#E5ECF6",
          "polar": {
           "angularaxis": {
            "gridcolor": "white",
            "linecolor": "white",
            "ticks": ""
           },
           "bgcolor": "#E5ECF6",
           "radialaxis": {
            "gridcolor": "white",
            "linecolor": "white",
            "ticks": ""
           }
          },
          "scene": {
           "xaxis": {
            "backgroundcolor": "#E5ECF6",
            "gridcolor": "white",
            "gridwidth": 2,
            "linecolor": "white",
            "showbackground": true,
            "ticks": "",
            "zerolinecolor": "white"
           },
           "yaxis": {
            "backgroundcolor": "#E5ECF6",
            "gridcolor": "white",
            "gridwidth": 2,
            "linecolor": "white",
            "showbackground": true,
            "ticks": "",
            "zerolinecolor": "white"
           },
           "zaxis": {
            "backgroundcolor": "#E5ECF6",
            "gridcolor": "white",
            "gridwidth": 2,
            "linecolor": "white",
            "showbackground": true,
            "ticks": "",
            "zerolinecolor": "white"
           }
          },
          "shapedefaults": {
           "line": {
            "color": "#2a3f5f"
           }
          },
          "ternary": {
           "aaxis": {
            "gridcolor": "white",
            "linecolor": "white",
            "ticks": ""
           },
           "baxis": {
            "gridcolor": "white",
            "linecolor": "white",
            "ticks": ""
           },
           "bgcolor": "#E5ECF6",
           "caxis": {
            "gridcolor": "white",
            "linecolor": "white",
            "ticks": ""
           }
          },
          "title": {
           "x": 0.05
          },
          "xaxis": {
           "automargin": true,
           "gridcolor": "white",
           "linecolor": "white",
           "ticks": "",
           "title": {
            "standoff": 15
           },
           "zerolinecolor": "white",
           "zerolinewidth": 2
          },
          "yaxis": {
           "automargin": true,
           "gridcolor": "white",
           "linecolor": "white",
           "ticks": "",
           "title": {
            "standoff": 15
           },
           "zerolinecolor": "white",
           "zerolinewidth": 2
          }
         }
        },
        "title": {
         "text": "Histograma por EMBARCAÇÃO"
        },
        "xaxis": {
         "anchor": "y",
         "domain": [
          0,
          1
         ],
         "title": {
          "text": "EMBARCAÇÃO"
         }
        },
        "yaxis": {
         "anchor": "x",
         "domain": [
          0,
          1
         ],
         "title": {
          "text": "count"
         }
        }
       }
      }
     },
     "metadata": {},
     "output_type": "display_data"
    },
    {
     "data": {
      "application/vnd.plotly.v1+json": {
       "config": {
        "plotlyServerURL": "https://plot.ly"
       },
       "data": [
        {
         "alignmentgroup": "True",
         "bingroup": "x",
         "hovertemplate": "MANUTENÇÃO=CORRETIVA<br>EQUIPAMENTO=%{x}<br>count=%{y}<extra></extra>",
         "legendgroup": "CORRETIVA",
         "marker": {
          "color": "#636efa",
          "pattern": {
           "shape": ""
          }
         },
         "name": "CORRETIVA",
         "offsetgroup": "CORRETIVA",
         "orientation": "v",
         "showlegend": true,
         "texttemplate": "%{value}",
         "type": "histogram",
         "x": [
          "CASCO",
          "AR CONDICIONADO",
          "LINHA DE EIXO BB",
          "REVERSOR BE",
          "SISTEMA DE GOVERNO LC",
          "MCA BE",
          "MCP BE",
          "MCA BB",
          "GUINCHO DE POPA",
          "MCA BB",
          "ACOMODAÇÕES",
          "TANQUES",
          "MCP BE",
          "PROPULSOR BB",
          "EQUIPAMENTOS NAUTICOS",
          "ESTRUTURA",
          "EQUIPAMENTOS NAUTICOS",
          "AR CONDICIONADO",
          "ESTRUTURA",
          "AR CONDICIONADO",
          "EQUIPAMENTOS NAUTICOS",
          "MCA BB",
          "TANQUES",
          "MCP LC",
          "REDES",
          "GUINCHO DE POPA",
          "GUINCHO DE POPA",
          "REVERSOR BB",
          "INSTRUMENTAÇÃO",
          "MCP LC",
          "REVERSOR LC",
          "GUINCHO DE POPA",
          "MUNCK",
          "GUINCHO DE POPA",
          "COMUNICAÇÃO",
          "MCA BB",
          "VENTILAÇÃO/EXAUSTÃO BB",
          "REDES",
          "SISTEMA DE BATERIAS",
          "MCP BE",
          "MCA BB",
          "MCP LC",
          "MCP BE",
          "MCP LC",
          "AR CONDICIONADO",
          "MCP BB",
          "GUINCHO DE POPA",
          "MCP BB",
          "MCA BB",
          "GUINCHO DE PROA",
          "MCA BB",
          "MCP BE",
          "ESTRUTURA",
          "MCP BB",
          "MCP BB",
          "COMUNICAÇÃO",
          "CASCO",
          "COMUNICAÇÃO",
          "EQUIPAMENTOS NAUTICOS",
          "AR CONDICIONADO",
          "MCP BB",
          "MOTOBOMBA",
          "BOMBAS",
          "MCP BE",
          "AR CONDICIONADO",
          "TANQUES",
          "PURIFICADOR",
          "COMUNICAÇÃO",
          "AR CONDICIONADO",
          "AR CONDICIONADO",
          "EQUIPAMENTOS NAUTICOS",
          "BOMBAS",
          "REVERSOR BB",
          "TANQUES",
          "BOMBAS",
          "MUNCK",
          "TANQUES",
          "PROPULSOR BE",
          "EQUIPAMENTOS NAUTICOS",
          "TANQUES",
          "TANQUES",
          "MOTOBOMBA",
          "MCP BB",
          "ALARMES/SENSORES/SIRENES",
          "PROPULSOR BB",
          "PROPULSOR BE",
          "PROPULSOR LC",
          "LINHA DE EIXO LC",
          "REVERSOR BB",
          "REVERSOR BE",
          "PROPULSOR LC",
          "REVERSOR BE",
          "PROPULSOR BB",
          "PROPULSOR BE",
          "PORTAS/ESCOTILHAS",
          "TANQUES",
          "ELETRODOMESTICOS",
          "ELETRODOMESTICOS",
          "COMUNICAÇÃO",
          "MCP BE",
          "EQUIPAMENTOS NAUTICOS",
          "MCP BB",
          "MCA BB",
          "COMUNICAÇÃO",
          "MCP LC",
          "ELETRICA/ELETRONICO",
          "MCA BE",
          "ELETRODOMESTICOS",
          "COMPRESSOR 2",
          "TANQUE",
          "AR CONDICIONADO",
          "EQUIPAMENTOS NAUTICOS",
          "SISTEMA DE BATERIAS",
          "GUINCHO DE PROA",
          "GUINCHO DE PROA",
          "ELETRICA/ELETRONICO",
          "AMARRAÇÃO E FUNDEIO",
          "MCA BE",
          "EQUIPAMENTOS NAUTICOS",
          "ACOMODAÇÕES",
          "MCP BB",
          "AR CONDICIONADO",
          "MCP LC",
          "PROPULSOR BE",
          "PROPULSOR BB",
          "GUINCHO DE POPA",
          "MCA BE",
          "MCP BB",
          "ELETRODOMESTICOS",
          "AR CONDICIONADO",
          "EQUIPAMENTOS NAUTICOS",
          "REDES",
          "MCP BB",
          "MCP BB",
          "MCP BB",
          "MCP BE",
          "MCP LC",
          "MCP BE",
          "LEME",
          "ESTRUTURA",
          "AR CONDICIONADO",
          "ELETRODOMESTICOS",
          "ESTRUTURA",
          "SISTEMA DE GOVERNO BE",
          "AMARRAÇÃO E FUNDEIO",
          "ESTRUTURA",
          "MCA BB",
          "MCP BB",
          "AR CONDICIONADO",
          "VENTILAÇÃO/EXAUSTÃO BB",
          "REDES",
          "PORTAS/ESCOTILHAS",
          "PORTAS/ESCOTILHAS",
          "MCA BB",
          "PORTAS/ESCOTILHAS",
          "MCP BB",
          "MCP BB",
          "MCP BE",
          "MCP BE",
          "ELETRODOMESTICOS",
          "ACOMODAÇÕES",
          "BOMBAS",
          "MCA BE",
          "PORTAS/ESCOTILHAS",
          "REVERSOR BB",
          "PURIFICADOR",
          "REVERSOR LC",
          "REVERSOR BB",
          "REVERSOR BE",
          "MCP BB",
          "REVERSOR BE",
          "MCA BE",
          "PORTAS/ESCOTILHAS",
          "INSTALAÇÕES",
          "SISTEMA DE GOVERNO LC",
          "MCP BB",
          "MCP BE",
          "MCP LC",
          "AR CONDICIONADO",
          "EQUIPAMENTO DE INCENDIO",
          "REVERSOR LC",
          "GATO",
          "MCA BE",
          "REDES",
          "MCP BB",
          "ELETRODOMESTICOS",
          "ALARMES/SENSORES/SIRENES",
          "MCP BE",
          "MCP BB",
          "MCP BE",
          "MCA BE",
          "PURIFICADOR",
          "MCP LC",
          "MCA BB",
          "MCA BE",
          "REVERSOR BB",
          "MCP LC",
          "CASCO",
          "EQUIPAMENTOS NAUTICOS",
          "MCA BB",
          "MCP BB",
          "COMUNICAÇÃO",
          "MCP LC",
          "PORTAS/ESCOTILHAS",
          "LEME",
          "SISTEMA DE BATERIAS",
          "MCP BB",
          "MCP BE",
          "MCP BB",
          "MCP BE",
          "LINHA DE EIXO BB",
          "LINHA DE EIXO BE",
          "EQUIPAMENTOS NAUTICOS",
          "ELETRICA/ELETRONICO",
          "GUINCHO DE POPA",
          "REVERSOR LC",
          "REVERSOR BB",
          "MCA BE",
          "AR CONDICIONADO",
          "AR CONDICIONADO",
          "GUINCHO DE POPA",
          "ELETRICA/ELETRONICO",
          "MCP BB",
          "REDES",
          "ELETRICA/ELETRONICO",
          "BOMBAS",
          "VENTILAÇÃO/EXAUSTÃO BE",
          "MCP LC",
          "SISTEMA HIDRÁULICO DO GUINCHO",
          "MCA BE",
          "BOMBAS",
          "PROPULSOR BE",
          "LEME",
          "PROPULSOR BB",
          "ELETRICA/ELETRONICO",
          "AR CONDICIONADO",
          "AR CONDICIONADO",
          "MCP BE",
          "MCA BE",
          "REDES",
          "AR CONDICIONADO",
          "ACOMODAÇÕES",
          "AR CONDICIONADO",
          "AR CONDICIONADO",
          "AR CONDICIONADO",
          "MCA BB",
          "MCA BE",
          "BOMBAS",
          "BOMBAS",
          "ELETRODOMESTICOS",
          "AR CONDICIONADO",
          "AR CONDICIONADO",
          "ELETRODOMESTICOS",
          "GUINCHO DE PROA",
          "REVERSOR LC",
          "REVERSOR BE",
          "EQUIPAMENTOS NAUTICOS",
          "ELETRICA/ELETRONICO",
          "GUINCHO DE POPA",
          "MCP LC",
          "REDES",
          "PORTAS/ESCOTILHAS",
          "MCP BE",
          "ELETRICA/ELETRONICO",
          "ACOMODAÇÕES",
          "AR CONDICIONADO",
          "PROPULSOR BE",
          "AMARRAÇÃO E FUNDEIO",
          "MCA BB",
          "ELETRODOMESTICOS",
          "ELETRODOMESTICOS",
          "ELETRODOMESTICOS",
          "MCP BB",
          "MCP BE",
          "MCP LC",
          "REDES",
          "EQUIPAMENTOS NAUTICOS",
          "ELETRICA/ELETRONICO",
          "ELETRICA/ELETRONICO",
          "MCP BB",
          "MCP BE",
          "EQUIPAMENTOS NAUTICOS",
          "AR CONDICIONADO",
          "MCP BB",
          "COMUNICAÇÃO",
          "PURIFICADOR",
          "ELETRICA/ELETRONICO",
          "EQUIPAMENTOS NAUTICOS",
          "COMUNICAÇÃO",
          "PROPULSOR BB",
          "TANQUES",
          "AR CONDICIONADO",
          "MCP BE",
          "ELETRICA/ELETRONICO",
          "ELETRICA/ELETRONICO",
          "MCP BE",
          "MCP BB",
          "REVERSOR BB",
          "REDES",
          "REVERSOR BE",
          "MCP BB",
          "REVERSOR BB",
          "REVERSOR BE",
          "REVERSOR LC",
          "ELETRODOMESTICOS",
          "AR CONDICIONADO",
          "REVERSOR BE",
          "EQUIPAMENTO DE INCENDIO",
          "ESTRUTURA",
          "MCP BB",
          "MCA BB",
          "MCA BB",
          "COMUNICAÇÃO",
          "BOMBAS",
          "MCP BE",
          "AR CONDICIONADO",
          "PURIFICADOR",
          "REVERSOR LC",
          "MCP BB",
          "GUINCHO DE POPA",
          "PORTAS/ESCOTILHAS",
          "MCP LC",
          "ELETRICA/ELETRONICO",
          "ESTRUTURA",
          "LEME",
          "ACOMODAÇÕES",
          "PURIFICADOR",
          "REVERSOR BB",
          "MCP BE",
          "REVERSOR LC",
          "LEME",
          "LEME",
          "PROPULSOR BB",
          "PROPULSOR BE",
          "MCP BE",
          "GUINCHO DE PROA",
          "MCP BB",
          "BOMBAS",
          "BOMBAS",
          "EQUIPAMENTOS NÁUTICOS",
          "EQUIPAMENTOS NÁUTICOS",
          "EQUIPAMENTOS NÁUTICOS",
          "EQUIPAMENTOS NÁUTICOS",
          "ELÉTRICA/ELETRÔNICO",
          "EQUIPAMENTOS NÁUTICOS",
          "EQUIPAMENTOS NÁUTICOS",
          "ELÉTRICA/ELETRÔNICO",
          "MCP BB",
          "BOMBAS",
          "BOMBAS ",
          "EQUIPAMENTOS NÁUTICOS",
          "MCA BE",
          "MCA BE",
          "GUINCHO DE PROA",
          "MCP LC",
          "MCP BB",
          "ELÉTRICA/ELETRÔNICO",
          "GUINCHO DE PROA",
          "PROPULSOR BB",
          "ELETRICA/ELETRONICO",
          "AR CONDICIONADO",
          "ESTRUTURA",
          "ELETRICA/ELETRONICO",
          "MCP BE",
          "GUINCHO DE POPA",
          "MCA BE",
          "EQUIPAMENTOS NÁUTICOS",
          "ELÉTRICA/ELETRÔNICO",
          "ELÉTRICA/ELETRÔNICO",
          "MCA BB",
          "AR CONDICIONADO",
          "SISTEMA DE GOVERNO BB",
          "REVERSOR LC",
          "REVERSOR BE",
          "REVERSOR BB",
          "SISTEMA DE BATERIAS",
          "LINHA DE EIXO BE",
          "ELETRICA/ELETRONICO",
          "BOMBAS",
          "AR CONDICIONADO",
          "ELETRODOMESTICOS",
          "AR CONDICIONADO",
          "AR CONDICIONADO",
          "AR CONDICIONADO",
          "ELETRODOMESTICOS",
          "LEME",
          "BOMBAS",
          "EQUIPAMENTOS NÁUTICOS",
          "ALARMES/SENSORES/SIRENES",
          "ELETRODOMESTICOS",
          "AR CONDICIONADO",
          "BOMBAS",
          "GUINCHO DE PROA",
          "GUINCHO DE PROA",
          "REVERSOR BB",
          "COMUNICAÇÃO",
          "ELETRICA/ELETRONICO",
          "PURIFICADOR",
          "AMARRAÇÃO E FUNDEIO",
          "BOMBAS",
          "VENTILAÇÃO/EXAUSTÃO BB",
          "EQUIPAMENTOS NAUTICOS",
          "ELETRICA/ELETRONICO",
          "MCP BE",
          "MCP BE",
          "ALARMES/SENSORES/SIRENES",
          "MCP BE",
          "ELETRICA/ELETRONICO",
          "GUINCHO DE POPA",
          "ELETRODOMESTICOS",
          "ELETRICA/ELETRONICO",
          "MCA BE",
          "ELETRICA/ELETRONICO",
          "MOTOBOMBA",
          "MCP BE",
          "MCP BE",
          "ELETRICA/ELETRONICO",
          "EQUIPAMENTOS NAUTICOS",
          "VENTILAÇÃO/EXAUSTÃO BB",
          "ELETRICA/ELETRONICO",
          "MCA BE",
          "MCA BB",
          "ELETRICA/ELETRONICO",
          "ELETRICA/ELETRONICO",
          "EQUIPAMENTOS NAUTICOS",
          "MCP BE",
          "LEME",
          "MCP BB",
          "ESTRUTURA",
          "MCP BB",
          "MCA BE",
          "EQUIPAMENTOS NAUTICOS",
          "MCA BE",
          "MCP BB",
          "AR CONDICIONADO",
          "AR CONDICIONADO",
          "MCA BE",
          "MCA BB",
          "MCP BE",
          "SISTEMA HIDRÁULICO DO GUINCHO"
         ],
         "xaxis": "x",
         "yaxis": "y"
        },
        {
         "alignmentgroup": "True",
         "bingroup": "x",
         "hovertemplate": "MANUTENÇÃO=MELHORIA<br>EQUIPAMENTO=%{x}<br>count=%{y}<extra></extra>",
         "legendgroup": "MELHORIA",
         "marker": {
          "color": "#EF553B",
          "pattern": {
           "shape": ""
          }
         },
         "name": "MELHORIA",
         "offsetgroup": "MELHORIA",
         "orientation": "v",
         "showlegend": true,
         "texttemplate": "%{value}",
         "type": "histogram",
         "x": [
          "MCP LC",
          "ALARMES/SENSORES/SIRENES",
          "TANQUES",
          "PORTAS/ESCOTILHAS",
          "ESTRUTURA",
          "ELETRODOMESTICOS",
          "GUINCHO DE POPA",
          "COMUNICAÇÃO",
          "ELÉTRICA/ELETRÔNICO",
          "ELÉTRICA/ELETRÔNICO",
          "ACOMODAÇÕES",
          "COMUNICAÇÃO",
          "MCP LC",
          "ELÉTRICA/ELETRÔNICO",
          "EQUIPAMENTOS NÁUTICOS",
          "ELÉTRICA/ELETRÔNICO",
          "ELÉTRICA/ELETRÔNICO",
          "ALARMES/SENSORES/SIRENES",
          "GUINCHO DE POPA",
          "INSTRUMENTAÇÃO",
          "EQUIPAMENTOS NAUTICOS",
          "ELETRODOMESTICOS",
          "ELETRICA/ELETRONICO",
          "ELETRICA/ELETRONICO"
         ],
         "xaxis": "x",
         "yaxis": "y"
        },
        {
         "alignmentgroup": "True",
         "bingroup": "x",
         "hovertemplate": "MANUTENÇÃO=PREVENTIVA<br>EQUIPAMENTO=%{x}<br>count=%{y}<extra></extra>",
         "legendgroup": "PREVENTIVA",
         "marker": {
          "color": "#00cc96",
          "pattern": {
           "shape": ""
          }
         },
         "name": "PREVENTIVA",
         "offsetgroup": "PREVENTIVA",
         "orientation": "v",
         "showlegend": true,
         "texttemplate": "%{value}",
         "type": "histogram",
         "x": [
          "MCP BB",
          "MCP LC",
          "LINHA DE EIXO BB",
          "LINHA DE EIXO BE",
          "LINHA DE EIXO LC",
          "AR CONDICIONADO",
          "AR CONDICIONADO",
          "AR CONDICIONADO",
          "REVERSOR BB",
          "REVERSOR BE",
          "MCA BE",
          "ELÉTRICA/ELETRÔNICO",
          "ELÉTRICA/ELETRÔNICO",
          "AR CONDICIONADO",
          "ELETRODOMESTICOS",
          "AR CONDICIONADO",
          "AR CONDICIONADO",
          "COMUNICAÇÃO",
          "AMARRAÇÃO E FUNDEIO",
          "MCA BE",
          "MCA BB",
          "ELETRICA/ELETRONICO",
          "VENTILAÇÃO/EXAUSTÃO BB",
          "MCA BB",
          "MCA BE",
          "ELETRICA/ELETRONICO",
          "BOMBAS",
          "MCA BB",
          "MCA BE",
          "ELETRICA/ELETRONICO",
          "ELETRICA/ELETRONICO",
          "SISTEMA DE BATERIAS",
          "MCA BB",
          "MCA BE",
          "MCP BB",
          "MCP BE",
          "MCA BB",
          "MCA BE",
          "COMUNICAÇÃO",
          "EQUIPAMENTOS NAUTICOS",
          "ELETRICA/ELETRONICO",
          "ELETRICA/ELETRONICO",
          "ELETRICA/ELETRONICO",
          "GUINCHO DE POPA",
          "GUINCHO DE POPA",
          "LEME"
         ],
         "xaxis": "x",
         "yaxis": "y"
        }
       ],
       "layout": {
        "barmode": "relative",
        "legend": {
         "title": {
          "text": "MANUTENÇÃO"
         },
         "tracegroupgap": 0
        },
        "template": {
         "data": {
          "bar": [
           {
            "error_x": {
             "color": "#2a3f5f"
            },
            "error_y": {
             "color": "#2a3f5f"
            },
            "marker": {
             "line": {
              "color": "#E5ECF6",
              "width": 0.5
             },
             "pattern": {
              "fillmode": "overlay",
              "size": 10,
              "solidity": 0.2
             }
            },
            "type": "bar"
           }
          ],
          "barpolar": [
           {
            "marker": {
             "line": {
              "color": "#E5ECF6",
              "width": 0.5
             },
             "pattern": {
              "fillmode": "overlay",
              "size": 10,
              "solidity": 0.2
             }
            },
            "type": "barpolar"
           }
          ],
          "carpet": [
           {
            "aaxis": {
             "endlinecolor": "#2a3f5f",
             "gridcolor": "white",
             "linecolor": "white",
             "minorgridcolor": "white",
             "startlinecolor": "#2a3f5f"
            },
            "baxis": {
             "endlinecolor": "#2a3f5f",
             "gridcolor": "white",
             "linecolor": "white",
             "minorgridcolor": "white",
             "startlinecolor": "#2a3f5f"
            },
            "type": "carpet"
           }
          ],
          "choropleth": [
           {
            "colorbar": {
             "outlinewidth": 0,
             "ticks": ""
            },
            "type": "choropleth"
           }
          ],
          "contour": [
           {
            "colorbar": {
             "outlinewidth": 0,
             "ticks": ""
            },
            "colorscale": [
             [
              0,
              "#0d0887"
             ],
             [
              0.1111111111111111,
              "#46039f"
             ],
             [
              0.2222222222222222,
              "#7201a8"
             ],
             [
              0.3333333333333333,
              "#9c179e"
             ],
             [
              0.4444444444444444,
              "#bd3786"
             ],
             [
              0.5555555555555556,
              "#d8576b"
             ],
             [
              0.6666666666666666,
              "#ed7953"
             ],
             [
              0.7777777777777778,
              "#fb9f3a"
             ],
             [
              0.8888888888888888,
              "#fdca26"
             ],
             [
              1,
              "#f0f921"
             ]
            ],
            "type": "contour"
           }
          ],
          "contourcarpet": [
           {
            "colorbar": {
             "outlinewidth": 0,
             "ticks": ""
            },
            "type": "contourcarpet"
           }
          ],
          "heatmap": [
           {
            "colorbar": {
             "outlinewidth": 0,
             "ticks": ""
            },
            "colorscale": [
             [
              0,
              "#0d0887"
             ],
             [
              0.1111111111111111,
              "#46039f"
             ],
             [
              0.2222222222222222,
              "#7201a8"
             ],
             [
              0.3333333333333333,
              "#9c179e"
             ],
             [
              0.4444444444444444,
              "#bd3786"
             ],
             [
              0.5555555555555556,
              "#d8576b"
             ],
             [
              0.6666666666666666,
              "#ed7953"
             ],
             [
              0.7777777777777778,
              "#fb9f3a"
             ],
             [
              0.8888888888888888,
              "#fdca26"
             ],
             [
              1,
              "#f0f921"
             ]
            ],
            "type": "heatmap"
           }
          ],
          "heatmapgl": [
           {
            "colorbar": {
             "outlinewidth": 0,
             "ticks": ""
            },
            "colorscale": [
             [
              0,
              "#0d0887"
             ],
             [
              0.1111111111111111,
              "#46039f"
             ],
             [
              0.2222222222222222,
              "#7201a8"
             ],
             [
              0.3333333333333333,
              "#9c179e"
             ],
             [
              0.4444444444444444,
              "#bd3786"
             ],
             [
              0.5555555555555556,
              "#d8576b"
             ],
             [
              0.6666666666666666,
              "#ed7953"
             ],
             [
              0.7777777777777778,
              "#fb9f3a"
             ],
             [
              0.8888888888888888,
              "#fdca26"
             ],
             [
              1,
              "#f0f921"
             ]
            ],
            "type": "heatmapgl"
           }
          ],
          "histogram": [
           {
            "marker": {
             "pattern": {
              "fillmode": "overlay",
              "size": 10,
              "solidity": 0.2
             }
            },
            "type": "histogram"
           }
          ],
          "histogram2d": [
           {
            "colorbar": {
             "outlinewidth": 0,
             "ticks": ""
            },
            "colorscale": [
             [
              0,
              "#0d0887"
             ],
             [
              0.1111111111111111,
              "#46039f"
             ],
             [
              0.2222222222222222,
              "#7201a8"
             ],
             [
              0.3333333333333333,
              "#9c179e"
             ],
             [
              0.4444444444444444,
              "#bd3786"
             ],
             [
              0.5555555555555556,
              "#d8576b"
             ],
             [
              0.6666666666666666,
              "#ed7953"
             ],
             [
              0.7777777777777778,
              "#fb9f3a"
             ],
             [
              0.8888888888888888,
              "#fdca26"
             ],
             [
              1,
              "#f0f921"
             ]
            ],
            "type": "histogram2d"
           }
          ],
          "histogram2dcontour": [
           {
            "colorbar": {
             "outlinewidth": 0,
             "ticks": ""
            },
            "colorscale": [
             [
              0,
              "#0d0887"
             ],
             [
              0.1111111111111111,
              "#46039f"
             ],
             [
              0.2222222222222222,
              "#7201a8"
             ],
             [
              0.3333333333333333,
              "#9c179e"
             ],
             [
              0.4444444444444444,
              "#bd3786"
             ],
             [
              0.5555555555555556,
              "#d8576b"
             ],
             [
              0.6666666666666666,
              "#ed7953"
             ],
             [
              0.7777777777777778,
              "#fb9f3a"
             ],
             [
              0.8888888888888888,
              "#fdca26"
             ],
             [
              1,
              "#f0f921"
             ]
            ],
            "type": "histogram2dcontour"
           }
          ],
          "mesh3d": [
           {
            "colorbar": {
             "outlinewidth": 0,
             "ticks": ""
            },
            "type": "mesh3d"
           }
          ],
          "parcoords": [
           {
            "line": {
             "colorbar": {
              "outlinewidth": 0,
              "ticks": ""
             }
            },
            "type": "parcoords"
           }
          ],
          "pie": [
           {
            "automargin": true,
            "type": "pie"
           }
          ],
          "scatter": [
           {
            "fillpattern": {
             "fillmode": "overlay",
             "size": 10,
             "solidity": 0.2
            },
            "type": "scatter"
           }
          ],
          "scatter3d": [
           {
            "line": {
             "colorbar": {
              "outlinewidth": 0,
              "ticks": ""
             }
            },
            "marker": {
             "colorbar": {
              "outlinewidth": 0,
              "ticks": ""
             }
            },
            "type": "scatter3d"
           }
          ],
          "scattercarpet": [
           {
            "marker": {
             "colorbar": {
              "outlinewidth": 0,
              "ticks": ""
             }
            },
            "type": "scattercarpet"
           }
          ],
          "scattergeo": [
           {
            "marker": {
             "colorbar": {
              "outlinewidth": 0,
              "ticks": ""
             }
            },
            "type": "scattergeo"
           }
          ],
          "scattergl": [
           {
            "marker": {
             "colorbar": {
              "outlinewidth": 0,
              "ticks": ""
             }
            },
            "type": "scattergl"
           }
          ],
          "scattermapbox": [
           {
            "marker": {
             "colorbar": {
              "outlinewidth": 0,
              "ticks": ""
             }
            },
            "type": "scattermapbox"
           }
          ],
          "scatterpolar": [
           {
            "marker": {
             "colorbar": {
              "outlinewidth": 0,
              "ticks": ""
             }
            },
            "type": "scatterpolar"
           }
          ],
          "scatterpolargl": [
           {
            "marker": {
             "colorbar": {
              "outlinewidth": 0,
              "ticks": ""
             }
            },
            "type": "scatterpolargl"
           }
          ],
          "scatterternary": [
           {
            "marker": {
             "colorbar": {
              "outlinewidth": 0,
              "ticks": ""
             }
            },
            "type": "scatterternary"
           }
          ],
          "surface": [
           {
            "colorbar": {
             "outlinewidth": 0,
             "ticks": ""
            },
            "colorscale": [
             [
              0,
              "#0d0887"
             ],
             [
              0.1111111111111111,
              "#46039f"
             ],
             [
              0.2222222222222222,
              "#7201a8"
             ],
             [
              0.3333333333333333,
              "#9c179e"
             ],
             [
              0.4444444444444444,
              "#bd3786"
             ],
             [
              0.5555555555555556,
              "#d8576b"
             ],
             [
              0.6666666666666666,
              "#ed7953"
             ],
             [
              0.7777777777777778,
              "#fb9f3a"
             ],
             [
              0.8888888888888888,
              "#fdca26"
             ],
             [
              1,
              "#f0f921"
             ]
            ],
            "type": "surface"
           }
          ],
          "table": [
           {
            "cells": {
             "fill": {
              "color": "#EBF0F8"
             },
             "line": {
              "color": "white"
             }
            },
            "header": {
             "fill": {
              "color": "#C8D4E3"
             },
             "line": {
              "color": "white"
             }
            },
            "type": "table"
           }
          ]
         },
         "layout": {
          "annotationdefaults": {
           "arrowcolor": "#2a3f5f",
           "arrowhead": 0,
           "arrowwidth": 1
          },
          "autotypenumbers": "strict",
          "coloraxis": {
           "colorbar": {
            "outlinewidth": 0,
            "ticks": ""
           }
          },
          "colorscale": {
           "diverging": [
            [
             0,
             "#8e0152"
            ],
            [
             0.1,
             "#c51b7d"
            ],
            [
             0.2,
             "#de77ae"
            ],
            [
             0.3,
             "#f1b6da"
            ],
            [
             0.4,
             "#fde0ef"
            ],
            [
             0.5,
             "#f7f7f7"
            ],
            [
             0.6,
             "#e6f5d0"
            ],
            [
             0.7,
             "#b8e186"
            ],
            [
             0.8,
             "#7fbc41"
            ],
            [
             0.9,
             "#4d9221"
            ],
            [
             1,
             "#276419"
            ]
           ],
           "sequential": [
            [
             0,
             "#0d0887"
            ],
            [
             0.1111111111111111,
             "#46039f"
            ],
            [
             0.2222222222222222,
             "#7201a8"
            ],
            [
             0.3333333333333333,
             "#9c179e"
            ],
            [
             0.4444444444444444,
             "#bd3786"
            ],
            [
             0.5555555555555556,
             "#d8576b"
            ],
            [
             0.6666666666666666,
             "#ed7953"
            ],
            [
             0.7777777777777778,
             "#fb9f3a"
            ],
            [
             0.8888888888888888,
             "#fdca26"
            ],
            [
             1,
             "#f0f921"
            ]
           ],
           "sequentialminus": [
            [
             0,
             "#0d0887"
            ],
            [
             0.1111111111111111,
             "#46039f"
            ],
            [
             0.2222222222222222,
             "#7201a8"
            ],
            [
             0.3333333333333333,
             "#9c179e"
            ],
            [
             0.4444444444444444,
             "#bd3786"
            ],
            [
             0.5555555555555556,
             "#d8576b"
            ],
            [
             0.6666666666666666,
             "#ed7953"
            ],
            [
             0.7777777777777778,
             "#fb9f3a"
            ],
            [
             0.8888888888888888,
             "#fdca26"
            ],
            [
             1,
             "#f0f921"
            ]
           ]
          },
          "colorway": [
           "#636efa",
           "#EF553B",
           "#00cc96",
           "#ab63fa",
           "#FFA15A",
           "#19d3f3",
           "#FF6692",
           "#B6E880",
           "#FF97FF",
           "#FECB52"
          ],
          "font": {
           "color": "#2a3f5f"
          },
          "geo": {
           "bgcolor": "white",
           "lakecolor": "white",
           "landcolor": "#E5ECF6",
           "showlakes": true,
           "showland": true,
           "subunitcolor": "white"
          },
          "hoverlabel": {
           "align": "left"
          },
          "hovermode": "closest",
          "mapbox": {
           "style": "light"
          },
          "paper_bgcolor": "white",
          "plot_bgcolor": "#E5ECF6",
          "polar": {
           "angularaxis": {
            "gridcolor": "white",
            "linecolor": "white",
            "ticks": ""
           },
           "bgcolor": "#E5ECF6",
           "radialaxis": {
            "gridcolor": "white",
            "linecolor": "white",
            "ticks": ""
           }
          },
          "scene": {
           "xaxis": {
            "backgroundcolor": "#E5ECF6",
            "gridcolor": "white",
            "gridwidth": 2,
            "linecolor": "white",
            "showbackground": true,
            "ticks": "",
            "zerolinecolor": "white"
           },
           "yaxis": {
            "backgroundcolor": "#E5ECF6",
            "gridcolor": "white",
            "gridwidth": 2,
            "linecolor": "white",
            "showbackground": true,
            "ticks": "",
            "zerolinecolor": "white"
           },
           "zaxis": {
            "backgroundcolor": "#E5ECF6",
            "gridcolor": "white",
            "gridwidth": 2,
            "linecolor": "white",
            "showbackground": true,
            "ticks": "",
            "zerolinecolor": "white"
           }
          },
          "shapedefaults": {
           "line": {
            "color": "#2a3f5f"
           }
          },
          "ternary": {
           "aaxis": {
            "gridcolor": "white",
            "linecolor": "white",
            "ticks": ""
           },
           "baxis": {
            "gridcolor": "white",
            "linecolor": "white",
            "ticks": ""
           },
           "bgcolor": "#E5ECF6",
           "caxis": {
            "gridcolor": "white",
            "linecolor": "white",
            "ticks": ""
           }
          },
          "title": {
           "x": 0.05
          },
          "xaxis": {
           "automargin": true,
           "gridcolor": "white",
           "linecolor": "white",
           "ticks": "",
           "title": {
            "standoff": 15
           },
           "zerolinecolor": "white",
           "zerolinewidth": 2
          },
          "yaxis": {
           "automargin": true,
           "gridcolor": "white",
           "linecolor": "white",
           "ticks": "",
           "title": {
            "standoff": 15
           },
           "zerolinecolor": "white",
           "zerolinewidth": 2
          }
         }
        },
        "title": {
         "text": "Histograma por EQUIPAMENTO"
        },
        "xaxis": {
         "anchor": "y",
         "domain": [
          0,
          1
         ],
         "title": {
          "text": "EQUIPAMENTO"
         }
        },
        "yaxis": {
         "anchor": "x",
         "domain": [
          0,
          1
         ],
         "title": {
          "text": "count"
         }
        }
       }
      }
     },
     "metadata": {},
     "output_type": "display_data"
    },
    {
     "data": {
      "application/vnd.plotly.v1+json": {
       "config": {
        "plotlyServerURL": "https://plot.ly"
       },
       "data": [
        {
         "alignmentgroup": "True",
         "bingroup": "x",
         "hovertemplate": "MANUTENÇÃO=CORRETIVA<br>FINALIZADO=%{x}<br>count=%{y}<extra></extra>",
         "legendgroup": "CORRETIVA",
         "marker": {
          "color": "#636efa",
          "pattern": {
           "shape": ""
          }
         },
         "name": "CORRETIVA",
         "offsetgroup": "CORRETIVA",
         "orientation": "v",
         "showlegend": true,
         "texttemplate": "%{value}",
         "type": "histogram",
         "x": [
          "NÃO",
          "SIM",
          "NÃO",
          "NÃO",
          "NÃO",
          "NÃO",
          "NÃO",
          "SIM",
          "SIM",
          "NÃO",
          "NÃO",
          "SIM",
          "NÃO",
          "NÃO",
          "NÃO",
          "NÃO",
          "SIM",
          "SIM",
          "SIM",
          "SIM",
          "SIM",
          "SIM",
          "NÃO",
          "SIM",
          "SIM",
          "NÃO",
          "NÃO",
          "NÃO",
          "NÃO",
          "NÃO",
          "NÃO",
          "NÃO",
          "NÃO",
          "NÃO",
          "NÃO",
          "NÃO",
          "SIM",
          "SIM",
          "SIM",
          "NÃO",
          "SIM",
          "NÃO",
          "NÃO",
          "NÃO",
          "NÃO",
          "NÃO",
          "NÃO",
          "NÃO",
          "SIM",
          "NÃO",
          "NÃO",
          "NÃO",
          "NÃO",
          "NÃO",
          "SIM",
          "NÃO",
          "NÃO",
          "NÃO",
          "NÃO",
          "NÃO",
          "SIM",
          "NÃO",
          "SIM",
          "SIM",
          "NÃO",
          "SIM",
          "SIM",
          "SIM",
          "NÃO",
          "NÃO",
          "NÃO",
          "SIM",
          "NÃO",
          "NÃO",
          "NÃO",
          "SIM",
          "SIM",
          "SIM",
          "NÃO",
          "NÃO",
          "SIM",
          "SIM",
          "SIM",
          "NÃO",
          "SIM",
          "SIM",
          "SIM",
          "SIM",
          "SIM",
          "NÃO",
          "SIM",
          "SIM",
          "SIM",
          "SIM",
          "NÃO",
          "SIM",
          "SIM",
          "SIM",
          "SIM",
          "SIM",
          "SIM",
          "SIM",
          "SIM",
          "SIM",
          "SIM",
          "NÃO",
          "SIM",
          "SIM",
          "SIM",
          "SIM",
          "SIM",
          "NÃO",
          "NÃO",
          "NÃO",
          "SIM",
          "NÃO",
          "SIM",
          "SIM",
          "SIM",
          "SIM",
          "SIM",
          "NÃO",
          "SIM",
          "SIM",
          "SIM",
          "SIM",
          "SIM",
          "NÃO",
          "SIM",
          "SIM",
          "SIM",
          "SIM",
          "SIM",
          "NÃO",
          "SIM",
          "SIM",
          "SIM",
          "NÃO",
          "NÃO",
          "SIM",
          "SIM",
          "SIM",
          "SIM",
          "SIM",
          "SIM",
          "SIM",
          "SIM",
          "NÃO",
          "SIM",
          "SIM",
          "SIM",
          "SIM",
          "SIM",
          "SIM",
          "SIM",
          "SIM",
          "NÃO",
          "SIM",
          "NÃO",
          "SIM",
          "NÃO",
          "NÃO",
          "NÃO",
          "NÃO",
          "SIM",
          "SIM",
          "SIM",
          "SIM",
          "SIM",
          "SIM",
          "SIM",
          "NÃO",
          "NÃO",
          "NÃO",
          "NÃO",
          "NÃO",
          "NÃO",
          "NÃO",
          "SIM",
          "NÃO",
          "SIM",
          "NÃO",
          "SIM",
          "NÃO",
          "NÃO",
          "NÃO",
          "NÃO",
          "SIM",
          "SIM",
          "SIM",
          "SIM",
          "SIM",
          "SIM",
          "SIM",
          "SIM",
          "NÃO",
          "SIM",
          "SIM",
          "SIM",
          "SIM",
          "SIM",
          "SIM",
          "SIM",
          "NÃO",
          "SIM",
          "SIM",
          "SIM",
          "SIM",
          "SIM",
          "SIM",
          "SIM",
          "SIM",
          "NÃO",
          "SIM",
          "NÃO",
          "NÃO",
          "SIM",
          "SIM",
          "SIM",
          "SIM",
          "SIM",
          "SIM",
          "SIM",
          "SIM",
          "SIM",
          "NÃO",
          "NÃO",
          "SIM",
          "SIM",
          "SIM",
          "SIM",
          "SIM",
          "SIM",
          "SIM",
          "NÃO",
          "NÃO",
          "SIM",
          "SIM",
          "SIM",
          "SIM",
          "SIM",
          "SIM",
          "SIM",
          "SIM",
          "SIM",
          "SIM",
          "SIM",
          "SIM",
          "SIM",
          "SIM",
          "SIM",
          "SIM",
          "SIM",
          "NÃO",
          "SIM",
          "SIM",
          "NÃO",
          "NÃO",
          "SIM",
          "SIM",
          "SIM",
          "SIM",
          "SIM",
          "NÃO",
          "SIM",
          "SIM",
          "NÃO",
          "SIM",
          "NÃO",
          "SIM",
          "SIM",
          "SIM",
          "NÃO",
          "SIM",
          "SIM",
          "SIM",
          "SIM",
          "SIM",
          "NÃO",
          null,
          null,
          "NÃO",
          "SIM",
          "SIM",
          "NÃO",
          "NÃO",
          "NÃO",
          "SIM",
          "SIM",
          "NÃO",
          "SIM",
          "SIM",
          "SIM",
          "SIM",
          "NÃO",
          "NÃO",
          "NÃO",
          "NÃO",
          "NÃO",
          "NÃO",
          "NÃO",
          "SIM",
          "SIM",
          "SIM",
          "NÃO",
          "NÃO",
          "NÃO",
          "NÃO",
          "SIM",
          "SIM",
          "SIM",
          "SIM",
          "NÃO",
          "SIM",
          "SIM",
          "NÃO",
          "NÃO",
          "SIM",
          "SIM",
          "NÃO",
          "NÃO",
          "SIM",
          "SIM",
          "SIM",
          "NÃO",
          "NÃO",
          "SIM",
          "SIM",
          "SIM",
          "SIM",
          "SIM",
          "NÃO",
          "SIM",
          "SIM",
          "SIM",
          "SIM",
          "SIM",
          "SIM",
          "SIM",
          "SIM",
          "SIM",
          "SIM",
          "SIM",
          "SIM",
          "SIM",
          "SIM",
          "SIM",
          "SIM",
          "SIM",
          "SIM",
          "SIM",
          "SIM",
          "SIM",
          "SIM",
          "SIM",
          "SIM",
          "SIM",
          "SIM",
          "SIM",
          "SIM",
          "SIM",
          "SIM",
          "SIM",
          "SIM",
          "SIM",
          "SIM",
          "SIM",
          "SIM",
          "SIM",
          "SIM",
          "SIM",
          "NÃO",
          "SIM",
          "SIM",
          "SIM",
          null,
          "SIM",
          "SIM",
          "SIM",
          "SIM",
          "SIM",
          "SIM",
          "SIM",
          "SIM",
          "SIM",
          "NÃO",
          "SIM",
          "SIM",
          "NÃO",
          "SIM",
          "SIM",
          "SIM",
          null,
          null,
          "NÃO",
          "SIM",
          "SIM",
          "SIM",
          "SIM",
          "SIM",
          "SIM",
          "SIM",
          "SIM",
          "NÃO",
          "SIM",
          "SIM",
          "SIM",
          "SIM",
          "NÃO",
          "SIM",
          "SIM",
          "SIM",
          "SIM",
          "SIM",
          "SIM",
          "SIM",
          "SIM",
          "SIM",
          "SIM",
          "SIM",
          "SIM",
          "SIM",
          "SIM",
          "SIM",
          "SIM",
          "NÃO",
          null,
          "SIM",
          "SIM",
          "SIM",
          null,
          null,
          null,
          null,
          null,
          "SIM",
          "SIM",
          "SIM",
          "SIM",
          "NÃO"
         ],
         "xaxis": "x",
         "yaxis": "y"
        },
        {
         "alignmentgroup": "True",
         "bingroup": "x",
         "hovertemplate": "MANUTENÇÃO=MELHORIA<br>FINALIZADO=%{x}<br>count=%{y}<extra></extra>",
         "legendgroup": "MELHORIA",
         "marker": {
          "color": "#EF553B",
          "pattern": {
           "shape": ""
          }
         },
         "name": "MELHORIA",
         "offsetgroup": "MELHORIA",
         "orientation": "v",
         "showlegend": true,
         "texttemplate": "%{value}",
         "type": "histogram",
         "x": [
          "NÃO",
          "SIM",
          "SIM",
          "SIM",
          "SIM",
          "SIM",
          "SIM",
          "SIM",
          "SIM",
          "SIM",
          "SIM",
          "SIM",
          "SIM",
          "SIM",
          "SIM",
          "SIM",
          "SIM",
          "NÃO",
          "NÃO",
          "SIM",
          "SIM",
          "SIM",
          "SIM",
          "SIM"
         ],
         "xaxis": "x",
         "yaxis": "y"
        },
        {
         "alignmentgroup": "True",
         "bingroup": "x",
         "hovertemplate": "MANUTENÇÃO=PREVENTIVA<br>FINALIZADO=%{x}<br>count=%{y}<extra></extra>",
         "legendgroup": "PREVENTIVA",
         "marker": {
          "color": "#00cc96",
          "pattern": {
           "shape": ""
          }
         },
         "name": "PREVENTIVA",
         "offsetgroup": "PREVENTIVA",
         "orientation": "v",
         "showlegend": true,
         "texttemplate": "%{value}",
         "type": "histogram",
         "x": [
          "SIM",
          "SIM",
          "SIM",
          "SIM",
          "SIM",
          "SIM",
          "SIM",
          "SIM",
          "SIM",
          "SIM",
          "SIM",
          "SIM",
          "SIM",
          "SIM",
          "SIM",
          "SIM",
          "SIM",
          "SIM",
          "NÃO",
          "SIM",
          "SIM",
          "SIM",
          "SIM",
          "SIM",
          "SIM",
          "NÃO",
          "SIM",
          "SIM",
          "SIM",
          "SIM",
          "SIM",
          "SIM",
          "SIM",
          "SIM",
          "SIM",
          "SIM",
          "SIM",
          "SIM",
          "NÃO",
          "NÃO",
          "SIM",
          "NÃO",
          "SIM",
          "SIM",
          "SIM",
          "SIM"
         ],
         "xaxis": "x",
         "yaxis": "y"
        }
       ],
       "layout": {
        "barmode": "relative",
        "legend": {
         "title": {
          "text": "MANUTENÇÃO"
         },
         "tracegroupgap": 0
        },
        "template": {
         "data": {
          "bar": [
           {
            "error_x": {
             "color": "#2a3f5f"
            },
            "error_y": {
             "color": "#2a3f5f"
            },
            "marker": {
             "line": {
              "color": "#E5ECF6",
              "width": 0.5
             },
             "pattern": {
              "fillmode": "overlay",
              "size": 10,
              "solidity": 0.2
             }
            },
            "type": "bar"
           }
          ],
          "barpolar": [
           {
            "marker": {
             "line": {
              "color": "#E5ECF6",
              "width": 0.5
             },
             "pattern": {
              "fillmode": "overlay",
              "size": 10,
              "solidity": 0.2
             }
            },
            "type": "barpolar"
           }
          ],
          "carpet": [
           {
            "aaxis": {
             "endlinecolor": "#2a3f5f",
             "gridcolor": "white",
             "linecolor": "white",
             "minorgridcolor": "white",
             "startlinecolor": "#2a3f5f"
            },
            "baxis": {
             "endlinecolor": "#2a3f5f",
             "gridcolor": "white",
             "linecolor": "white",
             "minorgridcolor": "white",
             "startlinecolor": "#2a3f5f"
            },
            "type": "carpet"
           }
          ],
          "choropleth": [
           {
            "colorbar": {
             "outlinewidth": 0,
             "ticks": ""
            },
            "type": "choropleth"
           }
          ],
          "contour": [
           {
            "colorbar": {
             "outlinewidth": 0,
             "ticks": ""
            },
            "colorscale": [
             [
              0,
              "#0d0887"
             ],
             [
              0.1111111111111111,
              "#46039f"
             ],
             [
              0.2222222222222222,
              "#7201a8"
             ],
             [
              0.3333333333333333,
              "#9c179e"
             ],
             [
              0.4444444444444444,
              "#bd3786"
             ],
             [
              0.5555555555555556,
              "#d8576b"
             ],
             [
              0.6666666666666666,
              "#ed7953"
             ],
             [
              0.7777777777777778,
              "#fb9f3a"
             ],
             [
              0.8888888888888888,
              "#fdca26"
             ],
             [
              1,
              "#f0f921"
             ]
            ],
            "type": "contour"
           }
          ],
          "contourcarpet": [
           {
            "colorbar": {
             "outlinewidth": 0,
             "ticks": ""
            },
            "type": "contourcarpet"
           }
          ],
          "heatmap": [
           {
            "colorbar": {
             "outlinewidth": 0,
             "ticks": ""
            },
            "colorscale": [
             [
              0,
              "#0d0887"
             ],
             [
              0.1111111111111111,
              "#46039f"
             ],
             [
              0.2222222222222222,
              "#7201a8"
             ],
             [
              0.3333333333333333,
              "#9c179e"
             ],
             [
              0.4444444444444444,
              "#bd3786"
             ],
             [
              0.5555555555555556,
              "#d8576b"
             ],
             [
              0.6666666666666666,
              "#ed7953"
             ],
             [
              0.7777777777777778,
              "#fb9f3a"
             ],
             [
              0.8888888888888888,
              "#fdca26"
             ],
             [
              1,
              "#f0f921"
             ]
            ],
            "type": "heatmap"
           }
          ],
          "heatmapgl": [
           {
            "colorbar": {
             "outlinewidth": 0,
             "ticks": ""
            },
            "colorscale": [
             [
              0,
              "#0d0887"
             ],
             [
              0.1111111111111111,
              "#46039f"
             ],
             [
              0.2222222222222222,
              "#7201a8"
             ],
             [
              0.3333333333333333,
              "#9c179e"
             ],
             [
              0.4444444444444444,
              "#bd3786"
             ],
             [
              0.5555555555555556,
              "#d8576b"
             ],
             [
              0.6666666666666666,
              "#ed7953"
             ],
             [
              0.7777777777777778,
              "#fb9f3a"
             ],
             [
              0.8888888888888888,
              "#fdca26"
             ],
             [
              1,
              "#f0f921"
             ]
            ],
            "type": "heatmapgl"
           }
          ],
          "histogram": [
           {
            "marker": {
             "pattern": {
              "fillmode": "overlay",
              "size": 10,
              "solidity": 0.2
             }
            },
            "type": "histogram"
           }
          ],
          "histogram2d": [
           {
            "colorbar": {
             "outlinewidth": 0,
             "ticks": ""
            },
            "colorscale": [
             [
              0,
              "#0d0887"
             ],
             [
              0.1111111111111111,
              "#46039f"
             ],
             [
              0.2222222222222222,
              "#7201a8"
             ],
             [
              0.3333333333333333,
              "#9c179e"
             ],
             [
              0.4444444444444444,
              "#bd3786"
             ],
             [
              0.5555555555555556,
              "#d8576b"
             ],
             [
              0.6666666666666666,
              "#ed7953"
             ],
             [
              0.7777777777777778,
              "#fb9f3a"
             ],
             [
              0.8888888888888888,
              "#fdca26"
             ],
             [
              1,
              "#f0f921"
             ]
            ],
            "type": "histogram2d"
           }
          ],
          "histogram2dcontour": [
           {
            "colorbar": {
             "outlinewidth": 0,
             "ticks": ""
            },
            "colorscale": [
             [
              0,
              "#0d0887"
             ],
             [
              0.1111111111111111,
              "#46039f"
             ],
             [
              0.2222222222222222,
              "#7201a8"
             ],
             [
              0.3333333333333333,
              "#9c179e"
             ],
             [
              0.4444444444444444,
              "#bd3786"
             ],
             [
              0.5555555555555556,
              "#d8576b"
             ],
             [
              0.6666666666666666,
              "#ed7953"
             ],
             [
              0.7777777777777778,
              "#fb9f3a"
             ],
             [
              0.8888888888888888,
              "#fdca26"
             ],
             [
              1,
              "#f0f921"
             ]
            ],
            "type": "histogram2dcontour"
           }
          ],
          "mesh3d": [
           {
            "colorbar": {
             "outlinewidth": 0,
             "ticks": ""
            },
            "type": "mesh3d"
           }
          ],
          "parcoords": [
           {
            "line": {
             "colorbar": {
              "outlinewidth": 0,
              "ticks": ""
             }
            },
            "type": "parcoords"
           }
          ],
          "pie": [
           {
            "automargin": true,
            "type": "pie"
           }
          ],
          "scatter": [
           {
            "fillpattern": {
             "fillmode": "overlay",
             "size": 10,
             "solidity": 0.2
            },
            "type": "scatter"
           }
          ],
          "scatter3d": [
           {
            "line": {
             "colorbar": {
              "outlinewidth": 0,
              "ticks": ""
             }
            },
            "marker": {
             "colorbar": {
              "outlinewidth": 0,
              "ticks": ""
             }
            },
            "type": "scatter3d"
           }
          ],
          "scattercarpet": [
           {
            "marker": {
             "colorbar": {
              "outlinewidth": 0,
              "ticks": ""
             }
            },
            "type": "scattercarpet"
           }
          ],
          "scattergeo": [
           {
            "marker": {
             "colorbar": {
              "outlinewidth": 0,
              "ticks": ""
             }
            },
            "type": "scattergeo"
           }
          ],
          "scattergl": [
           {
            "marker": {
             "colorbar": {
              "outlinewidth": 0,
              "ticks": ""
             }
            },
            "type": "scattergl"
           }
          ],
          "scattermapbox": [
           {
            "marker": {
             "colorbar": {
              "outlinewidth": 0,
              "ticks": ""
             }
            },
            "type": "scattermapbox"
           }
          ],
          "scatterpolar": [
           {
            "marker": {
             "colorbar": {
              "outlinewidth": 0,
              "ticks": ""
             }
            },
            "type": "scatterpolar"
           }
          ],
          "scatterpolargl": [
           {
            "marker": {
             "colorbar": {
              "outlinewidth": 0,
              "ticks": ""
             }
            },
            "type": "scatterpolargl"
           }
          ],
          "scatterternary": [
           {
            "marker": {
             "colorbar": {
              "outlinewidth": 0,
              "ticks": ""
             }
            },
            "type": "scatterternary"
           }
          ],
          "surface": [
           {
            "colorbar": {
             "outlinewidth": 0,
             "ticks": ""
            },
            "colorscale": [
             [
              0,
              "#0d0887"
             ],
             [
              0.1111111111111111,
              "#46039f"
             ],
             [
              0.2222222222222222,
              "#7201a8"
             ],
             [
              0.3333333333333333,
              "#9c179e"
             ],
             [
              0.4444444444444444,
              "#bd3786"
             ],
             [
              0.5555555555555556,
              "#d8576b"
             ],
             [
              0.6666666666666666,
              "#ed7953"
             ],
             [
              0.7777777777777778,
              "#fb9f3a"
             ],
             [
              0.8888888888888888,
              "#fdca26"
             ],
             [
              1,
              "#f0f921"
             ]
            ],
            "type": "surface"
           }
          ],
          "table": [
           {
            "cells": {
             "fill": {
              "color": "#EBF0F8"
             },
             "line": {
              "color": "white"
             }
            },
            "header": {
             "fill": {
              "color": "#C8D4E3"
             },
             "line": {
              "color": "white"
             }
            },
            "type": "table"
           }
          ]
         },
         "layout": {
          "annotationdefaults": {
           "arrowcolor": "#2a3f5f",
           "arrowhead": 0,
           "arrowwidth": 1
          },
          "autotypenumbers": "strict",
          "coloraxis": {
           "colorbar": {
            "outlinewidth": 0,
            "ticks": ""
           }
          },
          "colorscale": {
           "diverging": [
            [
             0,
             "#8e0152"
            ],
            [
             0.1,
             "#c51b7d"
            ],
            [
             0.2,
             "#de77ae"
            ],
            [
             0.3,
             "#f1b6da"
            ],
            [
             0.4,
             "#fde0ef"
            ],
            [
             0.5,
             "#f7f7f7"
            ],
            [
             0.6,
             "#e6f5d0"
            ],
            [
             0.7,
             "#b8e186"
            ],
            [
             0.8,
             "#7fbc41"
            ],
            [
             0.9,
             "#4d9221"
            ],
            [
             1,
             "#276419"
            ]
           ],
           "sequential": [
            [
             0,
             "#0d0887"
            ],
            [
             0.1111111111111111,
             "#46039f"
            ],
            [
             0.2222222222222222,
             "#7201a8"
            ],
            [
             0.3333333333333333,
             "#9c179e"
            ],
            [
             0.4444444444444444,
             "#bd3786"
            ],
            [
             0.5555555555555556,
             "#d8576b"
            ],
            [
             0.6666666666666666,
             "#ed7953"
            ],
            [
             0.7777777777777778,
             "#fb9f3a"
            ],
            [
             0.8888888888888888,
             "#fdca26"
            ],
            [
             1,
             "#f0f921"
            ]
           ],
           "sequentialminus": [
            [
             0,
             "#0d0887"
            ],
            [
             0.1111111111111111,
             "#46039f"
            ],
            [
             0.2222222222222222,
             "#7201a8"
            ],
            [
             0.3333333333333333,
             "#9c179e"
            ],
            [
             0.4444444444444444,
             "#bd3786"
            ],
            [
             0.5555555555555556,
             "#d8576b"
            ],
            [
             0.6666666666666666,
             "#ed7953"
            ],
            [
             0.7777777777777778,
             "#fb9f3a"
            ],
            [
             0.8888888888888888,
             "#fdca26"
            ],
            [
             1,
             "#f0f921"
            ]
           ]
          },
          "colorway": [
           "#636efa",
           "#EF553B",
           "#00cc96",
           "#ab63fa",
           "#FFA15A",
           "#19d3f3",
           "#FF6692",
           "#B6E880",
           "#FF97FF",
           "#FECB52"
          ],
          "font": {
           "color": "#2a3f5f"
          },
          "geo": {
           "bgcolor": "white",
           "lakecolor": "white",
           "landcolor": "#E5ECF6",
           "showlakes": true,
           "showland": true,
           "subunitcolor": "white"
          },
          "hoverlabel": {
           "align": "left"
          },
          "hovermode": "closest",
          "mapbox": {
           "style": "light"
          },
          "paper_bgcolor": "white",
          "plot_bgcolor": "#E5ECF6",
          "polar": {
           "angularaxis": {
            "gridcolor": "white",
            "linecolor": "white",
            "ticks": ""
           },
           "bgcolor": "#E5ECF6",
           "radialaxis": {
            "gridcolor": "white",
            "linecolor": "white",
            "ticks": ""
           }
          },
          "scene": {
           "xaxis": {
            "backgroundcolor": "#E5ECF6",
            "gridcolor": "white",
            "gridwidth": 2,
            "linecolor": "white",
            "showbackground": true,
            "ticks": "",
            "zerolinecolor": "white"
           },
           "yaxis": {
            "backgroundcolor": "#E5ECF6",
            "gridcolor": "white",
            "gridwidth": 2,
            "linecolor": "white",
            "showbackground": true,
            "ticks": "",
            "zerolinecolor": "white"
           },
           "zaxis": {
            "backgroundcolor": "#E5ECF6",
            "gridcolor": "white",
            "gridwidth": 2,
            "linecolor": "white",
            "showbackground": true,
            "ticks": "",
            "zerolinecolor": "white"
           }
          },
          "shapedefaults": {
           "line": {
            "color": "#2a3f5f"
           }
          },
          "ternary": {
           "aaxis": {
            "gridcolor": "white",
            "linecolor": "white",
            "ticks": ""
           },
           "baxis": {
            "gridcolor": "white",
            "linecolor": "white",
            "ticks": ""
           },
           "bgcolor": "#E5ECF6",
           "caxis": {
            "gridcolor": "white",
            "linecolor": "white",
            "ticks": ""
           }
          },
          "title": {
           "x": 0.05
          },
          "xaxis": {
           "automargin": true,
           "gridcolor": "white",
           "linecolor": "white",
           "ticks": "",
           "title": {
            "standoff": 15
           },
           "zerolinecolor": "white",
           "zerolinewidth": 2
          },
          "yaxis": {
           "automargin": true,
           "gridcolor": "white",
           "linecolor": "white",
           "ticks": "",
           "title": {
            "standoff": 15
           },
           "zerolinecolor": "white",
           "zerolinewidth": 2
          }
         }
        },
        "title": {
         "text": "Histograma por FINALIZADO"
        },
        "xaxis": {
         "anchor": "y",
         "domain": [
          0,
          1
         ],
         "title": {
          "text": "FINALIZADO"
         }
        },
        "yaxis": {
         "anchor": "x",
         "domain": [
          0,
          1
         ],
         "title": {
          "text": "count"
         }
        }
       }
      }
     },
     "metadata": {},
     "output_type": "display_data"
    },
    {
     "data": {
      "application/vnd.plotly.v1+json": {
       "config": {
        "plotlyServerURL": "https://plot.ly"
       },
       "data": [
        {
         "alignmentgroup": "True",
         "bingroup": "x",
         "hovertemplate": "MANUTENÇÃO=CORRETIVA<br>OFICINA=%{x}<br>count=%{y}<extra></extra>",
         "legendgroup": "CORRETIVA",
         "marker": {
          "color": "#636efa",
          "pattern": {
           "shape": ""
          }
         },
         "name": "CORRETIVA",
         "offsetgroup": "CORRETIVA",
         "orientation": "v",
         "showlegend": true,
         "texttemplate": "%{value}",
         "type": "histogram",
         "x": [
          null,
          "Beny refrigeração",
          null,
          null,
          null,
          null,
          null,
          "TUG",
          "Mecânica",
          null,
          null,
          "Supervisor/Luiz Calor",
          null,
          null,
          null,
          null,
          "Elétrica",
          "BMH",
          "Elétrica",
          "BMH",
          "Tripulação",
          "TUG",
          null,
          "Caldeiraria",
          "Caldeiraria",
          null,
          null,
          null,
          null,
          null,
          null,
          null,
          null,
          null,
          "Elétrica",
          null,
          "Flávio Filho/Mecânica",
          "Caldeiraria",
          "Elétrica",
          null,
          "Mecânica Açú",
          "Elétrica",
          null,
          null,
          null,
          "TUG/Mecânica Açú",
          null,
          null,
          "TUG",
          null,
          null,
          null,
          null,
          "Elétrica",
          "Tripulação",
          null,
          null,
          null,
          null,
          null,
          "TUG",
          null,
          "RM MOTORES",
          "RM MOTORES",
          null,
          "Caldeiraria ",
          "TUG",
          "Autotrac",
          null,
          null,
          null,
          "Elétrica",
          null,
          null,
          "RM Motores",
          "Tripulação/Hydracontrol",
          "Caldeiraria ",
          "Tripulação",
          null,
          "Elétrica",
          "Elétrica",
          "Elétrica",
          "Elétrica",
          "Elétrica",
          "Mecânica/MPS",
          "Mecânica",
          "Mecânica",
          "Mecânica",
          "TUG",
          "TUG",
          "Mecânica",
          "Mecânica",
          "Mecânica",
          "Mecânica",
          null,
          "LM Reparos",
          "BMH/Elétrica",
          "BMH",
          "Elétrica",
          "TUG",
          "Elétrica",
          "Elétrica/TUG",
          "Elétrica",
          "Elétrica",
          "Elétrica",
          "Elétrica",
          "TUG",
          "BMH",
          "Elétrica/TUG",
          "Elétrica/TUG",
          "BMH",
          null,
          null,
          null,
          "Caldeiraria/Tripulação",
          null,
          "Luiz Calor",
          "Elétrica/TUG",
          "Elétrica",
          "ISOMAR",
          "ISOMAR",
          null,
          "Caldeiraria/Tripulação",
          "TUG",
          "TUG",
          "Caldeiraria ",
          "Tripulação",
          "Mecânica",
          "BMH",
          "BMH",
          "Elétrica",
          "Caldeiraria",
          "Caldeiraria",
          null,
          "Mecânica",
          "Mecânica",
          "Mecânica",
          "TUG",
          null,
          "Caldeiraria/Luiz Calor",
          "BMH",
          "BMH",
          "J Uzeda",
          "Luis Calor",
          "Luis Calor",
          "Luis Calor",
          "TUG",
          null,
          "BMH",
          "Elétrica",
          "Caldeiraria",
          "Caldeiraria",
          "Caldeiraria",
          "TUG",
          "Caldeiraria",
          "TUG",
          null,
          "TUG",
          null,
          "BMH",
          null,
          null,
          "Elétrica",
          null,
          "Tripulação",
          "TUG",
          "TUG",
          "TUG",
          "TUG",
          "Mecânica",
          "Mecânica",
          null,
          null,
          null,
          null,
          null,
          null,
          null,
          "BMH",
          null,
          "TUG",
          null,
          "TUG",
          null,
          null,
          null,
          null,
          "TUG",
          "TUG",
          "TUG",
          "TUG",
          "TUG",
          "TUG",
          "TUG",
          "TUG",
          null,
          "TUG",
          "Caldeiraria",
          "Elétrica",
          "Elétrica",
          "Elétrica",
          "RM Motores",
          "RM Motores",
          null,
          "ELÉTRICA",
          "ELÉTRICA",
          "TUG",
          "TUG",
          "TUG",
          "TUG",
          "Mecânica",
          "Mecânica",
          null,
          "Elétrica",
          null,
          null,
          "TUG",
          "Elétrica",
          "BMH",
          "BMH",
          "Mecânica",
          "Elétrica",
          "Elétrica",
          "Caldeiraria",
          "Elétrica",
          null,
          null,
          "TUG",
          "Mecânica",
          "Flávio Filho",
          "Flávio Filho",
          "Mecânica/MPS",
          "Mecânica",
          "TUG",
          null,
          null,
          "BMH",
          "Tripulação",
          "Elétrica",
          "Weel Caldeiraria",
          "BMH",
          "BMH",
          "BMH",
          "BMH",
          "BMH",
          "Flávio Filho",
          "Flávio Filho",
          "Flávio Filho",
          "Flávio Filho",
          "BMH",
          "BMH",
          "BMH",
          "BMH",
          null,
          "TUG",
          "TUG",
          null,
          null,
          "Elétrica",
          "Elétrica",
          "Caldeiraria",
          "Caldeiraria",
          "Elétrica",
          null,
          "Carpintaria",
          "BMH",
          null,
          "Elétrica",
          null,
          "BMH",
          "Elétrica",
          "Elétrica",
          null,
          "TUG",
          "TUG",
          "Tripulação ",
          "Elétrica",
          "Elétrica",
          null,
          null,
          null,
          null,
          "BMH",
          "TUG",
          null,
          null,
          null,
          "Elétrica",
          "Elétrica",
          null,
          "Tripulação ",
          "Celso Nav",
          "Tripulação",
          "Elétrica",
          null,
          null,
          null,
          null,
          null,
          null,
          null,
          "Elétrica",
          "Elétrica",
          "Elétrica",
          null,
          null,
          null,
          null,
          "Carpintaria",
          "TUG",
          "TUG",
          "TUG",
          null,
          "tripulação",
          "TUG",
          null,
          null,
          "TUG",
          "ELÉTRICA",
          "tripulação/ Eletrica/ Mecanica",
          null,
          "TUG",
          "Elétrica",
          "tripulação",
          null,
          null,
          "TUG",
          "TUG",
          "TUG",
          null,
          "Mecânica",
          "Mecânica",
          "Mecânica/MPS",
          "Mecânica/MPS",
          "TUG",
          "ELÉTRICA",
          "ELÉTRICA",
          "ELÉTRICA",
          "ELÉTRICA",
          "ELÉTRICA",
          "ELÉTRICA",
          "ELÉTRICA",
          "ELÉTRICA",
          "ELÉTRICA",
          "ELÉTRICA",
          "ELÉTRICA",
          "ELÉTRICA",
          "ELÉTRICA",
          "ELÉTRICA",
          "ELÉTRICA",
          "ELÉTRICA",
          "ELÉTRICA",
          "ELÉTRICA",
          "ELÉTRICA",
          "ELÉTRICA",
          "ELÉTRICA",
          "ELÉTRICA",
          "ELÉTRICA",
          "MPS",
          "Mecânica",
          "BMH",
          "Caldeiraria",
          "Elétrica",
          "RM Motores",
          "ELÉTRICA",
          "ELÉTRICA",
          "ELÉTRICA",
          "ELÉTRICA",
          "ELÉTRICA",
          "ELÉTRICA",
          "RM Motores",
          "Mecânica",
          "TUG",
          "TUG",
          "TUG",
          null,
          "Tripulação/ Mecanica",
          "eletrica / tripulação",
          "Flávio Filho",
          "BMH",
          "BMH",
          "BMH",
          "BMH",
          "BMH",
          "BMH",
          "Mecânica",
          "ELÉTRICA",
          "ELÉTRICA",
          "ELÉTRICA",
          "BMH",
          "BMH",
          "ELÉTRICA",
          null,
          null,
          null,
          "RM Motores",
          "Elétrica",
          "Elétrica",
          "Mecânica",
          "Elétrica",
          "Elétrica",
          "Elétrica",
          "Elétrica",
          "Elétrica",
          "Elétrica",
          "Elétrica",
          "Elétrica",
          "Elétrica",
          "Elétrica",
          "Elétrica",
          "Elétrica",
          "Elétrica",
          "Elétrica",
          "Elétrica",
          "Elétrica",
          "Elétrica",
          "Elétrica",
          "Elétrica",
          "Elétrica",
          "Elétrica",
          "Elétrica",
          "Elétrica",
          "Elétrica",
          "Elétrica",
          "Elétrica",
          "Elétrica",
          null,
          "TUG",
          "Caldeiraria",
          "TUG",
          null,
          null,
          null,
          null,
          null,
          "Beny refrigeração",
          "TUG",
          "TUG",
          "TUG",
          "Mecânica"
         ],
         "xaxis": "x",
         "yaxis": "y"
        },
        {
         "alignmentgroup": "True",
         "bingroup": "x",
         "hovertemplate": "MANUTENÇÃO=MELHORIA<br>OFICINA=%{x}<br>count=%{y}<extra></extra>",
         "legendgroup": "MELHORIA",
         "marker": {
          "color": "#EF553B",
          "pattern": {
           "shape": ""
          }
         },
         "name": "MELHORIA",
         "offsetgroup": "MELHORIA",
         "orientation": "v",
         "showlegend": true,
         "texttemplate": "%{value}",
         "type": "histogram",
         "x": [
          "Elétrica",
          "RM Motores",
          "Elétrica",
          "Carpintaria",
          "BMH",
          "ELÉTRICA",
          "ELÉTRICA",
          "ELÉTRICA",
          "ELÉTRICA",
          "ELÉTRICA",
          "ELÉTRICA",
          "ELÉTRICA",
          "ELÉTRICA",
          "ELÉTRICA",
          "ELÉTRICA",
          "ELÉTRICA",
          "ELÉTRICA",
          "ELÉTRICA",
          "ELÉTRICA",
          "Elétrica",
          "Elétrica",
          "Elétrica",
          "Elétrica",
          "Elétrica"
         ],
         "xaxis": "x",
         "yaxis": "y"
        },
        {
         "alignmentgroup": "True",
         "bingroup": "x",
         "hovertemplate": "MANUTENÇÃO=PREVENTIVA<br>OFICINA=%{x}<br>count=%{y}<extra></extra>",
         "legendgroup": "PREVENTIVA",
         "marker": {
          "color": "#00cc96",
          "pattern": {
           "shape": ""
          }
         },
         "name": "PREVENTIVA",
         "offsetgroup": "PREVENTIVA",
         "orientation": "v",
         "showlegend": true,
         "texttemplate": "%{value}",
         "type": "histogram",
         "x": [
          "TUG",
          "TUG",
          "Mecânica",
          "Mecânica",
          "Mecânica",
          "BMH",
          "BMH",
          "BMH",
          null,
          null,
          "ELÉTRICA",
          "ELÉTRICA",
          "ELÉTRICA",
          "BMH",
          "BMH",
          "BMH",
          "BMH",
          "Elétrica",
          "Elétrica",
          "Elétrica",
          "Elétrica",
          "Elétrica",
          "Elétrica",
          "Elétrica",
          "Elétrica",
          "Elétrica",
          "Elétrica",
          "Elétrica",
          "Elétrica",
          "Elétrica",
          "Elétrica",
          "Elétrica",
          "Elétrica",
          "Elétrica",
          "Elétrica",
          "Elétrica",
          "Elétrica",
          "Elétrica",
          "Elétrica",
          "Elétrica",
          "Elétrica",
          "Elétrica",
          "Elétrica",
          "tripulação",
          "tripulação",
          "tripulação"
         ],
         "xaxis": "x",
         "yaxis": "y"
        }
       ],
       "layout": {
        "barmode": "relative",
        "legend": {
         "title": {
          "text": "MANUTENÇÃO"
         },
         "tracegroupgap": 0
        },
        "template": {
         "data": {
          "bar": [
           {
            "error_x": {
             "color": "#2a3f5f"
            },
            "error_y": {
             "color": "#2a3f5f"
            },
            "marker": {
             "line": {
              "color": "#E5ECF6",
              "width": 0.5
             },
             "pattern": {
              "fillmode": "overlay",
              "size": 10,
              "solidity": 0.2
             }
            },
            "type": "bar"
           }
          ],
          "barpolar": [
           {
            "marker": {
             "line": {
              "color": "#E5ECF6",
              "width": 0.5
             },
             "pattern": {
              "fillmode": "overlay",
              "size": 10,
              "solidity": 0.2
             }
            },
            "type": "barpolar"
           }
          ],
          "carpet": [
           {
            "aaxis": {
             "endlinecolor": "#2a3f5f",
             "gridcolor": "white",
             "linecolor": "white",
             "minorgridcolor": "white",
             "startlinecolor": "#2a3f5f"
            },
            "baxis": {
             "endlinecolor": "#2a3f5f",
             "gridcolor": "white",
             "linecolor": "white",
             "minorgridcolor": "white",
             "startlinecolor": "#2a3f5f"
            },
            "type": "carpet"
           }
          ],
          "choropleth": [
           {
            "colorbar": {
             "outlinewidth": 0,
             "ticks": ""
            },
            "type": "choropleth"
           }
          ],
          "contour": [
           {
            "colorbar": {
             "outlinewidth": 0,
             "ticks": ""
            },
            "colorscale": [
             [
              0,
              "#0d0887"
             ],
             [
              0.1111111111111111,
              "#46039f"
             ],
             [
              0.2222222222222222,
              "#7201a8"
             ],
             [
              0.3333333333333333,
              "#9c179e"
             ],
             [
              0.4444444444444444,
              "#bd3786"
             ],
             [
              0.5555555555555556,
              "#d8576b"
             ],
             [
              0.6666666666666666,
              "#ed7953"
             ],
             [
              0.7777777777777778,
              "#fb9f3a"
             ],
             [
              0.8888888888888888,
              "#fdca26"
             ],
             [
              1,
              "#f0f921"
             ]
            ],
            "type": "contour"
           }
          ],
          "contourcarpet": [
           {
            "colorbar": {
             "outlinewidth": 0,
             "ticks": ""
            },
            "type": "contourcarpet"
           }
          ],
          "heatmap": [
           {
            "colorbar": {
             "outlinewidth": 0,
             "ticks": ""
            },
            "colorscale": [
             [
              0,
              "#0d0887"
             ],
             [
              0.1111111111111111,
              "#46039f"
             ],
             [
              0.2222222222222222,
              "#7201a8"
             ],
             [
              0.3333333333333333,
              "#9c179e"
             ],
             [
              0.4444444444444444,
              "#bd3786"
             ],
             [
              0.5555555555555556,
              "#d8576b"
             ],
             [
              0.6666666666666666,
              "#ed7953"
             ],
             [
              0.7777777777777778,
              "#fb9f3a"
             ],
             [
              0.8888888888888888,
              "#fdca26"
             ],
             [
              1,
              "#f0f921"
             ]
            ],
            "type": "heatmap"
           }
          ],
          "heatmapgl": [
           {
            "colorbar": {
             "outlinewidth": 0,
             "ticks": ""
            },
            "colorscale": [
             [
              0,
              "#0d0887"
             ],
             [
              0.1111111111111111,
              "#46039f"
             ],
             [
              0.2222222222222222,
              "#7201a8"
             ],
             [
              0.3333333333333333,
              "#9c179e"
             ],
             [
              0.4444444444444444,
              "#bd3786"
             ],
             [
              0.5555555555555556,
              "#d8576b"
             ],
             [
              0.6666666666666666,
              "#ed7953"
             ],
             [
              0.7777777777777778,
              "#fb9f3a"
             ],
             [
              0.8888888888888888,
              "#fdca26"
             ],
             [
              1,
              "#f0f921"
             ]
            ],
            "type": "heatmapgl"
           }
          ],
          "histogram": [
           {
            "marker": {
             "pattern": {
              "fillmode": "overlay",
              "size": 10,
              "solidity": 0.2
             }
            },
            "type": "histogram"
           }
          ],
          "histogram2d": [
           {
            "colorbar": {
             "outlinewidth": 0,
             "ticks": ""
            },
            "colorscale": [
             [
              0,
              "#0d0887"
             ],
             [
              0.1111111111111111,
              "#46039f"
             ],
             [
              0.2222222222222222,
              "#7201a8"
             ],
             [
              0.3333333333333333,
              "#9c179e"
             ],
             [
              0.4444444444444444,
              "#bd3786"
             ],
             [
              0.5555555555555556,
              "#d8576b"
             ],
             [
              0.6666666666666666,
              "#ed7953"
             ],
             [
              0.7777777777777778,
              "#fb9f3a"
             ],
             [
              0.8888888888888888,
              "#fdca26"
             ],
             [
              1,
              "#f0f921"
             ]
            ],
            "type": "histogram2d"
           }
          ],
          "histogram2dcontour": [
           {
            "colorbar": {
             "outlinewidth": 0,
             "ticks": ""
            },
            "colorscale": [
             [
              0,
              "#0d0887"
             ],
             [
              0.1111111111111111,
              "#46039f"
             ],
             [
              0.2222222222222222,
              "#7201a8"
             ],
             [
              0.3333333333333333,
              "#9c179e"
             ],
             [
              0.4444444444444444,
              "#bd3786"
             ],
             [
              0.5555555555555556,
              "#d8576b"
             ],
             [
              0.6666666666666666,
              "#ed7953"
             ],
             [
              0.7777777777777778,
              "#fb9f3a"
             ],
             [
              0.8888888888888888,
              "#fdca26"
             ],
             [
              1,
              "#f0f921"
             ]
            ],
            "type": "histogram2dcontour"
           }
          ],
          "mesh3d": [
           {
            "colorbar": {
             "outlinewidth": 0,
             "ticks": ""
            },
            "type": "mesh3d"
           }
          ],
          "parcoords": [
           {
            "line": {
             "colorbar": {
              "outlinewidth": 0,
              "ticks": ""
             }
            },
            "type": "parcoords"
           }
          ],
          "pie": [
           {
            "automargin": true,
            "type": "pie"
           }
          ],
          "scatter": [
           {
            "fillpattern": {
             "fillmode": "overlay",
             "size": 10,
             "solidity": 0.2
            },
            "type": "scatter"
           }
          ],
          "scatter3d": [
           {
            "line": {
             "colorbar": {
              "outlinewidth": 0,
              "ticks": ""
             }
            },
            "marker": {
             "colorbar": {
              "outlinewidth": 0,
              "ticks": ""
             }
            },
            "type": "scatter3d"
           }
          ],
          "scattercarpet": [
           {
            "marker": {
             "colorbar": {
              "outlinewidth": 0,
              "ticks": ""
             }
            },
            "type": "scattercarpet"
           }
          ],
          "scattergeo": [
           {
            "marker": {
             "colorbar": {
              "outlinewidth": 0,
              "ticks": ""
             }
            },
            "type": "scattergeo"
           }
          ],
          "scattergl": [
           {
            "marker": {
             "colorbar": {
              "outlinewidth": 0,
              "ticks": ""
             }
            },
            "type": "scattergl"
           }
          ],
          "scattermapbox": [
           {
            "marker": {
             "colorbar": {
              "outlinewidth": 0,
              "ticks": ""
             }
            },
            "type": "scattermapbox"
           }
          ],
          "scatterpolar": [
           {
            "marker": {
             "colorbar": {
              "outlinewidth": 0,
              "ticks": ""
             }
            },
            "type": "scatterpolar"
           }
          ],
          "scatterpolargl": [
           {
            "marker": {
             "colorbar": {
              "outlinewidth": 0,
              "ticks": ""
             }
            },
            "type": "scatterpolargl"
           }
          ],
          "scatterternary": [
           {
            "marker": {
             "colorbar": {
              "outlinewidth": 0,
              "ticks": ""
             }
            },
            "type": "scatterternary"
           }
          ],
          "surface": [
           {
            "colorbar": {
             "outlinewidth": 0,
             "ticks": ""
            },
            "colorscale": [
             [
              0,
              "#0d0887"
             ],
             [
              0.1111111111111111,
              "#46039f"
             ],
             [
              0.2222222222222222,
              "#7201a8"
             ],
             [
              0.3333333333333333,
              "#9c179e"
             ],
             [
              0.4444444444444444,
              "#bd3786"
             ],
             [
              0.5555555555555556,
              "#d8576b"
             ],
             [
              0.6666666666666666,
              "#ed7953"
             ],
             [
              0.7777777777777778,
              "#fb9f3a"
             ],
             [
              0.8888888888888888,
              "#fdca26"
             ],
             [
              1,
              "#f0f921"
             ]
            ],
            "type": "surface"
           }
          ],
          "table": [
           {
            "cells": {
             "fill": {
              "color": "#EBF0F8"
             },
             "line": {
              "color": "white"
             }
            },
            "header": {
             "fill": {
              "color": "#C8D4E3"
             },
             "line": {
              "color": "white"
             }
            },
            "type": "table"
           }
          ]
         },
         "layout": {
          "annotationdefaults": {
           "arrowcolor": "#2a3f5f",
           "arrowhead": 0,
           "arrowwidth": 1
          },
          "autotypenumbers": "strict",
          "coloraxis": {
           "colorbar": {
            "outlinewidth": 0,
            "ticks": ""
           }
          },
          "colorscale": {
           "diverging": [
            [
             0,
             "#8e0152"
            ],
            [
             0.1,
             "#c51b7d"
            ],
            [
             0.2,
             "#de77ae"
            ],
            [
             0.3,
             "#f1b6da"
            ],
            [
             0.4,
             "#fde0ef"
            ],
            [
             0.5,
             "#f7f7f7"
            ],
            [
             0.6,
             "#e6f5d0"
            ],
            [
             0.7,
             "#b8e186"
            ],
            [
             0.8,
             "#7fbc41"
            ],
            [
             0.9,
             "#4d9221"
            ],
            [
             1,
             "#276419"
            ]
           ],
           "sequential": [
            [
             0,
             "#0d0887"
            ],
            [
             0.1111111111111111,
             "#46039f"
            ],
            [
             0.2222222222222222,
             "#7201a8"
            ],
            [
             0.3333333333333333,
             "#9c179e"
            ],
            [
             0.4444444444444444,
             "#bd3786"
            ],
            [
             0.5555555555555556,
             "#d8576b"
            ],
            [
             0.6666666666666666,
             "#ed7953"
            ],
            [
             0.7777777777777778,
             "#fb9f3a"
            ],
            [
             0.8888888888888888,
             "#fdca26"
            ],
            [
             1,
             "#f0f921"
            ]
           ],
           "sequentialminus": [
            [
             0,
             "#0d0887"
            ],
            [
             0.1111111111111111,
             "#46039f"
            ],
            [
             0.2222222222222222,
             "#7201a8"
            ],
            [
             0.3333333333333333,
             "#9c179e"
            ],
            [
             0.4444444444444444,
             "#bd3786"
            ],
            [
             0.5555555555555556,
             "#d8576b"
            ],
            [
             0.6666666666666666,
             "#ed7953"
            ],
            [
             0.7777777777777778,
             "#fb9f3a"
            ],
            [
             0.8888888888888888,
             "#fdca26"
            ],
            [
             1,
             "#f0f921"
            ]
           ]
          },
          "colorway": [
           "#636efa",
           "#EF553B",
           "#00cc96",
           "#ab63fa",
           "#FFA15A",
           "#19d3f3",
           "#FF6692",
           "#B6E880",
           "#FF97FF",
           "#FECB52"
          ],
          "font": {
           "color": "#2a3f5f"
          },
          "geo": {
           "bgcolor": "white",
           "lakecolor": "white",
           "landcolor": "#E5ECF6",
           "showlakes": true,
           "showland": true,
           "subunitcolor": "white"
          },
          "hoverlabel": {
           "align": "left"
          },
          "hovermode": "closest",
          "mapbox": {
           "style": "light"
          },
          "paper_bgcolor": "white",
          "plot_bgcolor": "#E5ECF6",
          "polar": {
           "angularaxis": {
            "gridcolor": "white",
            "linecolor": "white",
            "ticks": ""
           },
           "bgcolor": "#E5ECF6",
           "radialaxis": {
            "gridcolor": "white",
            "linecolor": "white",
            "ticks": ""
           }
          },
          "scene": {
           "xaxis": {
            "backgroundcolor": "#E5ECF6",
            "gridcolor": "white",
            "gridwidth": 2,
            "linecolor": "white",
            "showbackground": true,
            "ticks": "",
            "zerolinecolor": "white"
           },
           "yaxis": {
            "backgroundcolor": "#E5ECF6",
            "gridcolor": "white",
            "gridwidth": 2,
            "linecolor": "white",
            "showbackground": true,
            "ticks": "",
            "zerolinecolor": "white"
           },
           "zaxis": {
            "backgroundcolor": "#E5ECF6",
            "gridcolor": "white",
            "gridwidth": 2,
            "linecolor": "white",
            "showbackground": true,
            "ticks": "",
            "zerolinecolor": "white"
           }
          },
          "shapedefaults": {
           "line": {
            "color": "#2a3f5f"
           }
          },
          "ternary": {
           "aaxis": {
            "gridcolor": "white",
            "linecolor": "white",
            "ticks": ""
           },
           "baxis": {
            "gridcolor": "white",
            "linecolor": "white",
            "ticks": ""
           },
           "bgcolor": "#E5ECF6",
           "caxis": {
            "gridcolor": "white",
            "linecolor": "white",
            "ticks": ""
           }
          },
          "title": {
           "x": 0.05
          },
          "xaxis": {
           "automargin": true,
           "gridcolor": "white",
           "linecolor": "white",
           "ticks": "",
           "title": {
            "standoff": 15
           },
           "zerolinecolor": "white",
           "zerolinewidth": 2
          },
          "yaxis": {
           "automargin": true,
           "gridcolor": "white",
           "linecolor": "white",
           "ticks": "",
           "title": {
            "standoff": 15
           },
           "zerolinecolor": "white",
           "zerolinewidth": 2
          }
         }
        },
        "title": {
         "text": "Histograma por OFICINA"
        },
        "xaxis": {
         "anchor": "y",
         "domain": [
          0,
          1
         ],
         "title": {
          "text": "OFICINA"
         }
        },
        "yaxis": {
         "anchor": "x",
         "domain": [
          0,
          1
         ],
         "title": {
          "text": "count"
         }
        }
       }
      }
     },
     "metadata": {},
     "output_type": "display_data"
    },
    {
     "data": {
      "text/plain": [
       "FINALIZADO\n",
       "SIM    357\n",
       "NÃO    142\n",
       "Name: count, dtype: int64"
      ]
     },
     "execution_count": 13,
     "metadata": {},
     "output_type": "execute_result"
    }
   ],
   "source": [
    "\n",
    "cols_analise = [\"EMBARCAÇÃO\",\"EQUIPAMENTO\",\"FINALIZADO\",\"OFICINA\"]\n",
    "\n",
    "for coluna in cols_analise:\n",
    "    grafico_barcos = gerar_histograma(df_medios, coluna)\n",
    "    grafico_barcos.show()\n",
    "    grafico_barcos.write_html(f\"./graficos_{coluna}.html\")\n",
    "\n",
    "#mostrar apenas o que tiver finalizaod com SIM\n",
    "df_medios[\"FINALIZADO\"].value_counts()"
   ]
  },
  {
   "cell_type": "markdown",
   "metadata": {},
   "source": [
    "## Manutencão por oficina"
   ]
  },
  {
   "cell_type": "code",
   "execution_count": 11,
   "metadata": {},
   "outputs": [
    {
     "data": {
      "text/html": [
       "<div>\n",
       "<style scoped>\n",
       "    .dataframe tbody tr th:only-of-type {\n",
       "        vertical-align: middle;\n",
       "    }\n",
       "\n",
       "    .dataframe tbody tr th {\n",
       "        vertical-align: top;\n",
       "    }\n",
       "\n",
       "    .dataframe thead th {\n",
       "        text-align: right;\n",
       "    }\n",
       "</style>\n",
       "<table border=\"1\" class=\"dataframe\">\n",
       "  <thead>\n",
       "    <tr style=\"text-align: right;\">\n",
       "      <th></th>\n",
       "      <th></th>\n",
       "      <th></th>\n",
       "      <th>FINALIZADO</th>\n",
       "    </tr>\n",
       "    <tr>\n",
       "      <th>OFICINA</th>\n",
       "      <th>EQUIPAMENTO</th>\n",
       "      <th>MANUTENÇÃO</th>\n",
       "      <th></th>\n",
       "    </tr>\n",
       "  </thead>\n",
       "  <tbody>\n",
       "    <tr>\n",
       "      <th>Autotrac</th>\n",
       "      <th>COMUNICAÇÃO</th>\n",
       "      <th>CORRETIVA</th>\n",
       "      <td>SIM</td>\n",
       "    </tr>\n",
       "    <tr>\n",
       "      <th rowspan=\"4\" valign=\"top\">BMH</th>\n",
       "      <th>ACOMODAÇÕES</th>\n",
       "      <th>CORRETIVA</th>\n",
       "      <td>SIM</td>\n",
       "    </tr>\n",
       "    <tr>\n",
       "      <th rowspan=\"2\" valign=\"top\">AR CONDICIONADO</th>\n",
       "      <th>CORRETIVA</th>\n",
       "      <td>SIMSIMSIMSIMSIMSIMSIMSIMSIMSIMSIMSIMSIMSIMSIMS...</td>\n",
       "    </tr>\n",
       "    <tr>\n",
       "      <th>PREVENTIVA</th>\n",
       "      <td>SIMSIMSIMSIMSIMSIM</td>\n",
       "    </tr>\n",
       "    <tr>\n",
       "      <th>ELETRODOMESTICOS</th>\n",
       "      <th>CORRETIVA</th>\n",
       "      <td>SIMSIMSIMSIMSIMSIMSIMSIMSIMSIMSIM</td>\n",
       "    </tr>\n",
       "    <tr>\n",
       "      <th>...</th>\n",
       "      <th>...</th>\n",
       "      <th>...</th>\n",
       "      <td>...</td>\n",
       "    </tr>\n",
       "    <tr>\n",
       "      <th rowspan=\"4\" valign=\"top\">tripulação</th>\n",
       "      <th>BOMBAS</th>\n",
       "      <th>CORRETIVA</th>\n",
       "      <td>SIM</td>\n",
       "    </tr>\n",
       "    <tr>\n",
       "      <th>ESTRUTURA</th>\n",
       "      <th>CORRETIVA</th>\n",
       "      <td>SIM</td>\n",
       "    </tr>\n",
       "    <tr>\n",
       "      <th>GUINCHO DE POPA</th>\n",
       "      <th>PREVENTIVA</th>\n",
       "      <td>SIMSIM</td>\n",
       "    </tr>\n",
       "    <tr>\n",
       "      <th>LEME</th>\n",
       "      <th>PREVENTIVA</th>\n",
       "      <td>SIM</td>\n",
       "    </tr>\n",
       "    <tr>\n",
       "      <th>tripulação/ Eletrica/ Mecanica</th>\n",
       "      <th>GUINCHO DE POPA</th>\n",
       "      <th>CORRETIVA</th>\n",
       "      <td>NÃO</td>\n",
       "    </tr>\n",
       "  </tbody>\n",
       "</table>\n",
       "<p>165 rows × 1 columns</p>\n",
       "</div>"
      ],
      "text/plain": [
       "                                                                                                   FINALIZADO\n",
       "OFICINA                        EQUIPAMENTO      MANUTENÇÃO                                                   \n",
       "Autotrac                       COMUNICAÇÃO      CORRETIVA                                                 SIM\n",
       "BMH                            ACOMODAÇÕES      CORRETIVA                                                 SIM\n",
       "                               AR CONDICIONADO  CORRETIVA   SIMSIMSIMSIMSIMSIMSIMSIMSIMSIMSIMSIMSIMSIMSIMS...\n",
       "                                                PREVENTIVA                                 SIMSIMSIMSIMSIMSIM\n",
       "                               ELETRODOMESTICOS CORRETIVA                   SIMSIMSIMSIMSIMSIMSIMSIMSIMSIMSIM\n",
       "...                                                                                                       ...\n",
       "tripulação                     BOMBAS           CORRETIVA                                                 SIM\n",
       "                               ESTRUTURA        CORRETIVA                                                 SIM\n",
       "                               GUINCHO DE POPA  PREVENTIVA                                             SIMSIM\n",
       "                               LEME             PREVENTIVA                                                SIM\n",
       "tripulação/ Eletrica/ Mecanica GUINCHO DE POPA  CORRETIVA                                                 NÃO\n",
       "\n",
       "[165 rows x 1 columns]"
      ]
     },
     "metadata": {},
     "output_type": "display_data"
    }
   ],
   "source": [
    "display(df_medios.groupby([\"OFICINA\",\"EQUIPAMENTO\",\"MANUTENÇÃO\"])[\"FINALIZADO\"].sum().to_frame())\n",
    "df_medios.groupby([\"OFICINA\",\"EQUIPAMENTO\",\"MANUTENÇÃO\"])[\"FINALIZADO\"].sum().to_excel(\"./grupamento.xlsx\")"
   ]
  },
  {
   "cell_type": "markdown",
   "metadata": {},
   "source": []
  }
 ],
 "metadata": {
  "kernelspec": {
   "display_name": "Python 3",
   "language": "python",
   "name": "python3"
  },
  "language_info": {
   "codemirror_mode": {
    "name": "ipython",
    "version": 3
   },
   "file_extension": ".py",
   "mimetype": "text/x-python",
   "name": "python",
   "nbconvert_exporter": "python",
   "pygments_lexer": "ipython3",
   "version": "3.11.6"
  }
 },
 "nbformat": 4,
 "nbformat_minor": 2
}
