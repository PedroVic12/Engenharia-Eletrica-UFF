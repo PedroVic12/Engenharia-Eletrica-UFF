{
 "cells": [
  {
   "cell_type": "code",
   "execution_count": 10,
   "metadata": {},
   "outputs": [],
   "source": [
    "import plotly_express as px\n",
    "import pandas as pd\n",
    "import matplotlib.pyplot as plt\n",
    "\n",
    "\n",
    "def grafico_animado(df):\n",
    "    fig = px.bar(\n",
    "        df,\n",
    "        x=\"MANUTENÇÃO\",\n",
    "        y=\"FINALIZADO\",\n",
    "        text_auto=True,\n",
    "        animation_frame=\"DATA CONCLUSÃO\",\n",
    "    )\n",
    "    fig.show()\n",
    "\n",
    "\n",
    "def gerar_histograma(df,coluna_X,coluna_Y = None):\n",
    "    return px.histogram(df,text_auto= True ,x=coluna_X, title=f\"Histograma por {coluna_X}\", y=coluna_Y, color=\"MANUTENÇÃO\")\n",
    "\n",
    "def analise_exploratoria(df, tabela = None):\n",
    "    df.info()\n",
    "    print(\"\\n\")\n",
    "    print(\"Estatísticas Descritivas\")\n",
    "    display(df.describe())\n",
    "    print(\"\\n\")\n",
    "    print(\"Correlação\")\n",
    "    display(df.corr())\n",
    "    print(\"\\n\")\n",
    "    if tabela:\n",
    "        print(f\"Tabela - {tabela}\")\n",
    "        df.tabela.describe().to_frame()\n",
    "\n",
    "\n",
    "def show_info(df):\n",
    "    print(df.columns)\n",
    "    display(df)\n",
    "    analise_exploratoria(df)\n",
    "\n",
    "def show_dataframe(txt,df):\n",
    "    print(txt)\n",
    "    display(df)\n",
    "\n",
    "\n",
    "def count_table(df, coluna):\n",
    "    return df[coluna].value_counts().to_frame()\n"
   ]
  },
  {
   "cell_type": "code",
   "execution_count": 11,
   "metadata": {},
   "outputs": [
    {
     "name": "stderr",
     "output_type": "stream",
     "text": [
      "/home/pedrov/.local/lib/python3.11/site-packages/openpyxl/worksheet/_reader.py:329: UserWarning:\n",
      "\n",
      "Data Validation extension is not supported and will be removed\n",
      "\n"
     ]
    },
    {
     "data": {
      "text/html": [
       "<div>\n",
       "<style scoped>\n",
       "    .dataframe tbody tr th:only-of-type {\n",
       "        vertical-align: middle;\n",
       "    }\n",
       "\n",
       "    .dataframe tbody tr th {\n",
       "        vertical-align: top;\n",
       "    }\n",
       "\n",
       "    .dataframe thead th {\n",
       "        text-align: right;\n",
       "    }\n",
       "</style>\n",
       "<table border=\"1\" class=\"dataframe\">\n",
       "  <thead>\n",
       "    <tr style=\"text-align: right;\">\n",
       "      <th></th>\n",
       "      <th>Nº OS</th>\n",
       "      <th>EMBARCAÇÃO</th>\n",
       "      <th>DATA DE ABERTURA</th>\n",
       "      <th>DESCRIÇÃO DA FALHA</th>\n",
       "      <th>EQUIPAMENTO</th>\n",
       "      <th>MANUTENÇÃO</th>\n",
       "      <th>SERVIÇO EXECUTADO</th>\n",
       "      <th>DATA INÍCIO DA EXECUÇÃO</th>\n",
       "      <th>HORA INICIAL</th>\n",
       "      <th>RESPONSÁVEL\\n PELA\\n EXECUÇÃO</th>\n",
       "      <th>OFICINA</th>\n",
       "      <th>FINALIZADO</th>\n",
       "      <th>DATA CONCLUSÃO</th>\n",
       "      <th>HORA FINAL</th>\n",
       "      <th>FORA DE OPERAÇÃO</th>\n",
       "      <th>OBSERVAÇÕES</th>\n",
       "    </tr>\n",
       "  </thead>\n",
       "  <tbody>\n",
       "    <tr>\n",
       "      <th>0</th>\n",
       "      <td>1</td>\n",
       "      <td>CICLONE</td>\n",
       "      <td>2023-01-27 00:00:00</td>\n",
       "      <td>Estrutura metálica do suspiro da caixa mar de ...</td>\n",
       "      <td>CASCO</td>\n",
       "      <td>CORRETIVA</td>\n",
       "      <td>NaN</td>\n",
       "      <td>NaN</td>\n",
       "      <td>NaN</td>\n",
       "      <td>NaN</td>\n",
       "      <td>NaN</td>\n",
       "      <td>NÃO</td>\n",
       "      <td>NaN</td>\n",
       "      <td>NaN</td>\n",
       "      <td>NaN</td>\n",
       "      <td>Informação relatada através do grupo Manutenca...</td>\n",
       "    </tr>\n",
       "    <tr>\n",
       "      <th>1</th>\n",
       "      <td>2</td>\n",
       "      <td>CICLONE</td>\n",
       "      <td>2023-04-17 00:00:00</td>\n",
       "      <td>Ar condicionado do camarote do marinheiro esta...</td>\n",
       "      <td>AR CONDICIONADO</td>\n",
       "      <td>CORRETIVA</td>\n",
       "      <td>Substituição de dois sensores da central de ar...</td>\n",
       "      <td>2023-03-14 00:00:00</td>\n",
       "      <td>18:00:00</td>\n",
       "      <td>Benilton</td>\n",
       "      <td>Beny refrigeração</td>\n",
       "      <td>SIM</td>\n",
       "      <td>2023-03-14 00:00:00</td>\n",
       "      <td>20:50:00</td>\n",
       "      <td>NaN</td>\n",
       "      <td>RC 19 enviada dia 17/04/2023. RC 17 enviada em...</td>\n",
       "    </tr>\n",
       "    <tr>\n",
       "      <th>2</th>\n",
       "      <td>3</td>\n",
       "      <td>MERLIM</td>\n",
       "      <td>2023-05-14 00:00:00</td>\n",
       "      <td>Eixo de BB com trepidação. Hélice avariado.</td>\n",
       "      <td>LINHA DE EIXO BB</td>\n",
       "      <td>CORRETIVA</td>\n",
       "      <td>NaN</td>\n",
       "      <td>NaN</td>\n",
       "      <td>NaN</td>\n",
       "      <td>NaN</td>\n",
       "      <td>NaN</td>\n",
       "      <td>NÃO</td>\n",
       "      <td>NaN</td>\n",
       "      <td>NaN</td>\n",
       "      <td>NaN</td>\n",
       "      <td>Informação relatada no grupo Manut Viagem, dia...</td>\n",
       "    </tr>\n",
       "    <tr>\n",
       "      <th>3</th>\n",
       "      <td>4</td>\n",
       "      <td>CICLONE</td>\n",
       "      <td>2023-05-23 00:00:00</td>\n",
       "      <td>Foi danificado um rolete de acoplamento da cai...</td>\n",
       "      <td>REVERSOR BE</td>\n",
       "      <td>CORRETIVA</td>\n",
       "      <td>NaN</td>\n",
       "      <td>NaN</td>\n",
       "      <td>NaN</td>\n",
       "      <td>NaN</td>\n",
       "      <td>NaN</td>\n",
       "      <td>NÃO</td>\n",
       "      <td>NaN</td>\n",
       "      <td>NaN</td>\n",
       "      <td>NaN</td>\n",
       "      <td>RC 19 enviada dia 23/05/2023. Relatório RM MOT...</td>\n",
       "    </tr>\n",
       "    <tr>\n",
       "      <th>4</th>\n",
       "      <td>5</td>\n",
       "      <td>VENDAVAL</td>\n",
       "      <td>2023-07-11 00:00:00</td>\n",
       "      <td>O eixo do leme CL está com uma folga longitudi...</td>\n",
       "      <td>SISTEMA DE GOVERNO LC</td>\n",
       "      <td>CORRETIVA</td>\n",
       "      <td>NaN</td>\n",
       "      <td>NaN</td>\n",
       "      <td>NaN</td>\n",
       "      <td>NaN</td>\n",
       "      <td>NaN</td>\n",
       "      <td>NÃO</td>\n",
       "      <td>NaN</td>\n",
       "      <td>NaN</td>\n",
       "      <td>NaN</td>\n",
       "      <td>RC 19 enviada dia 11/07/2023.</td>\n",
       "    </tr>\n",
       "  </tbody>\n",
       "</table>\n",
       "</div>"
      ],
      "text/plain": [
       "   Nº OS EMBARCAÇÃO     DATA DE ABERTURA  \\\n",
       "0      1    CICLONE  2023-01-27 00:00:00   \n",
       "1      2    CICLONE  2023-04-17 00:00:00   \n",
       "2      3     MERLIM  2023-05-14 00:00:00   \n",
       "3      4    CICLONE  2023-05-23 00:00:00   \n",
       "4      5   VENDAVAL  2023-07-11 00:00:00   \n",
       "\n",
       "                                  DESCRIÇÃO DA FALHA            EQUIPAMENTO  \\\n",
       "0  Estrutura metálica do suspiro da caixa mar de ...                  CASCO   \n",
       "1  Ar condicionado do camarote do marinheiro esta...        AR CONDICIONADO   \n",
       "2        Eixo de BB com trepidação. Hélice avariado.       LINHA DE EIXO BB   \n",
       "3  Foi danificado um rolete de acoplamento da cai...            REVERSOR BE   \n",
       "4  O eixo do leme CL está com uma folga longitudi...  SISTEMA DE GOVERNO LC   \n",
       "\n",
       "  MANUTENÇÃO                                  SERVIÇO EXECUTADO  \\\n",
       "0  CORRETIVA                                                NaN   \n",
       "1  CORRETIVA  Substituição de dois sensores da central de ar...   \n",
       "2  CORRETIVA                                                NaN   \n",
       "3  CORRETIVA                                                NaN   \n",
       "4  CORRETIVA                                                NaN   \n",
       "\n",
       "  DATA INÍCIO DA EXECUÇÃO HORA INICIAL RESPONSÁVEL\\n PELA\\n EXECUÇÃO  \\\n",
       "0                     NaN          NaN                           NaN   \n",
       "1     2023-03-14 00:00:00     18:00:00                      Benilton   \n",
       "2                     NaN          NaN                           NaN   \n",
       "3                     NaN          NaN                           NaN   \n",
       "4                     NaN          NaN                           NaN   \n",
       "\n",
       "             OFICINA FINALIZADO       DATA CONCLUSÃO HORA FINAL  \\\n",
       "0                NaN        NÃO                  NaN        NaN   \n",
       "1  Beny refrigeração        SIM  2023-03-14 00:00:00   20:50:00   \n",
       "2                NaN        NÃO                  NaN        NaN   \n",
       "3                NaN        NÃO                  NaN        NaN   \n",
       "4                NaN        NÃO                  NaN        NaN   \n",
       "\n",
       "  FORA DE OPERAÇÃO                                        OBSERVAÇÕES  \n",
       "0              NaN  Informação relatada através do grupo Manutenca...  \n",
       "1              NaN  RC 19 enviada dia 17/04/2023. RC 17 enviada em...  \n",
       "2              NaN  Informação relatada no grupo Manut Viagem, dia...  \n",
       "3              NaN  RC 19 enviada dia 23/05/2023. Relatório RM MOT...  \n",
       "4              NaN                     RC 19 enviada dia 11/07/2023.   "
      ]
     },
     "execution_count": 11,
     "metadata": {},
     "output_type": "execute_result"
    }
   ],
   "source": [
    "\n",
    "df_medios = pd.read_excel(\"/home/pedrov/Documentos/GitHub/Engenharia-Eletrica-UFF/Jedi Cyberpunk 2024/Ciencia de dados/datasets/Acompanhamento MNT - Grandes e Médios 2024.xlsx\", sheet_name=0,skiprows=1)\n",
    "\n",
    "df_finalizados = df_medios[df_medios[\"FINALIZADO\"] == \"SIM\"]\n",
    "df_medios.head()\n",
    "\n"
   ]
  },
  {
   "cell_type": "markdown",
   "metadata": {},
   "source": [
    "## Maiores valores"
   ]
  },
  {
   "cell_type": "code",
   "execution_count": 12,
   "metadata": {},
   "outputs": [
    {
     "data": {
      "text/html": [
       "<div>\n",
       "<style scoped>\n",
       "    .dataframe tbody tr th:only-of-type {\n",
       "        vertical-align: middle;\n",
       "    }\n",
       "\n",
       "    .dataframe tbody tr th {\n",
       "        vertical-align: top;\n",
       "    }\n",
       "\n",
       "    .dataframe thead th {\n",
       "        text-align: right;\n",
       "    }\n",
       "</style>\n",
       "<table border=\"1\" class=\"dataframe\">\n",
       "  <thead>\n",
       "    <tr style=\"text-align: right;\">\n",
       "      <th></th>\n",
       "      <th>count</th>\n",
       "    </tr>\n",
       "    <tr>\n",
       "      <th>EQUIPAMENTO</th>\n",
       "      <th></th>\n",
       "    </tr>\n",
       "  </thead>\n",
       "  <tbody>\n",
       "    <tr>\n",
       "      <th>AR CONDICIONADO</th>\n",
       "      <td>44</td>\n",
       "    </tr>\n",
       "    <tr>\n",
       "      <th>MCP BB</th>\n",
       "      <td>38</td>\n",
       "    </tr>\n",
       "    <tr>\n",
       "      <th>ELETRICA/ELETRONICO</th>\n",
       "      <td>35</td>\n",
       "    </tr>\n",
       "    <tr>\n",
       "      <th>MCP BE</th>\n",
       "      <td>34</td>\n",
       "    </tr>\n",
       "    <tr>\n",
       "      <th>MCA BE</th>\n",
       "      <td>27</td>\n",
       "    </tr>\n",
       "    <tr>\n",
       "      <th>MCA BB</th>\n",
       "      <td>24</td>\n",
       "    </tr>\n",
       "    <tr>\n",
       "      <th>EQUIPAMENTOS NAUTICOS</th>\n",
       "      <td>22</td>\n",
       "    </tr>\n",
       "    <tr>\n",
       "      <th>ELETRODOMESTICOS</th>\n",
       "      <td>20</td>\n",
       "    </tr>\n",
       "    <tr>\n",
       "      <th>MCP LC</th>\n",
       "      <td>19</td>\n",
       "    </tr>\n",
       "    <tr>\n",
       "      <th>GUINCHO DE POPA</th>\n",
       "      <td>17</td>\n",
       "    </tr>\n",
       "    <tr>\n",
       "      <th>BOMBAS</th>\n",
       "      <td>17</td>\n",
       "    </tr>\n",
       "    <tr>\n",
       "      <th>COMUNICAÇÃO</th>\n",
       "      <td>15</td>\n",
       "    </tr>\n",
       "    <tr>\n",
       "      <th>REVERSOR BB</th>\n",
       "      <td>13</td>\n",
       "    </tr>\n",
       "    <tr>\n",
       "      <th>ELÉTRICA/ELETRÔNICO</th>\n",
       "      <td>12</td>\n",
       "    </tr>\n",
       "    <tr>\n",
       "      <th>REVERSOR BE</th>\n",
       "      <td>11</td>\n",
       "    </tr>\n",
       "    <tr>\n",
       "      <th>ESTRUTURA</th>\n",
       "      <td>11</td>\n",
       "    </tr>\n",
       "    <tr>\n",
       "      <th>PORTAS/ESCOTILHAS</th>\n",
       "      <td>10</td>\n",
       "    </tr>\n",
       "    <tr>\n",
       "      <th>REDES</th>\n",
       "      <td>10</td>\n",
       "    </tr>\n",
       "    <tr>\n",
       "      <th>TANQUES</th>\n",
       "      <td>10</td>\n",
       "    </tr>\n",
       "    <tr>\n",
       "      <th>EQUIPAMENTOS NÁUTICOS</th>\n",
       "      <td>10</td>\n",
       "    </tr>\n",
       "    <tr>\n",
       "      <th>REVERSOR LC</th>\n",
       "      <td>9</td>\n",
       "    </tr>\n",
       "    <tr>\n",
       "      <th>LEME</th>\n",
       "      <td>9</td>\n",
       "    </tr>\n",
       "    <tr>\n",
       "      <th>GUINCHO DE PROA</th>\n",
       "      <td>9</td>\n",
       "    </tr>\n",
       "    <tr>\n",
       "      <th>PROPULSOR BB</th>\n",
       "      <td>8</td>\n",
       "    </tr>\n",
       "    <tr>\n",
       "      <th>ACOMODAÇÕES</th>\n",
       "      <td>7</td>\n",
       "    </tr>\n",
       "    <tr>\n",
       "      <th>PURIFICADOR</th>\n",
       "      <td>7</td>\n",
       "    </tr>\n",
       "    <tr>\n",
       "      <th>PROPULSOR BE</th>\n",
       "      <td>7</td>\n",
       "    </tr>\n",
       "    <tr>\n",
       "      <th>ALARMES/SENSORES/SIRENES</th>\n",
       "      <td>6</td>\n",
       "    </tr>\n",
       "    <tr>\n",
       "      <th>VENTILAÇÃO/EXAUSTÃO BB</th>\n",
       "      <td>5</td>\n",
       "    </tr>\n",
       "    <tr>\n",
       "      <th>SISTEMA DE BATERIAS</th>\n",
       "      <td>5</td>\n",
       "    </tr>\n",
       "    <tr>\n",
       "      <th>AMARRAÇÃO E FUNDEIO</th>\n",
       "      <td>5</td>\n",
       "    </tr>\n",
       "    <tr>\n",
       "      <th>LINHA DE EIXO BE</th>\n",
       "      <td>3</td>\n",
       "    </tr>\n",
       "    <tr>\n",
       "      <th>CASCO</th>\n",
       "      <td>3</td>\n",
       "    </tr>\n",
       "    <tr>\n",
       "      <th>MOTOBOMBA</th>\n",
       "      <td>3</td>\n",
       "    </tr>\n",
       "    <tr>\n",
       "      <th>LINHA DE EIXO BB</th>\n",
       "      <td>3</td>\n",
       "    </tr>\n",
       "    <tr>\n",
       "      <th>LINHA DE EIXO LC</th>\n",
       "      <td>2</td>\n",
       "    </tr>\n",
       "    <tr>\n",
       "      <th>PROPULSOR LC</th>\n",
       "      <td>2</td>\n",
       "    </tr>\n",
       "    <tr>\n",
       "      <th>MUNCK</th>\n",
       "      <td>2</td>\n",
       "    </tr>\n",
       "    <tr>\n",
       "      <th>EQUIPAMENTO DE INCENDIO</th>\n",
       "      <td>2</td>\n",
       "    </tr>\n",
       "    <tr>\n",
       "      <th>INSTRUMENTAÇÃO</th>\n",
       "      <td>2</td>\n",
       "    </tr>\n",
       "    <tr>\n",
       "      <th>SISTEMA HIDRÁULICO DO GUINCHO</th>\n",
       "      <td>2</td>\n",
       "    </tr>\n",
       "    <tr>\n",
       "      <th>SISTEMA DE GOVERNO LC</th>\n",
       "      <td>2</td>\n",
       "    </tr>\n",
       "    <tr>\n",
       "      <th>COMPRESSOR 2</th>\n",
       "      <td>1</td>\n",
       "    </tr>\n",
       "    <tr>\n",
       "      <th>TANQUE</th>\n",
       "      <td>1</td>\n",
       "    </tr>\n",
       "    <tr>\n",
       "      <th>SISTEMA DE GOVERNO BE</th>\n",
       "      <td>1</td>\n",
       "    </tr>\n",
       "    <tr>\n",
       "      <th>INSTALAÇÕES</th>\n",
       "      <td>1</td>\n",
       "    </tr>\n",
       "    <tr>\n",
       "      <th>GATO</th>\n",
       "      <td>1</td>\n",
       "    </tr>\n",
       "    <tr>\n",
       "      <th>VENTILAÇÃO/EXAUSTÃO BE</th>\n",
       "      <td>1</td>\n",
       "    </tr>\n",
       "    <tr>\n",
       "      <th>BOMBAS</th>\n",
       "      <td>1</td>\n",
       "    </tr>\n",
       "    <tr>\n",
       "      <th>SISTEMA DE GOVERNO BB</th>\n",
       "      <td>1</td>\n",
       "    </tr>\n",
       "  </tbody>\n",
       "</table>\n",
       "</div>"
      ],
      "text/plain": [
       "                               count\n",
       "EQUIPAMENTO                         \n",
       "AR CONDICIONADO                   44\n",
       "MCP BB                            38\n",
       "ELETRICA/ELETRONICO               35\n",
       "MCP BE                            34\n",
       "MCA BE                            27\n",
       "MCA BB                            24\n",
       "EQUIPAMENTOS NAUTICOS             22\n",
       "ELETRODOMESTICOS                  20\n",
       "MCP LC                            19\n",
       "GUINCHO DE POPA                   17\n",
       "BOMBAS                            17\n",
       "COMUNICAÇÃO                       15\n",
       "REVERSOR BB                       13\n",
       "ELÉTRICA/ELETRÔNICO               12\n",
       "REVERSOR BE                       11\n",
       "ESTRUTURA                         11\n",
       "PORTAS/ESCOTILHAS                 10\n",
       "REDES                             10\n",
       "TANQUES                           10\n",
       "EQUIPAMENTOS NÁUTICOS             10\n",
       "REVERSOR LC                        9\n",
       "LEME                               9\n",
       "GUINCHO DE PROA                    9\n",
       "PROPULSOR BB                       8\n",
       "ACOMODAÇÕES                        7\n",
       "PURIFICADOR                        7\n",
       "PROPULSOR BE                       7\n",
       "ALARMES/SENSORES/SIRENES           6\n",
       "VENTILAÇÃO/EXAUSTÃO BB             5\n",
       "SISTEMA DE BATERIAS                5\n",
       "AMARRAÇÃO E FUNDEIO                5\n",
       "LINHA DE EIXO BE                   3\n",
       "CASCO                              3\n",
       "MOTOBOMBA                          3\n",
       "LINHA DE EIXO BB                   3\n",
       "LINHA DE EIXO LC                   2\n",
       "PROPULSOR LC                       2\n",
       "MUNCK                              2\n",
       "EQUIPAMENTO DE INCENDIO            2\n",
       "INSTRUMENTAÇÃO                     2\n",
       "SISTEMA HIDRÁULICO DO GUINCHO      2\n",
       "SISTEMA DE GOVERNO LC              2\n",
       "COMPRESSOR 2                       1\n",
       "TANQUE                             1\n",
       "SISTEMA DE GOVERNO BE              1\n",
       "INSTALAÇÕES                        1\n",
       "GATO                               1\n",
       "VENTILAÇÃO/EXAUSTÃO BE             1\n",
       "BOMBAS                             1\n",
       "SISTEMA DE GOVERNO BB              1"
      ]
     },
     "metadata": {},
     "output_type": "display_data"
    },
    {
     "data": {
      "text/html": [
       "<div>\n",
       "<style scoped>\n",
       "    .dataframe tbody tr th:only-of-type {\n",
       "        vertical-align: middle;\n",
       "    }\n",
       "\n",
       "    .dataframe tbody tr th {\n",
       "        vertical-align: top;\n",
       "    }\n",
       "\n",
       "    .dataframe thead th {\n",
       "        text-align: right;\n",
       "    }\n",
       "</style>\n",
       "<table border=\"1\" class=\"dataframe\">\n",
       "  <thead>\n",
       "    <tr style=\"text-align: right;\">\n",
       "      <th></th>\n",
       "      <th>count</th>\n",
       "    </tr>\n",
       "    <tr>\n",
       "      <th>EMBARCAÇÃO</th>\n",
       "      <th></th>\n",
       "    </tr>\n",
       "  </thead>\n",
       "  <tbody>\n",
       "    <tr>\n",
       "      <th>VENDAVAL</th>\n",
       "      <td>78</td>\n",
       "    </tr>\n",
       "    <tr>\n",
       "      <th>TEMPESTADE</th>\n",
       "      <td>70</td>\n",
       "    </tr>\n",
       "    <tr>\n",
       "      <th>VENTANIA</th>\n",
       "      <td>56</td>\n",
       "    </tr>\n",
       "    <tr>\n",
       "      <th>TORNADO</th>\n",
       "      <td>52</td>\n",
       "    </tr>\n",
       "    <tr>\n",
       "      <th>TUFAO</th>\n",
       "      <td>48</td>\n",
       "    </tr>\n",
       "    <tr>\n",
       "      <th>NEBLINA</th>\n",
       "      <td>40</td>\n",
       "    </tr>\n",
       "    <tr>\n",
       "      <th>VIGO MAXIMUS</th>\n",
       "      <td>32</td>\n",
       "    </tr>\n",
       "    <tr>\n",
       "      <th>MERLIM</th>\n",
       "      <td>30</td>\n",
       "    </tr>\n",
       "    <tr>\n",
       "      <th>NEW TROVAO</th>\n",
       "      <td>28</td>\n",
       "    </tr>\n",
       "    <tr>\n",
       "      <th>F ANDREIS XI</th>\n",
       "      <td>20</td>\n",
       "    </tr>\n",
       "    <tr>\n",
       "      <th>CICLONE</th>\n",
       "      <td>18</td>\n",
       "    </tr>\n",
       "    <tr>\n",
       "      <th>ONIX</th>\n",
       "      <td>18</td>\n",
       "    </tr>\n",
       "    <tr>\n",
       "      <th>PERSIVAL</th>\n",
       "      <td>13</td>\n",
       "    </tr>\n",
       "    <tr>\n",
       "      <th>TORMENTA</th>\n",
       "      <td>7</td>\n",
       "    </tr>\n",
       "  </tbody>\n",
       "</table>\n",
       "</div>"
      ],
      "text/plain": [
       "              count\n",
       "EMBARCAÇÃO         \n",
       "VENDAVAL         78\n",
       "TEMPESTADE       70\n",
       "VENTANIA         56\n",
       "TORNADO          52\n",
       "TUFAO            48\n",
       "NEBLINA          40\n",
       "VIGO MAXIMUS     32\n",
       "MERLIM           30\n",
       "NEW TROVAO       28\n",
       "F ANDREIS XI     20\n",
       "CICLONE          18\n",
       "ONIX             18\n",
       "PERSIVAL         13\n",
       "TORMENTA          7"
      ]
     },
     "metadata": {},
     "output_type": "display_data"
    },
    {
     "data": {
      "text/plain": [
       "<Axes: xlabel='FINALIZADO'>"
      ]
     },
     "metadata": {},
     "output_type": "display_data"
    },
    {
     "data": {
      "image/png": "[encoded data removed]",
      "text/plain": [
       "<Figure size 640x480 with 1 Axes>"
      ]
     },
     "metadata": {},
     "output_type": "display_data"
    }
   ],
   "source": [
    "display(count_table(df_medios, \"EQUIPAMENTO\"))\n",
    "display(count_table(df_medios,\"EMBARCAÇÃO\"))\n",
    "display(count_table(df_medios,\"FINALIZADO\").plot(kind=\"bar\"))"
   ]
  },
  {
   "cell_type": "code",
   "execution_count": 13,
   "metadata": {},
   "outputs": [
    {
     "data": {
      "application/vnd.plotly.v1+json": {
       "config": {
        "plotlyServerURL": "https://plot.ly"
       },
       "data": [
        {
         "alignmentgroup": "True",
         "bingroup": "x",
         "hovertemplate": "MANUTENÇÃO=CORRETIVA<br>EMBARCAÇÃO=%{x}<br>count=%{y}<extra></extra>",
         "legendgroup": "CORRETIVA",
         "marker": {
          "color": "#636efa",
          "pattern": {
           "shape": ""
          }
         },
         "name": "CORRETIVA",
         "offsetgroup": "CORRETIVA",
         "orientation": "v",
         "showlegend": true,
         "texttemplate": "%{value}",
         "type": "histogram",
         "x": [
          "CICLONE",
          "TORNADO",
          "TORNADO",
          "F ANDREIS XI",
          "TORNADO",
          "TORNADO",
          "TORNADO",
          "TEMPESTADE",
          "TORMENTA",
          "VENDAVAL",
          "TEMPESTADE",
          "TEMPESTADE",
          "TEMPESTADE",
          "TEMPESTADE",
          "TORNADO",
          "VIGO MAXIMUS",
          "VENDAVAL",
          "F ANDREIS XI",
          "TEMPESTADE",
          "CICLONE",
          "CICLONE",
          "VENTANIA",
          "VENTANIA",
          "VENTANIA",
          "VIGO MAXIMUS",
          "VENDAVAL",
          "VENTANIA",
          "MERLIM",
          "TEMPESTADE",
          "TEMPESTADE",
          "TEMPESTADE",
          "TORNADO",
          "TORNADO",
          "TORNADO",
          "TORNADO",
          "VENTANIA",
          "TUFAO",
          "TUFAO",
          "VENTANIA",
          "VENTANIA",
          "TEMPESTADE",
          "NEBLINA",
          "VENTANIA",
          "VENTANIA",
          "VENTANIA",
          "VENTANIA",
          "PERSIVAL",
          "VENDAVAL",
          "VENTANIA",
          "VENTANIA",
          "TUFAO",
          "VENDAVAL",
          "PERSIVAL",
          "PERSIVAL",
          "VENTANIA",
          "VENTANIA",
          "F ANDREIS XI",
          "NEBLINA",
          "NEW TROVAO",
          "TEMPESTADE",
          "TEMPESTADE",
          "VENTANIA",
          "MERLIM",
          "MERLIM",
          "VENTANIA",
          "VENTANIA",
          "TUFAO",
          "TUFAO",
          "TUFAO",
          "TUFAO",
          "TUFAO",
          "TUFAO",
          "TUFAO",
          "TUFAO",
          "MERLIM",
          "TEMPESTADE",
          "TEMPESTADE",
          "TEMPESTADE",
          "TEMPESTADE",
          "TEMPESTADE",
          "TEMPESTADE",
          "VENTANIA",
          "VIGO MAXIMUS",
          "TUFAO",
          "TUFAO",
          "TUFAO",
          "TUFAO",
          "TUFAO",
          "TUFAO",
          "TUFAO",
          "NEBLINA",
          "NEBLINA",
          "VIGO MAXIMUS",
          "TORNADO",
          "TORNADO",
          "TORNADO",
          "TORNADO",
          "VENTANIA",
          "VENTANIA",
          "TEMPESTADE",
          "TEMPESTADE",
          "TEMPESTADE",
          "MERLIM",
          "TEMPESTADE",
          "TEMPESTADE",
          "TORNADO",
          "TORNADO",
          "TORNADO",
          "TORNADO",
          "TORNADO",
          "TEMPESTADE",
          "TUFAO",
          "TUFAO",
          "TUFAO",
          "TUFAO",
          "CICLONE",
          "CICLONE",
          "TORNADO",
          "TORNADO",
          "TORNADO",
          "TORNADO",
          "MERLIM",
          "MERLIM",
          "ONIX",
          "ONIX",
          "VENTANIA",
          "VENTANIA",
          "VENTANIA",
          "TORNADO",
          "TORNADO",
          "NEBLINA",
          "VENTANIA",
          "VENTANIA",
          "F ANDREIS XI",
          "TEMPESTADE",
          "TORNADO",
          "TORNADO",
          "TORNADO",
          "TORNADO",
          "TEMPESTADE",
          "TEMPESTADE",
          "F ANDREIS XI",
          "ONIX",
          "TORMENTA",
          "TORNADO",
          "TORMENTA",
          "ONIX",
          "VENTANIA",
          "VENTANIA",
          "MERLIM",
          "TORNADO",
          "VENDAVAL",
          "VENDAVAL",
          "TORMENTA",
          "TORNADO",
          "TEMPESTADE",
          "TEMPESTADE",
          "VENTANIA",
          "VENTANIA",
          "VENDAVAL",
          "VENDAVAL",
          "VENDAVAL",
          "VENDAVAL",
          "TUFAO",
          "TUFAO",
          "TUFAO",
          "TUFAO",
          "ONIX",
          "ONIX",
          "TORNADO",
          "VENDAVAL",
          "VENDAVAL",
          "VENDAVAL",
          "VENDAVAL",
          "VENDAVAL",
          "TUFAO",
          "VENDAVAL",
          "VENDAVAL",
          "TEMPESTADE",
          "TEMPESTADE",
          "TEMPESTADE",
          "VENDAVAL",
          "VENTANIA",
          "VENDAVAL",
          "VENDAVAL",
          "VENDAVAL",
          "VENDAVAL",
          "VENDAVAL",
          "VENDAVAL",
          "F ANDREIS XI",
          "TORMENTA",
          "NEBLINA",
          "TORNADO",
          "NEW TROVAO",
          "VENTANIA",
          "VENTANIA",
          "VENTANIA",
          "VENTANIA",
          "MERLIM",
          "VENTANIA",
          "VENDAVAL",
          "TEMPESTADE",
          "TUFAO",
          "VIGO MAXIMUS",
          "VIGO MAXIMUS",
          "VIGO MAXIMUS",
          "VENTANIA",
          "MERLIM",
          "F ANDREIS XI",
          "NEBLINA",
          "NEBLINA",
          "MERLIM",
          "TORNADO",
          "TORNADO",
          "TORNADO",
          "TEMPESTADE",
          "TEMPESTADE",
          "TEMPESTADE",
          "TEMPESTADE",
          "TEMPESTADE",
          "TORNADO",
          "NEBLINA",
          "VENTANIA",
          "VENTANIA",
          "NEBLINA",
          "NEBLINA",
          "VENDAVAL",
          "VENDAVAL",
          "VENDAVAL",
          "ONIX",
          "ONIX",
          "NEBLINA",
          "TEMPESTADE",
          "TORNADO",
          "TORNADO",
          "CICLONE",
          "NEBLINA",
          "NEBLINA",
          "NEBLINA",
          "MERLIM",
          "F ANDREIS XI",
          "NEBLINA",
          "CICLONE",
          "NEW TROVAO",
          "NEW TROVAO",
          "NEW TROVAO",
          "VENDAVAL",
          "VENDAVAL",
          "VENDAVAL",
          "PERSIVAL",
          "PERSIVAL",
          "F ANDREIS XI",
          "PERSIVAL",
          "F ANDREIS XI",
          "F ANDREIS XI",
          "ONIX",
          "PERSIVAL",
          "NEBLINA",
          "MERLIM",
          "VENTANIA",
          "CICLONE",
          "VENTANIA",
          "NEBLINA",
          "NEBLINA",
          "NEBLINA",
          "TEMPESTADE",
          "TEMPESTADE",
          "VENDAVAL",
          "VENDAVAL",
          "VENDAVAL",
          "VENDAVAL",
          "VENDAVAL",
          "NEBLINA",
          "NEBLINA",
          "MERLIM",
          "MERLIM",
          "NEW TROVAO",
          "NEW TROVAO",
          "NEW TROVAO",
          "NEW TROVAO",
          "NEW TROVAO",
          "NEW TROVAO",
          "NEW TROVAO",
          "VIGO MAXIMUS",
          "VIGO MAXIMUS",
          "VIGO MAXIMUS",
          "VIGO MAXIMUS",
          "VIGO MAXIMUS",
          "MERLIM",
          "MERLIM",
          "MERLIM",
          "CICLONE",
          "TORNADO",
          "TORMENTA",
          "VIGO MAXIMUS"
         ],
         "xaxis": "x",
         "yaxis": "y"
        },
        {
         "alignmentgroup": "True",
         "bingroup": "x",
         "hovertemplate": "MANUTENÇÃO=MELHORIA<br>EMBARCAÇÃO=%{x}<br>count=%{y}<extra></extra>",
         "legendgroup": "MELHORIA",
         "marker": {
          "color": "#EF553B",
          "pattern": {
           "shape": ""
          }
         },
         "name": "MELHORIA",
         "offsetgroup": "MELHORIA",
         "orientation": "v",
         "showlegend": true,
         "texttemplate": "%{value}",
         "type": "histogram",
         "x": [
          "CICLONE",
          "TEMPESTADE",
          "VENTANIA",
          "TUFAO",
          "VENTANIA",
          "NEBLINA",
          "PERSIVAL",
          "TEMPESTADE",
          "TORNADO",
          "TORNADO",
          "TORNADO",
          "TORNADO",
          "ONIX",
          "ONIX",
          "ONIX",
          "VENDAVAL",
          "TEMPESTADE",
          "NEBLINA",
          "NEW TROVAO",
          "VIGO MAXIMUS",
          "NEW TROVAO"
         ],
         "xaxis": "x",
         "yaxis": "y"
        },
        {
         "alignmentgroup": "True",
         "bingroup": "x",
         "hovertemplate": "MANUTENÇÃO=PREVENTIVA<br>EMBARCAÇÃO=%{x}<br>count=%{y}<extra></extra>",
         "legendgroup": "PREVENTIVA",
         "marker": {
          "color": "#00cc96",
          "pattern": {
           "shape": ""
          }
         },
         "name": "PREVENTIVA",
         "offsetgroup": "PREVENTIVA",
         "orientation": "v",
         "showlegend": true,
         "texttemplate": "%{value}",
         "type": "histogram",
         "x": [
          "TORNADO",
          "TORNADO",
          "TUFAO",
          "TUFAO",
          "TUFAO",
          "TORNADO",
          "PERSIVAL",
          "TEMPESTADE",
          "TUFAO",
          "TUFAO",
          "TORNADO",
          "ONIX",
          "F ANDREIS XI",
          "ONIX",
          "ONIX",
          "F ANDREIS XI",
          "VENDAVAL",
          "TORNADO",
          "NEW TROVAO",
          "NEW TROVAO",
          "NEW TROVAO",
          "NEW TROVAO",
          "NEW TROVAO",
          "NEW TROVAO",
          "VIGO MAXIMUS",
          "VIGO MAXIMUS",
          "VIGO MAXIMUS",
          "VIGO MAXIMUS",
          "VIGO MAXIMUS",
          "VIGO MAXIMUS",
          "VIGO MAXIMUS",
          "VIGO MAXIMUS",
          "VIGO MAXIMUS",
          "VIGO MAXIMUS",
          "VIGO MAXIMUS",
          "VIGO MAXIMUS",
          "VIGO MAXIMUS",
          "NEBLINA",
          "CICLONE",
          "CICLONE",
          "CICLONE"
         ],
         "xaxis": "x",
         "yaxis": "y"
        }
       ],
       "layout": {
        "barmode": "relative",
        "legend": {
         "title": {
          "text": "MANUTENÇÃO"
         },
         "tracegroupgap": 0
        },
        "template": {
         "data": {
          "bar": [
           {
            "error_x": {
             "color": "#2a3f5f"
            },
            "error_y": {
             "color": "#2a3f5f"
            },
            "marker": {
             "line": {
              "color": "#E5ECF6",
              "width": 0.5
             },
             "pattern": {
              "fillmode": "overlay",
              "size": 10,
              "solidity": 0.2
             }
            },
            "type": "bar"
           }
          ],
          "barpolar": [
           {
            "marker": {
             "line": {
              "color": "#E5ECF6",
              "width": 0.5
             },
             "pattern": {
              "fillmode": "overlay",
              "size": 10,
              "solidity": 0.2
             }
            },
            "type": "barpolar"
           }
          ],
          "carpet": [
           {
            "aaxis": {
             "endlinecolor": "#2a3f5f",
             "gridcolor": "white",
             "linecolor": "white",
             "minorgridcolor": "white",
             "startlinecolor": "#2a3f5f"
            },
            "baxis": {
             "endlinecolor": "#2a3f5f",
             "gridcolor": "white",
             "linecolor": "white",
             "minorgridcolor": "white",
             "startlinecolor": "#2a3f5f"
            },
            "type": "carpet"
           }
          ],
          "choropleth": [
           {
            "colorbar": {
             "outlinewidth": 0,
             "ticks": ""
            },
            "type": "choropleth"
           }
          ],
          "contour": [
           {
            "colorbar": {
             "outlinewidth": 0,
             "ticks": ""
            },
            "colorscale": [
             [
              0,
              "#0d0887"
             ],
             [
              0.1111111111111111,
              "#46039f"
             ],
             [
              0.2222222222222222,
              "#7201a8"
             ],
             [
              0.3333333333333333,
              "#9c179e"
             ],
             [
              0.4444444444444444,
              "#bd3786"
             ],
             [
              0.5555555555555556,
              "#d8576b"
             ],
             [
              0.6666666666666666,
              "#ed7953"
             ],
             [
              0.7777777777777778,
              "#fb9f3a"
             ],
             [
              0.8888888888888888,
              "#fdca26"
             ],
             [
              1,
              "#f0f921"
             ]
            ],
            "type": "contour"
           }
          ],
          "contourcarpet": [
           {
            "colorbar": {
             "outlinewidth": 0,
             "ticks": ""
            },
            "type": "contourcarpet"
           }
          ],
          "heatmap": [
           {
            "colorbar": {
             "outlinewidth": 0,
             "ticks": ""
            },
            "colorscale": [
             [
              0,
              "#0d0887"
             ],
             [
              0.1111111111111111,
              "#46039f"
             ],
             [
              0.2222222222222222,
              "#7201a8"
             ],
             [
              0.3333333333333333,
              "#9c179e"
             ],
             [
              0.4444444444444444,
              "#bd3786"
             ],
             [
              0.5555555555555556,
              "#d8576b"
             ],
             [
              0.6666666666666666,
              "#ed7953"
             ],
             [
              0.7777777777777778,
              "#fb9f3a"
             ],
             [
              0.8888888888888888,
              "#fdca26"
             ],
             [
              1,
              "#f0f921"
             ]
            ],
            "type": "heatmap"
           }
          ],
          "heatmapgl": [
           {
            "colorbar": {
             "outlinewidth": 0,
             "ticks": ""
            },
            "colorscale": [
             [
              0,
              "#0d0887"
             ],
             [
              0.1111111111111111,
              "#46039f"
             ],
             [
              0.2222222222222222,
              "#7201a8"
             ],
             [
              0.3333333333333333,
              "#9c179e"
             ],
             [
              0.4444444444444444,
              "#bd3786"
             ],
             [
              0.5555555555555556,
              "#d8576b"
             ],
             [
              0.6666666666666666,
              "#ed7953"
             ],
             [
              0.7777777777777778,
              "#fb9f3a"
             ],
             [
              0.8888888888888888,
              "#fdca26"
             ],
             [
              1,
              "#f0f921"
             ]
            ],
            "type": "heatmapgl"
           }
          ],
          "histogram": [
           {
            "marker": {
             "pattern": {
              "fillmode": "overlay",
              "size": 10,
              "solidity": 0.2
             }
            },
            "type": "histogram"
           }
          ],
          "histogram2d": [
           {
            "colorbar": {
             "outlinewidth": 0,
             "ticks": ""
            },
            "colorscale": [
             [
              0,
              "#0d0887"
             ],
             [
              0.1111111111111111,
              "#46039f"
             ],
             [
              0.2222222222222222,
              "#7201a8"
             ],
             [
              0.3333333333333333,
              "#9c179e"
             ],
             [
              0.4444444444444444,
              "#bd3786"
             ],
             [
              0.5555555555555556,
              "#d8576b"
             ],
             [
              0.6666666666666666,
              "#ed7953"
             ],
             [
              0.7777777777777778,
              "#fb9f3a"
             ],
             [
              0.8888888888888888,
              "#fdca26"
             ],
             [
              1,
              "#f0f921"
             ]
            ],
            "type": "histogram2d"
           }
          ],
          "histogram2dcontour": [
           {
            "colorbar": {
             "outlinewidth": 0,
             "ticks": ""
            },
            "colorscale": [
             [
              0,
              "#0d0887"
             ],
             [
              0.1111111111111111,
              "#46039f"
             ],
             [
              0.2222222222222222,
              "#7201a8"
             ],
             [
              0.3333333333333333,
              "#9c179e"
             ],
             [
              0.4444444444444444,
              "#bd3786"
             ],
             [
              0.5555555555555556,
              "#d8576b"
             ],
             [
              0.6666666666666666,
              "#ed7953"
             ],
             [
              0.7777777777777778,
              "#fb9f3a"
             ],
             [
              0.8888888888888888,
              "#fdca26"
             ],
             [
              1,
              "#f0f921"
             ]
            ],
            "type": "histogram2dcontour"
           }
          ],
          "mesh3d": [
           {
            "colorbar": {
             "outlinewidth": 0,
             "ticks": ""
            },
            "type": "mesh3d"
           }
          ],
          "parcoords": [
           {
            "line": {
             "colorbar": {
              "outlinewidth": 0,
              "ticks": ""
             }
            },
            "type": "parcoords"
           }
          ],
          "pie": [
           {
            "automargin": true,
            "type": "pie"
           }
          ],
          "scatter": [
           {
            "fillpattern": {
             "fillmode": "overlay",
             "size": 10,
             "solidity": 0.2
            },
            "type": "scatter"
           }
          ],
          "scatter3d": [
           {
            "line": {
             "colorbar": {
              "outlinewidth": 0,
              "ticks": ""
             }
            },
            "marker": {
             "colorbar": {
              "outlinewidth": 0,
              "ticks": ""
             }
            },
            "type": "scatter3d"
           }
          ],
          "scattercarpet": [
           {
            "marker": {
             "colorbar": {
              "outlinewidth": 0,
              "ticks": ""
             }
            },
            "type": "scattercarpet"
           }
          ],
          "scattergeo": [
           {
            "marker": {
             "colorbar": {
              "outlinewidth": 0,
              "ticks": ""
             }
            },
            "type": "scattergeo"
           }
          ],
          "scattergl": [
           {
            "marker": {
             "colorbar": {
              "outlinewidth": 0,
              "ticks": ""
             }
            },
            "type": "scattergl"
           }
          ],
          "scattermapbox": [
           {
            "marker": {
             "colorbar": {
              "outlinewidth": 0,
              "ticks": ""
             }
            },
            "type": "scattermapbox"
           }
          ],
          "scatterpolar": [
           {
            "marker": {
             "colorbar": {
              "outlinewidth": 0,
              "ticks": ""
             }
            },
            "type": "scatterpolar"
           }
          ],
          "scatterpolargl": [
           {
            "marker": {
             "colorbar": {
              "outlinewidth": 0,
              "ticks": ""
             }
            },
            "type": "scatterpolargl"
           }
          ],
          "scatterternary": [
           {
            "marker": {
             "colorbar": {
              "outlinewidth": 0,
              "ticks": ""
             }
            },
            "type": "scatterternary"
           }
          ],
          "surface": [
           {
            "colorbar": {
             "outlinewidth": 0,
             "ticks": ""
            },
            "colorscale": [
             [
              0,
              "#0d0887"
             ],
             [
              0.1111111111111111,
              "#46039f"
             ],
             [
              0.2222222222222222,
              "#7201a8"
             ],
             [
              0.3333333333333333,
              "#9c179e"
             ],
             [
              0.4444444444444444,
              "#bd3786"
             ],
             [
              0.5555555555555556,
              "#d8576b"
             ],
             [
              0.6666666666666666,
              "#ed7953"
             ],
             [
              0.7777777777777778,
              "#fb9f3a"
             ],
             [
              0.8888888888888888,
              "#fdca26"
             ],
             [
              1,
              "#f0f921"
             ]
            ],
            "type": "surface"
           }
          ],
          "table": [
           {
            "cells": {
             "fill": {
              "color": "#EBF0F8"
             },
             "line": {
              "color": "white"
             }
            },
            "header": {
             "fill": {
              "color": "#C8D4E3"
             },
             "line": {
              "color": "white"
             }
            },
            "type": "table"
           }
          ]
         },
         "layout": {
          "annotationdefaults": {
           "arrowcolor": "#2a3f5f",
           "arrowhead": 0,
           "arrowwidth": 1
          },
          "autotypenumbers": "strict",
          "coloraxis": {
           "colorbar": {
            "outlinewidth": 0,
            "ticks": ""
           }
          },
          "colorscale": {
           "diverging": [
            [
             0,
             "#8e0152"
            ],
            [
             0.1,
             "#c51b7d"
            ],
            [
             0.2,
             "#de77ae"
            ],
            [
             0.3,
             "#f1b6da"
            ],
            [
             0.4,
             "#fde0ef"
            ],
            [
             0.5,
             "#f7f7f7"
            ],
            [
             0.6,
             "#e6f5d0"
            ],
            [
             0.7,
             "#b8e186"
            ],
            [
             0.8,
             "#7fbc41"
            ],
            [
             0.9,
             "#4d9221"
            ],
            [
             1,
             "#276419"
            ]
           ],
           "sequential": [
            [
             0,
             "#0d0887"
            ],
            [
             0.1111111111111111,
             "#46039f"
            ],
            [
             0.2222222222222222,
             "#7201a8"
            ],
            [
             0.3333333333333333,
             "#9c179e"
            ],
            [
             0.4444444444444444,
             "#bd3786"
            ],
            [
             0.5555555555555556,
             "#d8576b"
            ],
            [
             0.6666666666666666,
             "#ed7953"
            ],
            [
             0.7777777777777778,
             "#fb9f3a"
            ],
            [
             0.8888888888888888,
             "#fdca26"
            ],
            [
             1,
             "#f0f921"
            ]
           ],
           "sequentialminus": [
            [
             0,
             "#0d0887"
            ],
            [
             0.1111111111111111,
             "#46039f"
            ],
            [
             0.2222222222222222,
             "#7201a8"
            ],
            [
             0.3333333333333333,
             "#9c179e"
            ],
            [
             0.4444444444444444,
             "#bd3786"
            ],
            [
             0.5555555555555556,
             "#d8576b"
            ],
            [
             0.6666666666666666,
             "#ed7953"
            ],
            [
             0.7777777777777778,
             "#fb9f3a"
            ],
            [
             0.8888888888888888,
             "#fdca26"
            ],
            [
             1,
             "#f0f921"
            ]
           ]
          },
          "colorway": [
           "#636efa",
           "#EF553B",
           "#00cc96",
           "#ab63fa",
           "#FFA15A",
           "#19d3f3",
           "#FF6692",
           "#B6E880",
           "#FF97FF",
           "#FECB52"
          ],
          "font": {
           "color": "#2a3f5f"
          },
          "geo": {
           "bgcolor": "white",
           "lakecolor": "white",
           "landcolor": "#E5ECF6",
           "showlakes": true,
           "showland": true,
           "subunitcolor": "white"
          },
          "hoverlabel": {
           "align": "left"
          },
          "hovermode": "closest",
          "mapbox": {
           "style": "light"
          },
          "paper_bgcolor": "white",
          "plot_bgcolor": "#E5ECF6",
          "polar": {
           "angularaxis": {
            "gridcolor": "white",
            "linecolor": "white",
            "ticks": ""
           },
           "bgcolor": "#E5ECF6",
           "radialaxis": {
            "gridcolor": "white",
            "linecolor": "white",
            "ticks": ""
           }
          },
          "scene": {
           "xaxis": {
            "backgroundcolor": "#E5ECF6",
            "gridcolor": "white",
            "gridwidth": 2,
            "linecolor": "white",
            "showbackground": true,
            "ticks": "",
            "zerolinecolor": "white"
           },
           "yaxis": {
            "backgroundcolor": "#E5ECF6",
            "gridcolor": "white",
            "gridwidth": 2,
            "linecolor": "white",
            "showbackground": true,
            "ticks": "",
            "zerolinecolor": "white"
           },
           "zaxis": {
            "backgroundcolor": "#E5ECF6",
            "gridcolor": "white",
            "gridwidth": 2,
            "linecolor": "white",
            "showbackground": true,
            "ticks": "",
            "zerolinecolor": "white"
           }
          },
          "shapedefaults": {
           "line": {
            "color": "#2a3f5f"
           }
          },
          "ternary": {
           "aaxis": {
            "gridcolor": "white",
            "linecolor": "white",
            "ticks": ""
           },
           "baxis": {
            "gridcolor": "white",
            "linecolor": "white",
            "ticks": ""
           },
           "bgcolor": "#E5ECF6",
           "caxis": {
            "gridcolor": "white",
            "linecolor": "white",
            "ticks": ""
           }
          },
          "title": {
           "x": 0.05
          },
          "xaxis": {
           "automargin": true,
           "gridcolor": "white",
           "linecolor": "white",
           "ticks": "",
           "title": {
            "standoff": 15
           },
           "zerolinecolor": "white",
           "zerolinewidth": 2
          },
          "yaxis": {
           "automargin": true,
           "gridcolor": "white",
           "linecolor": "white",
           "ticks": "",
           "title": {
            "standoff": 15
           },
           "zerolinecolor": "white",
           "zerolinewidth": 2
          }
         }
        },
        "title": {
         "text": "Histograma por EMBARCAÇÃO"
        },
        "xaxis": {
         "anchor": "y",
         "domain": [
          0,
          1
         ],
         "title": {
          "text": "EMBARCAÇÃO"
         }
        },
        "yaxis": {
         "anchor": "x",
         "domain": [
          0,
          1
         ],
         "title": {
          "text": "count"
         }
        }
       }
      }
     },
     "metadata": {},
     "output_type": "display_data"
    },
    {
     "data": {
      "application/vnd.plotly.v1+json": {
       "config": {
        "plotlyServerURL": "https://plot.ly"
       },
       "data": [
        {
         "alignmentgroup": "True",
         "bingroup": "x",
         "hovertemplate": "MANUTENÇÃO=CORRETIVA<br>EQUIPAMENTO=%{x}<br>count=%{y}<extra></extra>",
         "legendgroup": "CORRETIVA",
         "marker": {
          "color": "#636efa",
          "pattern": {
           "shape": ""
          }
         },
         "name": "CORRETIVA",
         "offsetgroup": "CORRETIVA",
         "orientation": "v",
         "showlegend": true,
         "texttemplate": "%{value}",
         "type": "histogram",
         "x": [
          "AR CONDICIONADO",
          "MCA BB",
          "GUINCHO DE POPA",
          "TANQUES",
          "EQUIPAMENTOS NAUTICOS",
          "AR CONDICIONADO",
          "ESTRUTURA",
          "AR CONDICIONADO",
          "EQUIPAMENTOS NAUTICOS",
          "MCA BB",
          "MCP LC",
          "REDES",
          "VENTILAÇÃO/EXAUSTÃO BB",
          "REDES",
          "SISTEMA DE BATERIAS",
          "MCA BB",
          "MCA BB",
          "MCP BB",
          "MCP BB",
          "BOMBAS",
          "MCP BE",
          "TANQUES",
          "PURIFICADOR",
          "COMUNICAÇÃO",
          "BOMBAS",
          "MUNCK",
          "TANQUES",
          "PROPULSOR BE",
          "TANQUES",
          "MOTOBOMBA",
          "MCP BB",
          "PROPULSOR BB",
          "PROPULSOR BE",
          "PROPULSOR LC",
          "LINHA DE EIXO LC",
          "REVERSOR BB",
          "PROPULSOR LC",
          "REVERSOR BE",
          "PROPULSOR BB",
          "PROPULSOR BE",
          "TANQUES",
          "ELETRODOMESTICOS",
          "ELETRODOMESTICOS",
          "COMUNICAÇÃO",
          "MCP BE",
          "EQUIPAMENTOS NAUTICOS",
          "MCP BB",
          "MCA BB",
          "COMUNICAÇÃO",
          "MCP LC",
          "MCA BE",
          "ELETRODOMESTICOS",
          "COMPRESSOR 2",
          "TANQUE",
          "AR CONDICIONADO",
          "GUINCHO DE PROA",
          "AMARRAÇÃO E FUNDEIO",
          "MCA BE",
          "EQUIPAMENTOS NAUTICOS",
          "ACOMODAÇÕES",
          "MCP BB",
          "MCP LC",
          "PROPULSOR BE",
          "PROPULSOR BB",
          "GUINCHO DE POPA",
          "MCA BE",
          "ELETRODOMESTICOS",
          "AR CONDICIONADO",
          "EQUIPAMENTOS NAUTICOS",
          "REDES",
          "MCP BB",
          "MCP BB",
          "MCP BE",
          "MCP LC",
          "ESTRUTURA",
          "AR CONDICIONADO",
          "ELETRODOMESTICOS",
          "ESTRUTURA",
          "SISTEMA DE GOVERNO BE",
          "AMARRAÇÃO E FUNDEIO",
          "ESTRUTURA",
          "MCA BB",
          "AR CONDICIONADO",
          "VENTILAÇÃO/EXAUSTÃO BB",
          "REDES",
          "PORTAS/ESCOTILHAS",
          "PORTAS/ESCOTILHAS",
          "MCA BB",
          "PORTAS/ESCOTILHAS",
          "MCP BB",
          "MCP BE",
          "ELETRODOMESTICOS",
          "REVERSOR BB",
          "PURIFICADOR",
          "REVERSOR LC",
          "REVERSOR BB",
          "REVERSOR BE",
          "MCP BB",
          "REVERSOR BE",
          "AR CONDICIONADO",
          "REVERSOR LC",
          "MCA BE",
          "MCP BE",
          "MCP BB",
          "MCP BE",
          "MCA BE",
          "PURIFICADOR",
          "MCP LC",
          "MCA BB",
          "MCA BE",
          "MCP LC",
          "CASCO",
          "EQUIPAMENTOS NAUTICOS",
          "MCA BB",
          "MCP BB",
          "COMUNICAÇÃO",
          "MCP LC",
          "LEME",
          "SISTEMA DE BATERIAS",
          "MCP BB",
          "MCP BE",
          "MCP BB",
          "MCP BE",
          "LINHA DE EIXO BB",
          "LINHA DE EIXO BE",
          "ELETRICA/ELETRONICO",
          "REVERSOR BB",
          "MCA BE",
          "AR CONDICIONADO",
          "AR CONDICIONADO",
          "GUINCHO DE POPA",
          "ELETRICA/ELETRONICO",
          "MCP BB",
          "REDES",
          "ELETRICA/ELETRONICO",
          "MCP LC",
          "SISTEMA HIDRÁULICO DO GUINCHO",
          "MCA BE",
          "BOMBAS",
          "PROPULSOR BE",
          "LEME",
          "PROPULSOR BB",
          "AR CONDICIONADO",
          "MCP BE",
          "MCA BE",
          "REDES",
          "AR CONDICIONADO",
          "ACOMODAÇÕES",
          "AR CONDICIONADO",
          "AR CONDICIONADO",
          "AR CONDICIONADO",
          "MCA BB",
          "MCA BE",
          "BOMBAS",
          "BOMBAS",
          "ELETRODOMESTICOS",
          "AR CONDICIONADO",
          "AR CONDICIONADO",
          "ELETRODOMESTICOS",
          "REVERSOR LC",
          "REVERSOR BE",
          "GUINCHO DE POPA",
          "MCP LC",
          "REDES",
          "PORTAS/ESCOTILHAS",
          "MCP BE",
          "ACOMODAÇÕES",
          "AR CONDICIONADO",
          "AMARRAÇÃO E FUNDEIO",
          "ELETRODOMESTICOS",
          "ELETRODOMESTICOS",
          "ELETRODOMESTICOS",
          "MCP BE",
          "MCP LC",
          "REDES",
          "EQUIPAMENTOS NAUTICOS",
          "ELETRICA/ELETRONICO",
          "AR CONDICIONADO",
          "MCP BB",
          "EQUIPAMENTOS NAUTICOS",
          "COMUNICAÇÃO",
          "TANQUES",
          "AR CONDICIONADO",
          "MCP BE",
          "ELETRICA/ELETRONICO",
          "REVERSOR BB",
          "REVERSOR BE",
          "REVERSOR LC",
          "ESTRUTURA",
          "MCP BB",
          "MCA BB",
          "MCA BB",
          "BOMBAS",
          "MCP BE",
          "REVERSOR LC",
          "MCP BB",
          "MCP LC",
          "ELETRICA/ELETRONICO",
          "ESTRUTURA",
          "PURIFICADOR",
          "REVERSOR BB",
          "MCP BE",
          "REVERSOR LC",
          "LEME",
          "PROPULSOR BB",
          "PROPULSOR BE",
          "MCP BE",
          "GUINCHO DE PROA",
          "MCP BB",
          "BOMBAS",
          "BOMBAS",
          "EQUIPAMENTOS NÁUTICOS",
          "EQUIPAMENTOS NÁUTICOS",
          "EQUIPAMENTOS NÁUTICOS",
          "EQUIPAMENTOS NÁUTICOS",
          "ELÉTRICA/ELETRÔNICO",
          "EQUIPAMENTOS NÁUTICOS",
          "EQUIPAMENTOS NÁUTICOS",
          "ELÉTRICA/ELETRÔNICO",
          "MCP BB",
          "BOMBAS",
          "BOMBAS ",
          "EQUIPAMENTOS NÁUTICOS",
          "MCA BE",
          "MCA BE",
          "GUINCHO DE PROA",
          "MCP LC",
          "MCP BB",
          "ELÉTRICA/ELETRÔNICO",
          "GUINCHO DE PROA",
          "PROPULSOR BB",
          "ELETRICA/ELETRONICO",
          "AR CONDICIONADO",
          "ESTRUTURA",
          "ELETRICA/ELETRONICO",
          "MCP BE",
          "GUINCHO DE POPA",
          "MCA BE",
          "EQUIPAMENTOS NÁUTICOS",
          "ELÉTRICA/ELETRÔNICO",
          "ELÉTRICA/ELETRÔNICO",
          "MCA BB",
          "AR CONDICIONADO",
          "REVERSOR LC",
          "REVERSOR BE",
          "REVERSOR BB",
          "LINHA DE EIXO BE",
          "ELETRICA/ELETRONICO",
          "BOMBAS",
          "AR CONDICIONADO",
          "ELETRODOMESTICOS",
          "AR CONDICIONADO",
          "AR CONDICIONADO",
          "AR CONDICIONADO",
          "ELETRODOMESTICOS",
          "BOMBAS",
          "EQUIPAMENTOS NÁUTICOS",
          "ELETRODOMESTICOS",
          "AR CONDICIONADO",
          "BOMBAS",
          "COMUNICAÇÃO",
          "ELETRICA/ELETRONICO",
          "PURIFICADOR",
          "AMARRAÇÃO E FUNDEIO",
          "BOMBAS",
          "VENTILAÇÃO/EXAUSTÃO BB",
          "EQUIPAMENTOS NAUTICOS",
          "ELETRICA/ELETRONICO",
          "MCP BE",
          "ALARMES/SENSORES/SIRENES",
          "MCP BE",
          "ELETRICA/ELETRONICO",
          "ELETRODOMESTICOS",
          "ELETRICA/ELETRONICO",
          "MCA BE",
          "ELETRICA/ELETRONICO",
          "MOTOBOMBA",
          "MCP BE",
          "MCP BE",
          "ELETRICA/ELETRONICO",
          "EQUIPAMENTOS NAUTICOS",
          "VENTILAÇÃO/EXAUSTÃO BB",
          "ELETRICA/ELETRONICO",
          "MCA BE",
          "MCA BB",
          "ELETRICA/ELETRONICO",
          "ELETRICA/ELETRONICO",
          "EQUIPAMENTOS NAUTICOS",
          "MCP BB",
          "ESTRUTURA",
          "MCP BB",
          "AR CONDICIONADO",
          "MCA BE",
          "MCA BB",
          "MCP BE"
         ],
         "xaxis": "x",
         "yaxis": "y"
        },
        {
         "alignmentgroup": "True",
         "bingroup": "x",
         "hovertemplate": "MANUTENÇÃO=MELHORIA<br>EQUIPAMENTO=%{x}<br>count=%{y}<extra></extra>",
         "legendgroup": "MELHORIA",
         "marker": {
          "color": "#EF553B",
          "pattern": {
           "shape": ""
          }
         },
         "name": "MELHORIA",
         "offsetgroup": "MELHORIA",
         "orientation": "v",
         "showlegend": true,
         "texttemplate": "%{value}",
         "type": "histogram",
         "x": [
          "ALARMES/SENSORES/SIRENES",
          "TANQUES",
          "PORTAS/ESCOTILHAS",
          "ESTRUTURA",
          "ELETRODOMESTICOS",
          "GUINCHO DE POPA",
          "COMUNICAÇÃO",
          "ELÉTRICA/ELETRÔNICO",
          "ELÉTRICA/ELETRÔNICO",
          "ACOMODAÇÕES",
          "COMUNICAÇÃO",
          "MCP LC",
          "ELÉTRICA/ELETRÔNICO",
          "EQUIPAMENTOS NÁUTICOS",
          "ELÉTRICA/ELETRÔNICO",
          "ELÉTRICA/ELETRÔNICO",
          "INSTRUMENTAÇÃO",
          "EQUIPAMENTOS NAUTICOS",
          "ELETRODOMESTICOS",
          "ELETRICA/ELETRONICO",
          "ELETRICA/ELETRONICO"
         ],
         "xaxis": "x",
         "yaxis": "y"
        },
        {
         "alignmentgroup": "True",
         "bingroup": "x",
         "hovertemplate": "MANUTENÇÃO=PREVENTIVA<br>EQUIPAMENTO=%{x}<br>count=%{y}<extra></extra>",
         "legendgroup": "PREVENTIVA",
         "marker": {
          "color": "#00cc96",
          "pattern": {
           "shape": ""
          }
         },
         "name": "PREVENTIVA",
         "offsetgroup": "PREVENTIVA",
         "orientation": "v",
         "showlegend": true,
         "texttemplate": "%{value}",
         "type": "histogram",
         "x": [
          "MCP BB",
          "MCP LC",
          "LINHA DE EIXO BB",
          "LINHA DE EIXO BE",
          "LINHA DE EIXO LC",
          "AR CONDICIONADO",
          "AR CONDICIONADO",
          "AR CONDICIONADO",
          "REVERSOR BB",
          "REVERSOR BE",
          "MCA BE",
          "ELÉTRICA/ELETRÔNICO",
          "ELÉTRICA/ELETRÔNICO",
          "AR CONDICIONADO",
          "ELETRODOMESTICOS",
          "AR CONDICIONADO",
          "AR CONDICIONADO",
          "COMUNICAÇÃO",
          "MCA BE",
          "MCA BB",
          "ELETRICA/ELETRONICO",
          "VENTILAÇÃO/EXAUSTÃO BB",
          "MCA BB",
          "MCA BE",
          "BOMBAS",
          "MCA BB",
          "MCA BE",
          "ELETRICA/ELETRONICO",
          "ELETRICA/ELETRONICO",
          "SISTEMA DE BATERIAS",
          "MCA BB",
          "MCA BE",
          "MCP BB",
          "MCP BE",
          "MCA BB",
          "MCA BE",
          "ELETRICA/ELETRONICO",
          "ELETRICA/ELETRONICO",
          "GUINCHO DE POPA",
          "GUINCHO DE POPA",
          "LEME"
         ],
         "xaxis": "x",
         "yaxis": "y"
        }
       ],
       "layout": {
        "barmode": "relative",
        "legend": {
         "title": {
          "text": "MANUTENÇÃO"
         },
         "tracegroupgap": 0
        },
        "template": {
         "data": {
          "bar": [
           {
            "error_x": {
             "color": "#2a3f5f"
            },
            "error_y": {
             "color": "#2a3f5f"
            },
            "marker": {
             "line": {
              "color": "#E5ECF6",
              "width": 0.5
             },
             "pattern": {
              "fillmode": "overlay",
              "size": 10,
              "solidity": 0.2
             }
            },
            "type": "bar"
           }
          ],
          "barpolar": [
           {
            "marker": {
             "line": {
              "color": "#E5ECF6",
              "width": 0.5
             },
             "pattern": {
              "fillmode": "overlay",
              "size": 10,
              "solidity": 0.2
             }
            },
            "type": "barpolar"
           }
          ],
          "carpet": [
           {
            "aaxis": {
             "endlinecolor": "#2a3f5f",
             "gridcolor": "white",
             "linecolor": "white",
             "minorgridcolor": "white",
             "startlinecolor": "#2a3f5f"
            },
            "baxis": {
             "endlinecolor": "#2a3f5f",
             "gridcolor": "white",
             "linecolor": "white",
             "minorgridcolor": "white",
             "startlinecolor": "#2a3f5f"
            },
            "type": "carpet"
           }
          ],
          "choropleth": [
           {
            "colorbar": {
             "outlinewidth": 0,
             "ticks": ""
            },
            "type": "choropleth"
           }
          ],
          "contour": [
           {
            "colorbar": {
             "outlinewidth": 0,
             "ticks": ""
            },
            "colorscale": [
             [
              0,
              "#0d0887"
             ],
             [
              0.1111111111111111,
              "#46039f"
             ],
             [
              0.2222222222222222,
              "#7201a8"
             ],
             [
              0.3333333333333333,
              "#9c179e"
             ],
             [
              0.4444444444444444,
              "#bd3786"
             ],
             [
              0.5555555555555556,
              "#d8576b"
             ],
             [
              0.6666666666666666,
              "#ed7953"
             ],
             [
              0.7777777777777778,
              "#fb9f3a"
             ],
             [
              0.8888888888888888,
              "#fdca26"
             ],
             [
              1,
              "#f0f921"
             ]
            ],
            "type": "contour"
           }
          ],
          "contourcarpet": [
           {
            "colorbar": {
             "outlinewidth": 0,
             "ticks": ""
            },
            "type": "contourcarpet"
           }
          ],
          "heatmap": [
           {
            "colorbar": {
             "outlinewidth": 0,
             "ticks": ""
            },
            "colorscale": [
             [
              0,
              "#0d0887"
             ],
             [
              0.1111111111111111,
              "#46039f"
             ],
             [
              0.2222222222222222,
              "#7201a8"
             ],
             [
              0.3333333333333333,
              "#9c179e"
             ],
             [
              0.4444444444444444,
              "#bd3786"
             ],
             [
              0.5555555555555556,
              "#d8576b"
             ],
             [
              0.6666666666666666,
              "#ed7953"
             ],
             [
              0.7777777777777778,
              "#fb9f3a"
             ],
             [
              0.8888888888888888,
              "#fdca26"
             ],
             [
              1,
              "#f0f921"
             ]
            ],
            "type": "heatmap"
           }
          ],
          "heatmapgl": [
           {
            "colorbar": {
             "outlinewidth": 0,
             "ticks": ""
            },
            "colorscale": [
             [
              0,
              "#0d0887"
             ],
             [
              0.1111111111111111,
              "#46039f"
             ],
             [
              0.2222222222222222,
              "#7201a8"
             ],
             [
              0.3333333333333333,
              "#9c179e"
             ],
             [
              0.4444444444444444,
              "#bd3786"
             ],
             [
              0.5555555555555556,
              "#d8576b"
             ],
             [
              0.6666666666666666,
              "#ed7953"
             ],
             [
              0.7777777777777778,
              "#fb9f3a"
             ],
             [
              0.8888888888888888,
              "#fdca26"
             ],
             [
              1,
              "#f0f921"
             ]
            ],
            "type": "heatmapgl"
           }
          ],
          "histogram": [
           {
            "marker": {
             "pattern": {
              "fillmode": "overlay",
              "size": 10,
              "solidity": 0.2
             }
            },
            "type": "histogram"
           }
          ],
          "histogram2d": [
           {
            "colorbar": {
             "outlinewidth": 0,
             "ticks": ""
            },
            "colorscale": [
             [
              0,
              "#0d0887"
             ],
             [
              0.1111111111111111,
              "#46039f"
             ],
             [
              0.2222222222222222,
              "#7201a8"
             ],
             [
              0.3333333333333333,
              "#9c179e"
             ],
             [
              0.4444444444444444,
              "#bd3786"
             ],
             [
              0.5555555555555556,
              "#d8576b"
             ],
             [
              0.6666666666666666,
              "#ed7953"
             ],
             [
              0.7777777777777778,
              "#fb9f3a"
             ],
             [
              0.8888888888888888,
              "#fdca26"
             ],
             [
              1,
              "#f0f921"
             ]
            ],
            "type": "histogram2d"
           }
          ],
          "histogram2dcontour": [
           {
            "colorbar": {
             "outlinewidth": 0,
             "ticks": ""
            },
            "colorscale": [
             [
              0,
              "#0d0887"
             ],
             [
              0.1111111111111111,
              "#46039f"
             ],
             [
              0.2222222222222222,
              "#7201a8"
             ],
             [
              0.3333333333333333,
              "#9c179e"
             ],
             [
              0.4444444444444444,
              "#bd3786"
             ],
             [
              0.5555555555555556,
              "#d8576b"
             ],
             [
              0.6666666666666666,
              "#ed7953"
             ],
             [
              0.7777777777777778,
              "#fb9f3a"
             ],
             [
              0.8888888888888888,
              "#fdca26"
             ],
             [
              1,
              "#f0f921"
             ]
            ],
            "type": "histogram2dcontour"
           }
          ],
          "mesh3d": [
           {
            "colorbar": {
             "outlinewidth": 0,
             "ticks": ""
            },
            "type": "mesh3d"
           }
          ],
          "parcoords": [
           {
            "line": {
             "colorbar": {
              "outlinewidth": 0,
              "ticks": ""
             }
            },
            "type": "parcoords"
           }
          ],
          "pie": [
           {
            "automargin": true,
            "type": "pie"
           }
          ],
          "scatter": [
           {
            "fillpattern": {
             "fillmode": "overlay",
             "size": 10,
             "solidity": 0.2
            },
            "type": "scatter"
           }
          ],
          "scatter3d": [
           {
            "line": {
             "colorbar": {
              "outlinewidth": 0,
              "ticks": ""
             }
            },
            "marker": {
             "colorbar": {
              "outlinewidth": 0,
              "ticks": ""
             }
            },
            "type": "scatter3d"
           }
          ],
          "scattercarpet": [
           {
            "marker": {
             "colorbar": {
              "outlinewidth": 0,
              "ticks": ""
             }
            },
            "type": "scattercarpet"
           }
          ],
          "scattergeo": [
           {
            "marker": {
             "colorbar": {
              "outlinewidth": 0,
              "ticks": ""
             }
            },
            "type": "scattergeo"
           }
          ],
          "scattergl": [
           {
            "marker": {
             "colorbar": {
              "outlinewidth": 0,
              "ticks": ""
             }
            },
            "type": "scattergl"
           }
          ],
          "scattermapbox": [
           {
            "marker": {
             "colorbar": {
              "outlinewidth": 0,
              "ticks": ""
             }
            },
            "type": "scattermapbox"
           }
          ],
          "scatterpolar": [
           {
            "marker": {
             "colorbar": {
              "outlinewidth": 0,
              "ticks": ""
             }
            },
            "type": "scatterpolar"
           }
          ],
          "scatterpolargl": [
           {
            "marker": {
             "colorbar": {
              "outlinewidth": 0,
              "ticks": ""
             }
            },
            "type": "scatterpolargl"
           }
          ],
          "scatterternary": [
           {
            "marker": {
             "colorbar": {
              "outlinewidth": 0,
              "ticks": ""
             }
            },
            "type": "scatterternary"
           }
          ],
          "surface": [
           {
            "colorbar": {
             "outlinewidth": 0,
             "ticks": ""
            },
            "colorscale": [
             [
              0,
              "#0d0887"
             ],
             [
              0.1111111111111111,
              "#46039f"
             ],
             [
              0.2222222222222222,
              "#7201a8"
             ],
             [
              0.3333333333333333,
              "#9c179e"
             ],
             [
              0.4444444444444444,
              "#bd3786"
             ],
             [
              0.5555555555555556,
              "#d8576b"
             ],
             [
              0.6666666666666666,
              "#ed7953"
             ],
             [
              0.7777777777777778,
              "#fb9f3a"
             ],
             [
              0.8888888888888888,
              "#fdca26"
             ],
             [
              1,
              "#f0f921"
             ]
            ],
            "type": "surface"
           }
          ],
          "table": [
           {
            "cells": {
             "fill": {
              "color": "#EBF0F8"
             },
             "line": {
              "color": "white"
             }
            },
            "header": {
             "fill": {
              "color": "#C8D4E3"
             },
             "line": {
              "color": "white"
             }
            },
            "type": "table"
           }
          ]
         },
         "layout": {
          "annotationdefaults": {
           "arrowcolor": "#2a3f5f",
           "arrowhead": 0,
           "arrowwidth": 1
          },
          "autotypenumbers": "strict",
          "coloraxis": {
           "colorbar": {
            "outlinewidth": 0,
            "ticks": ""
           }
          },
          "colorscale": {
           "diverging": [
            [
             0,
             "#8e0152"
            ],
            [
             0.1,
             "#c51b7d"
            ],
            [
             0.2,
             "#de77ae"
            ],
            [
             0.3,
             "#f1b6da"
            ],
            [
             0.4,
             "#fde0ef"
            ],
            [
             0.5,
             "#f7f7f7"
            ],
            [
             0.6,
             "#e6f5d0"
            ],
            [
             0.7,
             "#b8e186"
            ],
            [
             0.8,
             "#7fbc41"
            ],
            [
             0.9,
             "#4d9221"
            ],
            [
             1,
             "#276419"
            ]
           ],
           "sequential": [
            [
             0,
             "#0d0887"
            ],
            [
             0.1111111111111111,
             "#46039f"
            ],
            [
             0.2222222222222222,
             "#7201a8"
            ],
            [
             0.3333333333333333,
             "#9c179e"
            ],
            [
             0.4444444444444444,
             "#bd3786"
            ],
            [
             0.5555555555555556,
             "#d8576b"
            ],
            [
             0.6666666666666666,
             "#ed7953"
            ],
            [
             0.7777777777777778,
             "#fb9f3a"
            ],
            [
             0.8888888888888888,
             "#fdca26"
            ],
            [
             1,
             "#f0f921"
            ]
           ],
           "sequentialminus": [
            [
             0,
             "#0d0887"
            ],
            [
             0.1111111111111111,
             "#46039f"
            ],
            [
             0.2222222222222222,
             "#7201a8"
            ],
            [
             0.3333333333333333,
             "#9c179e"
            ],
            [
             0.4444444444444444,
             "#bd3786"
            ],
            [
             0.5555555555555556,
             "#d8576b"
            ],
            [
             0.6666666666666666,
             "#ed7953"
            ],
            [
             0.7777777777777778,
             "#fb9f3a"
            ],
            [
             0.8888888888888888,
             "#fdca26"
            ],
            [
             1,
             "#f0f921"
            ]
           ]
          },
          "colorway": [
           "#636efa",
           "#EF553B",
           "#00cc96",
           "#ab63fa",
           "#FFA15A",
           "#19d3f3",
           "#FF6692",
           "#B6E880",
           "#FF97FF",
           "#FECB52"
          ],
          "font": {
           "color": "#2a3f5f"
          },
          "geo": {
           "bgcolor": "white",
           "lakecolor": "white",
           "landcolor": "#E5ECF6",
           "showlakes": true,
           "showland": true,
           "subunitcolor": "white"
          },
          "hoverlabel": {
           "align": "left"
          },
          "hovermode": "closest",
          "mapbox": {
           "style": "light"
          },
          "paper_bgcolor": "white",
          "plot_bgcolor": "#E5ECF6",
          "polar": {
           "angularaxis": {
            "gridcolor": "white",
            "linecolor": "white",
            "ticks": ""
           },
           "bgcolor": "#E5ECF6",
           "radialaxis": {
            "gridcolor": "white",
            "linecolor": "white",
            "ticks": ""
           }
          },
          "scene": {
           "xaxis": {
            "backgroundcolor": "#E5ECF6",
            "gridcolor": "white",
            "gridwidth": 2,
            "linecolor": "white",
            "showbackground": true,
            "ticks": "",
            "zerolinecolor": "white"
           },
           "yaxis": {
            "backgroundcolor": "#E5ECF6",
            "gridcolor": "white",
            "gridwidth": 2,
            "linecolor": "white",
            "showbackground": true,
            "ticks": "",
            "zerolinecolor": "white"
           },
           "zaxis": {
            "backgroundcolor": "#E5ECF6",
            "gridcolor": "white",
            "gridwidth": 2,
            "linecolor": "white",
            "showbackground": true,
            "ticks": "",
            "zerolinecolor": "white"
           }
          },
          "shapedefaults": {
           "line": {
            "color": "#2a3f5f"
           }
          },
          "ternary": {
           "aaxis": {
            "gridcolor": "white",
            "linecolor": "white",
            "ticks": ""
           },
           "baxis": {
            "gridcolor": "white",
            "linecolor": "white",
            "ticks": ""
           },
           "bgcolor": "#E5ECF6",
           "caxis": {
            "gridcolor": "white",
            "linecolor": "white",
            "ticks": ""
           }
          },
          "title": {
           "x": 0.05
          },
          "xaxis": {
           "automargin": true,
           "gridcolor": "white",
           "linecolor": "white",
           "ticks": "",
           "title": {
            "standoff": 15
           },
           "zerolinecolor": "white",
           "zerolinewidth": 2
          },
          "yaxis": {
           "automargin": true,
           "gridcolor": "white",
           "linecolor": "white",
           "ticks": "",
           "title": {
            "standoff": 15
           },
           "zerolinecolor": "white",
           "zerolinewidth": 2
          }
         }
        },
        "title": {
         "text": "Histograma por EQUIPAMENTO"
        },
        "xaxis": {
         "anchor": "y",
         "domain": [
          0,
          1
         ],
         "title": {
          "text": "EQUIPAMENTO"
         }
        },
        "yaxis": {
         "anchor": "x",
         "domain": [
          0,
          1
         ],
         "title": {
          "text": "count"
         }
        }
       }
      }
     },
     "metadata": {},
     "output_type": "display_data"
    },
    {
     "data": {
      "application/vnd.plotly.v1+json": {
       "config": {
        "plotlyServerURL": "https://plot.ly"
       },
       "data": [
        {
         "alignmentgroup": "True",
         "bingroup": "x",
         "hovertemplate": "MANUTENÇÃO=CORRETIVA<br>FINALIZADO=%{x}<br>count=%{y}<extra></extra>",
         "legendgroup": "CORRETIVA",
         "marker": {
          "color": "#636efa",
          "pattern": {
           "shape": ""
          }
         },
         "name": "CORRETIVA",
         "offsetgroup": "CORRETIVA",
         "orientation": "v",
         "showlegend": true,
         "texttemplate": "%{value}",
         "type": "histogram",
         "x": [
          "SIM",
          "SIM",
          "SIM",
          "SIM",
          "SIM",
          "SIM",
          "SIM",
          "SIM",
          "SIM",
          "SIM",
          "SIM",
          "SIM",
          "SIM",
          "SIM",
          "SIM",
          "SIM",
          "SIM",
          "SIM",
          "SIM",
          "SIM",
          "SIM",
          "SIM",
          "SIM",
          "SIM",
          "SIM",
          "SIM",
          "SIM",
          "SIM",
          "SIM",
          "SIM",
          "SIM",
          "SIM",
          "SIM",
          "SIM",
          "SIM",
          "SIM",
          "SIM",
          "SIM",
          "SIM",
          "SIM",
          "SIM",
          "SIM",
          "SIM",
          "SIM",
          "SIM",
          "SIM",
          "SIM",
          "SIM",
          "SIM",
          "SIM",
          "SIM",
          "SIM",
          "SIM",
          "SIM",
          "SIM",
          "SIM",
          "SIM",
          "SIM",
          "SIM",
          "SIM",
          "SIM",
          "SIM",
          "SIM",
          "SIM",
          "SIM",
          "SIM",
          "SIM",
          "SIM",
          "SIM",
          "SIM",
          "SIM",
          "SIM",
          "SIM",
          "SIM",
          "SIM",
          "SIM",
          "SIM",
          "SIM",
          "SIM",
          "SIM",
          "SIM",
          "SIM",
          "SIM",
          "SIM",
          "SIM",
          "SIM",
          "SIM",
          "SIM",
          "SIM",
          "SIM",
          "SIM",
          "SIM",
          "SIM",
          "SIM",
          "SIM",
          "SIM",
          "SIM",
          "SIM",
          "SIM",
          "SIM",
          "SIM",
          "SIM",
          "SIM",
          "SIM",
          "SIM",
          "SIM",
          "SIM",
          "SIM",
          "SIM",
          "SIM",
          "SIM",
          "SIM",
          "SIM",
          "SIM",
          "SIM",
          "SIM",
          "SIM",
          "SIM",
          "SIM",
          "SIM",
          "SIM",
          "SIM",
          "SIM",
          "SIM",
          "SIM",
          "SIM",
          "SIM",
          "SIM",
          "SIM",
          "SIM",
          "SIM",
          "SIM",
          "SIM",
          "SIM",
          "SIM",
          "SIM",
          "SIM",
          "SIM",
          "SIM",
          "SIM",
          "SIM",
          "SIM",
          "SIM",
          "SIM",
          "SIM",
          "SIM",
          "SIM",
          "SIM",
          "SIM",
          "SIM",
          "SIM",
          "SIM",
          "SIM",
          "SIM",
          "SIM",
          "SIM",
          "SIM",
          "SIM",
          "SIM",
          "SIM",
          "SIM",
          "SIM",
          "SIM",
          "SIM",
          "SIM",
          "SIM",
          "SIM",
          "SIM",
          "SIM",
          "SIM",
          "SIM",
          "SIM",
          "SIM",
          "SIM",
          "SIM",
          "SIM",
          "SIM",
          "SIM",
          "SIM",
          "SIM",
          "SIM",
          "SIM",
          "SIM",
          "SIM",
          "SIM",
          "SIM",
          "SIM",
          "SIM",
          "SIM",
          "SIM",
          "SIM",
          "SIM",
          "SIM",
          "SIM",
          "SIM",
          "SIM",
          "SIM",
          "SIM",
          "SIM",
          "SIM",
          "SIM",
          "SIM",
          "SIM",
          "SIM",
          "SIM",
          "SIM",
          "SIM",
          "SIM",
          "SIM",
          "SIM",
          "SIM",
          "SIM",
          "SIM",
          "SIM",
          "SIM",
          "SIM",
          "SIM",
          "SIM",
          "SIM",
          "SIM",
          "SIM",
          "SIM",
          "SIM",
          "SIM",
          "SIM",
          "SIM",
          "SIM",
          "SIM",
          "SIM",
          "SIM",
          "SIM",
          "SIM",
          "SIM",
          "SIM",
          "SIM",
          "SIM",
          "SIM",
          "SIM",
          "SIM",
          "SIM",
          "SIM",
          "SIM",
          "SIM",
          "SIM",
          "SIM",
          "SIM",
          "SIM",
          "SIM",
          "SIM",
          "SIM",
          "SIM",
          "SIM",
          "SIM",
          "SIM",
          "SIM",
          "SIM",
          "SIM",
          "SIM",
          "SIM",
          "SIM",
          "SIM",
          "SIM",
          "SIM",
          "SIM",
          "SIM",
          "SIM",
          "SIM",
          "SIM",
          "SIM",
          "SIM",
          "SIM",
          "SIM",
          "SIM",
          "SIM",
          "SIM",
          "SIM",
          "SIM",
          "SIM",
          "SIM",
          "SIM",
          "SIM",
          "SIM",
          "SIM",
          "SIM",
          "SIM",
          "SIM",
          "SIM",
          "SIM",
          "SIM",
          "SIM",
          "SIM",
          "SIM",
          "SIM",
          "SIM",
          "SIM"
         ],
         "xaxis": "x",
         "yaxis": "y"
        },
        {
         "alignmentgroup": "True",
         "bingroup": "x",
         "hovertemplate": "MANUTENÇÃO=MELHORIA<br>FINALIZADO=%{x}<br>count=%{y}<extra></extra>",
         "legendgroup": "MELHORIA",
         "marker": {
          "color": "#EF553B",
          "pattern": {
           "shape": ""
          }
         },
         "name": "MELHORIA",
         "offsetgroup": "MELHORIA",
         "orientation": "v",
         "showlegend": true,
         "texttemplate": "%{value}",
         "type": "histogram",
         "x": [
          "SIM",
          "SIM",
          "SIM",
          "SIM",
          "SIM",
          "SIM",
          "SIM",
          "SIM",
          "SIM",
          "SIM",
          "SIM",
          "SIM",
          "SIM",
          "SIM",
          "SIM",
          "SIM",
          "SIM",
          "SIM",
          "SIM",
          "SIM",
          "SIM"
         ],
         "xaxis": "x",
         "yaxis": "y"
        },
        {
         "alignmentgroup": "True",
         "bingroup": "x",
         "hovertemplate": "MANUTENÇÃO=PREVENTIVA<br>FINALIZADO=%{x}<br>count=%{y}<extra></extra>",
         "legendgroup": "PREVENTIVA",
         "marker": {
          "color": "#00cc96",
          "pattern": {
           "shape": ""
          }
         },
         "name": "PREVENTIVA",
         "offsetgroup": "PREVENTIVA",
         "orientation": "v",
         "showlegend": true,
         "texttemplate": "%{value}",
         "type": "histogram",
         "x": [
          "SIM",
          "SIM",
          "SIM",
          "SIM",
          "SIM",
          "SIM",
          "SIM",
          "SIM",
          "SIM",
          "SIM",
          "SIM",
          "SIM",
          "SIM",
          "SIM",
          "SIM",
          "SIM",
          "SIM",
          "SIM",
          "SIM",
          "SIM",
          "SIM",
          "SIM",
          "SIM",
          "SIM",
          "SIM",
          "SIM",
          "SIM",
          "SIM",
          "SIM",
          "SIM",
          "SIM",
          "SIM",
          "SIM",
          "SIM",
          "SIM",
          "SIM",
          "SIM",
          "SIM",
          "SIM",
          "SIM",
          "SIM"
         ],
         "xaxis": "x",
         "yaxis": "y"
        }
       ],
       "layout": {
        "barmode": "relative",
        "legend": {
         "title": {
          "text": "MANUTENÇÃO"
         },
         "tracegroupgap": 0
        },
        "template": {
         "data": {
          "bar": [
           {
            "error_x": {
             "color": "#2a3f5f"
            },
            "error_y": {
             "color": "#2a3f5f"
            },
            "marker": {
             "line": {
              "color": "#E5ECF6",
              "width": 0.5
             },
             "pattern": {
              "fillmode": "overlay",
              "size": 10,
              "solidity": 0.2
             }
            },
            "type": "bar"
           }
          ],
          "barpolar": [
           {
            "marker": {
             "line": {
              "color": "#E5ECF6",
              "width": 0.5
             },
             "pattern": {
              "fillmode": "overlay",
              "size": 10,
              "solidity": 0.2
             }
            },
            "type": "barpolar"
           }
          ],
          "carpet": [
           {
            "aaxis": {
             "endlinecolor": "#2a3f5f",
             "gridcolor": "white",
             "linecolor": "white",
             "minorgridcolor": "white",
             "startlinecolor": "#2a3f5f"
            },
            "baxis": {
             "endlinecolor": "#2a3f5f",
             "gridcolor": "white",
             "linecolor": "white",
             "minorgridcolor": "white",
             "startlinecolor": "#2a3f5f"
            },
            "type": "carpet"
           }
          ],
          "choropleth": [
           {
            "colorbar": {
             "outlinewidth": 0,
             "ticks": ""
            },
            "type": "choropleth"
           }
          ],
          "contour": [
           {
            "colorbar": {
             "outlinewidth": 0,
             "ticks": ""
            },
            "colorscale": [
             [
              0,
              "#0d0887"
             ],
             [
              0.1111111111111111,
              "#46039f"
             ],
             [
              0.2222222222222222,
              "#7201a8"
             ],
             [
              0.3333333333333333,
              "#9c179e"
             ],
             [
              0.4444444444444444,
              "#bd3786"
             ],
             [
              0.5555555555555556,
              "#d8576b"
             ],
             [
              0.6666666666666666,
              "#ed7953"
             ],
             [
              0.7777777777777778,
              "#fb9f3a"
             ],
             [
              0.8888888888888888,
              "#fdca26"
             ],
             [
              1,
              "#f0f921"
             ]
            ],
            "type": "contour"
           }
          ],
          "contourcarpet": [
           {
            "colorbar": {
             "outlinewidth": 0,
             "ticks": ""
            },
            "type": "contourcarpet"
           }
          ],
          "heatmap": [
           {
            "colorbar": {
             "outlinewidth": 0,
             "ticks": ""
            },
            "colorscale": [
             [
              0,
              "#0d0887"
             ],
             [
              0.1111111111111111,
              "#46039f"
             ],
             [
              0.2222222222222222,
              "#7201a8"
             ],
             [
              0.3333333333333333,
              "#9c179e"
             ],
             [
              0.4444444444444444,
              "#bd3786"
             ],
             [
              0.5555555555555556,
              "#d8576b"
             ],
             [
              0.6666666666666666,
              "#ed7953"
             ],
             [
              0.7777777777777778,
              "#fb9f3a"
             ],
             [
              0.8888888888888888,
              "#fdca26"
             ],
             [
              1,
              "#f0f921"
             ]
            ],
            "type": "heatmap"
           }
          ],
          "heatmapgl": [
           {
            "colorbar": {
             "outlinewidth": 0,
             "ticks": ""
            },
            "colorscale": [
             [
              0,
              "#0d0887"
             ],
             [
              0.1111111111111111,
              "#46039f"
             ],
             [
              0.2222222222222222,
              "#7201a8"
             ],
             [
              0.3333333333333333,
              "#9c179e"
             ],
             [
              0.4444444444444444,
              "#bd3786"
             ],
             [
              0.5555555555555556,
              "#d8576b"
             ],
             [
              0.6666666666666666,
              "#ed7953"
             ],
             [
              0.7777777777777778,
              "#fb9f3a"
             ],
             [
              0.8888888888888888,
              "#fdca26"
             ],
             [
              1,
              "#f0f921"
             ]
            ],
            "type": "heatmapgl"
           }
          ],
          "histogram": [
           {
            "marker": {
             "pattern": {
              "fillmode": "overlay",
              "size": 10,
              "solidity": 0.2
             }
            },
            "type": "histogram"
           }
          ],
          "histogram2d": [
           {
            "colorbar": {
             "outlinewidth": 0,
             "ticks": ""
            },
            "colorscale": [
             [
              0,
              "#0d0887"
             ],
             [
              0.1111111111111111,
              "#46039f"
             ],
             [
              0.2222222222222222,
              "#7201a8"
             ],
             [
              0.3333333333333333,
              "#9c179e"
             ],
             [
              0.4444444444444444,
              "#bd3786"
             ],
             [
              0.5555555555555556,
              "#d8576b"
             ],
             [
              0.6666666666666666,
              "#ed7953"
             ],
             [
              0.7777777777777778,
              "#fb9f3a"
             ],
             [
              0.8888888888888888,
              "#fdca26"
             ],
             [
              1,
              "#f0f921"
             ]
            ],
            "type": "histogram2d"
           }
          ],
          "histogram2dcontour": [
           {
            "colorbar": {
             "outlinewidth": 0,
             "ticks": ""
            },
            "colorscale": [
             [
              0,
              "#0d0887"
             ],
             [
              0.1111111111111111,
              "#46039f"
             ],
             [
              0.2222222222222222,
              "#7201a8"
             ],
             [
              0.3333333333333333,
              "#9c179e"
             ],
             [
              0.4444444444444444,
              "#bd3786"
             ],
             [
              0.5555555555555556,
              "#d8576b"
             ],
             [
              0.6666666666666666,
              "#ed7953"
             ],
             [
              0.7777777777777778,
              "#fb9f3a"
             ],
             [
              0.8888888888888888,
              "#fdca26"
             ],
             [
              1,
              "#f0f921"
             ]
            ],
            "type": "histogram2dcontour"
           }
          ],
          "mesh3d": [
           {
            "colorbar": {
             "outlinewidth": 0,
             "ticks": ""
            },
            "type": "mesh3d"
           }
          ],
          "parcoords": [
           {
            "line": {
             "colorbar": {
              "outlinewidth": 0,
              "ticks": ""
             }
            },
            "type": "parcoords"
           }
          ],
          "pie": [
           {
            "automargin": true,
            "type": "pie"
           }
          ],
          "scatter": [
           {
            "fillpattern": {
             "fillmode": "overlay",
             "size": 10,
             "solidity": 0.2
            },
            "type": "scatter"
           }
          ],
          "scatter3d": [
           {
            "line": {
             "colorbar": {
              "outlinewidth": 0,
              "ticks": ""
             }
            },
            "marker": {
             "colorbar": {
              "outlinewidth": 0,
              "ticks": ""
             }
            },
            "type": "scatter3d"
           }
          ],
          "scattercarpet": [
           {
            "marker": {
             "colorbar": {
              "outlinewidth": 0,
              "ticks": ""
             }
            },
            "type": "scattercarpet"
           }
          ],
          "scattergeo": [
           {
            "marker": {
             "colorbar": {
              "outlinewidth": 0,
              "ticks": ""
             }
            },
            "type": "scattergeo"
           }
          ],
          "scattergl": [
           {
            "marker": {
             "colorbar": {
              "outlinewidth": 0,
              "ticks": ""
             }
            },
            "type": "scattergl"
           }
          ],
          "scattermapbox": [
           {
            "marker": {
             "colorbar": {
              "outlinewidth": 0,
              "ticks": ""
             }
            },
            "type": "scattermapbox"
           }
          ],
          "scatterpolar": [
           {
            "marker": {
             "colorbar": {
              "outlinewidth": 0,
              "ticks": ""
             }
            },
            "type": "scatterpolar"
           }
          ],
          "scatterpolargl": [
           {
            "marker": {
             "colorbar": {
              "outlinewidth": 0,
              "ticks": ""
             }
            },
            "type": "scatterpolargl"
           }
          ],
          "scatterternary": [
           {
            "marker": {
             "colorbar": {
              "outlinewidth": 0,
              "ticks": ""
             }
            },
            "type": "scatterternary"
           }
          ],
          "surface": [
           {
            "colorbar": {
             "outlinewidth": 0,
             "ticks": ""
            },
            "colorscale": [
             [
              0,
              "#0d0887"
             ],
             [
              0.1111111111111111,
              "#46039f"
             ],
             [
              0.2222222222222222,
              "#7201a8"
             ],
             [
              0.3333333333333333,
              "#9c179e"
             ],
             [
              0.4444444444444444,
              "#bd3786"
             ],
             [
              0.5555555555555556,
              "#d8576b"
             ],
             [
              0.6666666666666666,
              "#ed7953"
             ],
             [
              0.7777777777777778,
              "#fb9f3a"
             ],
             [
              0.8888888888888888,
              "#fdca26"
             ],
             [
              1,
              "#f0f921"
             ]
            ],
            "type": "surface"
           }
          ],
          "table": [
           {
            "cells": {
             "fill": {
              "color": "#EBF0F8"
             },
             "line": {
              "color": "white"
             }
            },
            "header": {
             "fill": {
              "color": "#C8D4E3"
             },
             "line": {
              "color": "white"
             }
            },
            "type": "table"
           }
          ]
         },
         "layout": {
          "annotationdefaults": {
           "arrowcolor": "#2a3f5f",
           "arrowhead": 0,
           "arrowwidth": 1
          },
          "autotypenumbers": "strict",
          "coloraxis": {
           "colorbar": {
            "outlinewidth": 0,
            "ticks": ""
           }
          },
          "colorscale": {
           "diverging": [
            [
             0,
             "#8e0152"
            ],
            [
             0.1,
             "#c51b7d"
            ],
            [
             0.2,
             "#de77ae"
            ],
            [
             0.3,
             "#f1b6da"
            ],
            [
             0.4,
             "#fde0ef"
            ],
            [
             0.5,
             "#f7f7f7"
            ],
            [
             0.6,
             "#e6f5d0"
            ],
            [
             0.7,
             "#b8e186"
            ],
            [
             0.8,
             "#7fbc41"
            ],
            [
             0.9,
             "#4d9221"
            ],
            [
             1,
             "#276419"
            ]
           ],
           "sequential": [
            [
             0,
             "#0d0887"
            ],
            [
             0.1111111111111111,
             "#46039f"
            ],
            [
             0.2222222222222222,
             "#7201a8"
            ],
            [
             0.3333333333333333,
             "#9c179e"
            ],
            [
             0.4444444444444444,
             "#bd3786"
            ],
            [
             0.5555555555555556,
             "#d8576b"
            ],
            [
             0.6666666666666666,
             "#ed7953"
            ],
            [
             0.7777777777777778,
             "#fb9f3a"
            ],
            [
             0.8888888888888888,
             "#fdca26"
            ],
            [
             1,
             "#f0f921"
            ]
           ],
           "sequentialminus": [
            [
             0,
             "#0d0887"
            ],
            [
             0.1111111111111111,
             "#46039f"
            ],
            [
             0.2222222222222222,
             "#7201a8"
            ],
            [
             0.3333333333333333,
             "#9c179e"
            ],
            [
             0.4444444444444444,
             "#bd3786"
            ],
            [
             0.5555555555555556,
             "#d8576b"
            ],
            [
             0.6666666666666666,
             "#ed7953"
            ],
            [
             0.7777777777777778,
             "#fb9f3a"
            ],
            [
             0.8888888888888888,
             "#fdca26"
            ],
            [
             1,
             "#f0f921"
            ]
           ]
          },
          "colorway": [
           "#636efa",
           "#EF553B",
           "#00cc96",
           "#ab63fa",
           "#FFA15A",
           "#19d3f3",
           "#FF6692",
           "#B6E880",
           "#FF97FF",
           "#FECB52"
          ],
          "font": {
           "color": "#2a3f5f"
          },
          "geo": {
           "bgcolor": "white",
           "lakecolor": "white",
           "landcolor": "#E5ECF6",
           "showlakes": true,
           "showland": true,
           "subunitcolor": "white"
          },
          "hoverlabel": {
           "align": "left"
          },
          "hovermode": "closest",
          "mapbox": {
           "style": "light"
          },
          "paper_bgcolor": "white",
          "plot_bgcolor": "#E5ECF6",
          "polar": {
           "angularaxis": {
            "gridcolor": "white",
            "linecolor": "white",
            "ticks": ""
           },
           "bgcolor": "#E5ECF6",
           "radialaxis": {
            "gridcolor": "white",
            "linecolor": "white",
            "ticks": ""
           }
          },
          "scene": {
           "xaxis": {
            "backgroundcolor": "#E5ECF6",
            "gridcolor": "white",
            "gridwidth": 2,
            "linecolor": "white",
            "showbackground": true,
            "ticks": "",
            "zerolinecolor": "white"
           },
           "yaxis": {
            "backgroundcolor": "#E5ECF6",
            "gridcolor": "white",
            "gridwidth": 2,
            "linecolor": "white",
            "showbackground": true,
            "ticks": "",
            "zerolinecolor": "white"
           },
           "zaxis": {
            "backgroundcolor": "#E5ECF6",
            "gridcolor": "white",
            "gridwidth": 2,
            "linecolor": "white",
            "showbackground": true,
            "ticks": "",
            "zerolinecolor": "white"
           }
          },
          "shapedefaults": {
           "line": {
            "color": "#2a3f5f"
           }
          },
          "ternary": {
           "aaxis": {
            "gridcolor": "white",
            "linecolor": "white",
            "ticks": ""
           },
           "baxis": {
            "gridcolor": "white",
            "linecolor": "white",
            "ticks": ""
           },
           "bgcolor": "#E5ECF6",
           "caxis": {
            "gridcolor": "white",
            "linecolor": "white",
            "ticks": ""
           }
          },
          "title": {
           "x": 0.05
          },
          "xaxis": {
           "automargin": true,
           "gridcolor": "white",
           "linecolor": "white",
           "ticks": "",
           "title": {
            "standoff": 15
           },
           "zerolinecolor": "white",
           "zerolinewidth": 2
          },
          "yaxis": {
           "automargin": true,
           "gridcolor": "white",
           "linecolor": "white",
           "ticks": "",
           "title": {
            "standoff": 15
           },
           "zerolinecolor": "white",
           "zerolinewidth": 2
          }
         }
        },
        "title": {
         "text": "Histograma por FINALIZADO"
        },
        "xaxis": {
         "anchor": "y",
         "domain": [
          0,
          1
         ],
         "title": {
          "text": "FINALIZADO"
         }
        },
        "yaxis": {
         "anchor": "x",
         "domain": [
          0,
          1
         ],
         "title": {
          "text": "count"
         }
        }
       }
      }
     },
     "metadata": {},
     "output_type": "display_data"
    },
    {
     "data": {
      "application/vnd.plotly.v1+json": {
       "config": {
        "plotlyServerURL": "https://plot.ly"
       },
       "data": [
        {
         "alignmentgroup": "True",
         "bingroup": "x",
         "hovertemplate": "MANUTENÇÃO=CORRETIVA<br>OFICINA=%{x}<br>count=%{y}<extra></extra>",
         "legendgroup": "CORRETIVA",
         "marker": {
          "color": "#636efa",
          "pattern": {
           "shape": ""
          }
         },
         "name": "CORRETIVA",
         "offsetgroup": "CORRETIVA",
         "orientation": "v",
         "showlegend": true,
         "texttemplate": "%{value}",
         "type": "histogram",
         "x": [
          "Beny refrigeração",
          "TUG",
          "Mecânica",
          "Supervisor/Luiz Calor",
          "Elétrica",
          "BMH",
          "Elétrica",
          "BMH",
          "Tripulação",
          "TUG",
          "Caldeiraria",
          "Caldeiraria",
          "Flávio Filho/Mecânica",
          "Caldeiraria",
          "Elétrica",
          "Mecânica Açú",
          "TUG",
          "Tripulação",
          "TUG",
          "RM MOTORES",
          "RM MOTORES",
          "Caldeiraria ",
          "TUG",
          "Autotrac",
          "Elétrica",
          "Tripulação/Hydracontrol",
          "Caldeiraria ",
          "Tripulação",
          "Elétrica",
          "Elétrica",
          "Elétrica",
          "Mecânica/MPS",
          "Mecânica",
          "Mecânica",
          "Mecânica",
          "TUG",
          "Mecânica",
          "Mecânica",
          "Mecânica",
          "Mecânica",
          "LM Reparos",
          "BMH/Elétrica",
          "BMH",
          "Elétrica",
          "TUG",
          "Elétrica",
          "Elétrica/TUG",
          "Elétrica",
          "Elétrica",
          "Elétrica",
          "TUG",
          "BMH",
          "Elétrica/TUG",
          "Elétrica/TUG",
          "BMH",
          "Caldeiraria/Tripulação",
          "Luiz Calor",
          "Elétrica/TUG",
          "Elétrica",
          "ISOMAR",
          "ISOMAR",
          "Caldeiraria/Tripulação",
          "TUG",
          "TUG",
          "Caldeiraria ",
          "Tripulação",
          "BMH",
          "BMH",
          "Elétrica",
          "Caldeiraria",
          "Caldeiraria",
          "Mecânica",
          "Mecânica",
          "Mecânica",
          "Caldeiraria/Luiz Calor",
          "BMH",
          "BMH",
          "J Uzeda",
          "Luis Calor",
          "Luis Calor",
          "Luis Calor",
          "TUG",
          "BMH",
          "Elétrica",
          "Caldeiraria",
          "Caldeiraria",
          "Caldeiraria",
          "TUG",
          "Caldeiraria",
          "TUG",
          "TUG",
          "BMH",
          "Tripulação",
          "TUG",
          "TUG",
          "TUG",
          "TUG",
          "Mecânica",
          "Mecânica",
          "BMH",
          "TUG",
          "TUG",
          "TUG",
          "TUG",
          "TUG",
          "TUG",
          "TUG",
          "TUG",
          "TUG",
          "TUG",
          "TUG",
          "Caldeiraria",
          "Elétrica",
          "Elétrica",
          "Elétrica",
          "RM Motores",
          "RM Motores",
          "ELÉTRICA",
          "ELÉTRICA",
          "TUG",
          "TUG",
          "TUG",
          "TUG",
          "Mecânica",
          "Mecânica",
          "Elétrica",
          "TUG",
          "Elétrica",
          "BMH",
          "BMH",
          "Mecânica",
          "Elétrica",
          "Elétrica",
          "Caldeiraria",
          "Elétrica",
          "TUG",
          "Mecânica",
          "Flávio Filho",
          "Flávio Filho",
          "Mecânica/MPS",
          "Mecânica",
          "TUG",
          "BMH",
          "Tripulação",
          "Elétrica",
          "Weel Caldeiraria",
          "BMH",
          "BMH",
          "BMH",
          "BMH",
          "BMH",
          "Flávio Filho",
          "Flávio Filho",
          "Flávio Filho",
          "Flávio Filho",
          "BMH",
          "BMH",
          "BMH",
          "BMH",
          "TUG",
          "TUG",
          "Elétrica",
          "Elétrica",
          "Caldeiraria",
          "Caldeiraria",
          "Elétrica",
          "Carpintaria",
          "BMH",
          "Elétrica",
          "BMH",
          "Elétrica",
          "Elétrica",
          "TUG",
          "TUG",
          "Tripulação ",
          "Elétrica",
          "Elétrica",
          "BMH",
          "TUG",
          "Elétrica",
          "Elétrica",
          "Tripulação ",
          "Celso Nav",
          "Tripulação",
          "Elétrica",
          "Elétrica",
          "Elétrica",
          "Elétrica",
          "Carpintaria",
          "TUG",
          "TUG",
          "TUG",
          "tripulação",
          "TUG",
          "TUG",
          "ELÉTRICA",
          "TUG",
          "Elétrica",
          "tripulação",
          "TUG",
          "TUG",
          "TUG",
          null,
          "Mecânica",
          "Mecânica/MPS",
          "Mecânica/MPS",
          "TUG",
          "ELÉTRICA",
          "ELÉTRICA",
          "ELÉTRICA",
          "ELÉTRICA",
          "ELÉTRICA",
          "ELÉTRICA",
          "ELÉTRICA",
          "ELÉTRICA",
          "ELÉTRICA",
          "ELÉTRICA",
          "ELÉTRICA",
          "ELÉTRICA",
          "ELÉTRICA",
          "ELÉTRICA",
          "ELÉTRICA",
          "ELÉTRICA",
          "ELÉTRICA",
          "ELÉTRICA",
          "ELÉTRICA",
          "ELÉTRICA",
          "ELÉTRICA",
          "ELÉTRICA",
          "ELÉTRICA",
          "MPS",
          "Mecânica",
          "BMH",
          "Caldeiraria",
          "Elétrica",
          "RM Motores",
          "ELÉTRICA",
          "ELÉTRICA",
          "ELÉTRICA",
          "ELÉTRICA",
          "ELÉTRICA",
          "ELÉTRICA",
          "RM Motores",
          "TUG",
          "TUG",
          "TUG",
          "Tripulação/ Mecanica",
          "eletrica / tripulação",
          "Flávio Filho",
          "BMH",
          "BMH",
          "BMH",
          "BMH",
          "BMH",
          "BMH",
          "ELÉTRICA",
          "ELÉTRICA",
          "BMH",
          "BMH",
          "ELÉTRICA",
          "RM Motores",
          "Elétrica",
          "Elétrica",
          "Mecânica",
          "Elétrica",
          "Elétrica",
          "Elétrica",
          "Elétrica",
          "Elétrica",
          "Elétrica",
          "Elétrica",
          "Elétrica",
          "Elétrica",
          "Elétrica",
          "Elétrica",
          "Elétrica",
          "Elétrica",
          "Elétrica",
          "Elétrica",
          "Elétrica",
          "Elétrica",
          "Elétrica",
          "Elétrica",
          "Elétrica",
          "Elétrica",
          "Elétrica",
          "Elétrica",
          "Elétrica",
          "TUG",
          "Caldeiraria",
          "TUG",
          "Beny refrigeração",
          "TUG",
          "TUG",
          "TUG"
         ],
         "xaxis": "x",
         "yaxis": "y"
        },
        {
         "alignmentgroup": "True",
         "bingroup": "x",
         "hovertemplate": "MANUTENÇÃO=MELHORIA<br>OFICINA=%{x}<br>count=%{y}<extra></extra>",
         "legendgroup": "MELHORIA",
         "marker": {
          "color": "#EF553B",
          "pattern": {
           "shape": ""
          }
         },
         "name": "MELHORIA",
         "offsetgroup": "MELHORIA",
         "orientation": "v",
         "showlegend": true,
         "texttemplate": "%{value}",
         "type": "histogram",
         "x": [
          "RM Motores",
          "Elétrica",
          "Carpintaria",
          "BMH",
          "ELÉTRICA",
          "ELÉTRICA",
          "ELÉTRICA",
          "ELÉTRICA",
          "ELÉTRICA",
          "ELÉTRICA",
          "ELÉTRICA",
          "ELÉTRICA",
          "ELÉTRICA",
          "ELÉTRICA",
          "ELÉTRICA",
          "ELÉTRICA",
          "Elétrica",
          "Elétrica",
          "Elétrica",
          "Elétrica",
          "Elétrica"
         ],
         "xaxis": "x",
         "yaxis": "y"
        },
        {
         "alignmentgroup": "True",
         "bingroup": "x",
         "hovertemplate": "MANUTENÇÃO=PREVENTIVA<br>OFICINA=%{x}<br>count=%{y}<extra></extra>",
         "legendgroup": "PREVENTIVA",
         "marker": {
          "color": "#00cc96",
          "pattern": {
           "shape": ""
          }
         },
         "name": "PREVENTIVA",
         "offsetgroup": "PREVENTIVA",
         "orientation": "v",
         "showlegend": true,
         "texttemplate": "%{value}",
         "type": "histogram",
         "x": [
          "TUG",
          "TUG",
          "Mecânica",
          "Mecânica",
          "Mecânica",
          "BMH",
          "BMH",
          "BMH",
          null,
          null,
          "ELÉTRICA",
          "ELÉTRICA",
          "ELÉTRICA",
          "BMH",
          "BMH",
          "BMH",
          "BMH",
          "Elétrica",
          "Elétrica",
          "Elétrica",
          "Elétrica",
          "Elétrica",
          "Elétrica",
          "Elétrica",
          "Elétrica",
          "Elétrica",
          "Elétrica",
          "Elétrica",
          "Elétrica",
          "Elétrica",
          "Elétrica",
          "Elétrica",
          "Elétrica",
          "Elétrica",
          "Elétrica",
          "Elétrica",
          "Elétrica",
          "Elétrica",
          "tripulação",
          "tripulação",
          "tripulação"
         ],
         "xaxis": "x",
         "yaxis": "y"
        }
       ],
       "layout": {
        "barmode": "relative",
        "legend": {
         "title": {
          "text": "MANUTENÇÃO"
         },
         "tracegroupgap": 0
        },
        "template": {
         "data": {
          "bar": [
           {
            "error_x": {
             "color": "#2a3f5f"
            },
            "error_y": {
             "color": "#2a3f5f"
            },
            "marker": {
             "line": {
              "color": "#E5ECF6",
              "width": 0.5
             },
             "pattern": {
              "fillmode": "overlay",
              "size": 10,
              "solidity": 0.2
             }
            },
            "type": "bar"
           }
          ],
          "barpolar": [
           {
            "marker": {
             "line": {
              "color": "#E5ECF6",
              "width": 0.5
             },
             "pattern": {
              "fillmode": "overlay",
              "size": 10,
              "solidity": 0.2
             }
            },
            "type": "barpolar"
           }
          ],
          "carpet": [
           {
            "aaxis": {
             "endlinecolor": "#2a3f5f",
             "gridcolor": "white",
             "linecolor": "white",
             "minorgridcolor": "white",
             "startlinecolor": "#2a3f5f"
            },
            "baxis": {
             "endlinecolor": "#2a3f5f",
             "gridcolor": "white",
             "linecolor": "white",
             "minorgridcolor": "white",
             "startlinecolor": "#2a3f5f"
            },
            "type": "carpet"
           }
          ],
          "choropleth": [
           {
            "colorbar": {
             "outlinewidth": 0,
             "ticks": ""
            },
            "type": "choropleth"
           }
          ],
          "contour": [
           {
            "colorbar": {
             "outlinewidth": 0,
             "ticks": ""
            },
            "colorscale": [
             [
              0,
              "#0d0887"
             ],
             [
              0.1111111111111111,
              "#46039f"
             ],
             [
              0.2222222222222222,
              "#7201a8"
             ],
             [
              0.3333333333333333,
              "#9c179e"
             ],
             [
              0.4444444444444444,
              "#bd3786"
             ],
             [
              0.5555555555555556,
              "#d8576b"
             ],
             [
              0.6666666666666666,
              "#ed7953"
             ],
             [
              0.7777777777777778,
              "#fb9f3a"
             ],
             [
              0.8888888888888888,
              "#fdca26"
             ],
             [
              1,
              "#f0f921"
             ]
            ],
            "type": "contour"
           }
          ],
          "contourcarpet": [
           {
            "colorbar": {
             "outlinewidth": 0,
             "ticks": ""
            },
            "type": "contourcarpet"
           }
          ],
          "heatmap": [
           {
            "colorbar": {
             "outlinewidth": 0,
             "ticks": ""
            },
            "colorscale": [
             [
              0,
              "#0d0887"
             ],
             [
              0.1111111111111111,
              "#46039f"
             ],
             [
              0.2222222222222222,
              "#7201a8"
             ],
             [
              0.3333333333333333,
              "#9c179e"
             ],
             [
              0.4444444444444444,
              "#bd3786"
             ],
             [
              0.5555555555555556,
              "#d8576b"
             ],
             [
              0.6666666666666666,
              "#ed7953"
             ],
             [
              0.7777777777777778,
              "#fb9f3a"
             ],
             [
              0.8888888888888888,
              "#fdca26"
             ],
             [
              1,
              "#f0f921"
             ]
            ],
            "type": "heatmap"
           }
          ],
          "heatmapgl": [
           {
            "colorbar": {
             "outlinewidth": 0,
             "ticks": ""
            },
            "colorscale": [
             [
              0,
              "#0d0887"
             ],
             [
              0.1111111111111111,
              "#46039f"
             ],
             [
              0.2222222222222222,
              "#7201a8"
             ],
             [
              0.3333333333333333,
              "#9c179e"
             ],
             [
              0.4444444444444444,
              "#bd3786"
             ],
             [
              0.5555555555555556,
              "#d8576b"
             ],
             [
              0.6666666666666666,
              "#ed7953"
             ],
             [
              0.7777777777777778,
              "#fb9f3a"
             ],
             [
              0.8888888888888888,
              "#fdca26"
             ],
             [
              1,
              "#f0f921"
             ]
            ],
            "type": "heatmapgl"
           }
          ],
          "histogram": [
           {
            "marker": {
             "pattern": {
              "fillmode": "overlay",
              "size": 10,
              "solidity": 0.2
             }
            },
            "type": "histogram"
           }
          ],
          "histogram2d": [
           {
            "colorbar": {
             "outlinewidth": 0,
             "ticks": ""
            },
            "colorscale": [
             [
              0,
              "#0d0887"
             ],
             [
              0.1111111111111111,
              "#46039f"
             ],
             [
              0.2222222222222222,
              "#7201a8"
             ],
             [
              0.3333333333333333,
              "#9c179e"
             ],
             [
              0.4444444444444444,
              "#bd3786"
             ],
             [
              0.5555555555555556,
              "#d8576b"
             ],
             [
              0.6666666666666666,
              "#ed7953"
             ],
             [
              0.7777777777777778,
              "#fb9f3a"
             ],
             [
              0.8888888888888888,
              "#fdca26"
             ],
             [
              1,
              "#f0f921"
             ]
            ],
            "type": "histogram2d"
           }
          ],
          "histogram2dcontour": [
           {
            "colorbar": {
             "outlinewidth": 0,
             "ticks": ""
            },
            "colorscale": [
             [
              0,
              "#0d0887"
             ],
             [
              0.1111111111111111,
              "#46039f"
             ],
             [
              0.2222222222222222,
              "#7201a8"
             ],
             [
              0.3333333333333333,
              "#9c179e"
             ],
             [
              0.4444444444444444,
              "#bd3786"
             ],
             [
              0.5555555555555556,
              "#d8576b"
             ],
             [
              0.6666666666666666,
              "#ed7953"
             ],
             [
              0.7777777777777778,
              "#fb9f3a"
             ],
             [
              0.8888888888888888,
              "#fdca26"
             ],
             [
              1,
              "#f0f921"
             ]
            ],
            "type": "histogram2dcontour"
           }
          ],
          "mesh3d": [
           {
            "colorbar": {
             "outlinewidth": 0,
             "ticks": ""
            },
            "type": "mesh3d"
           }
          ],
          "parcoords": [
           {
            "line": {
             "colorbar": {
              "outlinewidth": 0,
              "ticks": ""
             }
            },
            "type": "parcoords"
           }
          ],
          "pie": [
           {
            "automargin": true,
            "type": "pie"
           }
          ],
          "scatter": [
           {
            "fillpattern": {
             "fillmode": "overlay",
             "size": 10,
             "solidity": 0.2
            },
            "type": "scatter"
           }
          ],
          "scatter3d": [
           {
            "line": {
             "colorbar": {
              "outlinewidth": 0,
              "ticks": ""
             }
            },
            "marker": {
             "colorbar": {
              "outlinewidth": 0,
              "ticks": ""
             }
            },
            "type": "scatter3d"
           }
          ],
          "scattercarpet": [
           {
            "marker": {
             "colorbar": {
              "outlinewidth": 0,
              "ticks": ""
             }
            },
            "type": "scattercarpet"
           }
          ],
          "scattergeo": [
           {
            "marker": {
             "colorbar": {
              "outlinewidth": 0,
              "ticks": ""
             }
            },
            "type": "scattergeo"
           }
          ],
          "scattergl": [
           {
            "marker": {
             "colorbar": {
              "outlinewidth": 0,
              "ticks": ""
             }
            },
            "type": "scattergl"
           }
          ],
          "scattermapbox": [
           {
            "marker": {
             "colorbar": {
              "outlinewidth": 0,
              "ticks": ""
             }
            },
            "type": "scattermapbox"
           }
          ],
          "scatterpolar": [
           {
            "marker": {
             "colorbar": {
              "outlinewidth": 0,
              "ticks": ""
             }
            },
            "type": "scatterpolar"
           }
          ],
          "scatterpolargl": [
           {
            "marker": {
             "colorbar": {
              "outlinewidth": 0,
              "ticks": ""
             }
            },
            "type": "scatterpolargl"
           }
          ],
          "scatterternary": [
           {
            "marker": {
             "colorbar": {
              "outlinewidth": 0,
              "ticks": ""
             }
            },
            "type": "scatterternary"
           }
          ],
          "surface": [
           {
            "colorbar": {
             "outlinewidth": 0,
             "ticks": ""
            },
            "colorscale": [
             [
              0,
              "#0d0887"
             ],
             [
              0.1111111111111111,
              "#46039f"
             ],
             [
              0.2222222222222222,
              "#7201a8"
             ],
             [
              0.3333333333333333,
              "#9c179e"
             ],
             [
              0.4444444444444444,
              "#bd3786"
             ],
             [
              0.5555555555555556,
              "#d8576b"
             ],
             [
              0.6666666666666666,
              "#ed7953"
             ],
             [
              0.7777777777777778,
              "#fb9f3a"
             ],
             [
              0.8888888888888888,
              "#fdca26"
             ],
             [
              1,
              "#f0f921"
             ]
            ],
            "type": "surface"
           }
          ],
          "table": [
           {
            "cells": {
             "fill": {
              "color": "#EBF0F8"
             },
             "line": {
              "color": "white"
             }
            },
            "header": {
             "fill": {
              "color": "#C8D4E3"
             },
             "line": {
              "color": "white"
             }
            },
            "type": "table"
           }
          ]
         },
         "layout": {
          "annotationdefaults": {
           "arrowcolor": "#2a3f5f",
           "arrowhead": 0,
           "arrowwidth": 1
          },
          "autotypenumbers": "strict",
          "coloraxis": {
           "colorbar": {
            "outlinewidth": 0,
            "ticks": ""
           }
          },
          "colorscale": {
           "diverging": [
            [
             0,
             "#8e0152"
            ],
            [
             0.1,
             "#c51b7d"
            ],
            [
             0.2,
             "#de77ae"
            ],
            [
             0.3,
             "#f1b6da"
            ],
            [
             0.4,
             "#fde0ef"
            ],
            [
             0.5,
             "#f7f7f7"
            ],
            [
             0.6,
             "#e6f5d0"
            ],
            [
             0.7,
             "#b8e186"
            ],
            [
             0.8,
             "#7fbc41"
            ],
            [
             0.9,
             "#4d9221"
            ],
            [
             1,
             "#276419"
            ]
           ],
           "sequential": [
            [
             0,
             "#0d0887"
            ],
            [
             0.1111111111111111,
             "#46039f"
            ],
            [
             0.2222222222222222,
             "#7201a8"
            ],
            [
             0.3333333333333333,
             "#9c179e"
            ],
            [
             0.4444444444444444,
             "#bd3786"
            ],
            [
             0.5555555555555556,
             "#d8576b"
            ],
            [
             0.6666666666666666,
             "#ed7953"
            ],
            [
             0.7777777777777778,
             "#fb9f3a"
            ],
            [
             0.8888888888888888,
             "#fdca26"
            ],
            [
             1,
             "#f0f921"
            ]
           ],
           "sequentialminus": [
            [
             0,
             "#0d0887"
            ],
            [
             0.1111111111111111,
             "#46039f"
            ],
            [
             0.2222222222222222,
             "#7201a8"
            ],
            [
             0.3333333333333333,
             "#9c179e"
            ],
            [
             0.4444444444444444,
             "#bd3786"
            ],
            [
             0.5555555555555556,
             "#d8576b"
            ],
            [
             0.6666666666666666,
             "#ed7953"
            ],
            [
             0.7777777777777778,
             "#fb9f3a"
            ],
            [
             0.8888888888888888,
             "#fdca26"
            ],
            [
             1,
             "#f0f921"
            ]
           ]
          },
          "colorway": [
           "#636efa",
           "#EF553B",
           "#00cc96",
           "#ab63fa",
           "#FFA15A",
           "#19d3f3",
           "#FF6692",
           "#B6E880",
           "#FF97FF",
           "#FECB52"
          ],
          "font": {
           "color": "#2a3f5f"
          },
          "geo": {
           "bgcolor": "white",
           "lakecolor": "white",
           "landcolor": "#E5ECF6",
           "showlakes": true,
           "showland": true,
           "subunitcolor": "white"
          },
          "hoverlabel": {
           "align": "left"
          },
          "hovermode": "closest",
          "mapbox": {
           "style": "light"
          },
          "paper_bgcolor": "white",
          "plot_bgcolor": "#E5ECF6",
          "polar": {
           "angularaxis": {
            "gridcolor": "white",
            "linecolor": "white",
            "ticks": ""
           },
           "bgcolor": "#E5ECF6",
           "radialaxis": {
            "gridcolor": "white",
            "linecolor": "white",
            "ticks": ""
           }
          },
          "scene": {
           "xaxis": {
            "backgroundcolor": "#E5ECF6",
            "gridcolor": "white",
            "gridwidth": 2,
            "linecolor": "white",
            "showbackground": true,
            "ticks": "",
            "zerolinecolor": "white"
           },
           "yaxis": {
            "backgroundcolor": "#E5ECF6",
            "gridcolor": "white",
            "gridwidth": 2,
            "linecolor": "white",
            "showbackground": true,
            "ticks": "",
            "zerolinecolor": "white"
           },
           "zaxis": {
            "backgroundcolor": "#E5ECF6",
            "gridcolor": "white",
            "gridwidth": 2,
            "linecolor": "white",
            "showbackground": true,
            "ticks": "",
            "zerolinecolor": "white"
           }
          },
          "shapedefaults": {
           "line": {
            "color": "#2a3f5f"
           }
          },
          "ternary": {
           "aaxis": {
            "gridcolor": "white",
            "linecolor": "white",
            "ticks": ""
           },
           "baxis": {
            "gridcolor": "white",
            "linecolor": "white",
            "ticks": ""
           },
           "bgcolor": "#E5ECF6",
           "caxis": {
            "gridcolor": "white",
            "linecolor": "white",
            "ticks": ""
           }
          },
          "title": {
           "x": 0.05
          },
          "xaxis": {
           "automargin": true,
           "gridcolor": "white",
           "linecolor": "white",
           "ticks": "",
           "title": {
            "standoff": 15
           },
           "zerolinecolor": "white",
           "zerolinewidth": 2
          },
          "yaxis": {
           "automargin": true,
           "gridcolor": "white",
           "linecolor": "white",
           "ticks": "",
           "title": {
            "standoff": 15
           },
           "zerolinecolor": "white",
           "zerolinewidth": 2
          }
         }
        },
        "title": {
         "text": "Histograma por OFICINA"
        },
        "xaxis": {
         "anchor": "y",
         "domain": [
          0,
          1
         ],
         "title": {
          "text": "OFICINA"
         }
        },
        "yaxis": {
         "anchor": "x",
         "domain": [
          0,
          1
         ],
         "title": {
          "text": "count"
         }
        }
       }
      }
     },
     "metadata": {},
     "output_type": "display_data"
    }
   ],
   "source": [
    "\n",
    "cols_analise = [\"EMBARCAÇÃO\",\"EQUIPAMENTO\",\"FINALIZADO\",\"OFICINA\"]\n",
    "\n",
    "for coluna in cols_analise:\n",
    "    grafico_barcos = gerar_histograma(df_finalizados, coluna)\n",
    "    grafico_barcos.show()\n",
    "    grafico_barcos.write_html(f\"./graficos_{coluna}.html\")\n",
    "\n"
   ]
  },
  {
   "cell_type": "code",
   "execution_count": 14,
   "metadata": {},
   "outputs": [],
   "source": [
    "import plotly.graph_objects as go\n",
    "from plotly.subplots import make_subplots\n",
    "\n",
    "cols_analise = [\"EMBARCAÇÃO\", \"EQUIPAMENTO\", \"FINALIZADO\", \"OFICINA\"]\n",
    "\n",
    "# Crie uma grade de subplots\n",
    "fig = make_subplots(rows=len(cols_analise), cols=1)\n",
    "\n",
    "# Itere sobre as colunas de interesse\n",
    "for i, coluna in enumerate(cols_analise, start=1):\n",
    "    # Gere o histograma para a coluna atual\n",
    "    histograma = go.Histogram(x=df_finalizados[coluna], name=coluna)\n",
    "    # Adicione o histograma à grade de subplots\n",
    "    fig.add_trace(histograma, row=i, col=1)\n",
    "\n",
    "# Atualize o layout para adicionar título e rótulos aos eixos\n",
    "fig.update_layout(title_text=\"Histogramas das Colunas de Interesse\", height=1000, width=800)\n",
    "\n",
    "# Salve o arquivo HTML com os histogramas\n",
    "fig.write_html(\"./histogramas.html\")\n"
   ]
  },
  {
   "cell_type": "markdown",
   "metadata": {},
   "source": [
    "### Grafico animado"
   ]
  },
  {
   "cell_type": "code",
   "execution_count": 15,
   "metadata": {},
   "outputs": [],
   "source": [
    "#grafico_animado(df_medios)"
   ]
  },
  {
   "cell_type": "markdown",
   "metadata": {},
   "source": [
    "## Manutencão por oficina"
   ]
  },
  {
   "cell_type": "code",
   "execution_count": 19,
   "metadata": {},
   "outputs": [
    {
     "data": {
      "text/html": [
       "<div>\n",
       "<style scoped>\n",
       "    .dataframe tbody tr th:only-of-type {\n",
       "        vertical-align: middle;\n",
       "    }\n",
       "\n",
       "    .dataframe tbody tr th {\n",
       "        vertical-align: top;\n",
       "    }\n",
       "\n",
       "    .dataframe thead th {\n",
       "        text-align: right;\n",
       "    }\n",
       "</style>\n",
       "<table border=\"1\" class=\"dataframe\">\n",
       "  <thead>\n",
       "    <tr style=\"text-align: right;\">\n",
       "      <th></th>\n",
       "      <th>OFICINA</th>\n",
       "      <th>EQUIPAMENTO</th>\n",
       "      <th>MANUTENÇÃO</th>\n",
       "      <th>FINALIZADO</th>\n",
       "    </tr>\n",
       "  </thead>\n",
       "  <tbody>\n",
       "    <tr>\n",
       "      <th>0</th>\n",
       "      <td>Autotrac</td>\n",
       "      <td>COMUNICAÇÃO</td>\n",
       "      <td>CORRETIVA</td>\n",
       "      <td>1</td>\n",
       "    </tr>\n",
       "    <tr>\n",
       "      <th>1</th>\n",
       "      <td>BMH</td>\n",
       "      <td>ACOMODAÇÕES</td>\n",
       "      <td>CORRETIVA</td>\n",
       "      <td>1</td>\n",
       "    </tr>\n",
       "    <tr>\n",
       "      <th>2</th>\n",
       "      <td>BMH</td>\n",
       "      <td>AR CONDICIONADO</td>\n",
       "      <td>CORRETIVA</td>\n",
       "      <td>24</td>\n",
       "    </tr>\n",
       "    <tr>\n",
       "      <th>3</th>\n",
       "      <td>BMH</td>\n",
       "      <td>AR CONDICIONADO</td>\n",
       "      <td>PREVENTIVA</td>\n",
       "      <td>6</td>\n",
       "    </tr>\n",
       "    <tr>\n",
       "      <th>4</th>\n",
       "      <td>BMH</td>\n",
       "      <td>ELETRODOMESTICOS</td>\n",
       "      <td>CORRETIVA</td>\n",
       "      <td>11</td>\n",
       "    </tr>\n",
       "    <tr>\n",
       "      <th>...</th>\n",
       "      <td>...</td>\n",
       "      <td>...</td>\n",
       "      <td>...</td>\n",
       "      <td>...</td>\n",
       "    </tr>\n",
       "    <tr>\n",
       "      <th>151</th>\n",
       "      <td>eletrica / tripulação</td>\n",
       "      <td>ELETRICA/ELETRONICO</td>\n",
       "      <td>CORRETIVA</td>\n",
       "      <td>1</td>\n",
       "    </tr>\n",
       "    <tr>\n",
       "      <th>152</th>\n",
       "      <td>tripulação</td>\n",
       "      <td>BOMBAS</td>\n",
       "      <td>CORRETIVA</td>\n",
       "      <td>1</td>\n",
       "    </tr>\n",
       "    <tr>\n",
       "      <th>153</th>\n",
       "      <td>tripulação</td>\n",
       "      <td>ESTRUTURA</td>\n",
       "      <td>CORRETIVA</td>\n",
       "      <td>1</td>\n",
       "    </tr>\n",
       "    <tr>\n",
       "      <th>154</th>\n",
       "      <td>tripulação</td>\n",
       "      <td>GUINCHO DE POPA</td>\n",
       "      <td>PREVENTIVA</td>\n",
       "      <td>2</td>\n",
       "    </tr>\n",
       "    <tr>\n",
       "      <th>155</th>\n",
       "      <td>tripulação</td>\n",
       "      <td>LEME</td>\n",
       "      <td>PREVENTIVA</td>\n",
       "      <td>1</td>\n",
       "    </tr>\n",
       "  </tbody>\n",
       "</table>\n",
       "<p>156 rows × 4 columns</p>\n",
       "</div>"
      ],
      "text/plain": [
       "                   OFICINA          EQUIPAMENTO  MANUTENÇÃO  FINALIZADO\n",
       "0                 Autotrac          COMUNICAÇÃO   CORRETIVA           1\n",
       "1                      BMH          ACOMODAÇÕES   CORRETIVA           1\n",
       "2                      BMH      AR CONDICIONADO   CORRETIVA          24\n",
       "3                      BMH      AR CONDICIONADO  PREVENTIVA           6\n",
       "4                      BMH     ELETRODOMESTICOS   CORRETIVA          11\n",
       "..                     ...                  ...         ...         ...\n",
       "151  eletrica / tripulação  ELETRICA/ELETRONICO   CORRETIVA           1\n",
       "152             tripulação               BOMBAS   CORRETIVA           1\n",
       "153             tripulação            ESTRUTURA   CORRETIVA           1\n",
       "154             tripulação      GUINCHO DE POPA  PREVENTIVA           2\n",
       "155             tripulação                 LEME  PREVENTIVA           1\n",
       "\n",
       "[156 rows x 4 columns]"
      ]
     },
     "metadata": {},
     "output_type": "display_data"
    },
    {
     "data": {
      "application/vnd.plotly.v1+json": {
       "config": {
        "plotlyServerURL": "https://plot.ly"
       },
       "data": [
        {
         "alignmentgroup": "True",
         "bingroup": "x",
         "hovertemplate": "MANUTENÇÃO=CORRETIVA<br>EQUIPAMENTO=%{x}<br>count=%{y}<extra></extra>",
         "legendgroup": "CORRETIVA",
         "marker": {
          "color": "#636efa",
          "pattern": {
           "shape": ""
          }
         },
         "name": "CORRETIVA",
         "offsetgroup": "CORRETIVA",
         "orientation": "v",
         "showlegend": true,
         "texttemplate": "%{value}",
         "type": "histogram",
         "x": [
          "COMUNICAÇÃO",
          "ACOMODAÇÕES",
          "AR CONDICIONADO",
          "ELETRODOMESTICOS",
          "ELETRODOMESTICOS",
          "AR CONDICIONADO",
          "CASCO",
          "ESTRUTURA",
          "MCP BB",
          "MCP LC",
          "PORTAS/ESCOTILHAS",
          "REDES",
          "GUINCHO DE POPA",
          "TANQUES",
          "ESTRUTURA",
          "GUINCHO DE PROA",
          "MCP LC",
          "ACOMODAÇÕES",
          "ESTRUTURA",
          "AR CONDICIONADO",
          "BOMBAS",
          "BOMBAS ",
          "ELÉTRICA/ELETRÔNICO",
          "EQUIPAMENTOS NÁUTICOS",
          "GUINCHO DE POPA",
          "GUINCHO DE PROA",
          "LEME",
          "MCA BB",
          "MCA BE",
          "MCP BB",
          "MCP LC",
          "SISTEMA DE BATERIAS",
          "ALARMES/SENSORES/SIRENES",
          "AMARRAÇÃO E FUNDEIO",
          "BOMBAS",
          "COMUNICAÇÃO",
          "ELETRICA/ELETRONICO",
          "ELETRODOMESTICOS",
          "EQUIPAMENTOS NAUTICOS",
          "ESTRUTURA",
          "GUINCHO DE POPA",
          "MCA BB",
          "MCA BE",
          "MCP BB",
          "MCP BE",
          "MCP LC",
          "MOTOBOMBA",
          "PURIFICADOR",
          "REVERSOR BB",
          "REVERSOR BE",
          "REVERSOR LC",
          "SISTEMA DE BATERIAS",
          "TANQUES",
          "VENTILAÇÃO/EXAUSTÃO BB",
          "COMPRESSOR 2",
          "MCA BE",
          "MCP BB",
          "TANQUE",
          "BOMBAS",
          "MCA BB",
          "MCA BE",
          "VENTILAÇÃO/EXAUSTÃO BB",
          "ACOMODAÇÕES",
          "MCP BB",
          "ESTRUTURA",
          "TANQUES",
          "AMARRAÇÃO E FUNDEIO",
          "ESTRUTURA",
          "SISTEMA DE GOVERNO BE",
          "AMARRAÇÃO E FUNDEIO",
          "PROPULSOR BB",
          "AMARRAÇÃO E FUNDEIO",
          "ELETRICA/ELETRONICO",
          "GUINCHO DE POPA",
          "LEME",
          "LINHA DE EIXO BB",
          "LINHA DE EIXO BE",
          "LINHA DE EIXO LC",
          "MCP BB",
          "MCP BE",
          "MCP LC",
          "PROPULSOR BB",
          "PROPULSOR BE",
          "PROPULSOR LC",
          "REVERSOR BE",
          "SISTEMA HIDRÁULICO DO GUINCHO",
          "MCA BB",
          "PROPULSOR BB",
          "PROPULSOR BE",
          "BOMBAS",
          "MCP BE",
          "AR CONDICIONADO",
          "COMUNICAÇÃO",
          "MCP BE",
          "MCP LC",
          "TANQUES",
          "MCA BB",
          "MCA BE",
          "MCP BB",
          "MCP BE",
          "MCP LC",
          "PROPULSOR BB",
          "PROPULSOR BE",
          "PURIFICADOR",
          "REVERSOR BB",
          "REVERSOR BE",
          "REVERSOR LC",
          "EQUIPAMENTOS NAUTICOS",
          "MCA BE",
          "MCP BB",
          "MCP BE",
          "PROPULSOR BE",
          "REVERSOR BB",
          "REDES",
          "TANQUES",
          "LINHA DE EIXO BE",
          "MUNCK",
          "REDES",
          "ELETRICA/ELETRONICO",
          "BOMBAS",
          "ESTRUTURA"
         ],
         "xaxis": "x",
         "yaxis": "y"
        },
        {
         "alignmentgroup": "True",
         "bingroup": "x",
         "hovertemplate": "MANUTENÇÃO=PREVENTIVA<br>EQUIPAMENTO=%{x}<br>count=%{y}<extra></extra>",
         "legendgroup": "PREVENTIVA",
         "marker": {
          "color": "#EF553B",
          "pattern": {
           "shape": ""
          }
         },
         "name": "PREVENTIVA",
         "offsetgroup": "PREVENTIVA",
         "orientation": "v",
         "showlegend": true,
         "texttemplate": "%{value}",
         "type": "histogram",
         "x": [
          "AR CONDICIONADO",
          "ELETRODOMESTICOS",
          "ELÉTRICA/ELETRÔNICO",
          "MCA BE",
          "BOMBAS",
          "COMUNICAÇÃO",
          "ELETRICA/ELETRONICO",
          "MCA BB",
          "MCA BE",
          "MCP BB",
          "MCP BE",
          "SISTEMA DE BATERIAS",
          "VENTILAÇÃO/EXAUSTÃO BB",
          "LINHA DE EIXO BB",
          "LINHA DE EIXO BE",
          "LINHA DE EIXO LC",
          "MCP BB",
          "MCP LC",
          "GUINCHO DE POPA",
          "LEME"
         ],
         "xaxis": "x",
         "yaxis": "y"
        },
        {
         "alignmentgroup": "True",
         "bingroup": "x",
         "hovertemplate": "MANUTENÇÃO=MELHORIA<br>EQUIPAMENTO=%{x}<br>count=%{y}<extra></extra>",
         "legendgroup": "MELHORIA",
         "marker": {
          "color": "#00cc96",
          "pattern": {
           "shape": ""
          }
         },
         "name": "MELHORIA",
         "offsetgroup": "MELHORIA",
         "orientation": "v",
         "showlegend": true,
         "texttemplate": "%{value}",
         "type": "histogram",
         "x": [
          "ESTRUTURA",
          "PORTAS/ESCOTILHAS",
          "ACOMODAÇÕES",
          "COMUNICAÇÃO",
          "ELETRODOMESTICOS",
          "ELÉTRICA/ELETRÔNICO",
          "EQUIPAMENTOS NÁUTICOS",
          "GUINCHO DE POPA",
          "MCP LC",
          "ELETRICA/ELETRONICO",
          "ELETRODOMESTICOS",
          "EQUIPAMENTOS NAUTICOS",
          "INSTRUMENTAÇÃO",
          "TANQUES",
          "ALARMES/SENSORES/SIRENES"
         ],
         "xaxis": "x",
         "yaxis": "y"
        }
       ],
       "layout": {
        "barmode": "relative",
        "legend": {
         "title": {
          "text": "MANUTENÇÃO"
         },
         "tracegroupgap": 0
        },
        "template": {
         "data": {
          "bar": [
           {
            "error_x": {
             "color": "#2a3f5f"
            },
            "error_y": {
             "color": "#2a3f5f"
            },
            "marker": {
             "line": {
              "color": "#E5ECF6",
              "width": 0.5
             },
             "pattern": {
              "fillmode": "overlay",
              "size": 10,
              "solidity": 0.2
             }
            },
            "type": "bar"
           }
          ],
          "barpolar": [
           {
            "marker": {
             "line": {
              "color": "#E5ECF6",
              "width": 0.5
             },
             "pattern": {
              "fillmode": "overlay",
              "size": 10,
              "solidity": 0.2
             }
            },
            "type": "barpolar"
           }
          ],
          "carpet": [
           {
            "aaxis": {
             "endlinecolor": "#2a3f5f",
             "gridcolor": "white",
             "linecolor": "white",
             "minorgridcolor": "white",
             "startlinecolor": "#2a3f5f"
            },
            "baxis": {
             "endlinecolor": "#2a3f5f",
             "gridcolor": "white",
             "linecolor": "white",
             "minorgridcolor": "white",
             "startlinecolor": "#2a3f5f"
            },
            "type": "carpet"
           }
          ],
          "choropleth": [
           {
            "colorbar": {
             "outlinewidth": 0,
             "ticks": ""
            },
            "type": "choropleth"
           }
          ],
          "contour": [
           {
            "colorbar": {
             "outlinewidth": 0,
             "ticks": ""
            },
            "colorscale": [
             [
              0,
              "#0d0887"
             ],
             [
              0.1111111111111111,
              "#46039f"
             ],
             [
              0.2222222222222222,
              "#7201a8"
             ],
             [
              0.3333333333333333,
              "#9c179e"
             ],
             [
              0.4444444444444444,
              "#bd3786"
             ],
             [
              0.5555555555555556,
              "#d8576b"
             ],
             [
              0.6666666666666666,
              "#ed7953"
             ],
             [
              0.7777777777777778,
              "#fb9f3a"
             ],
             [
              0.8888888888888888,
              "#fdca26"
             ],
             [
              1,
              "#f0f921"
             ]
            ],
            "type": "contour"
           }
          ],
          "contourcarpet": [
           {
            "colorbar": {
             "outlinewidth": 0,
             "ticks": ""
            },
            "type": "contourcarpet"
           }
          ],
          "heatmap": [
           {
            "colorbar": {
             "outlinewidth": 0,
             "ticks": ""
            },
            "colorscale": [
             [
              0,
              "#0d0887"
             ],
             [
              0.1111111111111111,
              "#46039f"
             ],
             [
              0.2222222222222222,
              "#7201a8"
             ],
             [
              0.3333333333333333,
              "#9c179e"
             ],
             [
              0.4444444444444444,
              "#bd3786"
             ],
             [
              0.5555555555555556,
              "#d8576b"
             ],
             [
              0.6666666666666666,
              "#ed7953"
             ],
             [
              0.7777777777777778,
              "#fb9f3a"
             ],
             [
              0.8888888888888888,
              "#fdca26"
             ],
             [
              1,
              "#f0f921"
             ]
            ],
            "type": "heatmap"
           }
          ],
          "heatmapgl": [
           {
            "colorbar": {
             "outlinewidth": 0,
             "ticks": ""
            },
            "colorscale": [
             [
              0,
              "#0d0887"
             ],
             [
              0.1111111111111111,
              "#46039f"
             ],
             [
              0.2222222222222222,
              "#7201a8"
             ],
             [
              0.3333333333333333,
              "#9c179e"
             ],
             [
              0.4444444444444444,
              "#bd3786"
             ],
             [
              0.5555555555555556,
              "#d8576b"
             ],
             [
              0.6666666666666666,
              "#ed7953"
             ],
             [
              0.7777777777777778,
              "#fb9f3a"
             ],
             [
              0.8888888888888888,
              "#fdca26"
             ],
             [
              1,
              "#f0f921"
             ]
            ],
            "type": "heatmapgl"
           }
          ],
          "histogram": [
           {
            "marker": {
             "pattern": {
              "fillmode": "overlay",
              "size": 10,
              "solidity": 0.2
             }
            },
            "type": "histogram"
           }
          ],
          "histogram2d": [
           {
            "colorbar": {
             "outlinewidth": 0,
             "ticks": ""
            },
            "colorscale": [
             [
              0,
              "#0d0887"
             ],
             [
              0.1111111111111111,
              "#46039f"
             ],
             [
              0.2222222222222222,
              "#7201a8"
             ],
             [
              0.3333333333333333,
              "#9c179e"
             ],
             [
              0.4444444444444444,
              "#bd3786"
             ],
             [
              0.5555555555555556,
              "#d8576b"
             ],
             [
              0.6666666666666666,
              "#ed7953"
             ],
             [
              0.7777777777777778,
              "#fb9f3a"
             ],
             [
              0.8888888888888888,
              "#fdca26"
             ],
             [
              1,
              "#f0f921"
             ]
            ],
            "type": "histogram2d"
           }
          ],
          "histogram2dcontour": [
           {
            "colorbar": {
             "outlinewidth": 0,
             "ticks": ""
            },
            "colorscale": [
             [
              0,
              "#0d0887"
             ],
             [
              0.1111111111111111,
              "#46039f"
             ],
             [
              0.2222222222222222,
              "#7201a8"
             ],
             [
              0.3333333333333333,
              "#9c179e"
             ],
             [
              0.4444444444444444,
              "#bd3786"
             ],
             [
              0.5555555555555556,
              "#d8576b"
             ],
             [
              0.6666666666666666,
              "#ed7953"
             ],
             [
              0.7777777777777778,
              "#fb9f3a"
             ],
             [
              0.8888888888888888,
              "#fdca26"
             ],
             [
              1,
              "#f0f921"
             ]
            ],
            "type": "histogram2dcontour"
           }
          ],
          "mesh3d": [
           {
            "colorbar": {
             "outlinewidth": 0,
             "ticks": ""
            },
            "type": "mesh3d"
           }
          ],
          "parcoords": [
           {
            "line": {
             "colorbar": {
              "outlinewidth": 0,
              "ticks": ""
             }
            },
            "type": "parcoords"
           }
          ],
          "pie": [
           {
            "automargin": true,
            "type": "pie"
           }
          ],
          "scatter": [
           {
            "fillpattern": {
             "fillmode": "overlay",
             "size": 10,
             "solidity": 0.2
            },
            "type": "scatter"
           }
          ],
          "scatter3d": [
           {
            "line": {
             "colorbar": {
              "outlinewidth": 0,
              "ticks": ""
             }
            },
            "marker": {
             "colorbar": {
              "outlinewidth": 0,
              "ticks": ""
             }
            },
            "type": "scatter3d"
           }
          ],
          "scattercarpet": [
           {
            "marker": {
             "colorbar": {
              "outlinewidth": 0,
              "ticks": ""
             }
            },
            "type": "scattercarpet"
           }
          ],
          "scattergeo": [
           {
            "marker": {
             "colorbar": {
              "outlinewidth": 0,
              "ticks": ""
             }
            },
            "type": "scattergeo"
           }
          ],
          "scattergl": [
           {
            "marker": {
             "colorbar": {
              "outlinewidth": 0,
              "ticks": ""
             }
            },
            "type": "scattergl"
           }
          ],
          "scattermapbox": [
           {
            "marker": {
             "colorbar": {
              "outlinewidth": 0,
              "ticks": ""
             }
            },
            "type": "scattermapbox"
           }
          ],
          "scatterpolar": [
           {
            "marker": {
             "colorbar": {
              "outlinewidth": 0,
              "ticks": ""
             }
            },
            "type": "scatterpolar"
           }
          ],
          "scatterpolargl": [
           {
            "marker": {
             "colorbar": {
              "outlinewidth": 0,
              "ticks": ""
             }
            },
            "type": "scatterpolargl"
           }
          ],
          "scatterternary": [
           {
            "marker": {
             "colorbar": {
              "outlinewidth": 0,
              "ticks": ""
             }
            },
            "type": "scatterternary"
           }
          ],
          "surface": [
           {
            "colorbar": {
             "outlinewidth": 0,
             "ticks": ""
            },
            "colorscale": [
             [
              0,
              "#0d0887"
             ],
             [
              0.1111111111111111,
              "#46039f"
             ],
             [
              0.2222222222222222,
              "#7201a8"
             ],
             [
              0.3333333333333333,
              "#9c179e"
             ],
             [
              0.4444444444444444,
              "#bd3786"
             ],
             [
              0.5555555555555556,
              "#d8576b"
             ],
             [
              0.6666666666666666,
              "#ed7953"
             ],
             [
              0.7777777777777778,
              "#fb9f3a"
             ],
             [
              0.8888888888888888,
              "#fdca26"
             ],
             [
              1,
              "#f0f921"
             ]
            ],
            "type": "surface"
           }
          ],
          "table": [
           {
            "cells": {
             "fill": {
              "color": "#EBF0F8"
             },
             "line": {
              "color": "white"
             }
            },
            "header": {
             "fill": {
              "color": "#C8D4E3"
             },
             "line": {
              "color": "white"
             }
            },
            "type": "table"
           }
          ]
         },
         "layout": {
          "annotationdefaults": {
           "arrowcolor": "#2a3f5f",
           "arrowhead": 0,
           "arrowwidth": 1
          },
          "autotypenumbers": "strict",
          "coloraxis": {
           "colorbar": {
            "outlinewidth": 0,
            "ticks": ""
           }
          },
          "colorscale": {
           "diverging": [
            [
             0,
             "#8e0152"
            ],
            [
             0.1,
             "#c51b7d"
            ],
            [
             0.2,
             "#de77ae"
            ],
            [
             0.3,
             "#f1b6da"
            ],
            [
             0.4,
             "#fde0ef"
            ],
            [
             0.5,
             "#f7f7f7"
            ],
            [
             0.6,
             "#e6f5d0"
            ],
            [
             0.7,
             "#b8e186"
            ],
            [
             0.8,
             "#7fbc41"
            ],
            [
             0.9,
             "#4d9221"
            ],
            [
             1,
             "#276419"
            ]
           ],
           "sequential": [
            [
             0,
             "#0d0887"
            ],
            [
             0.1111111111111111,
             "#46039f"
            ],
            [
             0.2222222222222222,
             "#7201a8"
            ],
            [
             0.3333333333333333,
             "#9c179e"
            ],
            [
             0.4444444444444444,
             "#bd3786"
            ],
            [
             0.5555555555555556,
             "#d8576b"
            ],
            [
             0.6666666666666666,
             "#ed7953"
            ],
            [
             0.7777777777777778,
             "#fb9f3a"
            ],
            [
             0.8888888888888888,
             "#fdca26"
            ],
            [
             1,
             "#f0f921"
            ]
           ],
           "sequentialminus": [
            [
             0,
             "#0d0887"
            ],
            [
             0.1111111111111111,
             "#46039f"
            ],
            [
             0.2222222222222222,
             "#7201a8"
            ],
            [
             0.3333333333333333,
             "#9c179e"
            ],
            [
             0.4444444444444444,
             "#bd3786"
            ],
            [
             0.5555555555555556,
             "#d8576b"
            ],
            [
             0.6666666666666666,
             "#ed7953"
            ],
            [
             0.7777777777777778,
             "#fb9f3a"
            ],
            [
             0.8888888888888888,
             "#fdca26"
            ],
            [
             1,
             "#f0f921"
            ]
           ]
          },
          "colorway": [
           "#636efa",
           "#EF553B",
           "#00cc96",
           "#ab63fa",
           "#FFA15A",
           "#19d3f3",
           "#FF6692",
           "#B6E880",
           "#FF97FF",
           "#FECB52"
          ],
          "font": {
           "color": "#2a3f5f"
          },
          "geo": {
           "bgcolor": "white",
           "lakecolor": "white",
           "landcolor": "#E5ECF6",
           "showlakes": true,
           "showland": true,
           "subunitcolor": "white"
          },
          "hoverlabel": {
           "align": "left"
          },
          "hovermode": "closest",
          "mapbox": {
           "style": "light"
          },
          "paper_bgcolor": "white",
          "plot_bgcolor": "#E5ECF6",
          "polar": {
           "angularaxis": {
            "gridcolor": "white",
            "linecolor": "white",
            "ticks": ""
           },
           "bgcolor": "#E5ECF6",
           "radialaxis": {
            "gridcolor": "white",
            "linecolor": "white",
            "ticks": ""
           }
          },
          "scene": {
           "xaxis": {
            "backgroundcolor": "#E5ECF6",
            "gridcolor": "white",
            "gridwidth": 2,
            "linecolor": "white",
            "showbackground": true,
            "ticks": "",
            "zerolinecolor": "white"
           },
           "yaxis": {
            "backgroundcolor": "#E5ECF6",
            "gridcolor": "white",
            "gridwidth": 2,
            "linecolor": "white",
            "showbackground": true,
            "ticks": "",
            "zerolinecolor": "white"
           },
           "zaxis": {
            "backgroundcolor": "#E5ECF6",
            "gridcolor": "white",
            "gridwidth": 2,
            "linecolor": "white",
            "showbackground": true,
            "ticks": "",
            "zerolinecolor": "white"
           }
          },
          "shapedefaults": {
           "line": {
            "color": "#2a3f5f"
           }
          },
          "ternary": {
           "aaxis": {
            "gridcolor": "white",
            "linecolor": "white",
            "ticks": ""
           },
           "baxis": {
            "gridcolor": "white",
            "linecolor": "white",
            "ticks": ""
           },
           "bgcolor": "#E5ECF6",
           "caxis": {
            "gridcolor": "white",
            "linecolor": "white",
            "ticks": ""
           }
          },
          "title": {
           "x": 0.05
          },
          "xaxis": {
           "automargin": true,
           "gridcolor": "white",
           "linecolor": "white",
           "ticks": "",
           "title": {
            "standoff": 15
           },
           "zerolinecolor": "white",
           "zerolinewidth": 2
          },
          "yaxis": {
           "automargin": true,
           "gridcolor": "white",
           "linecolor": "white",
           "ticks": "",
           "title": {
            "standoff": 15
           },
           "zerolinecolor": "white",
           "zerolinewidth": 2
          }
         }
        },
        "title": {
         "text": "Histograma por EQUIPAMENTO"
        },
        "xaxis": {
         "anchor": "y",
         "domain": [
          0,
          1
         ],
         "title": {
          "text": "EQUIPAMENTO"
         }
        },
        "yaxis": {
         "anchor": "x",
         "domain": [
          0,
          1
         ],
         "title": {
          "text": "count"
         }
        }
       }
      }
     },
     "metadata": {},
     "output_type": "display_data"
    }
   ],
   "source": [
    "finalizados_df = df_medios[df_medios[\"FINALIZADO\"] == \"SIM\"]\n",
    "df_equipamento = finalizados_df.groupby([\"OFICINA\",\"EQUIPAMENTO\",\"MANUTENÇÃO\"])[\"FINALIZADO\"].count().reset_index()\n",
    "display(df_equipamento)\n",
    "df_equipamento.to_excel(\"./grupamento.xlsx\")\n",
    "gerar_histograma(df_equipamento,\"EQUIPAMENTO\")"
   ]
  },
  {
   "cell_type": "markdown",
   "metadata": {},
   "source": []
  }
 ],
 "metadata": {
  "kernelspec": {
   "display_name": "Python 3",
   "language": "python",
   "name": "python3"
  },
  "language_info": {
   "codemirror_mode": {
    "name": "ipython",
    "version": 3
   },
   "file_extension": ".py",
   "mimetype": "text/x-python",
   "name": "python",
   "nbconvert_exporter": "python",
   "pygments_lexer": "ipython3",
   "version": "3.11.6"
  }
 },
 "nbformat": 4,
 "nbformat_minor": 2
}
