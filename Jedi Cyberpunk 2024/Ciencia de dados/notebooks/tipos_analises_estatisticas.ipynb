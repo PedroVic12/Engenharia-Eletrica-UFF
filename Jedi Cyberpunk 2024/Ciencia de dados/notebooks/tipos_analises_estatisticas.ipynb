{
 "cells": [
  {
   "cell_type": "markdown",
   "metadata": {},
   "source": [
    "1) analise descritiva: - O que conteceu? \n",
    "\n",
    "2) Analise diagnostica: - Por que aconteceu?\n",
    " \n",
    "3) Analise Preditiva: O que vai acontecer? \n",
    "\n",
    "4) Analise Preventiva/Prescritiva: O que fazer quando acontecer?\n",
    "\n",
    "https://www.youtube.com/watch?v=gwxbyrbN0Is"
   ]
  },
  {
   "cell_type": "code",
   "execution_count": null,
   "metadata": {},
   "outputs": [],
   "source": []
  }
 ],
 "metadata": {
  "language_info": {
   "name": "python"
  }
 },
 "nbformat": 4,
 "nbformat_minor": 2
}
