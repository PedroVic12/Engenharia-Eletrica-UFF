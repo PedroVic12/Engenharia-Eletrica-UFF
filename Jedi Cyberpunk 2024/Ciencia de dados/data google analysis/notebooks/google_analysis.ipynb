{
 "cells": [
  {
   "cell_type": "code",
   "execution_count": null,
   "metadata": {},
   "outputs": [],
   "source": [
    "class DataScience():\n",
    "    def __init__(self):\n",
    "        pass\n",
    "\n",
    "    def agrupar_dados(self, data, coluna):\n",
    "        return data.groupby(coluna).sum()\n",
    "    \n",
    "    def rankear_valores():\n",
    "        pass\n",
    "\n",
    "    def entender_dados(self, data):\n",
    "        print(data.head())\n",
    "        print(data.describe())\n",
    "        print(data.info())\n",
    "        print(data.columns)\n",
    "        print(data.isnull().sum())\n",
    "\n",
    "    def juntar_dataframes_colunaID(self, df1, df2, id):\n",
    "        return pd.merge(df1, df2, on=id)\n",
    "\n",
    "    def renomear_colunas(self, data, colunas):\n",
    "        return data.rename(columns=colunas)\n",
    "    "
   ]
  },
  {
   "cell_type": "code",
   "execution_count": 56,
   "metadata": {},
   "outputs": [
    {
     "name": "stdout",
     "output_type": "stream",
     "text": [
      "Colunas =   Index(['Item', 'TimeId', 'Calories', 'Date New'], dtype='object')\n"
     ]
    },
    {
     "data": {
      "text/html": [
       "<div>\n",
       "<style scoped>\n",
       "    .dataframe tbody tr th:only-of-type {\n",
       "        vertical-align: middle;\n",
       "    }\n",
       "\n",
       "    .dataframe tbody tr th {\n",
       "        vertical-align: top;\n",
       "    }\n",
       "\n",
       "    .dataframe thead th {\n",
       "        text-align: right;\n",
       "    }\n",
       "</style>\n",
       "<table border=\"1\" class=\"dataframe\">\n",
       "  <thead>\n",
       "    <tr style=\"text-align: right;\">\n",
       "      <th></th>\n",
       "      <th>Item</th>\n",
       "      <th>TimeId</th>\n",
       "      <th>Calories</th>\n",
       "      <th>Date New</th>\n",
       "    </tr>\n",
       "  </thead>\n",
       "  <tbody>\n",
       "    <tr>\n",
       "      <th>0</th>\n",
       "      <td>Dosa</td>\n",
       "      <td>1.0</td>\n",
       "      <td>400.0</td>\n",
       "      <td>1/1/2024</td>\n",
       "    </tr>\n",
       "    <tr>\n",
       "      <th>1</th>\n",
       "      <td>Corn Flakes</td>\n",
       "      <td>1.0</td>\n",
       "      <td>250.0</td>\n",
       "      <td>1/1/2024</td>\n",
       "    </tr>\n",
       "    <tr>\n",
       "      <th>2</th>\n",
       "      <td>Sambar Rice</td>\n",
       "      <td>2.0</td>\n",
       "      <td>220.0</td>\n",
       "      <td>1/1/2024</td>\n",
       "    </tr>\n",
       "    <tr>\n",
       "      <th>3</th>\n",
       "      <td>Curd Rice</td>\n",
       "      <td>2.0</td>\n",
       "      <td>380.0</td>\n",
       "      <td>1/1/2024</td>\n",
       "    </tr>\n",
       "    <tr>\n",
       "      <th>4</th>\n",
       "      <td>Potato Fry</td>\n",
       "      <td>2.0</td>\n",
       "      <td>250.0</td>\n",
       "      <td>1/1/2024</td>\n",
       "    </tr>\n",
       "  </tbody>\n",
       "</table>\n",
       "</div>"
      ],
      "text/plain": [
       "          Item  TimeId  Calories  Date New\n",
       "0         Dosa     1.0     400.0  1/1/2024\n",
       "1  Corn Flakes     1.0     250.0  1/1/2024\n",
       "2  Sambar Rice     2.0     220.0  1/1/2024\n",
       "3    Curd Rice     2.0     380.0  1/1/2024\n",
       "4   Potato Fry     2.0     250.0  1/1/2024"
      ]
     },
     "metadata": {},
     "output_type": "display_data"
    },
    {
     "name": "stdout",
     "output_type": "stream",
     "text": [
      "<class 'pandas.core.frame.DataFrame'>\n",
      "RangeIndex: 115 entries, 0 to 114\n",
      "Data columns (total 4 columns):\n",
      " #   Column    Non-Null Count  Dtype  \n",
      "---  ------    --------------  -----  \n",
      " 0   Item      114 non-null    object \n",
      " 1   TimeId    114 non-null    float64\n",
      " 2   Calories  114 non-null    float64\n",
      " 3   Date New  114 non-null    object \n",
      "dtypes: float64(2), object(2)\n",
      "memory usage: 3.7+ KB\n",
      "Colunas =   Index(['timeId', 'time'], dtype='object')\n"
     ]
    },
    {
     "data": {
      "text/html": [
       "<div>\n",
       "<style scoped>\n",
       "    .dataframe tbody tr th:only-of-type {\n",
       "        vertical-align: middle;\n",
       "    }\n",
       "\n",
       "    .dataframe tbody tr th {\n",
       "        vertical-align: top;\n",
       "    }\n",
       "\n",
       "    .dataframe thead th {\n",
       "        text-align: right;\n",
       "    }\n",
       "</style>\n",
       "<table border=\"1\" class=\"dataframe\">\n",
       "  <thead>\n",
       "    <tr style=\"text-align: right;\">\n",
       "      <th></th>\n",
       "      <th>timeId</th>\n",
       "      <th>time</th>\n",
       "    </tr>\n",
       "  </thead>\n",
       "  <tbody>\n",
       "    <tr>\n",
       "      <th>0</th>\n",
       "      <td>1</td>\n",
       "      <td>Breakfast</td>\n",
       "    </tr>\n",
       "    <tr>\n",
       "      <th>1</th>\n",
       "      <td>2</td>\n",
       "      <td>Lunch</td>\n",
       "    </tr>\n",
       "    <tr>\n",
       "      <th>2</th>\n",
       "      <td>3</td>\n",
       "      <td>Snack</td>\n",
       "    </tr>\n",
       "    <tr>\n",
       "      <th>3</th>\n",
       "      <td>4</td>\n",
       "      <td>Dinner</td>\n",
       "    </tr>\n",
       "  </tbody>\n",
       "</table>\n",
       "</div>"
      ],
      "text/plain": [
       "   timeId       time\n",
       "0       1  Breakfast\n",
       "1       2      Lunch\n",
       "2       3      Snack\n",
       "3       4     Dinner"
      ]
     },
     "metadata": {},
     "output_type": "display_data"
    },
    {
     "name": "stdout",
     "output_type": "stream",
     "text": [
      "<class 'pandas.core.frame.DataFrame'>\n",
      "RangeIndex: 4 entries, 0 to 3\n",
      "Data columns (total 2 columns):\n",
      " #   Column  Non-Null Count  Dtype \n",
      "---  ------  --------------  ----- \n",
      " 0   timeId  4 non-null      int64 \n",
      " 1   time    4 non-null      object\n",
      "dtypes: int64(1), object(1)\n",
      "memory usage: 196.0+ bytes\n"
     ]
    }
   ],
   "source": [
    "import pandas as pd\n",
    "import numpy as np \n",
    "\n",
    "\n",
    "data = pd.read_csv(\"/home/pedrov/Documentos/GitHub/Engenharia-Eletrica-UFF/Jedi Cyberpunk 2024/Ciencia de dados/data google analysis/Free_Code_Camp_Material-main/calories (1).csv\")\n",
    "time_id = pd.read_csv(\"/home/pedrov/Documentos/GitHub/Engenharia-Eletrica-UFF/Jedi Cyberpunk 2024/Ciencia de dados/data google analysis/Free_Code_Camp_Material-main/time_day (1).csv\")\n",
    "\n",
    "dsa = DataScience()\n",
    "dsa.entender_dados(data)\n",
    "dsa.entender_dados(time_id)\n",
    "\n",
    "new_df = dsa.juntar_dataframes_colunaID(data,time_id,id =[\"TimeId\",\"timeId\"])\n"
   ]
  },
  {
   "cell_type": "code",
   "execution_count": null,
   "metadata": {},
   "outputs": [],
   "source": []
  },
  {
   "cell_type": "code",
   "execution_count": 57,
   "metadata": {},
   "outputs": [],
   "source": [
    "#data[]"
   ]
  },
  {
   "cell_type": "code",
   "execution_count": null,
   "metadata": {},
   "outputs": [],
   "source": []
  },
  {
   "cell_type": "code",
   "execution_count": null,
   "metadata": {},
   "outputs": [],
   "source": []
  }
 ],
 "metadata": {
  "kernelspec": {
   "display_name": "Python 3",
   "language": "python",
   "name": "python3"
  },
  "language_info": {
   "codemirror_mode": {
    "name": "ipython",
    "version": 3
   },
   "file_extension": ".py",
   "mimetype": "text/x-python",
   "name": "python",
   "nbconvert_exporter": "python",
   "pygments_lexer": "ipython3",
   "version": "3.12.4"
  }
 },
 "nbformat": 4,
 "nbformat_minor": 2
}
