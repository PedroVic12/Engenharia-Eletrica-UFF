{
 "cells": [
  {
   "cell_type": "code",
   "execution_count": 24,
   "metadata": {},
   "outputs": [
    {
     "data": {
      "text/latex": [
       "$\\displaystyle x^{2} + y \\sin{\\left(z \\right)}$"
      ],
      "text/plain": [
       "x**2 + y*sin(z)"
      ]
     },
     "metadata": {},
     "output_type": "display_data"
    }
   ],
   "source": [
    "from  Models.Calcultadora   import Calculator, MatrixCalculator\n",
    "import sympy as sp\n",
    "import numpy as np\n",
    "\n",
    "\n",
    "calc = Calculator()\n",
    "\n",
    "x,y,z = calc.get()\n",
    "F = x**2 + sp.sin(z) * y\n",
    "display(F)\n",
    "\n",
    "calc.f_x0(F,x)\n"
   ]
  },
  {
   "cell_type": "code",
   "execution_count": 25,
   "metadata": {},
   "outputs": [
    {
     "data": {
      "text/plain": [
       "array([ 0.        ,  0.84147098,  0.90929743,  0.14112001, -0.7568025 ,\n",
       "       -0.95892427, -0.2794155 ,  0.6569866 ,  0.98935825,  0.41211849])"
      ]
     },
     "execution_count": 25,
     "metadata": {},
     "output_type": "execute_result"
    }
   ],
   "source": [
    "a = np.arange(10)\n",
    "expr = sp.sin(x)\n",
    "f = sp.lambdify(x, expr, \"numpy\")\n",
    "f(a)"
   ]
  },
  {
   "cell_type": "code",
   "execution_count": 26,
   "metadata": {},
   "outputs": [
    {
     "data": {
      "text/latex": [
       "$\\displaystyle \\left[\\begin{matrix}2 u_{1} + v_{1}\\\\2 u_{2} + v_{2}\\\\2 u_{3} + v_{3}\\end{matrix}\\right]$"
      ],
      "text/plain": [
       "Matrix([\n",
       "[2*u_1 + v_1],\n",
       "[2*u_2 + v_2],\n",
       "[2*u_3 + v_3]])"
      ]
     },
     "execution_count": 26,
     "metadata": {},
     "output_type": "execute_result"
    }
   ],
   "source": [
    "x, y, z, u1, u2, u3, v1, v2, v3, t = sp.symbols(\"x y z u_1 u_2 u_3 v_1 v_2 v_3 t\")\n",
    "u = sp.Matrix([u1, u2, u3])\n",
    "v = sp.Matrix([v1, v2, v3])\n",
    "\n",
    "\n",
    "2 * u + v"
   ]
  },
  {
   "cell_type": "code",
   "execution_count": 30,
   "metadata": {},
   "outputs": [
    {
     "ename": "NameError",
     "evalue": "name 'MatrixCalculator' is not defined",
     "output_type": "error",
     "traceback": [
      "\u001b[0;31m---------------------------------------------------------------------------\u001b[0m",
      "\u001b[0;31mNameError\u001b[0m                                 Traceback (most recent call last)",
      "Cell \u001b[0;32mIn[30], line 1\u001b[0m\n\u001b[0;32m----> 1\u001b[0m matrix \u001b[38;5;241m=\u001b[39m \u001b[43mMatrixCalculator\u001b[49m()\n\u001b[1;32m      3\u001b[0m matrix\u001b[38;5;241m.\u001b[39mproduto_vetorial(u,v)\n",
      "\u001b[0;31mNameError\u001b[0m: name 'MatrixCalculator' is not defined"
     ]
    }
   ],
   "source": [
    "matrix = MatrixCalculator()\n",
    "\n",
    "matrix.produto_vetorial(u,v)"
   ]
  },
  {
   "cell_type": "code",
   "execution_count": 29,
   "metadata": {},
   "outputs": [
    {
     "data": {
      "text/latex": [
       "$\\displaystyle \\left[\\begin{matrix}3 t\\\\\\sin{\\left(t \\right)}\\\\t^{2}\\end{matrix}\\right]$"
      ],
      "text/plain": [
       "Matrix([\n",
       "[   3*t],\n",
       "[sin(t)],\n",
       "[  t**2]])"
      ]
     },
     "metadata": {},
     "output_type": "display_data"
    },
    {
     "data": {
      "text/plain": [
       "(None, \"Erro ao diferenciar: 'Symbol' object is not iterable\")"
      ]
     },
     "execution_count": 29,
     "metadata": {},
     "output_type": "execute_result"
    }
   ],
   "source": [
    "r = sp.Matrix([3 * t, sp.sin(t), t**2])\n",
    "display(r)\n",
    "\n",
    "calc.differentiate(r,t)\n",
    "\n"
   ]
  }
 ],
 "metadata": {
  "kernelspec": {
   "display_name": "Python 3",
   "language": "python",
   "name": "python3"
  },
  "language_info": {
   "codemirror_mode": {
    "name": "ipython",
    "version": 3
   },
   "file_extension": ".py",
   "mimetype": "text/x-python",
   "name": "python",
   "nbconvert_exporter": "python",
   "pygments_lexer": "ipython3",
   "version": "3.11.6"
  }
 },
 "nbformat": 4,
 "nbformat_minor": 2
}
